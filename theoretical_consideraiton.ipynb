{
 "cells": [
  {
   "cell_type": "markdown",
   "metadata": {},
   "source": [
    "非常に参考になる解説：\n",
    "https://mosko.tokyo/post/pytorch-rnn/"
   ]
  },
  {
   "cell_type": "markdown",
   "metadata": {},
   "source": [
    "# RNN\n"
   ]
  },
  {
   "cell_type": "code",
   "execution_count": 5,
   "metadata": {},
   "outputs": [
    {
     "name": "stderr",
     "output_type": "stream",
     "text": [
      "wget: /home/toshinao/anaconda3/envs/base2/lib/libcrypto.so.1.0.0: no version information available (required by wget)\n",
      "wget: /home/toshinao/anaconda3/envs/base2/lib/libssl.so.1.0.0: no version information available (required by wget)\n",
      "wget: /home/toshinao/anaconda3/envs/base2/lib/libssl.so.1.0.0: no version information available (required by wget)\n",
      "--2019-02-09 19:50:12--  https://github.com/moskomule/pytorch.learning/blob/master/tutorial/rnn.py\n",
      "Resolving github.com (github.com)... 192.30.255.113, 192.30.255.112\n",
      "Connecting to github.com (github.com)|192.30.255.113|:443... connected.\n",
      "HTTP request sent, awaiting response... 404 Not Found\n",
      "2019-02-09 19:50:12 ERROR 404: Not Found.\n",
      "\n"
     ]
    }
   ],
   "source": [
    "%%bash\n",
    "wget https://github.com/moskomule/pytorch.learning/blob/master/tutorial/rnn.py"
   ]
  },
  {
   "cell_type": "code",
   "execution_count": 2,
   "metadata": {},
   "outputs": [],
   "source": [
    "%%bash\n",
    "git add theoretical_consideraiton.ipynb"
   ]
  },
  {
   "cell_type": "code",
   "execution_count": 4,
   "metadata": {},
   "outputs": [
    {
     "name": "stdout",
     "output_type": "stream",
     "text": [
      "[master bbb2aed] added theoretical_consideration\n",
      " 1 file changed, 143 insertions(+)\n",
      " create mode 100644 theoretical_consideraiton.ipynb\n"
     ]
    }
   ],
   "source": [
    "%%bash\n",
    "git commit -a -m \"added theoretical_consideration\""
   ]
  },
  {
   "cell_type": "markdown",
   "metadata": {},
   "source": [
    "$$\n",
    "\\begin{align}\n",
    "\\text{時点$t$における$l$番目の(hidden) layerにおけるnode value}=h^{(l)}_t=f\n",
    "\\left(\n",
    "    W^{(l)}   \n",
    "    \\begin{bmatrix}\n",
    "        h^{(l-1)}_t\\\\\n",
    "        h^{(l)}_{t-1}\n",
    "    \\end{bmatrix}\n",
    "\\right)\n",
    "\\end{align}\n",
    "$$"
   ]
  },
  {
   "cell_type": "markdown",
   "metadata": {},
   "source": [
    "\n",
    "* RNNはoption on optionのように考えると理解しやすい\n",
    "\n",
    "対応は以下のような感じか？\n",
    "\n",
    "* ひとつめのオプションに対してクーポンが入力される\n",
    "    * クーポンはembedded vectorになっている「ワード」なので300次元とかのイメージ \n",
    "    * なのでそれを受ける一つ目のオプションも300次元の入力を食えるようになっている\n",
    "    * 300次元は株価方向のラティスをイメージ？\n",
    "* ひとつめのオプションバリュー自体も300次元であれば株価イメージでいけるがかならずしも同じ次元である必要はない（よね？）\n",
    "    * その場合の対応するイメージは？？例えば200次元であれば、オプションンバリューのレイヤーは株価方向を粗視化しているとみなすのがいいか？\n",
    "        *そうだとするとそれってオプションプライシングでも応用可能かも？\n"
   ]
  },
  {
   "cell_type": "markdown",
   "metadata": {},
   "source": [
    "# gated RNN"
   ]
  },
  {
   "cell_type": "markdown",
   "metadata": {},
   "source": [
    "書籍などの説明では上記のRNNを簡略化したのちにgateを導入しているように見える"
   ]
  },
  {
   "cell_type": "markdown",
   "metadata": {},
   "source": [
    "soft callのような選択的な期限前償還によりタイムスリップするイメージ\n",
    "* ただし、満期依存するクーポンでcall notice periodに入るとクーポンのスケジュールもタイムスリップする\n",
    "* このメカニズムにより非常に遠い満期直前のクーポンの大小が$t=0$におけるオプションバリューに効いてくる\n"
   ]
  },
  {
   "cell_type": "markdown",
   "metadata": {},
   "source": [
    "# GRU"
   ]
  },
  {
   "cell_type": "markdown",
   "metadata": {},
   "source": [
    "gateをたくさんいれたRNN"
   ]
  },
  {
   "cell_type": "markdown",
   "metadata": {},
   "source": [
    "(以下、gateの名前が書籍と上記リンクで異なるが書籍のほうを採用する)"
   ]
  },
  {
   "cell_type": "markdown",
   "metadata": {},
   "source": [
    "* gateによりショートカットしてくるバリュー$n$\n",
    "    * 普通のRNNやgated RNNとほぼ同じものだが、\n",
    "    * 一時点前の同レイヤーからのチャンネルがreset gate $r$によって遮断されることがある\n",
    "* update gate $z$はgated RNNのゲートと同様に機能\n",
    "* update gate $z$およびreset gate $r$は普通のRNNのhidden node valueと同じ形式の演算で決まる\n",
    "    * 書籍の(2.61)式もそのことを物語っている"
   ]
  },
  {
   "cell_type": "markdown",
   "metadata": {},
   "source": [
    "## 以下、古い読解"
   ]
  },
  {
   "cell_type": "markdown",
   "metadata": {},
   "source": [
    "上記文献の場合、\n",
    "* candidate node $n$が一番素朴なRNN(活性化関数を$\\tanh$としたもの)と自然に対応が付くノード\n",
    "    * ただし、RNNで素直に一時点前の同じレイヤーの隠れ層からの伝搬があるのに対して、GRUではreset gate $r$がゼロの時は伝搬を遮断する\n",
    "    * そのreset gateは普通のRNNスタイル（活性化関数はsigmoid）のノード\n",
    "         * ただし、一時点前のreset gateからの伝搬があるわけではなく、通常のhidden node $h$からの伝搬\n",
    "* update gate $z$が1になるときは　candidate nodeの値は捨てられて、一時点前の同じレイヤーがそのままスライド採用される\n",
    "    * これはGated RNNに由来する方法か\n",
    "    "
   ]
  },
  {
   "cell_type": "markdown",
   "metadata": {},
   "source": [
    "RNNの設計のうち、オプション的な解釈がむずかしいかもしれないところ\n",
    "* ひとつめのオプションの現在価値と二つ目のオプションの1ステップ前（すなわち未来）とを混合してから活性化関数にかける\n",
    "    * ひとつめのオプション価値に依存するクーポンと思えばよいか"
   ]
  },
  {
   "cell_type": "code",
   "execution_count": null,
   "metadata": {},
   "outputs": [],
   "source": []
  }
 ],
 "metadata": {
  "kernelspec": {
   "display_name": "Python [conda env:base2]",
   "language": "python",
   "name": "conda-env-base2-py"
  },
  "language_info": {
   "codemirror_mode": {
    "name": "ipython",
    "version": 3
   },
   "file_extension": ".py",
   "mimetype": "text/x-python",
   "name": "python",
   "nbconvert_exporter": "python",
   "pygments_lexer": "ipython3",
   "version": "3.5.4"
  }
 },
 "nbformat": 4,
 "nbformat_minor": 2
}
