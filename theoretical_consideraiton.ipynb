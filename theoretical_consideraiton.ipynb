{
 "cells": [
  {
   "cell_type": "markdown",
   "metadata": {},
   "source": [
    "非常に参考になる解説：\n",
    "https://mosko.tokyo/post/pytorch-rnn/"
   ]
  },
  {
   "cell_type": "markdown",
   "metadata": {},
   "source": [
    "# RNN\n"
   ]
  },
  {
   "cell_type": "code",
   "execution_count": 5,
   "metadata": {},
   "outputs": [
    {
     "name": "stderr",
     "output_type": "stream",
     "text": [
      "wget: /home/toshinao/anaconda3/envs/base2/lib/libcrypto.so.1.0.0: no version information available (required by wget)\n",
      "wget: /home/toshinao/anaconda3/envs/base2/lib/libssl.so.1.0.0: no version information available (required by wget)\n",
      "wget: /home/toshinao/anaconda3/envs/base2/lib/libssl.so.1.0.0: no version information available (required by wget)\n",
      "--2019-02-09 19:50:12--  https://github.com/moskomule/pytorch.learning/blob/master/tutorial/rnn.py\n",
      "Resolving github.com (github.com)... 192.30.255.113, 192.30.255.112\n",
      "Connecting to github.com (github.com)|192.30.255.113|:443... connected.\n",
      "HTTP request sent, awaiting response... 404 Not Found\n",
      "2019-02-09 19:50:12 ERROR 404: Not Found.\n",
      "\n"
     ]
    }
   ],
   "source": [
    "%%bash\n",
    "wget https://github.com/moskomule/pytorch.learning/blob/master/tutorial/rnn.py"
   ]
  },
  {
   "cell_type": "code",
   "execution_count": 2,
   "metadata": {},
   "outputs": [],
   "source": [
    "%%bash\n",
    "git add theoretical_consideraiton.ipynb"
   ]
  },
  {
   "cell_type": "code",
   "execution_count": 11,
   "metadata": {},
   "outputs": [
    {
     "name": "stdout",
     "output_type": "stream",
     "text": [
      "[master 8a90035] check point\n",
      " 1 file changed, 31 insertions(+), 9 deletions(-)\n"
     ]
    }
   ],
   "source": [
    "%%bash\n",
    "git commit -a -m \"check point\""
   ]
  },
  {
   "cell_type": "markdown",
   "metadata": {},
   "source": [
    "$$\n",
    "\\begin{align}\n",
    "\\text{時点$t$における$l$番目の(hidden) layerにおけるnode value}=h^{(l)}_t=f\n",
    "\\left(\n",
    "    W^{(l)}   \n",
    "    \\begin{bmatrix}\n",
    "        h^{(l-1)}_t\\\\\n",
    "        h^{(l)}_{t-1}\n",
    "    \\end{bmatrix}\n",
    "\\right)\n",
    "\\end{align}\n",
    "$$"
   ]
  },
  {
   "cell_type": "markdown",
   "metadata": {},
   "source": [
    "\n",
    "* RNNはoption on optionのように考えると理解しやすい\n",
    "\n",
    "対応は以下のような感じか？\n",
    "\n",
    "* ひとつめのオプションに対してクーポンが入力される\n",
    "    * クーポンはembedded vectorになっている「ワード」なので300次元とかのイメージ \n",
    "    * なのでそれを受ける一つ目のオプションも300次元の入力を食えるようになっている\n",
    "    * 300次元は株価方向のラティスをイメージ？\n",
    "* ひとつめのオプションバリュー自体も300次元であれば株価イメージでいけるがかならずしも同じ次元である必要はない（よね？）\n",
    "    * その場合の対応するイメージは？？例えば200次元であれば、オプションンバリューのレイヤーは株価方向を粗視化しているとみなすのがいいか？\n",
    "        *そうだとするとそれってオプションプライシングでも応用可能かも？\n"
   ]
  },
  {
   "cell_type": "markdown",
   "metadata": {},
   "source": [
    "# gated RNN"
   ]
  },
  {
   "cell_type": "markdown",
   "metadata": {},
   "source": [
    "LSTMやGRUなどの総称"
   ]
  },
  {
   "cell_type": "markdown",
   "metadata": {},
   "source": [
    "soft callのような選択的な期限前償還によりタイムスリップするイメージ\n",
    "* ただし、満期依存するクーポンでcall notice periodに入るとクーポンのスケジュールもタイムスリップする\n",
    "* このメカニズムにより非常に遠い満期直前のクーポンの大小が$t=0$におけるオプションバリューに効いてくる\n"
   ]
  },
  {
   "cell_type": "markdown",
   "metadata": {},
   "source": [
    "## GRU"
   ]
  },
  {
   "cell_type": "markdown",
   "metadata": {},
   "source": []
  },
  {
   "cell_type": "markdown",
   "metadata": {},
   "source": [
    "(以下、gateの名前が書籍と上記リンクで異なるが書籍のほうを採用する)"
   ]
  },
  {
   "cell_type": "markdown",
   "metadata": {},
   "source": [
    "* gateによりショートカットしてくるバリュー$n$\n",
    "    * 普通のRNNやgated RNNとほぼ同じものだが、\n",
    "    * 一時点前の同レイヤーからのチャンネルがreset gate $r$によって遮断されることがある\n",
    "* update gate $z$はgated RNNのゲートと同様に機能\n",
    "*  gate $z$およびupdate gate $r$は普通のRNNのhidden node valueと同じ形式の演算で決まる\n",
    "    * 書籍の(2.61)式もそのことを物語っている"
   ]
  },
  {
   "cell_type": "markdown",
   "metadata": {},
   "source": [
    "### option analogy"
   ]
  },
  {
   "cell_type": "code",
   "execution_count": null,
   "metadata": {},
   "outputs": [],
   "source": [
    "* 早期行使が起こるかどうかがupdate gateによってコントロールされている\n",
    "    * 早期行使"
   ]
  },
  {
   "cell_type": "markdown",
   "metadata": {},
   "source": [
    "### 以下、古い読解"
   ]
  },
  {
   "cell_type": "markdown",
   "metadata": {},
   "source": [
    "上記文献の場合、\n",
    "* candidate node $n$が一番素朴なRNN(活性化関数を$\\tanh$としたもの)と自然に対応が付くノード\n",
    "    * ただし、RNNで素直に一時点前の同じレイヤーの隠れ層からの伝搬があるのに対して、GRUではreset gate $r$がゼロの時は伝搬を遮断する\n",
    "    * そのreset gateは普通のRNNスタイル（活性化関数はsigmoid）のノード\n",
    "         * ただし、一時点前のreset gateからの伝搬があるわけではなく、通常のhidden node $h$からの伝搬\n",
    "* update gate $z$が1になるときは　candidate nodeの値は捨てられて、一時点前の同じレイヤーがそのままスライド採用される\n",
    "    * これはGated RNNに由来する方法か\n",
    "    "
   ]
  },
  {
   "cell_type": "markdown",
   "metadata": {},
   "source": [
    "RNNの設計のうち、オプション的な解釈がむずかしいかもしれないところ\n",
    "* ひとつめのオプションの現在価値と二つ目のオプションの1ステップ前（すなわち未来）とを混合してから活性化関数にかける\n",
    "    * ひとつめのオプション価値に依存するクーポンと思えばよいか"
   ]
  },
  {
   "cell_type": "markdown",
   "metadata": {},
   "source": [
    "# attention"
   ]
  },
  {
   "cell_type": "markdown",
   "metadata": {},
   "source": [
    "* This is a penというsequenceに二層の隠れ層を用いて、　300x4（4 words $\\rightarrow$ 400 x 4 $\\rightarrow$ 300 x 4）の出力を得たとする。\n",
    "* 最後の400および300次元ベクトルがdecoderの隠れ層の初期値となる\n",
    "    * encoderとdecoderの各隠れ層の次元は同一であるとする\n",
    "* 翻訳先のdecoderの1単語目の隠れ層出力をまず求める\n",
    "* 求められた隠れ層出力（300次元ベクトル）とencoderの300次元ベクトル４つそれぞれとの内積を取る\n",
    "* 内積をウェイトとしたencoderの300次元ベクトルとのweighted sumを求め、もともとのdecoder隠れ層アウトプット300次元とconcatする（600次元になる？）\n",
    "* 600次元ベクトルを線形変換(600xoutput空間の語彙数)し活性化関数をかける。出力言語の語彙数を10000とすると10000次元のベクトルが出力される\n",
    "    * 隠れ層がひとつ増える感じ。ただし、普通のRNNの隠れ層ではdecoderの直前ワードの隠れ層をconcatするところ、この最後の「隠れ層」ではattentionがconcatされている"
   ]
  },
  {
   "cell_type": "markdown",
   "metadata": {},
   "source": [
    "# seq2seq model"
   ]
  },
  {
   "cell_type": "markdown",
   "metadata": {},
   "source": [
    "* [Seq2Seq in Keras for Petrol Price Prediction using Italian Open Data](https://medium.com/isiway-tech/seq2seq-in-keras-for-petrol-price-prediction-using-italian-open-data-767cb1016af3)はガソリン価格をseq2seqモデルで取り扱う試み\n"
   ]
  },
  {
   "cell_type": "markdown",
   "metadata": {},
   "source": [
    "* [High-Dimensional Time Series Forecasting with Convolutional Neural Networks](https://github.com/JEddy92/TimeSeries_Seq2Seq/blob/master/notebooks/TS_Seq2Seq_Conv_Intro.ipynb)"
   ]
  },
  {
   "cell_type": "markdown",
   "metadata": {},
   "source": [
    "https://jeddy92.github.io/JEddy92.github.io/ts_seq2seq_conv/"
   ]
  },
  {
   "cell_type": "markdown",
   "metadata": {},
   "source": [
    "# LiNGAM"
   ]
  },
  {
   "cell_type": "markdown",
   "metadata": {},
   "source": [
    "サンプル次元が列方向になっていることに注意"
   ]
  },
  {
   "cell_type": "markdown",
   "metadata": {},
   "source": [
    "$$\n",
    "\\begin{align}\n",
    "x=Bx+e\\qquad \n",
    "\\begin{cases}\n",
    "B&\\text{下三角行列}\\\\\n",
    "e &\\text{正規分布でない外生変数}\n",
    "\\end{cases}\n",
    "\\end{align}\n",
    "$$"
   ]
  },
  {
   "cell_type": "markdown",
   "metadata": {},
   "source": [
    "であるならば$x$の上から順番に因果が流れる"
   ]
  },
  {
   "cell_type": "markdown",
   "metadata": {},
   "source": [
    "$$\n",
    "(I-B)x = e\n",
    "$$"
   ]
  },
  {
   "cell_type": "markdown",
   "metadata": {},
   "source": [
    "## 識別可能性\n",
    "\n",
    "```\n",
    "因果グラフの構造が異なれば、観測変数の分布が異なる\n",
    "```\n",
    "\n",
    "場合に識別可能という（？）"
   ]
  },
  {
   "cell_type": "markdown",
   "metadata": {},
   "source": [
    "## ICA"
   ]
  },
  {
   "cell_type": "markdown",
   "metadata": {},
   "source": [
    "\n",
    "$$\n",
    "\\begin{align}\n",
    "x = A s\n",
    "\\qquad\n",
    "\\begin{cases}\n",
    "x &\\text{観測値}\\\\\n",
    "s &\\text{hidden indemendend components}\n",
    "\\end{cases}\n",
    "\\end{align}\n",
    "$$"
   ]
  },
  {
   "cell_type": "markdown",
   "metadata": {},
   "source": [
    "### サンプル相関：\n",
    "$$\n",
    "C = \\frac{1}{N} x x^{\\rm T}\n",
    "$$"
   ]
  },
  {
   "cell_type": "markdown",
   "metadata": {},
   "source": [
    "### サンプル相関の固有値分解\n",
    "\n",
    "$$\n",
    "\\begin{align}\n",
    "C = U^{\\rm T} \\Lambda U\n",
    "\\qquad \\text{where} \n",
    "\\begin{cases}\n",
    "U&\\text{直行行列}\\\\\n",
    "\\Lambda&\\text{対角行列}\n",
    "\\end{cases}\n",
    "\\end{align}\n",
    "$$"
   ]
  },
  {
   "cell_type": "markdown",
   "metadata": {},
   "source": [
    "### 無相関にする回転\n",
    "\n",
    "$$\n",
    "\\begin{align}\n",
    "e =P \\Theta V\\Lambda^{-1} Ux\\qquad \\text{where}\n",
    "\\begin{cases}\n",
    "V&\\text{orthgonal matrix}\\\\\n",
    "P & \\text{permutation}\\\\\n",
    "\\Theta &\\text{diagonal}\n",
    "\\end{cases}\n",
    "\\end{align}\n",
    "$$\n"
   ]
  },
  {
   "cell_type": "markdown",
   "metadata": {},
   "source": [
    "$V$を何らかの方法で特定したとする（？）"
   ]
  },
  {
   "cell_type": "markdown",
   "metadata": {},
   "source": [
    "上記の$e$がindependent componentと仮定しているので\n",
    "\n",
    "$$\n",
    "x = U^{\\rm T}\\Lambda V^{\\rm T} \\Theta^{-1}P^{-1}e\n",
    "$$\n",
    "\n"
   ]
  },
  {
   "cell_type": "markdown",
   "metadata": {},
   "source": [
    "上記が\n",
    "$$\n",
    "x = (I-B)e\n",
    "$$\n",
    "とも書けるはずなので"
   ]
  },
  {
   "cell_type": "markdown",
   "metadata": {},
   "source": [
    "$$\n",
    "P\\Theta(I-B) = U^{\\rm T} \\Lambda V^{\\rm T} \n",
    "$$\n",
    "右辺を$W_{\\rm ICA}$とあらわすことにすると・・"
   ]
  },
  {
   "cell_type": "markdown",
   "metadata": {},
   "source": [
    "$$\n",
    "P\\Theta(I-B) = W_{\\rm ICA}\n",
    "$$"
   ]
  },
  {
   "cell_type": "markdown",
   "metadata": {},
   "source": [
    "よってICAで求まった行列にpermutationをかけて、下三角行列にできれば因果の流れが解明できたことになる"
   ]
  },
  {
   "cell_type": "markdown",
   "metadata": {},
   "source": [
    "## my consideration\n",
    "\n",
    "* そもそもpermutationくらいで下三角に近くできるとは思いにくい\n",
    "* ICAはもともと非常にノイズに弱い（はず？）\n",
    "* Uの自由度を使うのはどうだろうか？"
   ]
  },
  {
   "cell_type": "markdown",
   "metadata": {},
   "source": [
    "### 無相関性のみ仮定した場合"
   ]
  },
  {
   "cell_type": "markdown",
   "metadata": {},
   "source": [
    "$$\n",
    "I-B = U^{\\rm T} \\Lambda V^{\\rm T} \\Theta^{-1} P^{-1}\n",
    "$$"
   ]
  },
  {
   "cell_type": "markdown",
   "metadata": {},
   "source": [
    "QR分解により、任意の行列は\n",
    "$$\n",
    "QR \\qquad\n",
    "\\begin{cases}\n",
    "Q&\\text{直行行列}\\\\\n",
    "R &\\text{上三角行列}\n",
    "\\end{cases}\n",
    "$$\n",
    "と書ける"
   ]
  },
  {
   "cell_type": "markdown",
   "metadata": {},
   "source": [
    "inversibleな行列のQR分解は$R$の対角要素が正であるという条件を置けばユニーク　([wikipedia](https://en.wikipedia.org/wiki/QR_decomposition))"
   ]
  },
  {
   "cell_type": "markdown",
   "metadata": {},
   "source": [
    "### 因果がわかってなにがうれしいか？ "
   ]
  },
  {
   "cell_type": "markdown",
   "metadata": {},
   "source": [
    "To be discussed"
   ]
  },
  {
   "cell_type": "markdown",
   "metadata": {},
   "source": [
    "# 極値理論"
   ]
  },
  {
   "cell_type": "markdown",
   "metadata": {},
   "source": [
    "$Z_n$を$n$サンプル\n",
    "$\n",
    "X_1, \\cdots , X_n\n",
    "$\n",
    "の最大値とする"
   ]
  },
  {
   "cell_type": "markdown",
   "metadata": {},
   "source": [
    "$$\n",
    "F(x) = P(X_i \\le x) \\quad\\text{for}\\quad i = 1,\\cdots , n\n",
    "$$\n",
    "として、\n",
    "$$\n",
    "P(Z_n \\le x ) = \\Pi_{i=1}^n P(X_i \\le x)\n",
    "={F(x)}^n\n",
    "$$"
   ]
  },
  {
   "cell_type": "markdown",
   "metadata": {},
   "source": [
    "$n\\to \\infty$の極限では　$Z_n$は「$X_i$が取り得る値の最大値が確率１で実現する」ような分布に収束するはず"
   ]
  },
  {
   "cell_type": "markdown",
   "metadata": {},
   "source": [
    "中心極限定理にある意味似たようなスケーリング則を考えたい\n",
    "おそらく\n",
    "$$\n",
    "\\begin{align}\n",
    "b_n&\\to X_i\\text{がとり得る値の最大値}\\\\\n",
    "a_n &\\to 0 \\qquad\\text{(微視化が進むので拡大倍率を挙げていく必要)}\n",
    "\\end{align}\n",
    "$$\n",
    "であるような$a_n,~b_n$で変形した$Z_n$の分布がある確率分布\n",
    "に収束するとする：\n",
    "$$\n",
    "\\begin{align}\n",
    "P\\left(\n",
    "\\frac{Z_n - b_n}{a_n} \\le y \n",
    "\\right)\\to G(y)\n",
    "\\end{align}\n",
    "$$\n"
   ]
  },
  {
   "cell_type": "markdown",
   "metadata": {},
   "source": [
    "これは\n",
    "ある$y$を固定したときに\n",
    "$$\n",
    "Z_n \\le a_n y + b_n\n",
    "$$\n",
    "であるような確率が大きい任意の$n$に対して概ね一定であることを意味する"
   ]
  },
  {
   "cell_type": "markdown",
   "metadata": {},
   "source": [
    "イメージは\n",
    "\n",
    "* 100サンプルなら最大値が90以下である確率は10%\n",
    "  $$b_{100} = 100,~a_{100} = 1 ,~  y = -10,~a_{100}y+b_{100}= 90,~ G(-10) = 0.1$$\n",
    "* 1000サンプルなら最大値が95以下である確率は10%\n",
    "  $$b_{1000} = 100,~a_{1000} = 0.5 ,~  y = -10,~ a_{1000}y + b_{1000} = 95, ~ G(-10) = 0.1$$\n",
    "* 10000サンプルなら最大値が99以下である確率は10%\n",
    "  $$b_{10000} = 100,~a_{10000} = 0.1 ,~  y = -10,~ a_{10000}y + b_{10000} = 99 , G(-10) = 0.1$$\n",
    "\n",
    "みたいな感じか\n"
   ]
  },
  {
   "cell_type": "markdown",
   "metadata": {},
   "source": [
    "書籍の\n",
    "$$\n",
    "{F(a_ny+b_n)}^n \\to G(y) \n",
    "$$"
   ]
  },
  {
   "cell_type": "markdown",
   "metadata": {},
   "source": [
    "は\n",
    "$$\n",
    "\\begin{align}\n",
    "{F(90)}^{100} \\approx& G(-10)\\\\\n",
    "{F(95)}^{1000}\\approx & G(-10)\\\\\n",
    "{F(99)}^{10000}\\approx & G(-10)\n",
    "\\end{align}\n",
    "$$\n",
    "というイメージ。\n",
    "\n",
    "さらに90,95,99といった閾値以外にも同じ$a_n,b_n$から導かれる99,99.5,99.9といった閾値を最大値が下回る確率についても同じ関係が成り立つことが主張されている"
   ]
  },
  {
   "cell_type": "markdown",
   "metadata": {},
   "source": [
    "このように極限が$G$で特徴づけられるような確率分布を$G$の吸引領域（domain of attractionと呼ぶ）"
   ]
  },
  {
   "cell_type": "markdown",
   "metadata": {},
   "source": [
    "# 参考URL"
   ]
  },
  {
   "cell_type": "markdown",
   "metadata": {},
   "source": [
    "ただしASPECは利用申請がちょっと面倒そう。。\n",
    "\n",
    "http://www.phontron.com/japanese-translation-data.php?lang=ja\n",
    "\n"
   ]
  },
  {
   "cell_type": "markdown",
   "metadata": {},
   "source": [
    "ASPECというcorpusが便利そう"
   ]
  },
  {
   "cell_type": "markdown",
   "metadata": {},
   "source": [
    "その他のcorpusへのリンク集\n",
    "https://qiita.com/imaharu/items/9f206a8f470897d5458c"
   ]
  },
  {
   "cell_type": "code",
   "execution_count": null,
   "metadata": {},
   "outputs": [],
   "source": []
  }
 ],
 "metadata": {
  "kernelspec": {
   "display_name": "Python [conda env:base2]",
   "language": "python",
   "name": "conda-env-base2-py"
  },
  "language_info": {
   "codemirror_mode": {
    "name": "ipython",
    "version": 3
   },
   "file_extension": ".py",
   "mimetype": "text/x-python",
   "name": "python",
   "nbconvert_exporter": "python",
   "pygments_lexer": "ipython3",
   "version": "3.5.4"
  },
  "toc": {
   "colors": {
    "hover_highlight": "#DAA520",
    "navigate_num": "#000000",
    "navigate_text": "#333333",
    "running_highlight": "#FF0000",
    "selected_highlight": "#FFD700",
    "sidebar_border": "#EEEEEE",
    "wrapper_background": "#FFFFFF"
   },
   "moveMenuLeft": true,
   "nav_menu": {
    "height": "121px",
    "width": "252px"
   },
   "navigate_menu": true,
   "number_sections": true,
   "sideBar": true,
   "threshold": 4,
   "toc_cell": false,
   "toc_section_display": "block",
   "toc_window_display": true,
   "widenNotebook": false
  }
 },
 "nbformat": 4,
 "nbformat_minor": 2
}
