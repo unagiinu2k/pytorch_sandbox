{
 "cells": [
  {
   "cell_type": "markdown",
   "metadata": {},
   "source": [
    "https://ariepratama.github.io/Introduction-to-BLEU-in-python/\n",
    "\n",
    "https://towardsdatascience.com/bleu-bilingual-evaluation-understudy-2b4eab9bcfd1"
   ]
  },
  {
   "cell_type": "code",
   "execution_count": 1,
   "metadata": {},
   "outputs": [],
   "source": [
    "import warnings\n",
    "warnings.filterwarnings('ignore')\n",
    "\n",
    "import nltk.translate.bleu_score as bleu"
   ]
  },
  {
   "cell_type": "code",
   "execution_count": 2,
   "metadata": {},
   "outputs": [],
   "source": [
    "# split will transform the sentence into 1-gram\n",
    "reference = [\n",
    "    'this is a ship'.split(),\n",
    "    'it is ship'.split(),\n",
    "    'ship it is'.split(),\n",
    "    'a ship, it is'.split() # master Yoda\n",
    "]"
   ]
  },
  {
   "cell_type": "code",
   "execution_count": 3,
   "metadata": {},
   "outputs": [],
   "source": [
    "translation = 'it is ship'.split()"
   ]
  },
  {
   "cell_type": "code",
   "execution_count": 4,
   "metadata": {},
   "outputs": [
    {
     "name": "stdout",
     "output_type": "stream",
     "text": [
      "BLEU score: 1.2213386697554703e-77\n"
     ]
    }
   ],
   "source": [
    "print('BLEU score: {}'.format(bleu.sentence_bleu(reference, translation)))"
   ]
  },
  {
   "cell_type": "code",
   "execution_count": 5,
   "metadata": {},
   "outputs": [],
   "source": [
    "import numpy as np\n",
    "from nltk import ngrams\n",
    "from collections import Counter"
   ]
  },
  {
   "cell_type": "code",
   "execution_count": 6,
   "metadata": {},
   "outputs": [],
   "source": [
    "def count_ngram(unigram, ngram=1):\n",
    "    \"\"\"\n",
    "    Return\n",
    "    -----\n",
    "    counter: dict, containing ngram as key, and count as value\n",
    "    \"\"\"\n",
    "    return Counter(ngrams(unigram, ngram))"
   ]
  },
  {
   "cell_type": "code",
   "execution_count": 7,
   "metadata": {},
   "outputs": [
    {
     "name": "stdout",
     "output_type": "stream",
     "text": [
      "res: Counter({('is',): 2, ('this',): 1, ('a',): 1, ('ship',): 1})\n"
     ]
    }
   ],
   "source": [
    "test_unigram = 'this is is a ship'.split()\n",
    "res = count_ngram(test_unigram)\n",
    "\n",
    "assert res[('is',)] == 2\n",
    "assert res[('a',)] == 1\n",
    "\n",
    "print('res: {}'.format(res))"
   ]
  },
  {
   "cell_type": "code",
   "execution_count": 8,
   "metadata": {},
   "outputs": [],
   "source": [
    "res2 = count_ngram('abc is abc is abc'.split() , 2)"
   ]
  },
  {
   "cell_type": "code",
   "execution_count": 9,
   "metadata": {},
   "outputs": [
    {
     "data": {
      "text/plain": [
       "['abc', 'is', 'abc', 'is', 'abc']"
      ]
     },
     "execution_count": 9,
     "metadata": {},
     "output_type": "execute_result"
    }
   ],
   "source": [
    "'abc is abc is abc'.split()"
   ]
  },
  {
   "cell_type": "code",
   "execution_count": 10,
   "metadata": {},
   "outputs": [
    {
     "data": {
      "text/plain": [
       "Counter({('abc', 'is'): 2, ('is', 'abc'): 2})"
      ]
     },
     "execution_count": 10,
     "metadata": {},
     "output_type": "execute_result"
    }
   ],
   "source": [
    "res2"
   ]
  },
  {
   "cell_type": "code",
   "execution_count": 11,
   "metadata": {},
   "outputs": [],
   "source": [
    "from IPython.core.debugger import Pdb;"
   ]
  },
  {
   "cell_type": "code",
   "execution_count": 12,
   "metadata": {},
   "outputs": [],
   "source": [
    "translation = 'is some'\n",
    "references = [\n",
    "    'this is a test',\n",
    "    'this is is is test'\n",
    "]"
   ]
  },
  {
   "cell_type": "code",
   "execution_count": 13,
   "metadata": {},
   "outputs": [],
   "source": [
    "def count_clip_ngram(translation_u, list_of_reference_u, ngram=1):\n",
    "    \"\"\"\n",
    "    Return\n",
    "    ----\n",
    "    \n",
    "    \"\"\"\n",
    "    res = dict()\n",
    "    # retrieve hypothesis counts\n",
    "    ct_translation_u = count_ngram(translation_u, ngram=ngram)\n",
    "    \n",
    "    # retrieve translation candidate counts\n",
    "    for reference_u in list_of_reference_u:\n",
    "        ct_reference_u = count_ngram(reference_u, ngram=ngram)\n",
    "        #Pdb().set_trace()\n",
    "        for k in ct_reference_u:\n",
    "            if k in res:\n",
    "                res[k] = max(ct_reference_u[k], res[k])\n",
    "            else:\n",
    "                res[k] = ct_reference_u[k]\n",
    "                \n",
    "    #Pdb().set_trace()\n",
    "    return {\n",
    "        k: min(ct_translation_u.get(k, 0), res.get(k, 0)) \n",
    "        for k in ct_translation_u\n",
    "    }"
   ]
  },
  {
   "cell_type": "code",
   "execution_count": 14,
   "metadata": {},
   "outputs": [
    {
     "name": "stdout",
     "output_type": "stream",
     "text": [
      "result from count clip: {('is',): 1, ('some',): 0}\n"
     ]
    }
   ],
   "source": [
    "res = count_clip_ngram(\n",
    "    translation.split(), \n",
    "    list(map(lambda ref: ref.split(), references))\n",
    ")\n",
    "\n",
    "\n",
    "assert res[('is',)] == 1\n",
    "assert res[('some',)] == 0\n",
    "\n",
    "print('result from count clip: {}'.format(res))"
   ]
  },
  {
   "cell_type": "markdown",
   "metadata": {},
   "source": [
    "```python\n",
    "ipdb>  ct_translation_u\n",
    "Counter({('is',): 1, ('some',): 1})\n",
    "\n",
    "ipdb>  res\n",
    "{('this',): 1, ('is',): 3, ('a',): 1, ('test',): 1}\n",
    "```"
   ]
  },
  {
   "cell_type": "code",
   "execution_count": 15,
   "metadata": {},
   "outputs": [],
   "source": [
    "def modified_precision(translation_u, list_of_reference_u, ngram=1):\n",
    "    ct_clip = count_clip_ngram(translation_u, list_of_reference_u, ngram)\n",
    "    ct = count_ngram(translation_u, ngram)\n",
    "    \n",
    "    return sum(ct_clip.values()) / float(max(sum(ct.values()), 1))"
   ]
  },
  {
   "cell_type": "code",
   "execution_count": null,
   "metadata": {},
   "outputs": [],
   "source": []
  }
 ],
 "metadata": {
  "kernelspec": {
   "display_name": "Python 3",
   "language": "python",
   "name": "python3"
  },
  "language_info": {
   "codemirror_mode": {
    "name": "ipython",
    "version": 3
   },
   "file_extension": ".py",
   "mimetype": "text/x-python",
   "name": "python",
   "nbconvert_exporter": "python",
   "pygments_lexer": "ipython3",
   "version": "3.7.3"
  }
 },
 "nbformat": 4,
 "nbformat_minor": 4
}
