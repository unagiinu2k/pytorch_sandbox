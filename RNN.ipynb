{
 "cells": [
  {
   "cell_type": "markdown",
   "metadata": {},
   "source": [
    "# 参考文献"
   ]
  },
  {
   "cell_type": "markdown",
   "metadata": {},
   "source": [
    "https://towardsdatascience.com/illustrated-guide-to-lstms-and-gru-s-a-step-by-step-explanation-44e9eb85bf21\n",
    "\n",
    "主にこちらのノーテーションをみていこう。http://colah.github.io/posts/2015-08-Understanding-LSTMs/\n",
    "\n"
   ]
  },
  {
   "cell_type": "markdown",
   "metadata": {},
   "source": [
    "# LSTM"
   ]
  },
  {
   "cell_type": "markdown",
   "metadata": {},
   "source": [
    "- Candidate $C_n$は出力の一つ手前の隠れ層の役割を果たしている\n",
    "  - $h_n$は出力なのでそのひとつ手前の隠れ層と思えばよい？\n",
    "  - LSTMの模式図では一番奥に書いてあるが、$x_n \\rightarrow C \\rightarrow h$と並べたほうが自然（？）\n",
    "- $x_n$,$h_n(=y_n)$に依存する（$C_{n-1}$に依存しない）３つのgateがある (すべてsigmoidで終わる = forgettable)\n",
    "    - forget gate \n",
    "    - input gate\n",
    "    - output gate\n",
    "\n",
    "- Candidateのバリューはひとつ前$C_{n-1}$から遺伝するが、forget gateを通してボリューム調整する\n",
    "- 忘却プロセスを経たCandidateをinput gate出力でボリューム調整した「$x_n$,$h_n(=y_n)$に依存する$\\tanh$出力」を加算することでアップデートする\n",
    "- 上記いずれのプロセスも$C_{n-1}$自体はほとんど用いないことに注意\n",
    "- $C_n$が決定したら$\\tanh$をかけて、output gate出力でボリューム調整して$h_n$($n$ word目の出力）とする"
   ]
  },
  {
   "cell_type": "markdown",
   "metadata": {},
   "source": [
    "# GRU\n",
    "- Candidateがない。\n",
    "- このため、一層の場合、前回の出力$h_{n-1}$と今回の入力$x_n$のみから今回の出力$h_{n-1}$を決めることになる\n",
    "- これは結構厳しいのではないかという印象を受けるがワークするのはなぜなのだろう？\n",
    "    - LSTMに劣るという報告もあるようだが（要出典 To be added）"
   ]
  },
  {
   "cell_type": "code",
   "execution_count": null,
   "metadata": {},
   "outputs": [],
   "source": []
  }
 ],
 "metadata": {
  "kernelspec": {
   "display_name": "Python 3",
   "language": "python",
   "name": "python3"
  },
  "language_info": {
   "codemirror_mode": {
    "name": "ipython",
    "version": 3
   },
   "file_extension": ".py",
   "mimetype": "text/x-python",
   "name": "python",
   "nbconvert_exporter": "python",
   "pygments_lexer": "ipython3",
   "version": "3.7.3"
  }
 },
 "nbformat": 4,
 "nbformat_minor": 4
}
