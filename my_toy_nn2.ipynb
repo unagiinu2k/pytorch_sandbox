{
 "cells": [
  {
   "cell_type": "code",
   "execution_count": 1,
   "metadata": {},
   "outputs": [],
   "source": [
    "%%bash\n",
    "git add my_toy_nn2.ipynb"
   ]
  },
  {
   "cell_type": "code",
   "execution_count": 185,
   "metadata": {},
   "outputs": [
    {
     "name": "stdout",
     "output_type": "stream",
     "text": [
      "[master cc4fe95] checkpoint\n",
      " 1 file changed, 189 insertions(+), 590 deletions(-)\n"
     ]
    }
   ],
   "source": [
    "%%bash\n",
    "git commit -a -m \"checkpoint\""
   ]
  },
  {
   "cell_type": "code",
   "execution_count": 98,
   "metadata": {},
   "outputs": [
    {
     "data": {
      "text/plain": [
       "2"
      ]
     },
     "execution_count": 98,
     "metadata": {},
     "output_type": "execute_result"
    }
   ],
   "source": [
    "1+1"
   ]
  },
  {
   "cell_type": "code",
   "execution_count": 1,
   "metadata": {},
   "outputs": [],
   "source": [
    "%matplotlib inline"
   ]
  },
  {
   "cell_type": "markdown",
   "metadata": {},
   "source": [
    "https://gist.github.com/santi-pdp/d0e9002afe74db04aa5bbff6d076e8fe"
   ]
  },
  {
   "cell_type": "markdown",
   "metadata": {},
   "source": [
    "#  準備"
   ]
  },
  {
   "cell_type": "markdown",
   "metadata": {},
   "source": [
    "* 正解がゼロとイチであるような100個のデータを作る\n",
    "* ゼロの方よりイチのほうがすべての座標の平均が1.5大きい"
   ]
  },
  {
   "cell_type": "code",
   "execution_count": 16,
   "metadata": {},
   "outputs": [],
   "source": [
    "import torch\n",
    "import torch.nn as nn\n",
    "from torch.autograd import Variable\n",
    "import torch.optim as optim"
   ]
  },
  {
   "cell_type": "code",
   "execution_count": 3,
   "metadata": {},
   "outputs": [],
   "source": [
    "X1 = torch.randn(1000, 50)\n",
    "X2 = torch.randn(1000, 50) + 1.5\n",
    "X3 = torch.randn(1000,50) + 3\n",
    "X = torch.cat([X1, X2 , X3], dim=0)\n",
    "Y1 = torch.zeros(1000, 1)\n",
    "Y2 = torch.ones(1000, 1)\n",
    "Y3 = torch.zeros(1000 , 1)\n",
    "Y = torch.cat([Y1, Y2, Y3], dim=0)"
   ]
  },
  {
   "cell_type": "code",
   "execution_count": 4,
   "metadata": {},
   "outputs": [
    {
     "name": "stdout",
     "output_type": "stream",
     "text": [
      "torch.Size([3000, 50])\n",
      "torch.Size([3000, 1])\n"
     ]
    }
   ],
   "source": [
    "print(X.size())\n",
    "print(Y.size())"
   ]
  },
  {
   "cell_type": "code",
   "execution_count": 5,
   "metadata": {},
   "outputs": [],
   "source": [
    "import matplotlib.pyplot as plt\n",
    "%matplotlib inline\n"
   ]
  },
  {
   "cell_type": "code",
   "execution_count": 6,
   "metadata": {},
   "outputs": [
    {
     "data": {
      "text/plain": [
       "<Figure size 432x288 with 0 Axes>"
      ]
     },
     "metadata": {},
     "output_type": "display_data"
    }
   ],
   "source": [
    "fig = plt.figure()"
   ]
  },
  {
   "cell_type": "code",
   "execution_count": 7,
   "metadata": {},
   "outputs": [],
   "source": [
    "ax1 = fig.add_subplot(111)"
   ]
  },
  {
   "cell_type": "code",
   "execution_count": 8,
   "metadata": {},
   "outputs": [
    {
     "data": {
      "text/plain": [
       "<matplotlib.collections.PathCollection at 0x7f5750e20c50>"
      ]
     },
     "execution_count": 8,
     "metadata": {},
     "output_type": "execute_result"
    }
   ],
   "source": [
    "ax1.scatter(X1[:,0] , X1[:,2] , color = \"yellow\")"
   ]
  },
  {
   "cell_type": "code",
   "execution_count": 9,
   "metadata": {},
   "outputs": [
    {
     "data": {
      "text/plain": [
       "<matplotlib.collections.PathCollection at 0x7f5750e38048>"
      ]
     },
     "execution_count": 9,
     "metadata": {},
     "output_type": "execute_result"
    }
   ],
   "source": [
    "ax1.scatter(X2[:,0] , X2[:,2], color = \"red\")"
   ]
  },
  {
   "cell_type": "code",
   "execution_count": 10,
   "metadata": {},
   "outputs": [
    {
     "data": {
      "text/plain": [
       "<matplotlib.collections.PathCollection at 0x7f5750e38390>"
      ]
     },
     "execution_count": 10,
     "metadata": {},
     "output_type": "execute_result"
    }
   ],
   "source": [
    "ax1.scatter(X3[:,0] , X3[:,2] , color = \"yellow\")"
   ]
  },
  {
   "cell_type": "code",
   "execution_count": 11,
   "metadata": {},
   "outputs": [
    {
     "data": {
      "image/png": "[encoded data removed]",
      "text/plain": [
       "<Figure size 432x288 with 1 Axes>"
      ]
     },
     "execution_count": 11,
     "metadata": {},
     "output_type": "execute_result"
    }
   ],
   "source": [
    "fig"
   ]
  },
  {
   "cell_type": "code",
   "execution_count": 11,
   "metadata": {},
   "outputs": [
    {
     "data": {
      "text/plain": [
       "torch.Size([1000, 50])"
      ]
     },
     "execution_count": 11,
     "metadata": {},
     "output_type": "execute_result"
    }
   ],
   "source": [
    "X1.shape"
   ]
  },
  {
   "cell_type": "code",
   "execution_count": 12,
   "metadata": {},
   "outputs": [
    {
     "data": {
      "text/plain": [
       "torch.Size([1000, 1])"
      ]
     },
     "execution_count": 12,
     "metadata": {},
     "output_type": "execute_result"
    }
   ],
   "source": [
    "Y1.shape"
   ]
  },
  {
   "cell_type": "markdown",
   "metadata": {},
   "source": [
    "# ネットワークの定義"
   ]
  },
  {
   "cell_type": "markdown",
   "metadata": {},
   "source": [
    "## main model"
   ]
  },
  {
   "cell_type": "markdown",
   "metadata": {},
   "source": [
    "\n",
    "$    \\text{PReLU}(x) = \\max(0,x) + a * \\min(0,x)$\n"
   ]
  },
  {
   "cell_type": "code",
   "execution_count": 13,
   "metadata": {},
   "outputs": [],
   "source": [
    "class Net(nn.Module):\n",
    "    \n",
    "    def __init__(self):\n",
    "        super().__init__()\n",
    "        self.fc1 = nn.Linear(in_features=50, out_features=50)\n",
    "        self.relu1 = nn.ReLU()\n",
    "        #self.dout = nn.Dropout(0.2)\n",
    "        self.fc2 = nn.Linear(50, 100)\n",
    "        self.prelu = nn.PReLU(1)\n",
    "        self.out = nn.Linear(100, 1)\n",
    "        self.out_act = nn.Sigmoid()\n",
    "        \n",
    "    def forward(self, input_):\n",
    "        y = self.fc1(input_)\n",
    "        y = self.relu1(y)        \n",
    "        y = self.fc2(y)\n",
    "        y = self.prelu(y)\n",
    "        y = self.out(y)\n",
    "        y = self.out_act(y)\n",
    "        return y\n",
    "    \n",
    "    "
   ]
  },
  {
   "cell_type": "markdown",
   "metadata": {},
   "source": [
    "## 線形変換 (値が0,1間に入らないのでcriteriaを評価できずエラーになる)"
   ]
  },
  {
   "cell_type": "code",
   "execution_count": null,
   "metadata": {},
   "outputs": [],
   "source": [
    "class Net(nn.Module):\n",
    "    \n",
    "    def __init__(self):\n",
    "        super().__init__()\n",
    "        self.fc1 = nn.Linear(50, 1)\n",
    "        \n",
    "    def forward(self, input_):\n",
    "        y = self.fc1(input_)\n",
    "        \n",
    "        return y\n",
    "    "
   ]
  },
  {
   "cell_type": "markdown",
   "metadata": {},
   "source": [
    "##  線形変換＋sigmoid"
   ]
  },
  {
   "cell_type": "code",
   "execution_count": 14,
   "metadata": {},
   "outputs": [],
   "source": [
    "class Net(nn.Module):\n",
    "    \n",
    "    def __init__(self):\n",
    "        super().__init__()\n",
    "        self.fc1 = nn.Linear(50, 1)\n",
    "        self.out_act = nn.Sigmoid()\n",
    "        \n",
    "    def forward(self, input_):\n",
    "        a1 = self.fc1(input_)\n",
    "        y = self.out_act(a1)\n",
    "        return y\n",
    "    "
   ]
  },
  {
   "cell_type": "markdown",
   "metadata": {},
   "source": [
    "## もともとのモデル"
   ]
  },
  {
   "cell_type": "code",
   "execution_count": 15,
   "metadata": {},
   "outputs": [],
   "source": [
    "class Net(nn.Module):\n",
    "    \n",
    "    def __init__(self):\n",
    "        super().__init__()\n",
    "        self.fc1 = nn.Linear(50, 50)\n",
    "        self.relu1 = nn.ReLU()\n",
    "        self.dout = nn.Dropout(0.2)\n",
    "        self.fc2 = nn.Linear(50, 100)\n",
    "        self.prelu = nn.PReLU(1)\n",
    "        self.out = nn.Linear(100, 1)\n",
    "        self.out_act = nn.Sigmoid()\n",
    "        \n",
    "    def forward(self, input_):\n",
    "        a1 = self.fc1(input_)\n",
    "        h1 = self.relu1(a1)\n",
    "        dout = self.dout(h1)\n",
    "        a2 = self.fc2(dout)\n",
    "        h2 = self.prelu(a2)\n",
    "        a3 = self.out(h2)\n",
    "        y = self.out_act(a3)\n",
    "        return y\n",
    "    "
   ]
  },
  {
   "cell_type": "code",
   "execution_count": 16,
   "metadata": {},
   "outputs": [],
   "source": [
    "model = Net()"
   ]
  },
  {
   "cell_type": "code",
   "execution_count": 17,
   "metadata": {},
   "outputs": [
    {
     "name": "stdout",
     "output_type": "stream",
     "text": [
      "Net(\n",
      "  (fc1): Linear(in_features=50, out_features=50, bias=True)\n",
      "  (relu1): ReLU()\n",
      "  (dout): Dropout(p=0.2)\n",
      "  (fc2): Linear(in_features=50, out_features=100, bias=True)\n",
      "  (prelu): PReLU(num_parameters=1)\n",
      "  (out): Linear(in_features=100, out_features=1, bias=True)\n",
      "  (out_act): Sigmoid()\n",
      ")\n"
     ]
    }
   ],
   "source": [
    "print(model)"
   ]
  },
  {
   "cell_type": "markdown",
   "metadata": {},
   "source": [
    "# optimizer"
   ]
  },
  {
   "cell_type": "markdown",
   "metadata": {},
   "source": [
    "## 学習測度はここで指定する"
   ]
  },
  {
   "cell_type": "markdown",
   "metadata": {},
   "source": [
    "learning rate次第で学習の成否が大きく異なってくる"
   ]
  },
  {
   "cell_type": "code",
   "execution_count": 18,
   "metadata": {},
   "outputs": [],
   "source": [
    "opt = optim.Adam(model.parameters(), lr=0.0001, betas=(0.9, 0.999))"
   ]
  },
  {
   "cell_type": "markdown",
   "metadata": {},
   "source": [
    "# Binary cross entropy"
   ]
  },
  {
   "cell_type": "markdown",
   "metadata": {},
   "source": [
    "ふたつの確率分布$p,q$があったときクロスエントロピーは\n",
    "\n",
    "$$\n",
    "H(p,q) =-{\\rm E}_p[\\log(q)]\n",
    "$$\n",
    "\n",
    "で定義される"
   ]
  },
  {
   "cell_type": "markdown",
   "metadata": {},
   "source": [
    "説明変数のsample \n",
    "$$\n",
    "x_0,x_1,\\cdots , x_{N-1}\n",
    "$$\n",
    "に対して、正解が１であり、NNが確率$z$で１であると出力したとき、\n",
    "正解の確率分布は\n",
    "\n",
    "\n",
    "$$\n",
    " p(x) =\n",
    " \\begin{cases}\n",
    "        1 & x = 1\\\\\n",
    "        0 & x = 0\n",
    " \\end{cases}\n",
    "$$\n",
    "NNの導いた確率分布は\n",
    "$$\n",
    " q(x) =\n",
    " \\begin{cases}\n",
    "        z & x = 1\\\\\n",
    "        1-z & x = 0\n",
    " \\end{cases}\n",
    "$$\n",
    "なのでクロスエントロピーは\n",
    "$$\n",
    "H(p,q) = -\\log(z)\n",
    "$$\n",
    "であるが、\n",
    "$$\n",
    "H(q,p) = -z \\log(1) - (1-z) \\log(0)\n",
    "$$\n",
    "は計算できない"
   ]
  },
  {
   "cell_type": "code",
   "execution_count": 19,
   "metadata": {},
   "outputs": [],
   "source": [
    "criterion = nn.BCELoss()"
   ]
  },
  {
   "cell_type": "markdown",
   "metadata": {},
   "source": [
    "# my training"
   ]
  },
  {
   "cell_type": "markdown",
   "metadata": {},
   "source": [
    "training modeに"
   ]
  },
  {
   "cell_type": "code",
   "execution_count": 20,
   "metadata": {},
   "outputs": [
    {
     "data": {
      "text/plain": [
       "Net(\n",
       "  (fc1): Linear(in_features=50, out_features=50, bias=True)\n",
       "  (relu1): ReLU()\n",
       "  (dout): Dropout(p=0.2)\n",
       "  (fc2): Linear(in_features=50, out_features=100, bias=True)\n",
       "  (prelu): PReLU(num_parameters=1)\n",
       "  (out): Linear(in_features=100, out_features=1, bias=True)\n",
       "  (out_act): Sigmoid()\n",
       ")"
      ]
     },
     "execution_count": 20,
     "metadata": {},
     "output_type": "execute_result"
    }
   ],
   "source": [
    "model.train()"
   ]
  },
  {
   "cell_type": "code",
   "execution_count": 21,
   "metadata": {},
   "outputs": [],
   "source": [
    "def yield_batch(X , Y , batch_size):\n",
    "    for beg_i in range(0, X.size(0), batch_size):\n",
    "        x_batch = X[beg_i:beg_i + batch_size, :]\n",
    "        y_batch = Y[beg_i:beg_i + batch_size, :]\n",
    "        x_batch = Variable(x_batch)\n",
    "        y_batch = Variable(y_batch)\n",
    "        yield x_batch  ,y_batch\n",
    "    "
   ]
  },
  {
   "cell_type": "code",
   "execution_count": 22,
   "metadata": {},
   "outputs": [],
   "source": [
    "batch_size = 50"
   ]
  },
  {
   "cell_type": "code",
   "execution_count": 23,
   "metadata": {},
   "outputs": [],
   "source": [
    "def my_one_epoch(model , opt, criterion, X , Y , batch_size):\n",
    "    batch_iterator = yield_batch(X , Y  , batch_size)\n",
    "    for x_batch , y_batch in batch_iterator:\n",
    "\n",
    "        ## loop decomposed\n",
    "\n",
    "        ### zero grad\n",
    "        #毎回gradをクリアしないといけない\n",
    "\n",
    "        opt.zero_grad()\n",
    "\n",
    "        ### Forward\n",
    "\n",
    "        y_hat = model(x_batch)\n",
    "\n",
    "        ### Compute diff\n",
    "\n",
    "        loss = criterion(y_hat, y_batch)\n",
    "        #print(\"loss : {}\".format(loss))\n",
    "\n",
    "        ### Compute gradients\n",
    "\n",
    "        loss.backward()\n",
    "\n",
    "        ### update weights\n",
    "\n",
    "        opt.step()        \n",
    "\n",
    "        ### loss \n",
    "\n",
    "        run_loss = float(loss.data.numpy())\n",
    "\n",
    "    print(run_loss)"
   ]
  },
  {
   "cell_type": "code",
   "execution_count": 24,
   "metadata": {},
   "outputs": [
    {
     "name": "stdout",
     "output_type": "stream",
     "text": [
      "0.42836108803749084\n",
      "0.38675469160079956\n",
      "0.38040587306022644\n",
      "0.36951231956481934\n",
      "0.3592170774936676\n",
      "0.36074742674827576\n",
      "0.3468421697616577\n",
      "0.35194942355155945\n",
      "0.35672101378440857\n",
      "0.3537641167640686\n",
      "0.35244351625442505\n",
      "0.36190304160118103\n",
      "0.36007925868034363\n",
      "0.3574187457561493\n",
      "0.3631193935871124\n",
      "0.3608333468437195\n",
      "0.36761021614074707\n",
      "0.36645686626434326\n",
      "0.37193024158477783\n",
      "0.3754085600376129\n"
     ]
    }
   ],
   "source": [
    "n_epochs = 20\n",
    "for i in range(n_epochs):\n",
    "    my_one_epoch(model , opt, criterion, X , Y , batch_size)"
   ]
  },
  {
   "cell_type": "markdown",
   "metadata": {},
   "source": [
    "#  答え合わせ"
   ]
  },
  {
   "cell_type": "code",
   "execution_count": 25,
   "metadata": {},
   "outputs": [],
   "source": [
    "y_model = model(X)"
   ]
  },
  {
   "cell_type": "code",
   "execution_count": 26,
   "metadata": {},
   "outputs": [
    {
     "data": {
      "text/plain": [
       "<Figure size 432x288 with 0 Axes>"
      ]
     },
     "metadata": {},
     "output_type": "display_data"
    }
   ],
   "source": [
    "fig = plt.figure()"
   ]
  },
  {
   "cell_type": "code",
   "execution_count": 27,
   "metadata": {},
   "outputs": [],
   "source": [
    "ax1 = fig.add_subplot(111)"
   ]
  },
  {
   "cell_type": "code",
   "execution_count": 28,
   "metadata": {},
   "outputs": [
    {
     "data": {
      "text/plain": [
       "array([0., 0., 0., ..., 0., 0., 0.], dtype=float32)"
      ]
     },
     "execution_count": 28,
     "metadata": {},
     "output_type": "execute_result"
    }
   ],
   "source": [
    "Y.numpy()[:,0]"
   ]
  },
  {
   "cell_type": "code",
   "execution_count": 29,
   "metadata": {},
   "outputs": [
    {
     "data": {
      "text/plain": [
       "<matplotlib.collections.PathCollection at 0x7f03401c5780>"
      ]
     },
     "execution_count": 29,
     "metadata": {},
     "output_type": "execute_result"
    }
   ],
   "source": [
    "ax1.scatter(Y.numpy()[:,0] , y_model.detach().numpy()[:,0] , color = \"red\")"
   ]
  },
  {
   "cell_type": "code",
   "execution_count": 30,
   "metadata": {},
   "outputs": [
    {
     "data": {
      "image/png": "[encoded data removed]",
      "text/plain": [
       "<Figure size 432x288 with 1 Axes>"
      ]
     },
     "execution_count": 30,
     "metadata": {},
     "output_type": "execute_result"
    }
   ],
   "source": [
    "fig"
   ]
  },
  {
   "cell_type": "code",
   "execution_count": 99,
   "metadata": {},
   "outputs": [],
   "source": [
    "tmp = y_model.detach().numpy()"
   ]
  },
  {
   "cell_type": "markdown",
   "metadata": {},
   "source": [
    "# decomposed training"
   ]
  },
  {
   "cell_type": "code",
   "execution_count": 125,
   "metadata": {},
   "outputs": [],
   "source": [
    "batch_iterator = yield_batch(X , Y  , batch_size)"
   ]
  },
  {
   "cell_type": "code",
   "execution_count": 46,
   "metadata": {},
   "outputs": [],
   "source": [
    "x_batch , y_batch = next(batch_iterator)"
   ]
  },
  {
   "cell_type": "markdown",
   "metadata": {},
   "source": [
    "## loop decomposed"
   ]
  },
  {
   "cell_type": "markdown",
   "metadata": {},
   "source": [
    "### zero grad\n",
    "毎回gradをクリアしないといけない"
   ]
  },
  {
   "cell_type": "code",
   "execution_count": 47,
   "metadata": {},
   "outputs": [],
   "source": [
    "opt.zero_grad()"
   ]
  },
  {
   "cell_type": "markdown",
   "metadata": {},
   "source": [
    "### Forward"
   ]
  },
  {
   "cell_type": "code",
   "execution_count": 48,
   "metadata": {},
   "outputs": [],
   "source": [
    "y_hat = model(x_batch)"
   ]
  },
  {
   "cell_type": "markdown",
   "metadata": {},
   "source": [
    "### Compute diff"
   ]
  },
  {
   "cell_type": "code",
   "execution_count": 50,
   "metadata": {},
   "outputs": [
    {
     "name": "stdout",
     "output_type": "stream",
     "text": [
      "loss : 0.7317055463790894\n"
     ]
    }
   ],
   "source": [
    "loss = criterion(y_hat, y_batch)\n",
    "print(\"loss : {}\".format(loss))"
   ]
  },
  {
   "cell_type": "markdown",
   "metadata": {},
   "source": [
    "### Compute gradients"
   ]
  },
  {
   "cell_type": "code",
   "execution_count": null,
   "metadata": {},
   "outputs": [],
   "source": [
    "loss.backward()"
   ]
  },
  {
   "cell_type": "markdown",
   "metadata": {},
   "source": [
    "### update weights"
   ]
  },
  {
   "cell_type": "code",
   "execution_count": null,
   "metadata": {},
   "outputs": [],
   "source": [
    "opt.step()        "
   ]
  },
  {
   "cell_type": "markdown",
   "metadata": {},
   "source": [
    "### loss "
   ]
  },
  {
   "cell_type": "code",
   "execution_count": null,
   "metadata": {},
   "outputs": [],
   "source": [
    "run_loss = float(loss.data.numpy())\n",
    "\n",
    "print(run_loss)"
   ]
  },
  {
   "cell_type": "code",
   "execution_count": null,
   "metadata": {},
   "outputs": [],
   "source": []
  },
  {
   "cell_type": "markdown",
   "metadata": {},
   "source": [
    "# original"
   ]
  },
  {
   "cell_type": "markdown",
   "metadata": {},
   "source": [
    "def train_epoch(model, opt, criterion, batch_size=50):\n",
    "    model.train()\n",
    "    losses = []\n",
    "    for beg_i in range(0, X.size(0), batch_size):\n",
    "        x_batch = X[beg_i:beg_i + batch_size, :]\n",
    "        y_batch = Y[beg_i:beg_i + batch_size, :]\n",
    "        x_batch = Variable(x_batch)\n",
    "        y_batch = Variable(y_batch)\n",
    "\n",
    "\n",
    "        opt.zero_grad()\n",
    "        # (1) Forward\n",
    "        y_hat = net(x_batch)\n",
    "        # (2) Compute diff\n",
    "        loss = criterion(y_hat, y_batch)\n",
    "        # (3) Compute gradients\n",
    "        loss.backward()\n",
    "        # (4) update weights\n",
    "        opt.step()        \n",
    "        losses.append(loss.data.numpy())\n",
    "    return losses"
   ]
  },
  {
   "cell_type": "code",
   "execution_count": null,
   "metadata": {},
   "outputs": [],
   "source": [
    "e_losses = []\n",
    "num_epochs = 200\n",
    "for e in range(num_epochs):\n",
    "    e_losses += train_epoch(net, opt, criterion)\n",
    "plt.plot(e_losses)"
   ]
  },
  {
   "cell_type": "code",
   "execution_count": null,
   "metadata": {},
   "outputs": [],
   "source": [
    "?Variable"
   ]
  },
  {
   "cell_type": "code",
   "execution_count": null,
   "metadata": {},
   "outputs": [],
   "source": [
    "batch_size = 50"
   ]
  },
  {
   "cell_type": "code",
   "execution_count": null,
   "metadata": {},
   "outputs": [],
   "source": [
    "losses = []\n",
    "for beg_i in range(0, X.size(0), batch_size):\n",
    "    x_batch = X[beg_i:beg_i + batch_size, :]\n",
    "    y_batch = Y[beg_i:beg_i + batch_size, :]\n",
    "    x_batch = Variable(x_batch)\n",
    "    y_batch = Variable(y_batch)\n",
    "\n",
    "    opt.zero_grad()\n",
    "    # (1) Forward\n",
    "    y_hat = net(x_batch)\n",
    "    # (2) Compute diff\n",
    "    loss = criterion(y_hat, y_batch)\n",
    "    # (3) Compute gradients\n",
    "    loss.backward()\n",
    "    # (4) update weights\n",
    "    opt.step()        \n",
    "    losses.append(loss.data.numpy())"
   ]
  },
  {
   "cell_type": "code",
   "execution_count": null,
   "metadata": {
    "scrolled": true
   },
   "outputs": [],
   "source": [
    "loss.backward?"
   ]
  },
  {
   "cell_type": "code",
   "execution_count": null,
   "metadata": {},
   "outputs": [],
   "source": [
    "plt.plot(losses)"
   ]
  },
  {
   "cell_type": "code",
   "execution_count": null,
   "metadata": {},
   "outputs": [],
   "source": [
    "print(losses)"
   ]
  },
  {
   "cell_type": "code",
   "execution_count": null,
   "metadata": {},
   "outputs": [],
   "source": [
    "train_epoch(net, opt, criterion)"
   ]
  },
  {
   "cell_type": "markdown",
   "metadata": {},
   "source": [
    "# option pricing imitation\n"
   ]
  },
  {
   "cell_type": "code",
   "execution_count": 17,
   "metadata": {},
   "outputs": [],
   "source": [
    "import QuantLib as ql "
   ]
  },
  {
   "cell_type": "code",
   "execution_count": 18,
   "metadata": {},
   "outputs": [],
   "source": [
    "class cl_call:\n",
    "    def price(self , spot_price, strike_price, maturity , is_american = True):\n",
    "        if maturity <= 0:\n",
    "            exercise_value = np.max([0 , spot_price - strike_price])\n",
    "            return (exercise_value)\n",
    "        dummy_strike = strike_price / spot_price\n",
    "        \n",
    "\n",
    "        option_type = ql.Option.Call\n",
    "        payoff = ql.PlainVanillaPayoff(option_type, dummy_strike)\n",
    "        \n",
    "        maturity_date = self.calculation_date + int(365.0 * maturity)\n",
    "        settlement = self.calculation_date\n",
    "        if is_american:\n",
    "            run_exercise = ql.AmericanExercise(settlement, maturity_date)\n",
    "        else:\n",
    "            run_exercise = ql.EuropeanExercise(maturity_date)\n",
    "                \n",
    "        \n",
    "        american_option = ql.VanillaOption(payoff, run_exercise)\n",
    "        if is_american:\n",
    "            american_option.setPricingEngine(self.binomial_engine)\n",
    "        else:\n",
    "\n",
    "            american_option.setPricingEngine(ql.AnalyticEuropeanEngine(self.bsm_process))\n",
    "                \n",
    "        ql.Settings.instance().evaluationDate = self.calculation_date\n",
    "\n",
    "        return (american_option.NPV() * spot_price)\n",
    "        \n",
    "\n",
    "    def __init__(self , volatility , dividend_rate , risk_free_rate  ,steps):\n",
    "        day_count = ql.Actual365Fixed()\n",
    "        #calendar = ql.UnitedStates()\n",
    "        calendar = ql.Japan()\n",
    "        self.calculation_date = ql.Date(8, 5, 2015)\n",
    "        dummy_spot = 1\n",
    "        \n",
    "        self.spot_handle = ql.QuoteHandle(ql.SimpleQuote(1.0))\n",
    "\n",
    "        ql.Settings.instance().evaluationDate = self.calculation_date\n",
    "\n",
    "\n",
    "        self.flat_ts = ql.YieldTermStructureHandle(\n",
    "            ql.FlatForward(self.calculation_date, risk_free_rate, day_count)\n",
    "        )\n",
    "\n",
    "        self.dividend_yield = ql.YieldTermStructureHandle(\n",
    "            ql.FlatForward(self.calculation_date, dividend_rate, day_count)\n",
    "        )\n",
    "\n",
    "        #### volatility\n",
    "\n",
    "        self.flat_vol_ts = ql.BlackVolTermStructureHandle(\n",
    "            ql.BlackConstantVol(self.calculation_date, calendar, volatility, day_count)\n",
    "        )\n",
    "\n",
    "        #### BS framework\n",
    "\n",
    "        self.bsm_process = ql.BlackScholesMertonProcess(self.spot_handle, \n",
    "                                                   self.dividend_yield, \n",
    "                                                   self.flat_ts, \n",
    "                                                   self.flat_vol_ts)\n",
    "\n",
    "\n",
    "        self.binomial_engine = ql.BinomialVanillaEngine(self.bsm_process, \"crr\", steps)\n",
    "        \n",
    "\n"
   ]
  },
  {
   "cell_type": "code",
   "execution_count": 19,
   "metadata": {},
   "outputs": [],
   "source": [
    "spot_price = 127.62\n",
    "volatility = 0.20 # the historical vols or implied vols\n",
    "dividend_rate =  0.063\n",
    "risk_free_rate = 0.001\n",
    "maturity = 1\n",
    "dt = 0.1\n",
    "\n",
    "strike_price = 130\n",
    "\n",
    "#steps = 200\n",
    "pricer_steps = 100\n",
    "\n",
    "#dt = maturity / steps"
   ]
  },
  {
   "cell_type": "markdown",
   "metadata": {},
   "source": [
    "## sandbox"
   ]
  },
  {
   "cell_type": "code",
   "execution_count": 39,
   "metadata": {},
   "outputs": [],
   "source": [
    "am_call = cl_call(volatility ,  dividend_rate ,  risk_free_rate , pricer_steps)"
   ]
  },
  {
   "cell_type": "code",
   "execution_count": 40,
   "metadata": {},
   "outputs": [
    {
     "data": {
      "text/plain": [
       "6.431300819558227"
      ]
     },
     "execution_count": 40,
     "metadata": {},
     "output_type": "execute_result"
    }
   ],
   "source": [
    "am_call.price(spot_price, strike_price, maturity)"
   ]
  },
  {
   "cell_type": "code",
   "execution_count": 26,
   "metadata": {},
   "outputs": [
    {
     "data": {
      "text/plain": [
       "29.999999999999993"
      ]
     },
     "execution_count": 26,
     "metadata": {},
     "output_type": "execute_result"
    }
   ],
   "source": [
    "am_call.price(130 , 100, 0.1 , True)"
   ]
  },
  {
   "cell_type": "code",
   "execution_count": 27,
   "metadata": {},
   "outputs": [
    {
     "data": {
      "text/plain": [
       "29.2046218778254"
      ]
     },
     "execution_count": 27,
     "metadata": {},
     "output_type": "execute_result"
    }
   ],
   "source": [
    "am_call.price(130 , 100 , 0.1,  False)"
   ]
  },
  {
   "cell_type": "code",
   "execution_count": 20,
   "metadata": {},
   "outputs": [
    {
     "data": {
      "text/plain": [
       "29.999999999999993"
      ]
     },
     "execution_count": 20,
     "metadata": {},
     "output_type": "execute_result"
    }
   ],
   "source": [
    "am_call.price(130 , 100 , 0.1 , True)"
   ]
  },
  {
   "cell_type": "markdown",
   "metadata": {},
   "source": [
    "## creating training data"
   ]
  },
  {
   "cell_type": "code",
   "execution_count": 113,
   "metadata": {},
   "outputs": [],
   "source": [
    "N = 1000\n"
   ]
  },
  {
   "cell_type": "code",
   "execution_count": 114,
   "metadata": {},
   "outputs": [],
   "source": [
    "share_prices  = torch.rand(N, 1) * 300"
   ]
  },
  {
   "cell_type": "code",
   "execution_count": 115,
   "metadata": {},
   "outputs": [],
   "source": [
    "volatilities = torch.rand(N , 1) * 0.6 + 0.01"
   ]
  },
  {
   "cell_type": "code",
   "execution_count": 116,
   "metadata": {},
   "outputs": [
    {
     "data": {
      "text/plain": [
       "186.12611389160156"
      ]
     },
     "execution_count": 116,
     "metadata": {},
     "output_type": "execute_result"
    }
   ],
   "source": [
    "share_prices[0,0].item()"
   ]
  },
  {
   "cell_type": "code",
   "execution_count": 117,
   "metadata": {},
   "outputs": [],
   "source": [
    "option_prices = [cl_call(volatilities[i , 0].item() ,  \n",
    "                         dividend_rate ,  \n",
    "                         risk_free_rate , \n",
    "                         pricer_steps).price(share_prices[i,0].item(), \n",
    "                                              strike_price, \n",
    "                                              maturity) for i in range(N)]"
   ]
  },
  {
   "cell_type": "code",
   "execution_count": 118,
   "metadata": {},
   "outputs": [],
   "source": [
    "X = torch.cat([share_prices , volatilities] , dim = 1)"
   ]
  },
  {
   "cell_type": "code",
   "execution_count": 119,
   "metadata": {},
   "outputs": [
    {
     "data": {
      "text/plain": [
       "torch.Size([1000, 2])"
      ]
     },
     "execution_count": 119,
     "metadata": {},
     "output_type": "execute_result"
    }
   ],
   "source": [
    "X.size()"
   ]
  },
  {
   "cell_type": "code",
   "execution_count": 120,
   "metadata": {},
   "outputs": [],
   "source": [
    "y = torch.tensor(option_prices)"
   ]
  },
  {
   "cell_type": "code",
   "execution_count": 162,
   "metadata": {},
   "outputs": [
    {
     "ename": "SyntaxError",
     "evalue": "invalid syntax (<ipython-input-162-c098b568e9bf>, line 1)",
     "output_type": "error",
     "traceback": [
      "\u001b[0;36m  File \u001b[0;32m\"<ipython-input-162-c098b568e9bf>\"\u001b[0;36m, line \u001b[0;32m1\u001b[0m\n\u001b[0;31m    y m= y.view(-1, 1)\u001b[0m\n\u001b[0m      ^\u001b[0m\n\u001b[0;31mSyntaxError\u001b[0m\u001b[0;31m:\u001b[0m invalid syntax\n"
     ]
    }
   ],
   "source": [
    "y m= y.view(-1, 1)"
   ]
  },
  {
   "cell_type": "code",
   "execution_count": 122,
   "metadata": {},
   "outputs": [
    {
     "data": {
      "text/plain": [
       "torch.Size([1000, 1])"
      ]
     },
     "execution_count": 122,
     "metadata": {},
     "output_type": "execute_result"
    }
   ],
   "source": [
    "y.size()"
   ]
  },
  {
   "cell_type": "markdown",
   "metadata": {},
   "source": [
    "## define net"
   ]
  },
  {
   "cell_type": "markdown",
   "metadata": {},
   "source": [
    "https://pytorch.org/docs/stable/nn.html"
   ]
  },
  {
   "cell_type": "code",
   "execution_count": 163,
   "metadata": {},
   "outputs": [
    {
     "data": {
      "text/plain": [
       "\u001b[0;31mInit signature:\u001b[0m \u001b[0mnn\u001b[0m\u001b[0;34m.\u001b[0m\u001b[0mLinear\u001b[0m\u001b[0;34m(\u001b[0m\u001b[0min_features\u001b[0m\u001b[0;34m,\u001b[0m \u001b[0mout_features\u001b[0m\u001b[0;34m,\u001b[0m \u001b[0mbias\u001b[0m\u001b[0;34m=\u001b[0m\u001b[0;32mTrue\u001b[0m\u001b[0;34m)\u001b[0m\u001b[0;34m\u001b[0m\u001b[0m\n",
       "\u001b[0;31mDocstring:\u001b[0m     \n",
       "Applies a linear transformation to the incoming data: :math:`y = xA^T + b`\n",
       "\n",
       "Args:\n",
       "    in_features: size of each input sample\n",
       "    out_features: size of each output sample\n",
       "    bias: If set to False, the layer will not learn an additive bias.\n",
       "        Default: ``True``\n",
       "\n",
       "Shape:\n",
       "    - Input: :math:`(N, *, \\text{in\\_features})` where :math:`*` means any number of\n",
       "      additional dimensions\n",
       "    - Output: :math:`(N, *, \\text{out\\_features})` where all but the last dimension\n",
       "      are the same shape as the input.\n",
       "\n",
       "Attributes:\n",
       "    weight: the learnable weights of the module of shape\n",
       "        :math:`(\\text{out\\_features}, \\text{in\\_features})`. The values are\n",
       "        initialized from :math:`\\mathcal{U}(-\\sqrt{k}, \\sqrt{k})`, where\n",
       "        :math:`k = \\frac{1}{\\text{in\\_features}}`\n",
       "    bias:   the learnable bias of the module of shape :math:`(\\text{out\\_features})`.\n",
       "            If :attr:`bias` is ``True``, the values are initialized from\n",
       "            :math:`\\mathcal{U}(-\\sqrt{k}, \\sqrt{k})` where\n",
       "            :math:`k = \\frac{1}{\\text{in\\_features}}`\n",
       "\n",
       "Examples::\n",
       "\n",
       "    >>> m = nn.Linear(20, 30)\n",
       "    >>> input = torch.randn(128, 20)\n",
       "    >>> output = m(input)\n",
       "    >>> print(output.size())\n",
       "    torch.Size([128, 30])\n",
       "\u001b[0;31mFile:\u001b[0m           ~/anaconda3/envs/base2/lib/python3.5/site-packages/torch/nn/modules/linear.py\n",
       "\u001b[0;31mType:\u001b[0m           type\n"
      ]
     },
     "metadata": {},
     "output_type": "display_data"
    }
   ],
   "source": [
    "?nn.Linear"
   ]
  },
  {
   "cell_type": "code",
   "execution_count": 30,
   "metadata": {},
   "outputs": [],
   "source": [
    "class Net(nn.Module):\n",
    "    \n",
    "    def __init__(self):\n",
    "        super().__init__()\n",
    "        self.fc1 = nn.Linear(2, 1)\n",
    "        \n",
    "    def forward(self, input_):\n",
    "        y = self.fc1(input_)\n",
    "        \n",
    "        return y\n",
    "    "
   ]
  },
  {
   "cell_type": "code",
   "execution_count": 123,
   "metadata": {},
   "outputs": [],
   "source": [
    "class Net(nn.Module):\n",
    "    \n",
    "    def __init__(self):\n",
    "        super().__init__()\n",
    "        \n",
    "        self.fc1 = nn.Linear(2, 10)\n",
    "        self.a1 = nn.ReLU()\n",
    "        self.fc2 = nn.Linear(10 , 1)\n",
    "    def forward(self, input_):\n",
    "        y = self.fc1(input_)\n",
    "        y = self.a1(y)\n",
    "        y = self.fc2(y)\n",
    "        \n",
    "        return y\n",
    "    "
   ]
  },
  {
   "cell_type": "code",
   "execution_count": 164,
   "metadata": {},
   "outputs": [],
   "source": [
    "class Net(nn.Module):\n",
    "    \n",
    "    def __init__(self):\n",
    "        super().__init__()\n",
    "        \n",
    "        self.fc1 = nn.Linear(2, 10)\n",
    "        self.a1 = nn.Softplus()\n",
    "        self.fc2 = nn.Linear(10 , 1)\n",
    "    def forward(self, input_):\n",
    "        y = self.fc1(input_)\n",
    "        y = self.a1(y)\n",
    "        y = self.fc2(y)\n",
    "        \n",
    "        return y\n",
    "    "
   ]
  },
  {
   "cell_type": "code",
   "execution_count": 165,
   "metadata": {},
   "outputs": [],
   "source": [
    "model = Net()"
   ]
  },
  {
   "cell_type": "code",
   "execution_count": 166,
   "metadata": {},
   "outputs": [
    {
     "name": "stdout",
     "output_type": "stream",
     "text": [
      "Net(\n",
      "  (fc1): Linear(in_features=2, out_features=10, bias=True)\n",
      "  (a1): Softplus(beta=1, threshold=20)\n",
      "  (fc2): Linear(in_features=10, out_features=1, bias=True)\n",
      ")\n"
     ]
    }
   ],
   "source": [
    "print(model)"
   ]
  },
  {
   "cell_type": "markdown",
   "metadata": {},
   "source": [
    "## optimizer"
   ]
  },
  {
   "cell_type": "code",
   "execution_count": 167,
   "metadata": {},
   "outputs": [],
   "source": [
    "opt = optim.Adam(model.parameters(), lr=0.0001, betas=(0.9, 0.999))"
   ]
  },
  {
   "cell_type": "markdown",
   "metadata": {},
   "source": [
    "## define loss function\n",
    "https://medium.com/udacity-pytorch-challengers/a-brief-overview-of-loss-functions-in-pytorch-c0ddb78068f7"
   ]
  },
  {
   "cell_type": "code",
   "execution_count": 168,
   "metadata": {},
   "outputs": [],
   "source": [
    "criterion = nn.MSELoss()"
   ]
  },
  {
   "cell_type": "markdown",
   "metadata": {},
   "source": [
    "## training"
   ]
  },
  {
   "cell_type": "code",
   "execution_count": 169,
   "metadata": {},
   "outputs": [
    {
     "data": {
      "text/plain": [
       "Net(\n",
       "  (fc1): Linear(in_features=2, out_features=10, bias=True)\n",
       "  (a1): Softplus(beta=1, threshold=20)\n",
       "  (fc2): Linear(in_features=10, out_features=1, bias=True)\n",
       ")"
      ]
     },
     "execution_count": 169,
     "metadata": {},
     "output_type": "execute_result"
    }
   ],
   "source": [
    "model.train()"
   ]
  },
  {
   "cell_type": "code",
   "execution_count": 170,
   "metadata": {},
   "outputs": [],
   "source": [
    "def train_epoch(model, opt, criterion, X, Y , batch_size=50):\n",
    "    model.train()\n",
    "    losses = []\n",
    "    for beg_i in range(0, X.size(0), batch_size):\n",
    "        x_batch = X[beg_i:beg_i + batch_size, :]\n",
    "        y_batch = Y[beg_i:beg_i + batch_size, :]\n",
    "        x_batch = Variable(x_batch)\n",
    "        y_batch = Variable(y_batch)\n",
    "\n",
    "        opt.zero_grad()\n",
    "        # (1) Forward\n",
    "        y_hat = model(x_batch)\n",
    "        # (2) Compute diff\n",
    "        loss = criterion(y_hat, y_batch)\n",
    "        # (3) Compute gradients\n",
    "        loss.backward()\n",
    "        # (4) update weights\n",
    "        opt.step()        \n",
    "        losses.append(loss.data.numpy())\n",
    "    return losses"
   ]
  },
  {
   "cell_type": "code",
   "execution_count": 178,
   "metadata": {},
   "outputs": [
    {
     "data": {
      "text/plain": [
       "[<matplotlib.lines.Line2D at 0x7f5711164748>]"
      ]
     },
     "execution_count": 178,
     "metadata": {},
     "output_type": "execute_result"
    },
    {
     "data": {
      "image/png": "[encoded data removed]",
      "text/plain": [
       "<Figure size 432x288 with 1 Axes>"
      ]
     },
     "metadata": {},
     "output_type": "display_data"
    }
   ],
   "source": [
    "e_losses = []\n",
    "num_epochs = 10000\n",
    "for e in range(num_epochs):\n",
    "    e_losses += train_epoch(model, opt, criterion , X , y)\n",
    "plt.plot(e_losses)"
   ]
  },
  {
   "cell_type": "code",
   "execution_count": 179,
   "metadata": {},
   "outputs": [],
   "source": [
    "y_model = model(X)"
   ]
  },
  {
   "cell_type": "markdown",
   "metadata": {},
   "source": [
    "## plot with bokeh"
   ]
  },
  {
   "cell_type": "code",
   "execution_count": 180,
   "metadata": {},
   "outputs": [
    {
     "data": {
      "text/html": [
       "\n",
       "    <div class=\"bk-root\">\n",
       "        <a href=\"https://bokeh.pydata.org\" target=\"_blank\" class=\"bk-logo bk-logo-small bk-logo-notebook\"></a>\n",
       "        <span id=\"6131c222-02bf-4093-b25d-dd5f8b4cc7a9\">Loading BokehJS ...</span>\n",
       "    </div>"
      ]
     },
     "metadata": {},
     "output_type": "display_data"
    },
    {
     "data": {
      "application/javascript": [
       "\n",
       "(function(root) {\n",
       "  function now() {\n",
       "    return new Date();\n",
       "  }\n",
       "\n",
       "  var force = true;\n",
       "\n",
       "  if (typeof (root._bokeh_onload_callbacks) === \"undefined\" || force === true) {\n",
       "    root._bokeh_onload_callbacks = [];\n",
       "    root._bokeh_is_loading = undefined;\n",
       "  }\n",
       "\n",
       "  var JS_MIME_TYPE = 'application/javascript';\n",
       "  var HTML_MIME_TYPE = 'text/html';\n",
       "  var EXEC_MIME_TYPE = 'application/vnd.bokehjs_exec.v0+json';\n",
       "  var CLASS_NAME = 'output_bokeh rendered_html';\n",
       "\n",
       "  /**\n",
       "   * Render data to the DOM node\n",
       "   */\n",
       "  function render(props, node) {\n",
       "    var script = document.createElement(\"script\");\n",
       "    node.appendChild(script);\n",
       "  }\n",
       "\n",
       "  /**\n",
       "   * Handle when an output is cleared or removed\n",
       "   */\n",
       "  function handleClearOutput(event, handle) {\n",
       "    var cell = handle.cell;\n",
       "\n",
       "    var id = cell.output_area._bokeh_element_id;\n",
       "    var server_id = cell.output_area._bokeh_server_id;\n",
       "    // Clean up Bokeh references\n",
       "    if (id !== undefined) {\n",
       "      Bokeh.index[id].model.document.clear();\n",
       "      delete Bokeh.index[id];\n",
       "    }\n",
       "\n",
       "    if (server_id !== undefined) {\n",
       "      // Clean up Bokeh references\n",
       "      var cmd = \"from bokeh.io.state import curstate; print(curstate().uuid_to_server['\" + server_id + \"'].get_sessions()[0].document.roots[0]._id)\";\n",
       "      cell.notebook.kernel.execute(cmd, {\n",
       "        iopub: {\n",
       "          output: function(msg) {\n",
       "            var element_id = msg.content.text.trim();\n",
       "            Bokeh.index[element_id].model.document.clear();\n",
       "            delete Bokeh.index[element_id];\n",
       "          }\n",
       "        }\n",
       "      });\n",
       "      // Destroy server and session\n",
       "      var cmd = \"import bokeh.io.notebook as ion; ion.destroy_server('\" + server_id + \"')\";\n",
       "      cell.notebook.kernel.execute(cmd);\n",
       "    }\n",
       "  }\n",
       "\n",
       "  /**\n",
       "   * Handle when a new output is added\n",
       "   */\n",
       "  function handleAddOutput(event, handle) {\n",
       "    var output_area = handle.output_area;\n",
       "    var output = handle.output;\n",
       "\n",
       "    // limit handleAddOutput to display_data with EXEC_MIME_TYPE content only\n",
       "    if ((output.output_type != \"display_data\") || (!output.data.hasOwnProperty(EXEC_MIME_TYPE))) {\n",
       "      return\n",
       "    }\n",
       "\n",
       "    var toinsert = output_area.element.find(\".\" + CLASS_NAME.split(' ')[0]);\n",
       "\n",
       "    if (output.metadata[EXEC_MIME_TYPE][\"id\"] !== undefined) {\n",
       "      toinsert[0].firstChild.textContent = output.data[JS_MIME_TYPE];\n",
       "      // store reference to embed id on output_area\n",
       "      output_area._bokeh_element_id = output.metadata[EXEC_MIME_TYPE][\"id\"];\n",
       "    }\n",
       "    if (output.metadata[EXEC_MIME_TYPE][\"server_id\"] !== undefined) {\n",
       "      var bk_div = document.createElement(\"div\");\n",
       "      bk_div.innerHTML = output.data[HTML_MIME_TYPE];\n",
       "      var script_attrs = bk_div.children[0].attributes;\n",
       "      for (var i = 0; i < script_attrs.length; i++) {\n",
       "        toinsert[0].firstChild.setAttribute(script_attrs[i].name, script_attrs[i].value);\n",
       "      }\n",
       "      // store reference to server id on output_area\n",
       "      output_area._bokeh_server_id = output.metadata[EXEC_MIME_TYPE][\"server_id\"];\n",
       "    }\n",
       "  }\n",
       "\n",
       "  function register_renderer(events, OutputArea) {\n",
       "\n",
       "    function append_mime(data, metadata, element) {\n",
       "      // create a DOM node to render to\n",
       "      var toinsert = this.create_output_subarea(\n",
       "        metadata,\n",
       "        CLASS_NAME,\n",
       "        EXEC_MIME_TYPE\n",
       "      );\n",
       "      this.keyboard_manager.register_events(toinsert);\n",
       "      // Render to node\n",
       "      var props = {data: data, metadata: metadata[EXEC_MIME_TYPE]};\n",
       "      render(props, toinsert[0]);\n",
       "      element.append(toinsert);\n",
       "      return toinsert\n",
       "    }\n",
       "\n",
       "    /* Handle when an output is cleared or removed */\n",
       "    events.on('clear_output.CodeCell', handleClearOutput);\n",
       "    events.on('delete.Cell', handleClearOutput);\n",
       "\n",
       "    /* Handle when a new output is added */\n",
       "    events.on('output_added.OutputArea', handleAddOutput);\n",
       "\n",
       "    /**\n",
       "     * Register the mime type and append_mime function with output_area\n",
       "     */\n",
       "    OutputArea.prototype.register_mime_type(EXEC_MIME_TYPE, append_mime, {\n",
       "      /* Is output safe? */\n",
       "      safe: true,\n",
       "      /* Index of renderer in `output_area.display_order` */\n",
       "      index: 0\n",
       "    });\n",
       "  }\n",
       "\n",
       "  // register the mime type if in Jupyter Notebook environment and previously unregistered\n",
       "  if (root.Jupyter !== undefined) {\n",
       "    var events = require('base/js/events');\n",
       "    var OutputArea = require('notebook/js/outputarea').OutputArea;\n",
       "\n",
       "    if (OutputArea.prototype.mime_types().indexOf(EXEC_MIME_TYPE) == -1) {\n",
       "      register_renderer(events, OutputArea);\n",
       "    }\n",
       "  }\n",
       "\n",
       "  \n",
       "  if (typeof (root._bokeh_timeout) === \"undefined\" || force === true) {\n",
       "    root._bokeh_timeout = Date.now() + 5000;\n",
       "    root._bokeh_failed_load = false;\n",
       "  }\n",
       "\n",
       "  var NB_LOAD_WARNING = {'data': {'text/html':\n",
       "     \"<div style='background-color: #fdd'>\\n\"+\n",
       "     \"<p>\\n\"+\n",
       "     \"BokehJS does not appear to have successfully loaded. If loading BokehJS from CDN, this \\n\"+\n",
       "     \"may be due to a slow or bad network connection. Possible fixes:\\n\"+\n",
       "     \"</p>\\n\"+\n",
       "     \"<ul>\\n\"+\n",
       "     \"<li>re-rerun `output_notebook()` to attempt to load from CDN again, or</li>\\n\"+\n",
       "     \"<li>use INLINE resources instead, as so:</li>\\n\"+\n",
       "     \"</ul>\\n\"+\n",
       "     \"<code>\\n\"+\n",
       "     \"from bokeh.resources import INLINE\\n\"+\n",
       "     \"output_notebook(resources=INLINE)\\n\"+\n",
       "     \"</code>\\n\"+\n",
       "     \"</div>\"}};\n",
       "\n",
       "  function display_loaded() {\n",
       "    var el = document.getElementById(\"6131c222-02bf-4093-b25d-dd5f8b4cc7a9\");\n",
       "    if (el != null) {\n",
       "      el.textContent = \"BokehJS is loading...\";\n",
       "    }\n",
       "    if (root.Bokeh !== undefined) {\n",
       "      if (el != null) {\n",
       "        el.textContent = \"BokehJS \" + root.Bokeh.version + \" successfully loaded.\";\n",
       "      }\n",
       "    } else if (Date.now() < root._bokeh_timeout) {\n",
       "      setTimeout(display_loaded, 100)\n",
       "    }\n",
       "  }\n",
       "\n",
       "\n",
       "  function run_callbacks() {\n",
       "    try {\n",
       "      root._bokeh_onload_callbacks.forEach(function(callback) { callback() });\n",
       "    }\n",
       "    finally {\n",
       "      delete root._bokeh_onload_callbacks\n",
       "    }\n",
       "    console.info(\"Bokeh: all callbacks have finished\");\n",
       "  }\n",
       "\n",
       "  function load_libs(js_urls, callback) {\n",
       "    root._bokeh_onload_callbacks.push(callback);\n",
       "    if (root._bokeh_is_loading > 0) {\n",
       "      console.log(\"Bokeh: BokehJS is being loaded, scheduling callback at\", now());\n",
       "      return null;\n",
       "    }\n",
       "    if (js_urls == null || js_urls.length === 0) {\n",
       "      run_callbacks();\n",
       "      return null;\n",
       "    }\n",
       "    console.log(\"Bokeh: BokehJS not loaded, scheduling load and callback at\", now());\n",
       "    root._bokeh_is_loading = js_urls.length;\n",
       "    for (var i = 0; i < js_urls.length; i++) {\n",
       "      var url = js_urls[i];\n",
       "      var s = document.createElement('script');\n",
       "      s.src = url;\n",
       "      s.async = false;\n",
       "      s.onreadystatechange = s.onload = function() {\n",
       "        root._bokeh_is_loading--;\n",
       "        if (root._bokeh_is_loading === 0) {\n",
       "          console.log(\"Bokeh: all BokehJS libraries loaded\");\n",
       "          run_callbacks()\n",
       "        }\n",
       "      };\n",
       "      s.onerror = function() {\n",
       "        console.warn(\"failed to load library \" + url);\n",
       "      };\n",
       "      console.log(\"Bokeh: injecting script tag for BokehJS library: \", url);\n",
       "      document.getElementsByTagName(\"head\")[0].appendChild(s);\n",
       "    }\n",
       "  };var element = document.getElementById(\"6131c222-02bf-4093-b25d-dd5f8b4cc7a9\");\n",
       "  if (element == null) {\n",
       "    console.log(\"Bokeh: ERROR: autoload.js configured with elementid '6131c222-02bf-4093-b25d-dd5f8b4cc7a9' but no matching script tag was found. \")\n",
       "    return false;\n",
       "  }\n",
       "\n",
       "  var js_urls = [\"https://cdn.pydata.org/bokeh/release/bokeh-0.12.13.min.js\", \"https://cdn.pydata.org/bokeh/release/bokeh-widgets-0.12.13.min.js\", \"https://cdn.pydata.org/bokeh/release/bokeh-tables-0.12.13.min.js\", \"https://cdn.pydata.org/bokeh/release/bokeh-gl-0.12.13.min.js\"];\n",
       "\n",
       "  var inline_js = [\n",
       "    function(Bokeh) {\n",
       "      Bokeh.set_log_level(\"info\");\n",
       "    },\n",
       "    \n",
       "    function(Bokeh) {\n",
       "      \n",
       "    },\n",
       "    function(Bokeh) {\n",
       "      console.log(\"Bokeh: injecting CSS: https://cdn.pydata.org/bokeh/release/bokeh-0.12.13.min.css\");\n",
       "      Bokeh.embed.inject_css(\"https://cdn.pydata.org/bokeh/release/bokeh-0.12.13.min.css\");\n",
       "      console.log(\"Bokeh: injecting CSS: https://cdn.pydata.org/bokeh/release/bokeh-widgets-0.12.13.min.css\");\n",
       "      Bokeh.embed.inject_css(\"https://cdn.pydata.org/bokeh/release/bokeh-widgets-0.12.13.min.css\");\n",
       "      console.log(\"Bokeh: injecting CSS: https://cdn.pydata.org/bokeh/release/bokeh-tables-0.12.13.min.css\");\n",
       "      Bokeh.embed.inject_css(\"https://cdn.pydata.org/bokeh/release/bokeh-tables-0.12.13.min.css\");\n",
       "    }\n",
       "  ];\n",
       "\n",
       "  function run_inline_js() {\n",
       "    \n",
       "    if ((root.Bokeh !== undefined) || (force === true)) {\n",
       "      for (var i = 0; i < inline_js.length; i++) {\n",
       "        inline_js[i].call(root, root.Bokeh);\n",
       "      }if (force === true) {\n",
       "        display_loaded();\n",
       "      }} else if (Date.now() < root._bokeh_timeout) {\n",
       "      setTimeout(run_inline_js, 100);\n",
       "    } else if (!root._bokeh_failed_load) {\n",
       "      console.log(\"Bokeh: BokehJS failed to load within specified timeout.\");\n",
       "      root._bokeh_failed_load = true;\n",
       "    } else if (force !== true) {\n",
       "      var cell = $(document.getElementById(\"6131c222-02bf-4093-b25d-dd5f8b4cc7a9\")).parents('.cell').data().cell;\n",
       "      cell.output_area.append_execute_result(NB_LOAD_WARNING)\n",
       "    }\n",
       "\n",
       "  }\n",
       "\n",
       "  if (root._bokeh_is_loading === 0) {\n",
       "    console.log(\"Bokeh: BokehJS loaded, going straight to plotting\");\n",
       "    run_inline_js();\n",
       "  } else {\n",
       "    load_libs(js_urls, function() {\n",
       "      console.log(\"Bokeh: BokehJS plotting callback run at\", now());\n",
       "      run_inline_js();\n",
       "    });\n",
       "  }\n",
       "}(window));"
      ],
      "application/vnd.bokehjs_load.v0+json": "\n(function(root) {\n  function now() {\n    return new Date();\n  }\n\n  var force = true;\n\n  if (typeof (root._bokeh_onload_callbacks) === \"undefined\" || force === true) {\n    root._bokeh_onload_callbacks = [];\n    root._bokeh_is_loading = undefined;\n  }\n\n  \n\n  \n  if (typeof (root._bokeh_timeout) === \"undefined\" || force === true) {\n    root._bokeh_timeout = Date.now() + 5000;\n    root._bokeh_failed_load = false;\n  }\n\n  var NB_LOAD_WARNING = {'data': {'text/html':\n     \"<div style='background-color: #fdd'>\\n\"+\n     \"<p>\\n\"+\n     \"BokehJS does not appear to have successfully loaded. If loading BokehJS from CDN, this \\n\"+\n     \"may be due to a slow or bad network connection. Possible fixes:\\n\"+\n     \"</p>\\n\"+\n     \"<ul>\\n\"+\n     \"<li>re-rerun `output_notebook()` to attempt to load from CDN again, or</li>\\n\"+\n     \"<li>use INLINE resources instead, as so:</li>\\n\"+\n     \"</ul>\\n\"+\n     \"<code>\\n\"+\n     \"from bokeh.resources import INLINE\\n\"+\n     \"output_notebook(resources=INLINE)\\n\"+\n     \"</code>\\n\"+\n     \"</div>\"}};\n\n  function display_loaded() {\n    var el = document.getElementById(\"6131c222-02bf-4093-b25d-dd5f8b4cc7a9\");\n    if (el != null) {\n      el.textContent = \"BokehJS is loading...\";\n    }\n    if (root.Bokeh !== undefined) {\n      if (el != null) {\n        el.textContent = \"BokehJS \" + root.Bokeh.version + \" successfully loaded.\";\n      }\n    } else if (Date.now() < root._bokeh_timeout) {\n      setTimeout(display_loaded, 100)\n    }\n  }\n\n\n  function run_callbacks() {\n    try {\n      root._bokeh_onload_callbacks.forEach(function(callback) { callback() });\n    }\n    finally {\n      delete root._bokeh_onload_callbacks\n    }\n    console.info(\"Bokeh: all callbacks have finished\");\n  }\n\n  function load_libs(js_urls, callback) {\n    root._bokeh_onload_callbacks.push(callback);\n    if (root._bokeh_is_loading > 0) {\n      console.log(\"Bokeh: BokehJS is being loaded, scheduling callback at\", now());\n      return null;\n    }\n    if (js_urls == null || js_urls.length === 0) {\n      run_callbacks();\n      return null;\n    }\n    console.log(\"Bokeh: BokehJS not loaded, scheduling load and callback at\", now());\n    root._bokeh_is_loading = js_urls.length;\n    for (var i = 0; i < js_urls.length; i++) {\n      var url = js_urls[i];\n      var s = document.createElement('script');\n      s.src = url;\n      s.async = false;\n      s.onreadystatechange = s.onload = function() {\n        root._bokeh_is_loading--;\n        if (root._bokeh_is_loading === 0) {\n          console.log(\"Bokeh: all BokehJS libraries loaded\");\n          run_callbacks()\n        }\n      };\n      s.onerror = function() {\n        console.warn(\"failed to load library \" + url);\n      };\n      console.log(\"Bokeh: injecting script tag for BokehJS library: \", url);\n      document.getElementsByTagName(\"head\")[0].appendChild(s);\n    }\n  };var element = document.getElementById(\"6131c222-02bf-4093-b25d-dd5f8b4cc7a9\");\n  if (element == null) {\n    console.log(\"Bokeh: ERROR: autoload.js configured with elementid '6131c222-02bf-4093-b25d-dd5f8b4cc7a9' but no matching script tag was found. \")\n    return false;\n  }\n\n  var js_urls = [\"https://cdn.pydata.org/bokeh/release/bokeh-0.12.13.min.js\", \"https://cdn.pydata.org/bokeh/release/bokeh-widgets-0.12.13.min.js\", \"https://cdn.pydata.org/bokeh/release/bokeh-tables-0.12.13.min.js\", \"https://cdn.pydata.org/bokeh/release/bokeh-gl-0.12.13.min.js\"];\n\n  var inline_js = [\n    function(Bokeh) {\n      Bokeh.set_log_level(\"info\");\n    },\n    \n    function(Bokeh) {\n      \n    },\n    function(Bokeh) {\n      console.log(\"Bokeh: injecting CSS: https://cdn.pydata.org/bokeh/release/bokeh-0.12.13.min.css\");\n      Bokeh.embed.inject_css(\"https://cdn.pydata.org/bokeh/release/bokeh-0.12.13.min.css\");\n      console.log(\"Bokeh: injecting CSS: https://cdn.pydata.org/bokeh/release/bokeh-widgets-0.12.13.min.css\");\n      Bokeh.embed.inject_css(\"https://cdn.pydata.org/bokeh/release/bokeh-widgets-0.12.13.min.css\");\n      console.log(\"Bokeh: injecting CSS: https://cdn.pydata.org/bokeh/release/bokeh-tables-0.12.13.min.css\");\n      Bokeh.embed.inject_css(\"https://cdn.pydata.org/bokeh/release/bokeh-tables-0.12.13.min.css\");\n    }\n  ];\n\n  function run_inline_js() {\n    \n    if ((root.Bokeh !== undefined) || (force === true)) {\n      for (var i = 0; i < inline_js.length; i++) {\n        inline_js[i].call(root, root.Bokeh);\n      }if (force === true) {\n        display_loaded();\n      }} else if (Date.now() < root._bokeh_timeout) {\n      setTimeout(run_inline_js, 100);\n    } else if (!root._bokeh_failed_load) {\n      console.log(\"Bokeh: BokehJS failed to load within specified timeout.\");\n      root._bokeh_failed_load = true;\n    } else if (force !== true) {\n      var cell = $(document.getElementById(\"6131c222-02bf-4093-b25d-dd5f8b4cc7a9\")).parents('.cell').data().cell;\n      cell.output_area.append_execute_result(NB_LOAD_WARNING)\n    }\n\n  }\n\n  if (root._bokeh_is_loading === 0) {\n    console.log(\"Bokeh: BokehJS loaded, going straight to plotting\");\n    run_inline_js();\n  } else {\n    load_libs(js_urls, function() {\n      console.log(\"Bokeh: BokehJS plotting callback run at\", now());\n      run_inline_js();\n    });\n  }\n}(window));"
     },
     "metadata": {},
     "output_type": "display_data"
    }
   ],
   "source": [
    "import bokeh.plotting as bp\n",
    "from bokeh import palettes\n",
    "bp.output_notebook()\n"
   ]
  },
  {
   "cell_type": "code",
   "execution_count": 181,
   "metadata": {},
   "outputs": [],
   "source": [
    "p = bp.figure()"
   ]
  },
  {
   "cell_type": "code",
   "execution_count": 182,
   "metadata": {},
   "outputs": [
    {
     "data": {
      "text/html": [
       "<div style=\"display: table;\"><div style=\"display: table-row;\"><div style=\"display: table-cell;\"><b title=\"bokeh.models.renderers.GlyphRenderer\">GlyphRenderer</b>(</div><div style=\"display: table-cell;\">id&nbsp;=&nbsp;'d78b36d4-5019-4460-a55d-c8797ab0b3b0', <span id=\"9d7fb999-280f-4453-92e8-f15cc91565ae\" style=\"cursor: pointer;\">&hellip;)</span></div></div><div class=\"f2e46cf2-93a1-4c06-9641-f3ac494f7c51\" style=\"display: none;\"><div style=\"display: table-cell;\"></div><div style=\"display: table-cell;\">data_source&nbsp;=&nbsp;ColumnDataSource(id='03de0203-d7af-4533-9a06-5b665d99e973', ...),</div></div><div class=\"f2e46cf2-93a1-4c06-9641-f3ac494f7c51\" style=\"display: none;\"><div style=\"display: table-cell;\"></div><div style=\"display: table-cell;\">glyph&nbsp;=&nbsp;Circle(id='5072f207-e666-47f6-a48d-0c2e828b324e', ...),</div></div><div class=\"f2e46cf2-93a1-4c06-9641-f3ac494f7c51\" style=\"display: none;\"><div style=\"display: table-cell;\"></div><div style=\"display: table-cell;\">hover_glyph&nbsp;=&nbsp;None,</div></div><div class=\"f2e46cf2-93a1-4c06-9641-f3ac494f7c51\" style=\"display: none;\"><div style=\"display: table-cell;\"></div><div style=\"display: table-cell;\">js_event_callbacks&nbsp;=&nbsp;{},</div></div><div class=\"f2e46cf2-93a1-4c06-9641-f3ac494f7c51\" style=\"display: none;\"><div style=\"display: table-cell;\"></div><div style=\"display: table-cell;\">js_property_callbacks&nbsp;=&nbsp;{},</div></div><div class=\"f2e46cf2-93a1-4c06-9641-f3ac494f7c51\" style=\"display: none;\"><div style=\"display: table-cell;\"></div><div style=\"display: table-cell;\">level&nbsp;=&nbsp;'glyph',</div></div><div class=\"f2e46cf2-93a1-4c06-9641-f3ac494f7c51\" style=\"display: none;\"><div style=\"display: table-cell;\"></div><div style=\"display: table-cell;\">muted&nbsp;=&nbsp;False,</div></div><div class=\"f2e46cf2-93a1-4c06-9641-f3ac494f7c51\" style=\"display: none;\"><div style=\"display: table-cell;\"></div><div style=\"display: table-cell;\">muted_glyph&nbsp;=&nbsp;None,</div></div><div class=\"f2e46cf2-93a1-4c06-9641-f3ac494f7c51\" style=\"display: none;\"><div style=\"display: table-cell;\"></div><div style=\"display: table-cell;\">name&nbsp;=&nbsp;None,</div></div><div class=\"f2e46cf2-93a1-4c06-9641-f3ac494f7c51\" style=\"display: none;\"><div style=\"display: table-cell;\"></div><div style=\"display: table-cell;\">nonselection_glyph&nbsp;=&nbsp;Circle(id='063c134b-e3f7-4d47-9e57-82b54aa0fc81', ...),</div></div><div class=\"f2e46cf2-93a1-4c06-9641-f3ac494f7c51\" style=\"display: none;\"><div style=\"display: table-cell;\"></div><div style=\"display: table-cell;\">selection_glyph&nbsp;=&nbsp;None,</div></div><div class=\"f2e46cf2-93a1-4c06-9641-f3ac494f7c51\" style=\"display: none;\"><div style=\"display: table-cell;\"></div><div style=\"display: table-cell;\">subscribed_events&nbsp;=&nbsp;[],</div></div><div class=\"f2e46cf2-93a1-4c06-9641-f3ac494f7c51\" style=\"display: none;\"><div style=\"display: table-cell;\"></div><div style=\"display: table-cell;\">tags&nbsp;=&nbsp;[],</div></div><div class=\"f2e46cf2-93a1-4c06-9641-f3ac494f7c51\" style=\"display: none;\"><div style=\"display: table-cell;\"></div><div style=\"display: table-cell;\">view&nbsp;=&nbsp;CDSView(id='62ebede1-a97b-4a68-94a0-ae395892132a', ...),</div></div><div class=\"f2e46cf2-93a1-4c06-9641-f3ac494f7c51\" style=\"display: none;\"><div style=\"display: table-cell;\"></div><div style=\"display: table-cell;\">visible&nbsp;=&nbsp;True,</div></div><div class=\"f2e46cf2-93a1-4c06-9641-f3ac494f7c51\" style=\"display: none;\"><div style=\"display: table-cell;\"></div><div style=\"display: table-cell;\">x_range_name&nbsp;=&nbsp;'default',</div></div><div class=\"f2e46cf2-93a1-4c06-9641-f3ac494f7c51\" style=\"display: none;\"><div style=\"display: table-cell;\"></div><div style=\"display: table-cell;\">y_range_name&nbsp;=&nbsp;'default')</div></div></div>\n",
       "<script>\n",
       "(function() {\n",
       "  var expanded = false;\n",
       "  var ellipsis = document.getElementById(\"9d7fb999-280f-4453-92e8-f15cc91565ae\");\n",
       "  ellipsis.addEventListener(\"click\", function() {\n",
       "    var rows = document.getElementsByClassName(\"f2e46cf2-93a1-4c06-9641-f3ac494f7c51\");\n",
       "    for (var i = 0; i < rows.length; i++) {\n",
       "      var el = rows[i];\n",
       "      el.style.display = expanded ? \"none\" : \"table-row\";\n",
       "    }\n",
       "    ellipsis.innerHTML = expanded ? \"&hellip;)\" : \"&lsaquo;&lsaquo;&lsaquo;\";\n",
       "    expanded = !expanded;\n",
       "  });\n",
       "})();\n",
       "</script>\n"
      ],
      "text/plain": [
       "GlyphRenderer(id='d78b36d4-5019-4460-a55d-c8797ab0b3b0', ...)"
      ]
     },
     "execution_count": 182,
     "metadata": {},
     "output_type": "execute_result"
    }
   ],
   "source": [
    "p.scatter(share_prices.numpy()[:,0] , y.numpy()[:,0])"
   ]
  },
  {
   "cell_type": "code",
   "execution_count": 183,
   "metadata": {},
   "outputs": [
    {
     "data": {
      "text/html": [
       "<div style=\"display: table;\"><div style=\"display: table-row;\"><div style=\"display: table-cell;\"><b title=\"bokeh.models.renderers.GlyphRenderer\">GlyphRenderer</b>(</div><div style=\"display: table-cell;\">id&nbsp;=&nbsp;'0b0d3194-884a-4428-806c-f8540e8b9948', <span id=\"66fb88e4-2aae-4f4c-ad2a-8227ed05065f\" style=\"cursor: pointer;\">&hellip;)</span></div></div><div class=\"c9e6e684-21ce-45df-9c8a-0750cdf6fbda\" style=\"display: none;\"><div style=\"display: table-cell;\"></div><div style=\"display: table-cell;\">data_source&nbsp;=&nbsp;ColumnDataSource(id='3977fdab-ab87-4fa2-8e17-308eccde3d40', ...),</div></div><div class=\"c9e6e684-21ce-45df-9c8a-0750cdf6fbda\" style=\"display: none;\"><div style=\"display: table-cell;\"></div><div style=\"display: table-cell;\">glyph&nbsp;=&nbsp;Circle(id='b90ed360-a214-44a3-99e8-0686a91b4049', ...),</div></div><div class=\"c9e6e684-21ce-45df-9c8a-0750cdf6fbda\" style=\"display: none;\"><div style=\"display: table-cell;\"></div><div style=\"display: table-cell;\">hover_glyph&nbsp;=&nbsp;None,</div></div><div class=\"c9e6e684-21ce-45df-9c8a-0750cdf6fbda\" style=\"display: none;\"><div style=\"display: table-cell;\"></div><div style=\"display: table-cell;\">js_event_callbacks&nbsp;=&nbsp;{},</div></div><div class=\"c9e6e684-21ce-45df-9c8a-0750cdf6fbda\" style=\"display: none;\"><div style=\"display: table-cell;\"></div><div style=\"display: table-cell;\">js_property_callbacks&nbsp;=&nbsp;{},</div></div><div class=\"c9e6e684-21ce-45df-9c8a-0750cdf6fbda\" style=\"display: none;\"><div style=\"display: table-cell;\"></div><div style=\"display: table-cell;\">level&nbsp;=&nbsp;'glyph',</div></div><div class=\"c9e6e684-21ce-45df-9c8a-0750cdf6fbda\" style=\"display: none;\"><div style=\"display: table-cell;\"></div><div style=\"display: table-cell;\">muted&nbsp;=&nbsp;False,</div></div><div class=\"c9e6e684-21ce-45df-9c8a-0750cdf6fbda\" style=\"display: none;\"><div style=\"display: table-cell;\"></div><div style=\"display: table-cell;\">muted_glyph&nbsp;=&nbsp;None,</div></div><div class=\"c9e6e684-21ce-45df-9c8a-0750cdf6fbda\" style=\"display: none;\"><div style=\"display: table-cell;\"></div><div style=\"display: table-cell;\">name&nbsp;=&nbsp;None,</div></div><div class=\"c9e6e684-21ce-45df-9c8a-0750cdf6fbda\" style=\"display: none;\"><div style=\"display: table-cell;\"></div><div style=\"display: table-cell;\">nonselection_glyph&nbsp;=&nbsp;Circle(id='0c5282b7-5dc9-4391-ae77-f1ec92d1b2f2', ...),</div></div><div class=\"c9e6e684-21ce-45df-9c8a-0750cdf6fbda\" style=\"display: none;\"><div style=\"display: table-cell;\"></div><div style=\"display: table-cell;\">selection_glyph&nbsp;=&nbsp;None,</div></div><div class=\"c9e6e684-21ce-45df-9c8a-0750cdf6fbda\" style=\"display: none;\"><div style=\"display: table-cell;\"></div><div style=\"display: table-cell;\">subscribed_events&nbsp;=&nbsp;[],</div></div><div class=\"c9e6e684-21ce-45df-9c8a-0750cdf6fbda\" style=\"display: none;\"><div style=\"display: table-cell;\"></div><div style=\"display: table-cell;\">tags&nbsp;=&nbsp;[],</div></div><div class=\"c9e6e684-21ce-45df-9c8a-0750cdf6fbda\" style=\"display: none;\"><div style=\"display: table-cell;\"></div><div style=\"display: table-cell;\">view&nbsp;=&nbsp;CDSView(id='012172a9-394f-46c4-b496-03ec981fb01e', ...),</div></div><div class=\"c9e6e684-21ce-45df-9c8a-0750cdf6fbda\" style=\"display: none;\"><div style=\"display: table-cell;\"></div><div style=\"display: table-cell;\">visible&nbsp;=&nbsp;True,</div></div><div class=\"c9e6e684-21ce-45df-9c8a-0750cdf6fbda\" style=\"display: none;\"><div style=\"display: table-cell;\"></div><div style=\"display: table-cell;\">x_range_name&nbsp;=&nbsp;'default',</div></div><div class=\"c9e6e684-21ce-45df-9c8a-0750cdf6fbda\" style=\"display: none;\"><div style=\"display: table-cell;\"></div><div style=\"display: table-cell;\">y_range_name&nbsp;=&nbsp;'default')</div></div></div>\n",
       "<script>\n",
       "(function() {\n",
       "  var expanded = false;\n",
       "  var ellipsis = document.getElementById(\"66fb88e4-2aae-4f4c-ad2a-8227ed05065f\");\n",
       "  ellipsis.addEventListener(\"click\", function() {\n",
       "    var rows = document.getElementsByClassName(\"c9e6e684-21ce-45df-9c8a-0750cdf6fbda\");\n",
       "    for (var i = 0; i < rows.length; i++) {\n",
       "      var el = rows[i];\n",
       "      el.style.display = expanded ? \"none\" : \"table-row\";\n",
       "    }\n",
       "    ellipsis.innerHTML = expanded ? \"&hellip;)\" : \"&lsaquo;&lsaquo;&lsaquo;\";\n",
       "    expanded = !expanded;\n",
       "  });\n",
       "})();\n",
       "</script>\n"
      ],
      "text/plain": [
       "GlyphRenderer(id='0b0d3194-884a-4428-806c-f8540e8b9948', ...)"
      ]
     },
     "execution_count": 183,
     "metadata": {},
     "output_type": "execute_result"
    }
   ],
   "source": [
    "p.scatter(share_prices.numpy()[:,0] , y_model.detach().numpy()[:,0] , fill_color = \"red\")"
   ]
  },
  {
   "cell_type": "code",
   "execution_count": 184,
   "metadata": {},
   "outputs": [
    {
     "data": {
      "text/html": [
       "\n",
       "<div class=\"bk-root\">\n",
       "    <div class=\"bk-plotdiv\" id=\"fe1b3a86-cfa6-4f73-9762-f669c10e61ac\"></div>\n",
       "</div>"
      ]
     },
     "metadata": {},
     "output_type": "display_data"
    },
    {
     "data": {
      "application/javascript": [
       "(function(root) {\n",
       "  function embed_document(root) {\n",
       "    \n",
       "  var docs_json = {\"595c3a0a-ccb4-4998-80a2-6e3d144f1640\":{\"roots\":{\"references\":[{\"attributes\":{},\"id\":\"c4c87354-2e5c-464b-b416-e03057837690\",\"type\":\"HelpTool\"},{\"attributes\":{\"formatter\":{\"id\":\"7660a1a6-2f96-4e5c-8e57-c2953252dca8\",\"type\":\"BasicTickFormatter\"},\"plot\":{\"id\":\"6ad857f1-5e84-47cc-b584-75cd3d3e8f5d\",\"subtype\":\"Figure\",\"type\":\"Plot\"},\"ticker\":{\"id\":\"90625d13-ee4f-4f91-ae62-8b254063a768\",\"type\":\"BasicTicker\"}},\"id\":\"e5dfb08c-d121-441e-8d77-29f1308a186b\",\"type\":\"LinearAxis\"},{\"attributes\":{},\"id\":\"dfdc7aa8-d164-4c78-a914-6df5a4ce8292\",\"type\":\"LinearScale\"},{\"attributes\":{\"below\":[{\"id\":\"e5dfb08c-d121-441e-8d77-29f1308a186b\",\"type\":\"LinearAxis\"}],\"left\":[{\"id\":\"f17d11cd-b986-4bc7-819f-b20a892ff841\",\"type\":\"LinearAxis\"}],\"renderers\":[{\"id\":\"e5dfb08c-d121-441e-8d77-29f1308a186b\",\"type\":\"LinearAxis\"},{\"id\":\"2c01c352-6257-4261-be16-c8a7db8dfce4\",\"type\":\"Grid\"},{\"id\":\"f17d11cd-b986-4bc7-819f-b20a892ff841\",\"type\":\"LinearAxis\"},{\"id\":\"d6663fb5-ff38-454b-90e3-6afe2f39c7ec\",\"type\":\"Grid\"},{\"id\":\"66f6c6b7-2cce-4d3f-b029-9694bb210f2b\",\"type\":\"BoxAnnotation\"},{\"id\":\"d78b36d4-5019-4460-a55d-c8797ab0b3b0\",\"type\":\"GlyphRenderer\"},{\"id\":\"0b0d3194-884a-4428-806c-f8540e8b9948\",\"type\":\"GlyphRenderer\"}],\"title\":{\"id\":\"11f22e0f-4aef-4fdc-b6f4-444972747b86\",\"type\":\"Title\"},\"toolbar\":{\"id\":\"18a66389-11ad-4d65-8c96-a81f74d0a550\",\"type\":\"Toolbar\"},\"x_range\":{\"id\":\"a0f25c47-dfb1-4251-b437-5315c8588c82\",\"type\":\"DataRange1d\"},\"x_scale\":{\"id\":\"dfdc7aa8-d164-4c78-a914-6df5a4ce8292\",\"type\":\"LinearScale\"},\"y_range\":{\"id\":\"75c56d87-cc34-4358-a39d-e5379d2e7893\",\"type\":\"DataRange1d\"},\"y_scale\":{\"id\":\"dce284d9-cf00-4cfd-94b5-e0637c959b77\",\"type\":\"LinearScale\"}},\"id\":\"6ad857f1-5e84-47cc-b584-75cd3d3e8f5d\",\"subtype\":\"Figure\",\"type\":\"Plot\"},{\"attributes\":{},\"id\":\"723909d8-79c8-4752-a9fc-462741929a00\",\"type\":\"BasicTicker\"},{\"attributes\":{\"fill_alpha\":{\"value\":0.1},\"fill_color\":{\"value\":\"#1f77b4\"},\"line_alpha\":{\"value\":0.1},\"line_color\":{\"value\":\"#1f77b4\"},\"x\":{\"field\":\"x\"},\"y\":{\"field\":\"y\"}},\"id\":\"0c5282b7-5dc9-4391-ae77-f1ec92d1b2f2\",\"type\":\"Circle\"},{\"attributes\":{\"fill_color\":{\"value\":\"#1f77b4\"},\"line_color\":{\"value\":\"#1f77b4\"},\"x\":{\"field\":\"x\"},\"y\":{\"field\":\"y\"}},\"id\":\"5072f207-e666-47f6-a48d-0c2e828b324e\",\"type\":\"Circle\"},{\"attributes\":{\"bottom_units\":\"screen\",\"fill_alpha\":{\"value\":0.5},\"fill_color\":{\"value\":\"lightgrey\"},\"left_units\":\"screen\",\"level\":\"overlay\",\"line_alpha\":{\"value\":1.0},\"line_color\":{\"value\":\"black\"},\"line_dash\":[4,4],\"line_width\":{\"value\":2},\"plot\":null,\"render_mode\":\"css\",\"right_units\":\"screen\",\"top_units\":\"screen\"},\"id\":\"66f6c6b7-2cce-4d3f-b029-9694bb210f2b\",\"type\":\"BoxAnnotation\"},{\"attributes\":{},\"id\":\"7ee99a7c-5112-4891-aaf8-45aacb2b050e\",\"type\":\"BasicTickFormatter\"},{\"attributes\":{},\"id\":\"8ec493e1-cc78-4d9c-8abe-ffc42f646556\",\"type\":\"SaveTool\"},{\"attributes\":{},\"id\":\"a0638262-8c29-4a7d-8201-e75a233804f5\",\"type\":\"PanTool\"},{\"attributes\":{\"source\":{\"id\":\"3977fdab-ab87-4fa2-8e17-308eccde3d40\",\"type\":\"ColumnDataSource\"}},\"id\":\"012172a9-394f-46c4-b496-03ec981fb01e\",\"type\":\"CDSView\"},{\"attributes\":{\"callback\":null},\"id\":\"75c56d87-cc34-4358-a39d-e5379d2e7893\",\"type\":\"DataRange1d\"},{\"attributes\":{\"active_drag\":\"auto\",\"active_inspect\":\"auto\",\"active_scroll\":\"auto\",\"active_tap\":\"auto\",\"tools\":[{\"id\":\"a0638262-8c29-4a7d-8201-e75a233804f5\",\"type\":\"PanTool\"},{\"id\":\"51ad33b4-fd5b-4535-98e4-3a1d7f86d897\",\"type\":\"WheelZoomTool\"},{\"id\":\"5cfc521c-77ec-4c1f-8c37-153f58b5edf7\",\"type\":\"BoxZoomTool\"},{\"id\":\"8ec493e1-cc78-4d9c-8abe-ffc42f646556\",\"type\":\"SaveTool\"},{\"id\":\"e908c967-a2fe-4e1a-a257-cce73229debe\",\"type\":\"ResetTool\"},{\"id\":\"c4c87354-2e5c-464b-b416-e03057837690\",\"type\":\"HelpTool\"}]},\"id\":\"18a66389-11ad-4d65-8c96-a81f74d0a550\",\"type\":\"Toolbar\"},{\"attributes\":{\"source\":{\"id\":\"03de0203-d7af-4533-9a06-5b665d99e973\",\"type\":\"ColumnDataSource\"}},\"id\":\"62ebede1-a97b-4a68-94a0-ae395892132a\",\"type\":\"CDSView\"},{\"attributes\":{\"data_source\":{\"id\":\"03de0203-d7af-4533-9a06-5b665d99e973\",\"type\":\"ColumnDataSource\"},\"glyph\":{\"id\":\"5072f207-e666-47f6-a48d-0c2e828b324e\",\"type\":\"Circle\"},\"hover_glyph\":null,\"muted_glyph\":null,\"nonselection_glyph\":{\"id\":\"063c134b-e3f7-4d47-9e57-82b54aa0fc81\",\"type\":\"Circle\"},\"selection_glyph\":null,\"view\":{\"id\":\"62ebede1-a97b-4a68-94a0-ae395892132a\",\"type\":\"CDSView\"}},\"id\":\"d78b36d4-5019-4460-a55d-c8797ab0b3b0\",\"type\":\"GlyphRenderer\"},{\"attributes\":{\"plot\":null,\"text\":\"\"},\"id\":\"11f22e0f-4aef-4fdc-b6f4-444972747b86\",\"type\":\"Title\"},{\"attributes\":{},\"id\":\"7660a1a6-2f96-4e5c-8e57-c2953252dca8\",\"type\":\"BasicTickFormatter\"},{\"attributes\":{\"callback\":null,\"column_names\":[\"x\",\"y\"],\"data\":{\"x\":{\"__ndarray__\":\"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\",\"dtype\":\"float32\",\"shape\":[1000]},\"y\":{\"__ndarray__\":\"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\",\"dtype\":\"float32\",\"shape\":[1000]}}},\"id\":\"03de0203-d7af-4533-9a06-5b665d99e973\",\"type\":\"ColumnDataSource\"},{\"attributes\":{\"callback\":null,\"column_names\":[\"x\",\"y\"],\"data\":{\"x\":{\"__ndarray__\":\"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\",\"dtype\":\"float32\",\"shape\":[1000]},\"y\":{\"__ndarray__\":\"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\",\"dtype\":\"float32\",\"shape\":[1000]}}},\"id\":\"3977fdab-ab87-4fa2-8e17-308eccde3d40\",\"type\":\"ColumnDataSource\"},{\"attributes\":{\"callback\":null},\"id\":\"a0f25c47-dfb1-4251-b437-5315c8588c82\",\"type\":\"DataRange1d\"},{\"attributes\":{\"overlay\":{\"id\":\"66f6c6b7-2cce-4d3f-b029-9694bb210f2b\",\"type\":\"BoxAnnotation\"}},\"id\":\"5cfc521c-77ec-4c1f-8c37-153f58b5edf7\",\"type\":\"BoxZoomTool\"},{\"attributes\":{\"fill_alpha\":{\"value\":0.1},\"fill_color\":{\"value\":\"#1f77b4\"},\"line_alpha\":{\"value\":0.1},\"line_color\":{\"value\":\"#1f77b4\"},\"x\":{\"field\":\"x\"},\"y\":{\"field\":\"y\"}},\"id\":\"063c134b-e3f7-4d47-9e57-82b54aa0fc81\",\"type\":\"Circle\"},{\"attributes\":{\"plot\":{\"id\":\"6ad857f1-5e84-47cc-b584-75cd3d3e8f5d\",\"subtype\":\"Figure\",\"type\":\"Plot\"},\"ticker\":{\"id\":\"90625d13-ee4f-4f91-ae62-8b254063a768\",\"type\":\"BasicTicker\"}},\"id\":\"2c01c352-6257-4261-be16-c8a7db8dfce4\",\"type\":\"Grid\"},{\"attributes\":{\"fill_color\":{\"value\":\"red\"},\"line_color\":{\"value\":\"#1f77b4\"},\"x\":{\"field\":\"x\"},\"y\":{\"field\":\"y\"}},\"id\":\"b90ed360-a214-44a3-99e8-0686a91b4049\",\"type\":\"Circle\"},{\"attributes\":{\"formatter\":{\"id\":\"7ee99a7c-5112-4891-aaf8-45aacb2b050e\",\"type\":\"BasicTickFormatter\"},\"plot\":{\"id\":\"6ad857f1-5e84-47cc-b584-75cd3d3e8f5d\",\"subtype\":\"Figure\",\"type\":\"Plot\"},\"ticker\":{\"id\":\"723909d8-79c8-4752-a9fc-462741929a00\",\"type\":\"BasicTicker\"}},\"id\":\"f17d11cd-b986-4bc7-819f-b20a892ff841\",\"type\":\"LinearAxis\"},{\"attributes\":{\"data_source\":{\"id\":\"3977fdab-ab87-4fa2-8e17-308eccde3d40\",\"type\":\"ColumnDataSource\"},\"glyph\":{\"id\":\"b90ed360-a214-44a3-99e8-0686a91b4049\",\"type\":\"Circle\"},\"hover_glyph\":null,\"muted_glyph\":null,\"nonselection_glyph\":{\"id\":\"0c5282b7-5dc9-4391-ae77-f1ec92d1b2f2\",\"type\":\"Circle\"},\"selection_glyph\":null,\"view\":{\"id\":\"012172a9-394f-46c4-b496-03ec981fb01e\",\"type\":\"CDSView\"}},\"id\":\"0b0d3194-884a-4428-806c-f8540e8b9948\",\"type\":\"GlyphRenderer\"},{\"attributes\":{\"dimension\":1,\"plot\":{\"id\":\"6ad857f1-5e84-47cc-b584-75cd3d3e8f5d\",\"subtype\":\"Figure\",\"type\":\"Plot\"},\"ticker\":{\"id\":\"723909d8-79c8-4752-a9fc-462741929a00\",\"type\":\"BasicTicker\"}},\"id\":\"d6663fb5-ff38-454b-90e3-6afe2f39c7ec\",\"type\":\"Grid\"},{\"attributes\":{},\"id\":\"dce284d9-cf00-4cfd-94b5-e0637c959b77\",\"type\":\"LinearScale\"},{\"attributes\":{},\"id\":\"90625d13-ee4f-4f91-ae62-8b254063a768\",\"type\":\"BasicTicker\"},{\"attributes\":{},\"id\":\"e908c967-a2fe-4e1a-a257-cce73229debe\",\"type\":\"ResetTool\"},{\"attributes\":{},\"id\":\"51ad33b4-fd5b-4535-98e4-3a1d7f86d897\",\"type\":\"WheelZoomTool\"}],\"root_ids\":[\"6ad857f1-5e84-47cc-b584-75cd3d3e8f5d\"]},\"title\":\"Bokeh Application\",\"version\":\"0.12.13\"}};\n",
       "  var render_items = [{\"docid\":\"595c3a0a-ccb4-4998-80a2-6e3d144f1640\",\"elementid\":\"fe1b3a86-cfa6-4f73-9762-f669c10e61ac\",\"modelid\":\"6ad857f1-5e84-47cc-b584-75cd3d3e8f5d\"}];\n",
       "  root.Bokeh.embed.embed_items_notebook(docs_json, render_items);\n",
       "\n",
       "  }\n",
       "  if (root.Bokeh !== undefined) {\n",
       "    embed_document(root);\n",
       "  } else {\n",
       "    var attempts = 0;\n",
       "    var timer = setInterval(function(root) {\n",
       "      if (root.Bokeh !== undefined) {\n",
       "        embed_document(root);\n",
       "        clearInterval(timer);\n",
       "      }\n",
       "      attempts++;\n",
       "      if (attempts > 100) {\n",
       "        console.log(\"Bokeh: ERROR: Unable to run BokehJS code because BokehJS library is missing\")\n",
       "        clearInterval(timer);\n",
       "      }\n",
       "    }, 10, root)\n",
       "  }\n",
       "})(window);"
      ],
      "application/vnd.bokehjs_exec.v0+json": ""
     },
     "metadata": {
      "application/vnd.bokehjs_exec.v0+json": {
       "id": "6ad857f1-5e84-47cc-b584-75cd3d3e8f5d"
      }
     },
     "output_type": "display_data"
    }
   ],
   "source": [
    "bp.show(p)"
   ]
  },
  {
   "cell_type": "code",
   "execution_count": 186,
   "metadata": {},
   "outputs": [
    {
     "data": {
      "text/html": [
       "\n",
       "<div class=\"bk-root\">\n",
       "    <div class=\"bk-plotdiv\" id=\"e3bcb8af-128e-41be-8131-a143b86b3086\"></div>\n",
       "</div>"
      ]
     },
     "metadata": {},
     "output_type": "display_data"
    },
    {
     "data": {
      "application/javascript": [
       "(function(root) {\n",
       "  function embed_document(root) {\n",
       "    \n",
       "  var docs_json = {\"3a683d19-c2b8-4551-836f-1f25c3d328e4\":{\"roots\":{\"references\":[{\"attributes\":{\"plot\":{\"id\":\"e6f9e1e5-fa57-4751-bcdb-ade0b181530d\",\"subtype\":\"Figure\",\"type\":\"Plot\"},\"ticker\":{\"id\":\"d9226391-f710-4033-a92c-2c7aa01baca2\",\"type\":\"BasicTicker\"}},\"id\":\"0309b228-e194-4727-94e4-2c5bc043a03f\",\"type\":\"Grid\"},{\"attributes\":{\"bottom_units\":\"screen\",\"fill_alpha\":{\"value\":0.5},\"fill_color\":{\"value\":\"lightgrey\"},\"left_units\":\"screen\",\"level\":\"overlay\",\"line_alpha\":{\"value\":1.0},\"line_color\":{\"value\":\"black\"},\"line_dash\":[4,4],\"line_width\":{\"value\":2},\"plot\":null,\"render_mode\":\"css\",\"right_units\":\"screen\",\"top_units\":\"screen\"},\"id\":\"0ed6fb01-d9d0-474a-983f-011bdc79fb6c\",\"type\":\"BoxAnnotation\"},{\"attributes\":{\"dimension\":1,\"plot\":{\"id\":\"e6f9e1e5-fa57-4751-bcdb-ade0b181530d\",\"subtype\":\"Figure\",\"type\":\"Plot\"},\"ticker\":{\"id\":\"b5772126-efa0-485b-919d-acd2c393f29c\",\"type\":\"BasicTicker\"}},\"id\":\"f0245249-0ba0-4bf6-bb37-3449247387dd\",\"type\":\"Grid\"},{\"attributes\":{},\"id\":\"9938a02a-1deb-4304-b17b-b8c5456ec4ce\",\"type\":\"ResetTool\"},{\"attributes\":{},\"id\":\"e34568eb-ed66-470b-9ed7-bb89c6335ab6\",\"type\":\"LinearScale\"},{\"attributes\":{},\"id\":\"d9226391-f710-4033-a92c-2c7aa01baca2\",\"type\":\"BasicTicker\"},{\"attributes\":{\"fill_alpha\":{\"value\":0.1},\"fill_color\":{\"value\":\"#1f77b4\"},\"line_alpha\":{\"value\":0.1},\"line_color\":{\"value\":\"#1f77b4\"},\"x\":{\"field\":\"x\"},\"y\":{\"field\":\"y\"}},\"id\":\"657c7498-dd69-41b9-9601-0342a75fea11\",\"type\":\"Circle\"},{\"attributes\":{\"formatter\":{\"id\":\"d9a8fe7b-c57b-4ce1-aded-e1e129cd8002\",\"type\":\"BasicTickFormatter\"},\"plot\":{\"id\":\"e6f9e1e5-fa57-4751-bcdb-ade0b181530d\",\"subtype\":\"Figure\",\"type\":\"Plot\"},\"ticker\":{\"id\":\"d9226391-f710-4033-a92c-2c7aa01baca2\",\"type\":\"BasicTicker\"}},\"id\":\"317129be-7719-4942-8bff-1d3c4122ca15\",\"type\":\"LinearAxis\"},{\"attributes\":{},\"id\":\"c7144293-885a-4772-88a9-91df6a37c4ab\",\"type\":\"SaveTool\"},{\"attributes\":{},\"id\":\"ae7df618-aafd-4280-a8c5-4922685c200c\",\"type\":\"BasicTickFormatter\"},{\"attributes\":{\"data_source\":{\"id\":\"761b1304-4fa8-41ca-8fb5-e7cd509e22a3\",\"type\":\"ColumnDataSource\"},\"glyph\":{\"id\":\"c57daafa-a2e1-470f-9963-dc7f95f04a51\",\"type\":\"Circle\"},\"hover_glyph\":null,\"muted_glyph\":null,\"nonselection_glyph\":{\"id\":\"657c7498-dd69-41b9-9601-0342a75fea11\",\"type\":\"Circle\"},\"selection_glyph\":null,\"view\":{\"id\":\"4acb9ed6-ba54-4a73-bd77-96de95ae02d4\",\"type\":\"CDSView\"}},\"id\":\"7a657977-3cfa-4672-9204-9e4dce041452\",\"type\":\"GlyphRenderer\"},{\"attributes\":{\"below\":[{\"id\":\"317129be-7719-4942-8bff-1d3c4122ca15\",\"type\":\"LinearAxis\"}],\"left\":[{\"id\":\"ee6a0bfa-501e-48cb-98fe-fdb33cd3d72a\",\"type\":\"LinearAxis\"}],\"renderers\":[{\"id\":\"317129be-7719-4942-8bff-1d3c4122ca15\",\"type\":\"LinearAxis\"},{\"id\":\"0309b228-e194-4727-94e4-2c5bc043a03f\",\"type\":\"Grid\"},{\"id\":\"ee6a0bfa-501e-48cb-98fe-fdb33cd3d72a\",\"type\":\"LinearAxis\"},{\"id\":\"f0245249-0ba0-4bf6-bb37-3449247387dd\",\"type\":\"Grid\"},{\"id\":\"0ed6fb01-d9d0-474a-983f-011bdc79fb6c\",\"type\":\"BoxAnnotation\"},{\"id\":\"7a657977-3cfa-4672-9204-9e4dce041452\",\"type\":\"GlyphRenderer\"}],\"title\":{\"id\":\"b162a6e0-5758-4526-9462-8b3c3a5f0b90\",\"type\":\"Title\"},\"toolbar\":{\"id\":\"c287614b-b16f-4609-b323-4329d38fbbb8\",\"type\":\"Toolbar\"},\"x_range\":{\"id\":\"2d34c133-5c80-49db-bd45-4e4a9bd60013\",\"type\":\"DataRange1d\"},\"x_scale\":{\"id\":\"e34568eb-ed66-470b-9ed7-bb89c6335ab6\",\"type\":\"LinearScale\"},\"y_range\":{\"id\":\"46c62f60-c7c5-447d-bc30-131729a283c8\",\"type\":\"DataRange1d\"},\"y_scale\":{\"id\":\"8a810f50-88bb-4492-827d-b0e060cd3c74\",\"type\":\"LinearScale\"}},\"id\":\"e6f9e1e5-fa57-4751-bcdb-ade0b181530d\",\"subtype\":\"Figure\",\"type\":\"Plot\"},{\"attributes\":{},\"id\":\"50caa904-4da5-4c2f-adec-af304d0ae673\",\"type\":\"PanTool\"},{\"attributes\":{\"callback\":null},\"id\":\"46c62f60-c7c5-447d-bc30-131729a283c8\",\"type\":\"DataRange1d\"},{\"attributes\":{\"callback\":null,\"column_names\":[\"x\",\"y\"],\"data\":{\"x\":{\"__ndarray__\":\"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\",\"dtype\":\"float32\",\"shape\":[1000]},\"y\":{\"__ndarray__\":\"UXBgQuoTWD60f6lCoF4XPAZZfr7aEJ9CORoTQmISpkHqNkk+If8IQ0YZKb88fQJDgrA9vm4oqUE864ZCP9yVQhyUt0KcoolCZpEEQyp0TT4ibsFBRqxTQTdbl0AIGRxDG0zEvjt2iEHAqpBBgHfjQrg0kkGtSc8/9R+3Pt3IjD+gLl88Wgh6P/e2AUC+KvVCZCmgQec07kIYDd5CoqEBQ9o+10I+HyNDoO+5QppUt0Is18+9nJ7DQgujgr6tD41CE5OWvgTqEENHkZZBb4UqQjmFGULkENRCv78EQIZlGkOMD+lB7wi6QGBUXkF6GWc/RmkNQeADH0MfnLdAg6D+QDe0x0AFzrk/rNWlvcN2BEIh/7pCDVbOPzfsCED3hgBDX/TNQjFkE0KGQiVDNiGqQqpEYj/y/AZDQKkdQyaVGEKIOh9DEgp9QirwjUIXcJ1C8A0aQ8M9jkDiAutBVqsdvjcltEBzgKy/CMKoQuRx8EFGqjy+7MjTQVL8lEIgHNdCp+awQLYaHUMajTo/tNVLQRNssL/IVzxBkQmBQoAuBUOzbK6/ZnPtQofF3kB7vtZCiymav6Pel0J13xlD9dYBQzMFI0BHDxxCuo0uQfIK9EF/+6NB4/8bQ5IaCkMs74RCdROPQUNKYULUysg9zS2BPyblSL/iuWRBwmWDQvJa+0JNpt4/LIH1vRJ+DEN8Ox5D1ltovrB4A0EhESbAKBN8PVPQkL4ID8xCi2eovhfOGEIbzwND+sMcPy2j0z+oF1Q9aXvlQtYGar71YJo/9UKIPgCMzkJNq5g/mq6eQgxDskKi3QJDksWKQbetgEA93CZCS8uDvkY/Br8qxBc+JIzvQfiLVr03thdAOCS5QocWAUDIV2hB64MhQOlPkEK86T9B3uUoQdMO07/SrQG+wMcNQ8oGRj+0ZQlC46b9QrowCr/unQ9DMg4JQ4vQFUMuNa1CwLr6uycLvEBIZPRCpPTzQpm7W0IeLphCM1q7QqRTA0MzAIO+LByCQpBJikJQl01B/ZCsQcKPpUIuHpNCU6PcQKNNjr7qt3Q+9izYQmv9REIs9cK9NfHkPwuPpUGdNY5CHgRYQrZDC77RGEDAnLgHQTk5EENGVke/Fh0KQ36dwUG0QKq9diGMQtmpm0JsMKC9Z14SQ2x++r3PmmhA7WLnQjOogL9GdqNBdEbFQus3DkCKEkFC/8R0QrjE6EIyNKhCyBvpQr21wz9C7SNDND2sQpynRULr9x5AtwfUQDpUhkKe1RZB2OgpQVpq/0LPGd1C8//hvzghx0LKxnFCWxOKQgZqBb4I9aVCfgTIQrXFsT4ex49CaqE5QszkwUEX3FxCuWxoQoNT2ULlVL8+iggwP7ZY9kIKcBg/eOKCQQTUU0HPWj1AyyLOvscuLUCDeIq+ZYewQqBbKkGHUSdANfHGQjbGx0EatcpC2jQWP9U4REKremNCev8pQ+GNGUMws8JB5iqbQgz+vUKCjqdBC5TFvpDFfUIIWsZCrzr+Qi3GbkIUZAFD/KXyQvi+okLSZh9BAn8bQ1vJ00D7PaG/PuP9QYH+F0K3CI1BT2+lQHeSrkCJriJCbDcVQ60V5kIInZdCs34lQ3aqMb7oABRDZl5Bv8sGqb4CXxA/3TbOP5OjKENtots/Re8JQ0pIEkOfnkhC9hBbQkRGdEEkWfNBucENQyCfEUPlDnZCE/FeQjP9GULY0HS9GLsaQWshGEMUcIZBmD0lQV0T4T995KA/04/Pv4IazELk3flCT0woQ9HaXEKs48q9exOivxorAUOKiwE/qzYRQ4a5CEOTI7q/5f3dPvY1Pb9e812+GAoAQ0PLKULoHk1BdU7YPipFCz8f1iZAt6YQQx7Y9ELcvKlBovrsQgyBB0Mw/wZD+ihCP508B0NQzeU8XItPQep9mEEl+CZDRW9aQryT60IqSV0+srybQojFc0HfeCpCUAvIPNrdJEIApfdCLReNQqjdCT3Gdga/Hf3pQjeELEAfCwZARsQQQwDV6zr8u55BCMjCQsN0y0LUUE5CoLVPPO7JBL7f9MpARpEUQ5972UIqQqVCUwCwvytW0UIm6DC/jnknQ7UMFUOH96BCTXDfP/YaDkPihvdB1GeIPTS3sEIQ0BtDkO8hPVAamUJNrr9CWnkXP9DtYkKGewtDjITWQj0lyD/AR7RCO60OQ45bC0Ksn6+95rsQv3ReSkFqnFU+GLy0QroTCkG1YRNDWR8JQ2r7Ej8MUQxDAP2pQRCelD3s+uJCvJueQnukIEPQTMJCUvD1QtS0FUNKLARCc/+AvpEEGEMwAMZCcC69PJ53BkPzA46+S+SNQL3l3ULKo1NBpiqtQTgQs0IbA7dCsvmrQXMeuL+4LS1BVNGWPZxwF0MqFyU+c0+nQtgeFENkxxFDDI8hQ6JTXUI8e4pCFCmYQYJStkJWIGC+C0nDvqqKKz4Uqe093hMXQo3L+D9qeEU/+5XhQA2Sw0IM0+NBkySFvrqnCD/K1VhBfHuxvRbNAr4DHRJDzTOgP2M0xr+VHrA+oqOiQiGBbUJ2WhVDACyLPGpLYj6gDypDWEtAvYQcwEEd+wVDy6WUvh4ky0HyBRNDEx6YvhuJmL41GTJC0pG7QeaoNb8ZTHdCl4zmQL/5RkDocAZDdrAkQ2WfiT63ed5AF/YaQFSEuj0e/9tB+WQeQ+1wMkL1ydI+vq4jQ1gUd0La1iU/NipAv+3bhELtvWZCCu4aPqAqlEHjRty/jOgYQzn2DkLqank/k4uVQo1ssD90tBlD1WD6QqcWEUNn0FdAq2mYQUKRB0MqGh4/W1z8vm62iUJmrv1BKpaCQWLjPUEO7A5D1VuiP+ssYkKwd648vqLfQV7xqkKYcihBn5FIQgbQN7+eVedBXFrKvYTBQkHnfvxCxq9lQphOyUIZ6gdCKnweQ4EnHkOCjY9Cc8EWQ7Z3br4N/xtCIsDQQhAsl0ImySq+F1o3QGrLBz4v641A0HHuQl1OR0IFWME/RJ65QrD4rTzy/e9Br7goQrWDjj6uaNdCatceQ1zH3EKhfwdCloakQcnnVEKvi3NAkd4fQxjj5kI2DXO+mHUYQ9ZGuEIKIkBBW7e6v70+cELhQxLAfjj+Qg3jIUParDQ/5tEZvzQoDUIDmxZDkbOVQraHIUOEafK9htjZQtTCxz2ra6tCS/+Dvx0plEJ38/1CXZvcP9jkD0L8BEBCCrquQer3JUOWOwe+ofpyQv9SMUAEJ91B8SIPQpvLkL6CphhD3q7fQbh4PkGVuqVCrj94QTa5Yb5tQhdCdSDUPtRe1UKgSsJBisZOP6XCr0LSSqFCiug3PjRdj0JX9T9AnY/FP3Wylj7XryZC0MseQdbVBL8I0YFBsxGfQH6SC0N5ELBCxnk+vxZF4UHUvO89lIL5Qml3rUJnn4hA9uZtvk770EJXT+tAK3LbviqAX0LLCUVCbUkgQ25sSUILR4K/yV+WQSgoCkPejHy+HmsKQ4AHIkIRhI1CE1GuvxR7vj0V4q0+VyZxQp2s+UIWsjS+sEngvNBZC0HcNsVCVWPXPlCWEUMITNRC0we1vu2u/D8L7L++JvNSvoRIIUIDyvW/lkg3vpSeQELDEWtCUPPoPO25+T+Kx2Y/lJDcPXasEL6KhQpD4RUWwFcDa0JK80g+uAWuQQaIw0FmNhNDZb3HPvjm2EI1Iqs/el7oQRq8x0KlA7o+ZafHPq7lXL5sntC9Gv04P6DJdzxMdplCmnbgQQamL7+A5S67wErMQo82YEKKERRDemjNQTZVFkPeKgtDsHTOvMycA0OCAyVDVXqqPtfxGEOU5BpCxHQgQUqf5UIawSC+5wwVQ27Yp0I0n2tCQwh4QrqmQz9AXVJCu6ODvuFVEkL4PUVCQYiBQgePW0Dwq6xBmm2cQYtWB0PoP4NBKd0PwHYM00Jkw/RCbHn9vQC+uDzfV1hAIBWcQr9wZEBbygNDg5acQFjLc720pPpBkEWEQmAXxkKVKYY/+tVIPwNrIkCRTCjAN6H7QrE+/UIExNpCCPVFQcxfIUKOjidDOvQVQwLYAUI9Vok/gLkCQw5PzEE+UclBJowRQ4qUL0GoihM9eVZXwOqwCD/28cRB+KiHQY0mmELK0mw+kd0nwIfzGEOsX/ZCzZQdQ/BgaEJcLCVBLbr8Qkw4yEK6vlk/1AwXQUmXScAL0MJAcuGdQfOQgkAlBok/Nnghv+JNBUNzRrlCDvYWQgg6l0F2whm+Q/Opvq8Wz0CnF59AbEizQgXhjz8yNxdDqjxKPmpQHD6K3vJBljJ2Qv9UpkBlYAZCF1srQMF9X0KJdC5ChJ0eQ8tcrkL6oQ4/MfkQQ9YXGUFGfkO+giY+QkbkxkL1H35COVq8QiiuM0HRCgxCBDp3QvOvmUBOKOJCL5oOQnoS0UIGygi/bQYhQ85470EACAZDW7mDvmLwCUEqSV4+qUvEQupFHj8e0AJD1u2UQZ5zDEE0nRJDSwOWvghNSUGZjIlChp4rv2yKk711+YQ+g5WqQOjQ00LkkyJD+UGGQu+4xkI3EspAVNv4PUzZ1EJRMQLA2PD7QmBRP7ysm9tCnxxoQDYwV76IC/BCGrp+P+DKm0GKLB4/5tIuQilaLULcPaNCfNmpQRUX0j4dPp1C95X9QFj1EUEzOQpDliwAvqbBML8s/DlCMsSpQmpCsEEqn9JBBc6gPi9YjECmVSVC2IKTQjZ0R0JqcWJCFSDsQhghRr0VZJlCtk8SQ2YZs0G02DVBNPiJQksE5L5kCbJB1HQzQrr+5kI45wVD1gvPQlJnA0N+bKVCIoH3Qmufn78sL8i9DP6PQi1z0D9IYU+9qpYoPtAU7EKNMzpCMUTXQlOOKEPCJB0/9WYpQ0MjGUCH3r5A/cU4Qlc3V0L7uJNCc/WVvxqfpEGU4aA9REceQ3lkP8CHPw9AoAHlQsz4JkLUuPc9k0AFQ++vYkAKWGc+lIaqQUqqaj56+g0/WXY3QqZkk0Ie98BCVhVIvnhCakI+WbVCeGcHQ1ERgkAi4oxCEBuOQqutQULHBblA1Bb5PTbdbUKxHINCApJJQRsV80KX/dtAiTQLQ4z9zUKBtQBD3FjPQljsWL2rLOS+ckAUQ9ojqUL++AhDO1udvkSjwEJiSTVCixL6QhQtaULn7ElAo69lQlwDoEK1qOM+iN8kQV5uE0M2rXZBByX1QHPX2b8Gh/JCIhEUQz66/0HRt8JCQzjLQpCAHEPqWQZC/F3kQeliyELPKadA/KQEQ2z6tb3+6QhBCPj3QrtRmL7kMw1D/wzEQOASskJATVJBIfwCwPXKoEGKPV8/HivWQqzp1z3q24ZBSX5ZQqqsJT4Ow3W++N0CQQ==\",\"dtype\":\"float32\",\"shape\":[1000]}}},\"id\":\"761b1304-4fa8-41ca-8fb5-e7cd509e22a3\",\"type\":\"ColumnDataSource\"},{\"attributes\":{\"overlay\":{\"id\":\"0ed6fb01-d9d0-474a-983f-011bdc79fb6c\",\"type\":\"BoxAnnotation\"}},\"id\":\"e4f14db1-420a-40e5-a98c-f209c9031be9\",\"type\":\"BoxZoomTool\"},{\"attributes\":{},\"id\":\"b5772126-efa0-485b-919d-acd2c393f29c\",\"type\":\"BasicTicker\"},{\"attributes\":{},\"id\":\"d9a8fe7b-c57b-4ce1-aded-e1e129cd8002\",\"type\":\"BasicTickFormatter\"},{\"attributes\":{\"formatter\":{\"id\":\"ae7df618-aafd-4280-a8c5-4922685c200c\",\"type\":\"BasicTickFormatter\"},\"plot\":{\"id\":\"e6f9e1e5-fa57-4751-bcdb-ade0b181530d\",\"subtype\":\"Figure\",\"type\":\"Plot\"},\"ticker\":{\"id\":\"b5772126-efa0-485b-919d-acd2c393f29c\",\"type\":\"BasicTicker\"}},\"id\":\"ee6a0bfa-501e-48cb-98fe-fdb33cd3d72a\",\"type\":\"LinearAxis\"},{\"attributes\":{\"fill_color\":{\"value\":\"#1f77b4\"},\"line_color\":{\"value\":\"#1f77b4\"},\"x\":{\"field\":\"x\"},\"y\":{\"field\":\"y\"}},\"id\":\"c57daafa-a2e1-470f-9963-dc7f95f04a51\",\"type\":\"Circle\"},{\"attributes\":{\"plot\":null,\"text\":\"\"},\"id\":\"b162a6e0-5758-4526-9462-8b3c3a5f0b90\",\"type\":\"Title\"},{\"attributes\":{\"source\":{\"id\":\"761b1304-4fa8-41ca-8fb5-e7cd509e22a3\",\"type\":\"ColumnDataSource\"}},\"id\":\"4acb9ed6-ba54-4a73-bd77-96de95ae02d4\",\"type\":\"CDSView\"},{\"attributes\":{\"callback\":null},\"id\":\"2d34c133-5c80-49db-bd45-4e4a9bd60013\",\"type\":\"DataRange1d\"},{\"attributes\":{},\"id\":\"1c684196-c0c0-4efc-a64e-f1eaa27773a8\",\"type\":\"WheelZoomTool\"},{\"attributes\":{\"active_drag\":\"auto\",\"active_inspect\":\"auto\",\"active_scroll\":\"auto\",\"active_tap\":\"auto\",\"tools\":[{\"id\":\"50caa904-4da5-4c2f-adec-af304d0ae673\",\"type\":\"PanTool\"},{\"id\":\"1c684196-c0c0-4efc-a64e-f1eaa27773a8\",\"type\":\"WheelZoomTool\"},{\"id\":\"e4f14db1-420a-40e5-a98c-f209c9031be9\",\"type\":\"BoxZoomTool\"},{\"id\":\"c7144293-885a-4772-88a9-91df6a37c4ab\",\"type\":\"SaveTool\"},{\"id\":\"9938a02a-1deb-4304-b17b-b8c5456ec4ce\",\"type\":\"ResetTool\"},{\"id\":\"fac8efa4-d3a5-446a-a839-cba4f202bf9e\",\"type\":\"HelpTool\"}]},\"id\":\"c287614b-b16f-4609-b323-4329d38fbbb8\",\"type\":\"Toolbar\"},{\"attributes\":{},\"id\":\"8a810f50-88bb-4492-827d-b0e060cd3c74\",\"type\":\"LinearScale\"},{\"attributes\":{},\"id\":\"fac8efa4-d3a5-446a-a839-cba4f202bf9e\",\"type\":\"HelpTool\"}],\"root_ids\":[\"e6f9e1e5-fa57-4751-bcdb-ade0b181530d\"]},\"title\":\"Bokeh Application\",\"version\":\"0.12.13\"}};\n",
       "  var render_items = [{\"docid\":\"3a683d19-c2b8-4551-836f-1f25c3d328e4\",\"elementid\":\"e3bcb8af-128e-41be-8131-a143b86b3086\",\"modelid\":\"e6f9e1e5-fa57-4751-bcdb-ade0b181530d\"}];\n",
       "  root.Bokeh.embed.embed_items_notebook(docs_json, render_items);\n",
       "\n",
       "  }\n",
       "  if (root.Bokeh !== undefined) {\n",
       "    embed_document(root);\n",
       "  } else {\n",
       "    var attempts = 0;\n",
       "    var timer = setInterval(function(root) {\n",
       "      if (root.Bokeh !== undefined) {\n",
       "        embed_document(root);\n",
       "        clearInterval(timer);\n",
       "      }\n",
       "      attempts++;\n",
       "      if (attempts > 100) {\n",
       "        console.log(\"Bokeh: ERROR: Unable to run BokehJS code because BokehJS library is missing\")\n",
       "        clearInterval(timer);\n",
       "      }\n",
       "    }, 10, root)\n",
       "  }\n",
       "})(window);"
      ],
      "application/vnd.bokehjs_exec.v0+json": ""
     },
     "metadata": {
      "application/vnd.bokehjs_exec.v0+json": {
       "id": "e6f9e1e5-fa57-4751-bcdb-ade0b181530d"
      }
     },
     "output_type": "display_data"
    }
   ],
   "source": [
    "p = bp.figure()\n",
    "p.scatter(y.numpy()[:,0] , y_model.detach().numpy()[:,0])\n",
    "bp.show(p)"
   ]
  },
  {
   "cell_type": "markdown",
   "metadata": {},
   "source": [
    "## check results with matplotlib"
   ]
  },
  {
   "cell_type": "code",
   "execution_count": 45,
   "metadata": {},
   "outputs": [
    {
     "data": {
      "text/plain": [
       "<Figure size 432x288 with 0 Axes>"
      ]
     },
     "metadata": {},
     "output_type": "display_data"
    }
   ],
   "source": [
    "fig = plt.figure()"
   ]
  },
  {
   "cell_type": "code",
   "execution_count": 46,
   "metadata": {},
   "outputs": [],
   "source": [
    "ax1 = fig.add_subplot(111)"
   ]
  },
  {
   "cell_type": "code",
   "execution_count": 47,
   "metadata": {},
   "outputs": [
    {
     "data": {
      "text/plain": [
       "<matplotlib.collections.PathCollection at 0x7f57483bb4a8>"
      ]
     },
     "execution_count": 47,
     "metadata": {},
     "output_type": "execute_result"
    }
   ],
   "source": [
    "ax1.scatter(y.numpy()[:,0] , y_model.detach().numpy()[:,0] , color = \"red\")"
   ]
  },
  {
   "cell_type": "code",
   "execution_count": 48,
   "metadata": {},
   "outputs": [
    {
     "data": {
      "image/png": "[encoded data removed]",
      "text/plain": [
       "<Figure size 432x288 with 1 Axes>"
      ]
     },
     "execution_count": 48,
     "metadata": {},
     "output_type": "execute_result"
    }
   ],
   "source": [
    "fig"
   ]
  },
  {
   "cell_type": "markdown",
   "metadata": {},
   "source": [
    "## plot with plotnine\n",
    "\n",
    "https://www.kaggle.com/princeashburton/an-intro-to-plotnine"
   ]
  },
  {
   "cell_type": "code",
   "execution_count": 54,
   "metadata": {},
   "outputs": [],
   "source": [
    "import pandas as pd"
   ]
  },
  {
   "cell_type": "code",
   "execution_count": 55,
   "metadata": {},
   "outputs": [
    {
     "ename": "ImportError",
     "evalue": "No module named 'plotnine'",
     "output_type": "error",
     "traceback": [
      "\u001b[0;31m---------------------------------------------------------------------------\u001b[0m",
      "\u001b[0;31mImportError\u001b[0m                               Traceback (most recent call last)",
      "\u001b[0;32m<ipython-input-55-e36b44751b17>\u001b[0m in \u001b[0;36m<module>\u001b[0;34m()\u001b[0m\n\u001b[0;32m----> 1\u001b[0;31m \u001b[0;32mfrom\u001b[0m \u001b[0mplotnine\u001b[0m \u001b[0;32mimport\u001b[0m \u001b[0;34m*\u001b[0m\u001b[0;34m\u001b[0m\u001b[0m\n\u001b[0m",
      "\u001b[0;31mImportError\u001b[0m: No module named 'plotnine'"
     ]
    }
   ],
   "source": [
    "from plotnine import *"
   ]
  },
  {
   "cell_type": "code",
   "execution_count": null,
   "metadata": {},
   "outputs": [],
   "source": []
  }
 ],
 "metadata": {
  "kernelspec": {
   "display_name": "Python [conda env:base2]",
   "language": "python",
   "name": "conda-env-base2-py"
  },
  "language_info": {
   "codemirror_mode": {
    "name": "ipython",
    "version": 3
   },
   "file_extension": ".py",
   "mimetype": "text/x-python",
   "name": "python",
   "nbconvert_exporter": "python",
   "pygments_lexer": "ipython3",
   "version": "3.5.4"
  },
  "toc": {
   "colors": {
    "hover_highlight": "#DAA520",
    "navigate_num": "#000000",
    "navigate_text": "#333333",
    "running_highlight": "#FF0000",
    "selected_highlight": "#FFD700",
    "sidebar_border": "#EEEEEE",
    "wrapper_background": "#FFFFFF"
   },
   "moveMenuLeft": true,
   "nav_menu": {
    "height": "194px",
    "width": "252px"
   },
   "navigate_menu": true,
   "number_sections": true,
   "sideBar": true,
   "threshold": 4,
   "toc_cell": false,
   "toc_section_display": "block",
   "toc_window_display": true,
   "widenNotebook": false
  }
 },
 "nbformat": 4,
 "nbformat_minor": 2
}
