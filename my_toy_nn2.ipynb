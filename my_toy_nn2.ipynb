{
 "cells": [
  {
   "cell_type": "code",
   "execution_count": 1,
   "metadata": {},
   "outputs": [],
   "source": [
    "%%bash\n",
    "git add my_toy_nn2.ipynb"
   ]
  },
  {
   "cell_type": "code",
   "execution_count": 97,
   "metadata": {},
   "outputs": [
    {
     "name": "stdout",
     "output_type": "stream",
     "text": [
      "[master 815f91c] checkpoint\n",
      " 2 files changed, 777 insertions(+), 106 deletions(-)\n"
     ]
    }
   ],
   "source": [
    "%%bash\n",
    "git commit -a -m \"checkpoint\""
   ]
  },
  {
   "cell_type": "code",
   "execution_count": 98,
   "metadata": {},
   "outputs": [
    {
     "data": {
      "text/plain": [
       "2"
      ]
     },
     "execution_count": 98,
     "metadata": {},
     "output_type": "execute_result"
    }
   ],
   "source": [
    "1+1"
   ]
  },
  {
   "cell_type": "code",
   "execution_count": 1,
   "metadata": {},
   "outputs": [],
   "source": [
    "%matplotlib inline"
   ]
  },
  {
   "cell_type": "markdown",
   "metadata": {},
   "source": [
    "https://gist.github.com/santi-pdp/d0e9002afe74db04aa5bbff6d076e8fe"
   ]
  },
  {
   "cell_type": "markdown",
   "metadata": {},
   "source": [
    "#  準備"
   ]
  },
  {
   "cell_type": "markdown",
   "metadata": {},
   "source": [
    "* 正解がゼロとイチであるような100個のデータを作る\n",
    "* ゼロの方よりイチのほうがすべての座標の平均が1.5大きい"
   ]
  },
  {
   "cell_type": "code",
   "execution_count": 16,
   "metadata": {},
   "outputs": [],
   "source": [
    "import torch\n",
    "import torch.nn as nn\n",
    "from torch.autograd import Variable\n",
    "import torch.optim as optim"
   ]
  },
  {
   "cell_type": "code",
   "execution_count": 3,
   "metadata": {},
   "outputs": [],
   "source": [
    "X1 = torch.randn(1000, 50)\n",
    "X2 = torch.randn(1000, 50) + 1.5\n",
    "X3 = torch.randn(1000,50) + 3\n",
    "X = torch.cat([X1, X2 , X3], dim=0)\n",
    "Y1 = torch.zeros(1000, 1)\n",
    "Y2 = torch.ones(1000, 1)\n",
    "Y3 = torch.zeros(1000 , 1)\n",
    "Y = torch.cat([Y1, Y2, Y3], dim=0)"
   ]
  },
  {
   "cell_type": "code",
   "execution_count": 4,
   "metadata": {},
   "outputs": [
    {
     "name": "stdout",
     "output_type": "stream",
     "text": [
      "torch.Size([3000, 50])\n",
      "torch.Size([3000, 1])\n"
     ]
    }
   ],
   "source": [
    "print(X.size())\n",
    "print(Y.size())"
   ]
  },
  {
   "cell_type": "code",
   "execution_count": 5,
   "metadata": {},
   "outputs": [],
   "source": [
    "import matplotlib.pyplot as plt\n",
    "%matplotlib inline\n"
   ]
  },
  {
   "cell_type": "code",
   "execution_count": 6,
   "metadata": {},
   "outputs": [
    {
     "data": {
      "text/plain": [
       "<Figure size 432x288 with 0 Axes>"
      ]
     },
     "metadata": {},
     "output_type": "display_data"
    }
   ],
   "source": [
    "fig = plt.figure()"
   ]
  },
  {
   "cell_type": "code",
   "execution_count": 7,
   "metadata": {},
   "outputs": [],
   "source": [
    "ax1 = fig.add_subplot(111)"
   ]
  },
  {
   "cell_type": "code",
   "execution_count": 8,
   "metadata": {},
   "outputs": [
    {
     "data": {
      "text/plain": [
       "<matplotlib.collections.PathCollection at 0x7f5750e20c50>"
      ]
     },
     "execution_count": 8,
     "metadata": {},
     "output_type": "execute_result"
    }
   ],
   "source": [
    "ax1.scatter(X1[:,0] , X1[:,2] , color = \"yellow\")"
   ]
  },
  {
   "cell_type": "code",
   "execution_count": 9,
   "metadata": {},
   "outputs": [
    {
     "data": {
      "text/plain": [
       "<matplotlib.collections.PathCollection at 0x7f5750e38048>"
      ]
     },
     "execution_count": 9,
     "metadata": {},
     "output_type": "execute_result"
    }
   ],
   "source": [
    "ax1.scatter(X2[:,0] , X2[:,2], color = \"red\")"
   ]
  },
  {
   "cell_type": "code",
   "execution_count": 10,
   "metadata": {},
   "outputs": [
    {
     "data": {
      "text/plain": [
       "<matplotlib.collections.PathCollection at 0x7f5750e38390>"
      ]
     },
     "execution_count": 10,
     "metadata": {},
     "output_type": "execute_result"
    }
   ],
   "source": [
    "ax1.scatter(X3[:,0] , X3[:,2] , color = \"yellow\")"
   ]
  },
  {
   "cell_type": "code",
   "execution_count": 11,
   "metadata": {},
   "outputs": [
    {
     "data": {
      "image/png": "[encoded data removed]",
      "text/plain": [
       "<Figure size 432x288 with 1 Axes>"
      ]
     },
     "execution_count": 11,
     "metadata": {},
     "output_type": "execute_result"
    }
   ],
   "source": [
    "fig"
   ]
  },
  {
   "cell_type": "code",
   "execution_count": 11,
   "metadata": {},
   "outputs": [
    {
     "data": {
      "text/plain": [
       "torch.Size([1000, 50])"
      ]
     },
     "execution_count": 11,
     "metadata": {},
     "output_type": "execute_result"
    }
   ],
   "source": [
    "X1.shape"
   ]
  },
  {
   "cell_type": "code",
   "execution_count": 12,
   "metadata": {},
   "outputs": [
    {
     "data": {
      "text/plain": [
       "torch.Size([1000, 1])"
      ]
     },
     "execution_count": 12,
     "metadata": {},
     "output_type": "execute_result"
    }
   ],
   "source": [
    "Y1.shape"
   ]
  },
  {
   "cell_type": "markdown",
   "metadata": {},
   "source": [
    "# ネットワークの定義"
   ]
  },
  {
   "cell_type": "markdown",
   "metadata": {},
   "source": [
    "## main model"
   ]
  },
  {
   "cell_type": "markdown",
   "metadata": {},
   "source": [
    "\n",
    "$    \\text{PReLU}(x) = \\max(0,x) + a * \\min(0,x)$\n"
   ]
  },
  {
   "cell_type": "code",
   "execution_count": 13,
   "metadata": {},
   "outputs": [],
   "source": [
    "class Net(nn.Module):\n",
    "    \n",
    "    def __init__(self):\n",
    "        super().__init__()\n",
    "        self.fc1 = nn.Linear(in_features=50, out_features=50)\n",
    "        self.relu1 = nn.ReLU()\n",
    "        #self.dout = nn.Dropout(0.2)\n",
    "        self.fc2 = nn.Linear(50, 100)\n",
    "        self.prelu = nn.PReLU(1)\n",
    "        self.out = nn.Linear(100, 1)\n",
    "        self.out_act = nn.Sigmoid()\n",
    "        \n",
    "    def forward(self, input_):\n",
    "        y = self.fc1(input_)\n",
    "        y = self.relu1(y)        \n",
    "        y = self.fc2(y)\n",
    "        y = self.prelu(y)\n",
    "        y = self.out(y)\n",
    "        y = self.out_act(y)\n",
    "        return y\n",
    "    \n",
    "    "
   ]
  },
  {
   "cell_type": "markdown",
   "metadata": {},
   "source": [
    "## 線形変換 (値が0,1間に入らないのでcriteriaを評価できずエラーになる)"
   ]
  },
  {
   "cell_type": "code",
   "execution_count": null,
   "metadata": {},
   "outputs": [],
   "source": [
    "class Net(nn.Module):\n",
    "    \n",
    "    def __init__(self):\n",
    "        super().__init__()\n",
    "        self.fc1 = nn.Linear(50, 1)\n",
    "        \n",
    "    def forward(self, input_):\n",
    "        y = self.fc1(input_)\n",
    "        \n",
    "        return y\n",
    "    "
   ]
  },
  {
   "cell_type": "markdown",
   "metadata": {},
   "source": [
    "##  線形変換＋sigmoid"
   ]
  },
  {
   "cell_type": "code",
   "execution_count": 14,
   "metadata": {},
   "outputs": [],
   "source": [
    "class Net(nn.Module):\n",
    "    \n",
    "    def __init__(self):\n",
    "        super().__init__()\n",
    "        self.fc1 = nn.Linear(50, 1)\n",
    "        self.out_act = nn.Sigmoid()\n",
    "        \n",
    "    def forward(self, input_):\n",
    "        a1 = self.fc1(input_)\n",
    "        y = self.out_act(a1)\n",
    "        return y\n",
    "    "
   ]
  },
  {
   "cell_type": "markdown",
   "metadata": {},
   "source": [
    "## もともとのモデル"
   ]
  },
  {
   "cell_type": "code",
   "execution_count": 15,
   "metadata": {},
   "outputs": [],
   "source": [
    "class Net(nn.Module):\n",
    "    \n",
    "    def __init__(self):\n",
    "        super().__init__()\n",
    "        self.fc1 = nn.Linear(50, 50)\n",
    "        self.relu1 = nn.ReLU()\n",
    "        self.dout = nn.Dropout(0.2)\n",
    "        self.fc2 = nn.Linear(50, 100)\n",
    "        self.prelu = nn.PReLU(1)\n",
    "        self.out = nn.Linear(100, 1)\n",
    "        self.out_act = nn.Sigmoid()\n",
    "        \n",
    "    def forward(self, input_):\n",
    "        a1 = self.fc1(input_)\n",
    "        h1 = self.relu1(a1)\n",
    "        dout = self.dout(h1)\n",
    "        a2 = self.fc2(dout)\n",
    "        h2 = self.prelu(a2)\n",
    "        a3 = self.out(h2)\n",
    "        y = self.out_act(a3)\n",
    "        return y\n",
    "    "
   ]
  },
  {
   "cell_type": "code",
   "execution_count": 16,
   "metadata": {},
   "outputs": [],
   "source": [
    "model = Net()"
   ]
  },
  {
   "cell_type": "code",
   "execution_count": 17,
   "metadata": {},
   "outputs": [
    {
     "name": "stdout",
     "output_type": "stream",
     "text": [
      "Net(\n",
      "  (fc1): Linear(in_features=50, out_features=50, bias=True)\n",
      "  (relu1): ReLU()\n",
      "  (dout): Dropout(p=0.2)\n",
      "  (fc2): Linear(in_features=50, out_features=100, bias=True)\n",
      "  (prelu): PReLU(num_parameters=1)\n",
      "  (out): Linear(in_features=100, out_features=1, bias=True)\n",
      "  (out_act): Sigmoid()\n",
      ")\n"
     ]
    }
   ],
   "source": [
    "print(model)"
   ]
  },
  {
   "cell_type": "markdown",
   "metadata": {},
   "source": [
    "# optimizer"
   ]
  },
  {
   "cell_type": "markdown",
   "metadata": {},
   "source": [
    "## 学習測度はここで指定する"
   ]
  },
  {
   "cell_type": "markdown",
   "metadata": {},
   "source": [
    "learning rate次第で学習の成否が大きく異なってくる"
   ]
  },
  {
   "cell_type": "code",
   "execution_count": 18,
   "metadata": {},
   "outputs": [],
   "source": [
    "opt = optim.Adam(model.parameters(), lr=0.0001, betas=(0.9, 0.999))"
   ]
  },
  {
   "cell_type": "markdown",
   "metadata": {},
   "source": [
    "# Binary cross entropy"
   ]
  },
  {
   "cell_type": "markdown",
   "metadata": {},
   "source": [
    "ふたつの確率分布$p,q$があったときクロスエントロピーは\n",
    "\n",
    "$$\n",
    "H(p,q) =-{\\rm E}_p[\\log(q)]\n",
    "$$\n",
    "\n",
    "で定義される"
   ]
  },
  {
   "cell_type": "markdown",
   "metadata": {},
   "source": [
    "説明変数のsample \n",
    "$$\n",
    "x_0,x_1,\\cdots , x_{N-1}\n",
    "$$\n",
    "に対して、正解が１であり、NNが確率$z$で１であると出力したとき、\n",
    "正解の確率分布は\n",
    "\n",
    "\n",
    "$$\n",
    " p(x) =\n",
    " \\begin{cases}\n",
    "        1 & x = 1\\\\\n",
    "        0 & x = 0\n",
    " \\end{cases}\n",
    "$$\n",
    "NNの導いた確率分布は\n",
    "$$\n",
    " q(x) =\n",
    " \\begin{cases}\n",
    "        z & x = 1\\\\\n",
    "        1-z & x = 0\n",
    " \\end{cases}\n",
    "$$\n",
    "なのでクロスエントロピーは\n",
    "$$\n",
    "H(p,q) = -\\log(z)\n",
    "$$\n",
    "であるが、\n",
    "$$\n",
    "H(q,p) = -z \\log(1) - (1-z) \\log(0)\n",
    "$$\n",
    "は計算できない"
   ]
  },
  {
   "cell_type": "code",
   "execution_count": 19,
   "metadata": {},
   "outputs": [],
   "source": [
    "criterion = nn.BCELoss()"
   ]
  },
  {
   "cell_type": "markdown",
   "metadata": {},
   "source": [
    "# my training"
   ]
  },
  {
   "cell_type": "markdown",
   "metadata": {},
   "source": [
    "training modeに"
   ]
  },
  {
   "cell_type": "code",
   "execution_count": 20,
   "metadata": {},
   "outputs": [
    {
     "data": {
      "text/plain": [
       "Net(\n",
       "  (fc1): Linear(in_features=50, out_features=50, bias=True)\n",
       "  (relu1): ReLU()\n",
       "  (dout): Dropout(p=0.2)\n",
       "  (fc2): Linear(in_features=50, out_features=100, bias=True)\n",
       "  (prelu): PReLU(num_parameters=1)\n",
       "  (out): Linear(in_features=100, out_features=1, bias=True)\n",
       "  (out_act): Sigmoid()\n",
       ")"
      ]
     },
     "execution_count": 20,
     "metadata": {},
     "output_type": "execute_result"
    }
   ],
   "source": [
    "model.train()"
   ]
  },
  {
   "cell_type": "code",
   "execution_count": 21,
   "metadata": {},
   "outputs": [],
   "source": [
    "def yield_batch(X , Y , batch_size):\n",
    "    for beg_i in range(0, X.size(0), batch_size):\n",
    "        x_batch = X[beg_i:beg_i + batch_size, :]\n",
    "        y_batch = Y[beg_i:beg_i + batch_size, :]\n",
    "        x_batch = Variable(x_batch)\n",
    "        y_batch = Variable(y_batch)\n",
    "        yield x_batch  ,y_batch\n",
    "    "
   ]
  },
  {
   "cell_type": "code",
   "execution_count": 22,
   "metadata": {},
   "outputs": [],
   "source": [
    "batch_size = 50"
   ]
  },
  {
   "cell_type": "code",
   "execution_count": 23,
   "metadata": {},
   "outputs": [],
   "source": [
    "def my_one_epoch(model , opt, criterion, X , Y , batch_size):\n",
    "    batch_iterator = yield_batch(X , Y  , batch_size)\n",
    "    for x_batch , y_batch in batch_iterator:\n",
    "\n",
    "        ## loop decomposed\n",
    "\n",
    "        ### zero grad\n",
    "        #毎回gradをクリアしないといけない\n",
    "\n",
    "        opt.zero_grad()\n",
    "\n",
    "        ### Forward\n",
    "\n",
    "        y_hat = model(x_batch)\n",
    "\n",
    "        ### Compute diff\n",
    "\n",
    "        loss = criterion(y_hat, y_batch)\n",
    "        #print(\"loss : {}\".format(loss))\n",
    "\n",
    "        ### Compute gradients\n",
    "\n",
    "        loss.backward()\n",
    "\n",
    "        ### update weights\n",
    "\n",
    "        opt.step()        \n",
    "\n",
    "        ### loss \n",
    "\n",
    "        run_loss = float(loss.data.numpy())\n",
    "\n",
    "    print(run_loss)"
   ]
  },
  {
   "cell_type": "code",
   "execution_count": 24,
   "metadata": {},
   "outputs": [
    {
     "name": "stdout",
     "output_type": "stream",
     "text": [
      "0.42836108803749084\n",
      "0.38675469160079956\n",
      "0.38040587306022644\n",
      "0.36951231956481934\n",
      "0.3592170774936676\n",
      "0.36074742674827576\n",
      "0.3468421697616577\n",
      "0.35194942355155945\n",
      "0.35672101378440857\n",
      "0.3537641167640686\n",
      "0.35244351625442505\n",
      "0.36190304160118103\n",
      "0.36007925868034363\n",
      "0.3574187457561493\n",
      "0.3631193935871124\n",
      "0.3608333468437195\n",
      "0.36761021614074707\n",
      "0.36645686626434326\n",
      "0.37193024158477783\n",
      "0.3754085600376129\n"
     ]
    }
   ],
   "source": [
    "n_epochs = 20\n",
    "for i in range(n_epochs):\n",
    "    my_one_epoch(model , opt, criterion, X , Y , batch_size)"
   ]
  },
  {
   "cell_type": "markdown",
   "metadata": {},
   "source": [
    "#  答え合わせ"
   ]
  },
  {
   "cell_type": "code",
   "execution_count": 25,
   "metadata": {},
   "outputs": [],
   "source": [
    "y_model = model(X)"
   ]
  },
  {
   "cell_type": "code",
   "execution_count": 26,
   "metadata": {},
   "outputs": [
    {
     "data": {
      "text/plain": [
       "<Figure size 432x288 with 0 Axes>"
      ]
     },
     "metadata": {},
     "output_type": "display_data"
    }
   ],
   "source": [
    "fig = plt.figure()"
   ]
  },
  {
   "cell_type": "code",
   "execution_count": 27,
   "metadata": {},
   "outputs": [],
   "source": [
    "ax1 = fig.add_subplot(111)"
   ]
  },
  {
   "cell_type": "code",
   "execution_count": 28,
   "metadata": {},
   "outputs": [
    {
     "data": {
      "text/plain": [
       "array([0., 0., 0., ..., 0., 0., 0.], dtype=float32)"
      ]
     },
     "execution_count": 28,
     "metadata": {},
     "output_type": "execute_result"
    }
   ],
   "source": [
    "Y.numpy()[:,0]"
   ]
  },
  {
   "cell_type": "code",
   "execution_count": 29,
   "metadata": {},
   "outputs": [
    {
     "data": {
      "text/plain": [
       "<matplotlib.collections.PathCollection at 0x7f03401c5780>"
      ]
     },
     "execution_count": 29,
     "metadata": {},
     "output_type": "execute_result"
    }
   ],
   "source": [
    "ax1.scatter(Y.numpy()[:,0] , y_model.detach().numpy()[:,0] , color = \"red\")"
   ]
  },
  {
   "cell_type": "code",
   "execution_count": 30,
   "metadata": {},
   "outputs": [
    {
     "data": {
      "image/png": "[encoded data removed]",
      "text/plain": [
       "<Figure size 432x288 with 1 Axes>"
      ]
     },
     "execution_count": 30,
     "metadata": {},
     "output_type": "execute_result"
    }
   ],
   "source": [
    "fig"
   ]
  },
  {
   "cell_type": "code",
   "execution_count": 99,
   "metadata": {},
   "outputs": [],
   "source": [
    "tmp = y_model.detach().numpy()"
   ]
  },
  {
   "cell_type": "markdown",
   "metadata": {},
   "source": [
    "# decomposed training"
   ]
  },
  {
   "cell_type": "code",
   "execution_count": 125,
   "metadata": {},
   "outputs": [],
   "source": [
    "batch_iterator = yield_batch(X , Y  , batch_size)"
   ]
  },
  {
   "cell_type": "code",
   "execution_count": 46,
   "metadata": {},
   "outputs": [],
   "source": [
    "x_batch , y_batch = next(batch_iterator)"
   ]
  },
  {
   "cell_type": "markdown",
   "metadata": {},
   "source": [
    "## loop decomposed"
   ]
  },
  {
   "cell_type": "markdown",
   "metadata": {},
   "source": [
    "### zero grad\n",
    "毎回gradをクリアしないといけない"
   ]
  },
  {
   "cell_type": "code",
   "execution_count": 47,
   "metadata": {},
   "outputs": [],
   "source": [
    "opt.zero_grad()"
   ]
  },
  {
   "cell_type": "markdown",
   "metadata": {},
   "source": [
    "### Forward"
   ]
  },
  {
   "cell_type": "code",
   "execution_count": 48,
   "metadata": {},
   "outputs": [],
   "source": [
    "y_hat = model(x_batch)"
   ]
  },
  {
   "cell_type": "markdown",
   "metadata": {},
   "source": [
    "### Compute diff"
   ]
  },
  {
   "cell_type": "code",
   "execution_count": 50,
   "metadata": {},
   "outputs": [
    {
     "name": "stdout",
     "output_type": "stream",
     "text": [
      "loss : 0.7317055463790894\n"
     ]
    }
   ],
   "source": [
    "loss = criterion(y_hat, y_batch)\n",
    "print(\"loss : {}\".format(loss))"
   ]
  },
  {
   "cell_type": "markdown",
   "metadata": {},
   "source": [
    "### Compute gradients"
   ]
  },
  {
   "cell_type": "code",
   "execution_count": null,
   "metadata": {},
   "outputs": [],
   "source": [
    "loss.backward()"
   ]
  },
  {
   "cell_type": "markdown",
   "metadata": {},
   "source": [
    "### update weights"
   ]
  },
  {
   "cell_type": "code",
   "execution_count": null,
   "metadata": {},
   "outputs": [],
   "source": [
    "opt.step()        "
   ]
  },
  {
   "cell_type": "markdown",
   "metadata": {},
   "source": [
    "### loss "
   ]
  },
  {
   "cell_type": "code",
   "execution_count": null,
   "metadata": {},
   "outputs": [],
   "source": [
    "run_loss = float(loss.data.numpy())\n",
    "\n",
    "print(run_loss)"
   ]
  },
  {
   "cell_type": "code",
   "execution_count": null,
   "metadata": {},
   "outputs": [],
   "source": []
  },
  {
   "cell_type": "markdown",
   "metadata": {},
   "source": [
    "# original"
   ]
  },
  {
   "cell_type": "markdown",
   "metadata": {},
   "source": [
    "def train_epoch(model, opt, criterion, batch_size=50):\n",
    "    model.train()\n",
    "    losses = []\n",
    "    for beg_i in range(0, X.size(0), batch_size):\n",
    "        x_batch = X[beg_i:beg_i + batch_size, :]\n",
    "        y_batch = Y[beg_i:beg_i + batch_size, :]\n",
    "        x_batch = Variable(x_batch)\n",
    "        y_batch = Variable(y_batch)\n",
    "\n",
    "\n",
    "        opt.zero_grad()\n",
    "        # (1) Forward\n",
    "        y_hat = net(x_batch)\n",
    "        # (2) Compute diff\n",
    "        loss = criterion(y_hat, y_batch)\n",
    "        # (3) Compute gradients\n",
    "        loss.backward()\n",
    "        # (4) update weights\n",
    "        opt.step()        \n",
    "        losses.append(loss.data.numpy())\n",
    "    return losses"
   ]
  },
  {
   "cell_type": "code",
   "execution_count": null,
   "metadata": {},
   "outputs": [],
   "source": [
    "e_losses = []\n",
    "num_epochs = 200\n",
    "for e in range(num_epochs):\n",
    "    e_losses += train_epoch(net, opt, criterion)\n",
    "plt.plot(e_losses)"
   ]
  },
  {
   "cell_type": "code",
   "execution_count": null,
   "metadata": {},
   "outputs": [],
   "source": [
    "?Variable"
   ]
  },
  {
   "cell_type": "code",
   "execution_count": null,
   "metadata": {},
   "outputs": [],
   "source": [
    "batch_size = 50"
   ]
  },
  {
   "cell_type": "code",
   "execution_count": null,
   "metadata": {},
   "outputs": [],
   "source": [
    "losses = []\n",
    "for beg_i in range(0, X.size(0), batch_size):\n",
    "    x_batch = X[beg_i:beg_i + batch_size, :]\n",
    "    y_batch = Y[beg_i:beg_i + batch_size, :]\n",
    "    x_batch = Variable(x_batch)\n",
    "    y_batch = Variable(y_batch)\n",
    "\n",
    "    opt.zero_grad()\n",
    "    # (1) Forward\n",
    "    y_hat = net(x_batch)\n",
    "    # (2) Compute diff\n",
    "    loss = criterion(y_hat, y_batch)\n",
    "    # (3) Compute gradients\n",
    "    loss.backward()\n",
    "    # (4) update weights\n",
    "    opt.step()        \n",
    "    losses.append(loss.data.numpy())"
   ]
  },
  {
   "cell_type": "code",
   "execution_count": null,
   "metadata": {
    "scrolled": true
   },
   "outputs": [],
   "source": [
    "loss.backward?"
   ]
  },
  {
   "cell_type": "code",
   "execution_count": null,
   "metadata": {},
   "outputs": [],
   "source": [
    "plt.plot(losses)"
   ]
  },
  {
   "cell_type": "code",
   "execution_count": null,
   "metadata": {},
   "outputs": [],
   "source": [
    "print(losses)"
   ]
  },
  {
   "cell_type": "code",
   "execution_count": null,
   "metadata": {},
   "outputs": [],
   "source": [
    "train_epoch(net, opt, criterion)"
   ]
  },
  {
   "cell_type": "markdown",
   "metadata": {},
   "source": [
    "# option pricing imitation\n"
   ]
  },
  {
   "cell_type": "code",
   "execution_count": 17,
   "metadata": {},
   "outputs": [],
   "source": [
    "import QuantLib as ql "
   ]
  },
  {
   "cell_type": "code",
   "execution_count": 18,
   "metadata": {},
   "outputs": [],
   "source": [
    "class cl_call:\n",
    "    def price(self , spot_price, strike_price, maturity , is_american = True):\n",
    "        if maturity <= 0:\n",
    "            exercise_value = np.max([0 , spot_price - strike_price])\n",
    "            return (exercise_value)\n",
    "        dummy_strike = strike_price / spot_price\n",
    "        \n",
    "\n",
    "        option_type = ql.Option.Call\n",
    "        payoff = ql.PlainVanillaPayoff(option_type, dummy_strike)\n",
    "        \n",
    "        maturity_date = self.calculation_date + int(365.0 * maturity)\n",
    "        settlement = self.calculation_date\n",
    "        if is_american:\n",
    "            run_exercise = ql.AmericanExercise(settlement, maturity_date)\n",
    "        else:\n",
    "            run_exercise = ql.EuropeanExercise(maturity_date)\n",
    "                \n",
    "        \n",
    "        american_option = ql.VanillaOption(payoff, run_exercise)\n",
    "        if is_american:\n",
    "            american_option.setPricingEngine(self.binomial_engine)\n",
    "        else:\n",
    "\n",
    "            american_option.setPricingEngine(ql.AnalyticEuropeanEngine(self.bsm_process))\n",
    "                \n",
    "        ql.Settings.instance().evaluationDate = self.calculation_date\n",
    "\n",
    "        return (american_option.NPV() * spot_price)\n",
    "        \n",
    "\n",
    "    def __init__(self , volatility , dividend_rate , risk_free_rate  ,steps):\n",
    "        day_count = ql.Actual365Fixed()\n",
    "        #calendar = ql.UnitedStates()\n",
    "        calendar = ql.Japan()\n",
    "        self.calculation_date = ql.Date(8, 5, 2015)\n",
    "        dummy_spot = 1\n",
    "        \n",
    "        self.spot_handle = ql.QuoteHandle(ql.SimpleQuote(1.0))\n",
    "\n",
    "        ql.Settings.instance().evaluationDate = self.calculation_date\n",
    "\n",
    "\n",
    "        self.flat_ts = ql.YieldTermStructureHandle(\n",
    "            ql.FlatForward(self.calculation_date, risk_free_rate, day_count)\n",
    "        )\n",
    "\n",
    "        self.dividend_yield = ql.YieldTermStructureHandle(\n",
    "            ql.FlatForward(self.calculation_date, dividend_rate, day_count)\n",
    "        )\n",
    "\n",
    "        #### volatility\n",
    "\n",
    "        self.flat_vol_ts = ql.BlackVolTermStructureHandle(\n",
    "            ql.BlackConstantVol(self.calculation_date, calendar, volatility, day_count)\n",
    "        )\n",
    "\n",
    "        #### BS framework\n",
    "\n",
    "        self.bsm_process = ql.BlackScholesMertonProcess(self.spot_handle, \n",
    "                                                   self.dividend_yield, \n",
    "                                                   self.flat_ts, \n",
    "                                                   self.flat_vol_ts)\n",
    "\n",
    "\n",
    "        self.binomial_engine = ql.BinomialVanillaEngine(self.bsm_process, \"crr\", steps)\n",
    "        \n",
    "\n"
   ]
  },
  {
   "cell_type": "code",
   "execution_count": 19,
   "metadata": {},
   "outputs": [],
   "source": [
    "spot_price = 127.62\n",
    "volatility = 0.20 # the historical vols or implied vols\n",
    "dividend_rate =  0.063\n",
    "risk_free_rate = 0.001\n",
    "maturity = 1\n",
    "dt = 0.1\n",
    "\n",
    "strike_price = 130\n",
    "\n",
    "#steps = 200\n",
    "pricer_steps = 100\n",
    "\n",
    "#dt = maturity / steps"
   ]
  },
  {
   "cell_type": "markdown",
   "metadata": {},
   "source": [
    "## sandbox"
   ]
  },
  {
   "cell_type": "code",
   "execution_count": 39,
   "metadata": {},
   "outputs": [],
   "source": [
    "am_call = cl_call(volatility ,  dividend_rate ,  risk_free_rate , pricer_steps)"
   ]
  },
  {
   "cell_type": "code",
   "execution_count": 40,
   "metadata": {},
   "outputs": [
    {
     "data": {
      "text/plain": [
       "6.431300819558227"
      ]
     },
     "execution_count": 40,
     "metadata": {},
     "output_type": "execute_result"
    }
   ],
   "source": [
    "am_call.price(spot_price, strike_price, maturity)"
   ]
  },
  {
   "cell_type": "code",
   "execution_count": 26,
   "metadata": {},
   "outputs": [
    {
     "data": {
      "text/plain": [
       "29.999999999999993"
      ]
     },
     "execution_count": 26,
     "metadata": {},
     "output_type": "execute_result"
    }
   ],
   "source": [
    "am_call.price(130 , 100, 0.1 , True)"
   ]
  },
  {
   "cell_type": "code",
   "execution_count": 27,
   "metadata": {},
   "outputs": [
    {
     "data": {
      "text/plain": [
       "29.2046218778254"
      ]
     },
     "execution_count": 27,
     "metadata": {},
     "output_type": "execute_result"
    }
   ],
   "source": [
    "am_call.price(130 , 100 , 0.1,  False)"
   ]
  },
  {
   "cell_type": "code",
   "execution_count": 20,
   "metadata": {},
   "outputs": [
    {
     "data": {
      "text/plain": [
       "29.999999999999993"
      ]
     },
     "execution_count": 20,
     "metadata": {},
     "output_type": "execute_result"
    }
   ],
   "source": [
    "am_call.price(130 , 100 , 0.1 , True)"
   ]
  },
  {
   "cell_type": "markdown",
   "metadata": {},
   "source": [
    "## creating training data"
   ]
  },
  {
   "cell_type": "code",
   "execution_count": 20,
   "metadata": {},
   "outputs": [],
   "source": [
    "N = 1000\n"
   ]
  },
  {
   "cell_type": "code",
   "execution_count": 21,
   "metadata": {},
   "outputs": [],
   "source": [
    "share_prices  = torch.rand(N, 1) * 1000"
   ]
  },
  {
   "cell_type": "code",
   "execution_count": 22,
   "metadata": {},
   "outputs": [],
   "source": [
    "volatilities = torch.rand(N , 1) * 0.6 + 0.01"
   ]
  },
  {
   "cell_type": "code",
   "execution_count": 23,
   "metadata": {},
   "outputs": [
    {
     "data": {
      "text/plain": [
       "465.9971618652344"
      ]
     },
     "execution_count": 23,
     "metadata": {},
     "output_type": "execute_result"
    }
   ],
   "source": [
    "share_prices[0,0].item()"
   ]
  },
  {
   "cell_type": "code",
   "execution_count": 24,
   "metadata": {},
   "outputs": [],
   "source": [
    "option_prices = [cl_call(volatilities[i , 0].item() ,  \n",
    "                         dividend_rate ,  \n",
    "                         risk_free_rate , \n",
    "                         pricer_steps).price(share_prices[i,0].item(), \n",
    "                                              strike_price, \n",
    "                                              maturity) for i in range(N)]"
   ]
  },
  {
   "cell_type": "code",
   "execution_count": 25,
   "metadata": {},
   "outputs": [],
   "source": [
    "X = torch.cat([share_prices , volatilities] , dim = 1)"
   ]
  },
  {
   "cell_type": "code",
   "execution_count": 26,
   "metadata": {},
   "outputs": [
    {
     "data": {
      "text/plain": [
       "torch.Size([1000, 2])"
      ]
     },
     "execution_count": 26,
     "metadata": {},
     "output_type": "execute_result"
    }
   ],
   "source": [
    "X.size()"
   ]
  },
  {
   "cell_type": "code",
   "execution_count": 27,
   "metadata": {},
   "outputs": [],
   "source": [
    "y = torch.tensor(option_prices)"
   ]
  },
  {
   "cell_type": "code",
   "execution_count": 28,
   "metadata": {},
   "outputs": [],
   "source": [
    "y = y.view(-1, 1)"
   ]
  },
  {
   "cell_type": "code",
   "execution_count": 29,
   "metadata": {},
   "outputs": [
    {
     "data": {
      "text/plain": [
       "torch.Size([1000, 1])"
      ]
     },
     "execution_count": 29,
     "metadata": {},
     "output_type": "execute_result"
    }
   ],
   "source": [
    "y.size()"
   ]
  },
  {
   "cell_type": "markdown",
   "metadata": {},
   "source": [
    "## define net"
   ]
  },
  {
   "cell_type": "code",
   "execution_count": 30,
   "metadata": {},
   "outputs": [],
   "source": [
    "class Net(nn.Module):\n",
    "    \n",
    "    def __init__(self):\n",
    "        super().__init__()\n",
    "        self.fc1 = nn.Linear(2, 1)\n",
    "        \n",
    "    def forward(self, input_):\n",
    "        y = self.fc1(input_)\n",
    "        \n",
    "        return y\n",
    "    "
   ]
  },
  {
   "cell_type": "code",
   "execution_count": 31,
   "metadata": {},
   "outputs": [],
   "source": [
    "model = Net()"
   ]
  },
  {
   "cell_type": "code",
   "execution_count": 32,
   "metadata": {},
   "outputs": [
    {
     "name": "stdout",
     "output_type": "stream",
     "text": [
      "Net(\n",
      "  (fc1): Linear(in_features=2, out_features=1, bias=True)\n",
      ")\n"
     ]
    }
   ],
   "source": [
    "print(model)"
   ]
  },
  {
   "cell_type": "markdown",
   "metadata": {},
   "source": [
    "## optimizer"
   ]
  },
  {
   "cell_type": "code",
   "execution_count": 33,
   "metadata": {},
   "outputs": [],
   "source": [
    "opt = optim.Adam(model.parameters(), lr=0.0001, betas=(0.9, 0.999))"
   ]
  },
  {
   "cell_type": "markdown",
   "metadata": {},
   "source": [
    "## define loss function\n",
    "https://medium.com/udacity-pytorch-challengers/a-brief-overview-of-loss-functions-in-pytorch-c0ddb78068f7"
   ]
  },
  {
   "cell_type": "code",
   "execution_count": 34,
   "metadata": {},
   "outputs": [],
   "source": [
    "criterion = nn.MSELoss()"
   ]
  },
  {
   "cell_type": "markdown",
   "metadata": {},
   "source": [
    "## training"
   ]
  },
  {
   "cell_type": "code",
   "execution_count": 35,
   "metadata": {},
   "outputs": [
    {
     "data": {
      "text/plain": [
       "Net(\n",
       "  (fc1): Linear(in_features=2, out_features=1, bias=True)\n",
       ")"
      ]
     },
     "execution_count": 35,
     "metadata": {},
     "output_type": "execute_result"
    }
   ],
   "source": [
    "model.train()"
   ]
  },
  {
   "cell_type": "code",
   "execution_count": 36,
   "metadata": {},
   "outputs": [],
   "source": [
    "def train_epoch(model, opt, criterion, X, Y , batch_size=50):\n",
    "    model.train()\n",
    "    losses = []\n",
    "    for beg_i in range(0, X.size(0), batch_size):\n",
    "        x_batch = X[beg_i:beg_i + batch_size, :]\n",
    "        y_batch = Y[beg_i:beg_i + batch_size, :]\n",
    "        x_batch = Variable(x_batch)\n",
    "        y_batch = Variable(y_batch)\n",
    "\n",
    "        opt.zero_grad()\n",
    "        # (1) Forward\n",
    "        y_hat = model(x_batch)\n",
    "        # (2) Compute diff\n",
    "        loss = criterion(y_hat, y_batch)\n",
    "        # (3) Compute gradients\n",
    "        loss.backward()\n",
    "        # (4) update weights\n",
    "        opt.step()        \n",
    "        losses.append(loss.data.numpy())\n",
    "    return losses"
   ]
  },
  {
   "cell_type": "code",
   "execution_count": 43,
   "metadata": {},
   "outputs": [
    {
     "data": {
      "text/plain": [
       "[<matplotlib.lines.Line2D at 0x7f57483f2a90>]"
      ]
     },
     "execution_count": 43,
     "metadata": {},
     "output_type": "execute_result"
    },
    {
     "data": {
      "image/png": "[encoded data removed]",
      "text/plain": [
       "<Figure size 432x288 with 1 Axes>"
      ]
     },
     "metadata": {},
     "output_type": "display_data"
    }
   ],
   "source": [
    "e_losses = []\n",
    "num_epochs = 100\n",
    "for e in range(num_epochs):\n",
    "    e_losses += train_epoch(model, opt, criterion , X , y)\n",
    "plt.plot(e_losses)"
   ]
  },
  {
   "cell_type": "markdown",
   "metadata": {},
   "source": [
    "## check results"
   ]
  },
  {
   "cell_type": "code",
   "execution_count": 44,
   "metadata": {},
   "outputs": [],
   "source": [
    "y_model = model(X)"
   ]
  },
  {
   "cell_type": "code",
   "execution_count": 45,
   "metadata": {},
   "outputs": [
    {
     "data": {
      "text/plain": [
       "<Figure size 432x288 with 0 Axes>"
      ]
     },
     "metadata": {},
     "output_type": "display_data"
    }
   ],
   "source": [
    "fig = plt.figure()"
   ]
  },
  {
   "cell_type": "code",
   "execution_count": 46,
   "metadata": {},
   "outputs": [],
   "source": [
    "ax1 = fig.add_subplot(111)"
   ]
  },
  {
   "cell_type": "code",
   "execution_count": 47,
   "metadata": {},
   "outputs": [
    {
     "data": {
      "text/plain": [
       "<matplotlib.collections.PathCollection at 0x7f57483bb4a8>"
      ]
     },
     "execution_count": 47,
     "metadata": {},
     "output_type": "execute_result"
    }
   ],
   "source": [
    "ax1.scatter(y.numpy()[:,0] , y_model.detach().numpy()[:,0] , color = \"red\")"
   ]
  },
  {
   "cell_type": "code",
   "execution_count": 48,
   "metadata": {},
   "outputs": [
    {
     "data": {
      "image/png": "[encoded data removed]",
      "text/plain": [
       "<Figure size 432x288 with 1 Axes>"
      ]
     },
     "execution_count": 48,
     "metadata": {},
     "output_type": "execute_result"
    }
   ],
   "source": [
    "fig"
   ]
  },
  {
   "cell_type": "markdown",
   "metadata": {},
   "source": [
    "## plot with bokeh"
   ]
  },
  {
   "cell_type": "code",
   "execution_count": 62,
   "metadata": {},
   "outputs": [
    {
     "data": {
      "text/html": [
       "\n",
       "    <div class=\"bk-root\">\n",
       "        <a href=\"https://bokeh.pydata.org\" target=\"_blank\" class=\"bk-logo bk-logo-small bk-logo-notebook\"></a>\n",
       "        <span id=\"baa92abb-80f9-4ef1-834d-b77285130344\">Loading BokehJS ...</span>\n",
       "    </div>"
      ]
     },
     "metadata": {},
     "output_type": "display_data"
    },
    {
     "data": {
      "application/javascript": [
       "\n",
       "(function(root) {\n",
       "  function now() {\n",
       "    return new Date();\n",
       "  }\n",
       "\n",
       "  var force = true;\n",
       "\n",
       "  if (typeof (root._bokeh_onload_callbacks) === \"undefined\" || force === true) {\n",
       "    root._bokeh_onload_callbacks = [];\n",
       "    root._bokeh_is_loading = undefined;\n",
       "  }\n",
       "\n",
       "  var JS_MIME_TYPE = 'application/javascript';\n",
       "  var HTML_MIME_TYPE = 'text/html';\n",
       "  var EXEC_MIME_TYPE = 'application/vnd.bokehjs_exec.v0+json';\n",
       "  var CLASS_NAME = 'output_bokeh rendered_html';\n",
       "\n",
       "  /**\n",
       "   * Render data to the DOM node\n",
       "   */\n",
       "  function render(props, node) {\n",
       "    var script = document.createElement(\"script\");\n",
       "    node.appendChild(script);\n",
       "  }\n",
       "\n",
       "  /**\n",
       "   * Handle when an output is cleared or removed\n",
       "   */\n",
       "  function handleClearOutput(event, handle) {\n",
       "    var cell = handle.cell;\n",
       "\n",
       "    var id = cell.output_area._bokeh_element_id;\n",
       "    var server_id = cell.output_area._bokeh_server_id;\n",
       "    // Clean up Bokeh references\n",
       "    if (id !== undefined) {\n",
       "      Bokeh.index[id].model.document.clear();\n",
       "      delete Bokeh.index[id];\n",
       "    }\n",
       "\n",
       "    if (server_id !== undefined) {\n",
       "      // Clean up Bokeh references\n",
       "      var cmd = \"from bokeh.io.state import curstate; print(curstate().uuid_to_server['\" + server_id + \"'].get_sessions()[0].document.roots[0]._id)\";\n",
       "      cell.notebook.kernel.execute(cmd, {\n",
       "        iopub: {\n",
       "          output: function(msg) {\n",
       "            var element_id = msg.content.text.trim();\n",
       "            Bokeh.index[element_id].model.document.clear();\n",
       "            delete Bokeh.index[element_id];\n",
       "          }\n",
       "        }\n",
       "      });\n",
       "      // Destroy server and session\n",
       "      var cmd = \"import bokeh.io.notebook as ion; ion.destroy_server('\" + server_id + \"')\";\n",
       "      cell.notebook.kernel.execute(cmd);\n",
       "    }\n",
       "  }\n",
       "\n",
       "  /**\n",
       "   * Handle when a new output is added\n",
       "   */\n",
       "  function handleAddOutput(event, handle) {\n",
       "    var output_area = handle.output_area;\n",
       "    var output = handle.output;\n",
       "\n",
       "    // limit handleAddOutput to display_data with EXEC_MIME_TYPE content only\n",
       "    if ((output.output_type != \"display_data\") || (!output.data.hasOwnProperty(EXEC_MIME_TYPE))) {\n",
       "      return\n",
       "    }\n",
       "\n",
       "    var toinsert = output_area.element.find(\".\" + CLASS_NAME.split(' ')[0]);\n",
       "\n",
       "    if (output.metadata[EXEC_MIME_TYPE][\"id\"] !== undefined) {\n",
       "      toinsert[0].firstChild.textContent = output.data[JS_MIME_TYPE];\n",
       "      // store reference to embed id on output_area\n",
       "      output_area._bokeh_element_id = output.metadata[EXEC_MIME_TYPE][\"id\"];\n",
       "    }\n",
       "    if (output.metadata[EXEC_MIME_TYPE][\"server_id\"] !== undefined) {\n",
       "      var bk_div = document.createElement(\"div\");\n",
       "      bk_div.innerHTML = output.data[HTML_MIME_TYPE];\n",
       "      var script_attrs = bk_div.children[0].attributes;\n",
       "      for (var i = 0; i < script_attrs.length; i++) {\n",
       "        toinsert[0].firstChild.setAttribute(script_attrs[i].name, script_attrs[i].value);\n",
       "      }\n",
       "      // store reference to server id on output_area\n",
       "      output_area._bokeh_server_id = output.metadata[EXEC_MIME_TYPE][\"server_id\"];\n",
       "    }\n",
       "  }\n",
       "\n",
       "  function register_renderer(events, OutputArea) {\n",
       "\n",
       "    function append_mime(data, metadata, element) {\n",
       "      // create a DOM node to render to\n",
       "      var toinsert = this.create_output_subarea(\n",
       "        metadata,\n",
       "        CLASS_NAME,\n",
       "        EXEC_MIME_TYPE\n",
       "      );\n",
       "      this.keyboard_manager.register_events(toinsert);\n",
       "      // Render to node\n",
       "      var props = {data: data, metadata: metadata[EXEC_MIME_TYPE]};\n",
       "      render(props, toinsert[0]);\n",
       "      element.append(toinsert);\n",
       "      return toinsert\n",
       "    }\n",
       "\n",
       "    /* Handle when an output is cleared or removed */\n",
       "    events.on('clear_output.CodeCell', handleClearOutput);\n",
       "    events.on('delete.Cell', handleClearOutput);\n",
       "\n",
       "    /* Handle when a new output is added */\n",
       "    events.on('output_added.OutputArea', handleAddOutput);\n",
       "\n",
       "    /**\n",
       "     * Register the mime type and append_mime function with output_area\n",
       "     */\n",
       "    OutputArea.prototype.register_mime_type(EXEC_MIME_TYPE, append_mime, {\n",
       "      /* Is output safe? */\n",
       "      safe: true,\n",
       "      /* Index of renderer in `output_area.display_order` */\n",
       "      index: 0\n",
       "    });\n",
       "  }\n",
       "\n",
       "  // register the mime type if in Jupyter Notebook environment and previously unregistered\n",
       "  if (root.Jupyter !== undefined) {\n",
       "    var events = require('base/js/events');\n",
       "    var OutputArea = require('notebook/js/outputarea').OutputArea;\n",
       "\n",
       "    if (OutputArea.prototype.mime_types().indexOf(EXEC_MIME_TYPE) == -1) {\n",
       "      register_renderer(events, OutputArea);\n",
       "    }\n",
       "  }\n",
       "\n",
       "  \n",
       "  if (typeof (root._bokeh_timeout) === \"undefined\" || force === true) {\n",
       "    root._bokeh_timeout = Date.now() + 5000;\n",
       "    root._bokeh_failed_load = false;\n",
       "  }\n",
       "\n",
       "  var NB_LOAD_WARNING = {'data': {'text/html':\n",
       "     \"<div style='background-color: #fdd'>\\n\"+\n",
       "     \"<p>\\n\"+\n",
       "     \"BokehJS does not appear to have successfully loaded. If loading BokehJS from CDN, this \\n\"+\n",
       "     \"may be due to a slow or bad network connection. Possible fixes:\\n\"+\n",
       "     \"</p>\\n\"+\n",
       "     \"<ul>\\n\"+\n",
       "     \"<li>re-rerun `output_notebook()` to attempt to load from CDN again, or</li>\\n\"+\n",
       "     \"<li>use INLINE resources instead, as so:</li>\\n\"+\n",
       "     \"</ul>\\n\"+\n",
       "     \"<code>\\n\"+\n",
       "     \"from bokeh.resources import INLINE\\n\"+\n",
       "     \"output_notebook(resources=INLINE)\\n\"+\n",
       "     \"</code>\\n\"+\n",
       "     \"</div>\"}};\n",
       "\n",
       "  function display_loaded() {\n",
       "    var el = document.getElementById(\"baa92abb-80f9-4ef1-834d-b77285130344\");\n",
       "    if (el != null) {\n",
       "      el.textContent = \"BokehJS is loading...\";\n",
       "    }\n",
       "    if (root.Bokeh !== undefined) {\n",
       "      if (el != null) {\n",
       "        el.textContent = \"BokehJS \" + root.Bokeh.version + \" successfully loaded.\";\n",
       "      }\n",
       "    } else if (Date.now() < root._bokeh_timeout) {\n",
       "      setTimeout(display_loaded, 100)\n",
       "    }\n",
       "  }\n",
       "\n",
       "\n",
       "  function run_callbacks() {\n",
       "    try {\n",
       "      root._bokeh_onload_callbacks.forEach(function(callback) { callback() });\n",
       "    }\n",
       "    finally {\n",
       "      delete root._bokeh_onload_callbacks\n",
       "    }\n",
       "    console.info(\"Bokeh: all callbacks have finished\");\n",
       "  }\n",
       "\n",
       "  function load_libs(js_urls, callback) {\n",
       "    root._bokeh_onload_callbacks.push(callback);\n",
       "    if (root._bokeh_is_loading > 0) {\n",
       "      console.log(\"Bokeh: BokehJS is being loaded, scheduling callback at\", now());\n",
       "      return null;\n",
       "    }\n",
       "    if (js_urls == null || js_urls.length === 0) {\n",
       "      run_callbacks();\n",
       "      return null;\n",
       "    }\n",
       "    console.log(\"Bokeh: BokehJS not loaded, scheduling load and callback at\", now());\n",
       "    root._bokeh_is_loading = js_urls.length;\n",
       "    for (var i = 0; i < js_urls.length; i++) {\n",
       "      var url = js_urls[i];\n",
       "      var s = document.createElement('script');\n",
       "      s.src = url;\n",
       "      s.async = false;\n",
       "      s.onreadystatechange = s.onload = function() {\n",
       "        root._bokeh_is_loading--;\n",
       "        if (root._bokeh_is_loading === 0) {\n",
       "          console.log(\"Bokeh: all BokehJS libraries loaded\");\n",
       "          run_callbacks()\n",
       "        }\n",
       "      };\n",
       "      s.onerror = function() {\n",
       "        console.warn(\"failed to load library \" + url);\n",
       "      };\n",
       "      console.log(\"Bokeh: injecting script tag for BokehJS library: \", url);\n",
       "      document.getElementsByTagName(\"head\")[0].appendChild(s);\n",
       "    }\n",
       "  };var element = document.getElementById(\"baa92abb-80f9-4ef1-834d-b77285130344\");\n",
       "  if (element == null) {\n",
       "    console.log(\"Bokeh: ERROR: autoload.js configured with elementid 'baa92abb-80f9-4ef1-834d-b77285130344' but no matching script tag was found. \")\n",
       "    return false;\n",
       "  }\n",
       "\n",
       "  var js_urls = [\"https://cdn.pydata.org/bokeh/release/bokeh-0.12.13.min.js\", \"https://cdn.pydata.org/bokeh/release/bokeh-widgets-0.12.13.min.js\", \"https://cdn.pydata.org/bokeh/release/bokeh-tables-0.12.13.min.js\", \"https://cdn.pydata.org/bokeh/release/bokeh-gl-0.12.13.min.js\"];\n",
       "\n",
       "  var inline_js = [\n",
       "    function(Bokeh) {\n",
       "      Bokeh.set_log_level(\"info\");\n",
       "    },\n",
       "    \n",
       "    function(Bokeh) {\n",
       "      \n",
       "    },\n",
       "    function(Bokeh) {\n",
       "      console.log(\"Bokeh: injecting CSS: https://cdn.pydata.org/bokeh/release/bokeh-0.12.13.min.css\");\n",
       "      Bokeh.embed.inject_css(\"https://cdn.pydata.org/bokeh/release/bokeh-0.12.13.min.css\");\n",
       "      console.log(\"Bokeh: injecting CSS: https://cdn.pydata.org/bokeh/release/bokeh-widgets-0.12.13.min.css\");\n",
       "      Bokeh.embed.inject_css(\"https://cdn.pydata.org/bokeh/release/bokeh-widgets-0.12.13.min.css\");\n",
       "      console.log(\"Bokeh: injecting CSS: https://cdn.pydata.org/bokeh/release/bokeh-tables-0.12.13.min.css\");\n",
       "      Bokeh.embed.inject_css(\"https://cdn.pydata.org/bokeh/release/bokeh-tables-0.12.13.min.css\");\n",
       "    }\n",
       "  ];\n",
       "\n",
       "  function run_inline_js() {\n",
       "    \n",
       "    if ((root.Bokeh !== undefined) || (force === true)) {\n",
       "      for (var i = 0; i < inline_js.length; i++) {\n",
       "        inline_js[i].call(root, root.Bokeh);\n",
       "      }if (force === true) {\n",
       "        display_loaded();\n",
       "      }} else if (Date.now() < root._bokeh_timeout) {\n",
       "      setTimeout(run_inline_js, 100);\n",
       "    } else if (!root._bokeh_failed_load) {\n",
       "      console.log(\"Bokeh: BokehJS failed to load within specified timeout.\");\n",
       "      root._bokeh_failed_load = true;\n",
       "    } else if (force !== true) {\n",
       "      var cell = $(document.getElementById(\"baa92abb-80f9-4ef1-834d-b77285130344\")).parents('.cell').data().cell;\n",
       "      cell.output_area.append_execute_result(NB_LOAD_WARNING)\n",
       "    }\n",
       "\n",
       "  }\n",
       "\n",
       "  if (root._bokeh_is_loading === 0) {\n",
       "    console.log(\"Bokeh: BokehJS loaded, going straight to plotting\");\n",
       "    run_inline_js();\n",
       "  } else {\n",
       "    load_libs(js_urls, function() {\n",
       "      console.log(\"Bokeh: BokehJS plotting callback run at\", now());\n",
       "      run_inline_js();\n",
       "    });\n",
       "  }\n",
       "}(window));"
      ],
      "application/vnd.bokehjs_load.v0+json": "\n(function(root) {\n  function now() {\n    return new Date();\n  }\n\n  var force = true;\n\n  if (typeof (root._bokeh_onload_callbacks) === \"undefined\" || force === true) {\n    root._bokeh_onload_callbacks = [];\n    root._bokeh_is_loading = undefined;\n  }\n\n  \n\n  \n  if (typeof (root._bokeh_timeout) === \"undefined\" || force === true) {\n    root._bokeh_timeout = Date.now() + 5000;\n    root._bokeh_failed_load = false;\n  }\n\n  var NB_LOAD_WARNING = {'data': {'text/html':\n     \"<div style='background-color: #fdd'>\\n\"+\n     \"<p>\\n\"+\n     \"BokehJS does not appear to have successfully loaded. If loading BokehJS from CDN, this \\n\"+\n     \"may be due to a slow or bad network connection. Possible fixes:\\n\"+\n     \"</p>\\n\"+\n     \"<ul>\\n\"+\n     \"<li>re-rerun `output_notebook()` to attempt to load from CDN again, or</li>\\n\"+\n     \"<li>use INLINE resources instead, as so:</li>\\n\"+\n     \"</ul>\\n\"+\n     \"<code>\\n\"+\n     \"from bokeh.resources import INLINE\\n\"+\n     \"output_notebook(resources=INLINE)\\n\"+\n     \"</code>\\n\"+\n     \"</div>\"}};\n\n  function display_loaded() {\n    var el = document.getElementById(\"baa92abb-80f9-4ef1-834d-b77285130344\");\n    if (el != null) {\n      el.textContent = \"BokehJS is loading...\";\n    }\n    if (root.Bokeh !== undefined) {\n      if (el != null) {\n        el.textContent = \"BokehJS \" + root.Bokeh.version + \" successfully loaded.\";\n      }\n    } else if (Date.now() < root._bokeh_timeout) {\n      setTimeout(display_loaded, 100)\n    }\n  }\n\n\n  function run_callbacks() {\n    try {\n      root._bokeh_onload_callbacks.forEach(function(callback) { callback() });\n    }\n    finally {\n      delete root._bokeh_onload_callbacks\n    }\n    console.info(\"Bokeh: all callbacks have finished\");\n  }\n\n  function load_libs(js_urls, callback) {\n    root._bokeh_onload_callbacks.push(callback);\n    if (root._bokeh_is_loading > 0) {\n      console.log(\"Bokeh: BokehJS is being loaded, scheduling callback at\", now());\n      return null;\n    }\n    if (js_urls == null || js_urls.length === 0) {\n      run_callbacks();\n      return null;\n    }\n    console.log(\"Bokeh: BokehJS not loaded, scheduling load and callback at\", now());\n    root._bokeh_is_loading = js_urls.length;\n    for (var i = 0; i < js_urls.length; i++) {\n      var url = js_urls[i];\n      var s = document.createElement('script');\n      s.src = url;\n      s.async = false;\n      s.onreadystatechange = s.onload = function() {\n        root._bokeh_is_loading--;\n        if (root._bokeh_is_loading === 0) {\n          console.log(\"Bokeh: all BokehJS libraries loaded\");\n          run_callbacks()\n        }\n      };\n      s.onerror = function() {\n        console.warn(\"failed to load library \" + url);\n      };\n      console.log(\"Bokeh: injecting script tag for BokehJS library: \", url);\n      document.getElementsByTagName(\"head\")[0].appendChild(s);\n    }\n  };var element = document.getElementById(\"baa92abb-80f9-4ef1-834d-b77285130344\");\n  if (element == null) {\n    console.log(\"Bokeh: ERROR: autoload.js configured with elementid 'baa92abb-80f9-4ef1-834d-b77285130344' but no matching script tag was found. \")\n    return false;\n  }\n\n  var js_urls = [\"https://cdn.pydata.org/bokeh/release/bokeh-0.12.13.min.js\", \"https://cdn.pydata.org/bokeh/release/bokeh-widgets-0.12.13.min.js\", \"https://cdn.pydata.org/bokeh/release/bokeh-tables-0.12.13.min.js\", \"https://cdn.pydata.org/bokeh/release/bokeh-gl-0.12.13.min.js\"];\n\n  var inline_js = [\n    function(Bokeh) {\n      Bokeh.set_log_level(\"info\");\n    },\n    \n    function(Bokeh) {\n      \n    },\n    function(Bokeh) {\n      console.log(\"Bokeh: injecting CSS: https://cdn.pydata.org/bokeh/release/bokeh-0.12.13.min.css\");\n      Bokeh.embed.inject_css(\"https://cdn.pydata.org/bokeh/release/bokeh-0.12.13.min.css\");\n      console.log(\"Bokeh: injecting CSS: https://cdn.pydata.org/bokeh/release/bokeh-widgets-0.12.13.min.css\");\n      Bokeh.embed.inject_css(\"https://cdn.pydata.org/bokeh/release/bokeh-widgets-0.12.13.min.css\");\n      console.log(\"Bokeh: injecting CSS: https://cdn.pydata.org/bokeh/release/bokeh-tables-0.12.13.min.css\");\n      Bokeh.embed.inject_css(\"https://cdn.pydata.org/bokeh/release/bokeh-tables-0.12.13.min.css\");\n    }\n  ];\n\n  function run_inline_js() {\n    \n    if ((root.Bokeh !== undefined) || (force === true)) {\n      for (var i = 0; i < inline_js.length; i++) {\n        inline_js[i].call(root, root.Bokeh);\n      }if (force === true) {\n        display_loaded();\n      }} else if (Date.now() < root._bokeh_timeout) {\n      setTimeout(run_inline_js, 100);\n    } else if (!root._bokeh_failed_load) {\n      console.log(\"Bokeh: BokehJS failed to load within specified timeout.\");\n      root._bokeh_failed_load = true;\n    } else if (force !== true) {\n      var cell = $(document.getElementById(\"baa92abb-80f9-4ef1-834d-b77285130344\")).parents('.cell').data().cell;\n      cell.output_area.append_execute_result(NB_LOAD_WARNING)\n    }\n\n  }\n\n  if (root._bokeh_is_loading === 0) {\n    console.log(\"Bokeh: BokehJS loaded, going straight to plotting\");\n    run_inline_js();\n  } else {\n    load_libs(js_urls, function() {\n      console.log(\"Bokeh: BokehJS plotting callback run at\", now());\n      run_inline_js();\n    });\n  }\n}(window));"
     },
     "metadata": {},
     "output_type": "display_data"
    }
   ],
   "source": [
    "import bokeh.plotting as bp\n",
    "from bokeh import palettes\n",
    "bp.output_notebook()\n"
   ]
  },
  {
   "cell_type": "code",
   "execution_count": 52,
   "metadata": {},
   "outputs": [
    {
     "data": {
      "text/html": [
       "\n",
       "<div class=\"bk-root\">\n",
       "    <div class=\"bk-plotdiv\" id=\"91cbed80-19c9-41d0-a90b-f4721e206e95\"></div>\n",
       "</div>"
      ]
     },
     "metadata": {},
     "output_type": "display_data"
    },
    {
     "data": {
      "application/javascript": [
       "(function(root) {\n",
       "  function embed_document(root) {\n",
       "    \n",
       "  var docs_json = {\"dca41db4-b00f-4c99-8360-904ed5c988cc\":{\"roots\":{\"references\":[{\"attributes\":{\"fill_color\":{\"value\":\"#1f77b4\"},\"line_color\":{\"value\":\"#1f77b4\"},\"x\":{\"field\":\"x\"},\"y\":{\"field\":\"y\"}},\"id\":\"166b0869-0fdc-4a47-a6f6-c6868d79abb8\",\"type\":\"Circle\"},{\"attributes\":{\"fill_alpha\":{\"value\":0.1},\"fill_color\":{\"value\":\"#1f77b4\"},\"line_alpha\":{\"value\":0.1},\"line_color\":{\"value\":\"#1f77b4\"},\"x\":{\"field\":\"x\"},\"y\":{\"field\":\"y\"}},\"id\":\"563d55b8-1853-43c3-8606-c884f84510ab\",\"type\":\"Circle\"},{\"attributes\":{\"formatter\":{\"id\":\"29e99100-1292-4983-bfa8-e898c0652394\",\"type\":\"BasicTickFormatter\"},\"plot\":{\"id\":\"cdcda911-a0f7-4919-bf0b-5492cd350d5c\",\"subtype\":\"Figure\",\"type\":\"Plot\"},\"ticker\":{\"id\":\"967bfda6-dead-40ef-b34a-83fc6c444156\",\"type\":\"BasicTicker\"}},\"id\":\"fb46567f-f6b1-49b7-a89e-7a4f04181a31\",\"type\":\"LinearAxis\"},{\"attributes\":{\"plot\":{\"id\":\"cdcda911-a0f7-4919-bf0b-5492cd350d5c\",\"subtype\":\"Figure\",\"type\":\"Plot\"},\"ticker\":{\"id\":\"6f245223-c443-466c-8a44-f75985aceb6b\",\"type\":\"BasicTicker\"}},\"id\":\"96634b1e-3cc3-463e-80a5-22f6b3cb139d\",\"type\":\"Grid\"},{\"attributes\":{\"callback\":null,\"column_names\":[\"x\",\"y\"],\"data\":{\"x\":{\"__ndarray__\":\"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\",\"dtype\":\"float32\",\"shape\":[1000]},\"y\":{\"__ndarray__\":\"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\",\"dtype\":\"float32\",\"shape\":[1000]}}},\"id\":\"733e641a-60b6-4c3f-b5c4-eff26035748d\",\"type\":\"ColumnDataSource\"},{\"attributes\":{},\"id\":\"4a6343af-27d0-4f08-a8ad-9ec1ec9980bd\",\"type\":\"PanTool\"},{\"attributes\":{},\"id\":\"c004fddf-0ab1-4330-9c71-240baeae62ac\",\"type\":\"LinearScale\"},{\"attributes\":{\"bottom_units\":\"screen\",\"fill_alpha\":{\"value\":0.5},\"fill_color\":{\"value\":\"lightgrey\"},\"left_units\":\"screen\",\"level\":\"overlay\",\"line_alpha\":{\"value\":1.0},\"line_color\":{\"value\":\"black\"},\"line_dash\":[4,4],\"line_width\":{\"value\":2},\"plot\":null,\"render_mode\":\"css\",\"right_units\":\"screen\",\"top_units\":\"screen\"},\"id\":\"e0f12d1f-33aa-40a3-8347-517e6061ee49\",\"type\":\"BoxAnnotation\"},{\"attributes\":{},\"id\":\"17f9dff2-2181-4b84-82b9-269a095e2f35\",\"type\":\"LinearScale\"},{\"attributes\":{\"data_source\":{\"id\":\"733e641a-60b6-4c3f-b5c4-eff26035748d\",\"type\":\"ColumnDataSource\"},\"glyph\":{\"id\":\"166b0869-0fdc-4a47-a6f6-c6868d79abb8\",\"type\":\"Circle\"},\"hover_glyph\":null,\"muted_glyph\":null,\"nonselection_glyph\":{\"id\":\"563d55b8-1853-43c3-8606-c884f84510ab\",\"type\":\"Circle\"},\"selection_glyph\":null,\"view\":{\"id\":\"738035ad-4a7e-4ece-9593-0a88640ec47a\",\"type\":\"CDSView\"}},\"id\":\"6f38f5d9-3066-49a1-9e25-42f58eaf12fe\",\"type\":\"GlyphRenderer\"},{\"attributes\":{\"source\":{\"id\":\"733e641a-60b6-4c3f-b5c4-eff26035748d\",\"type\":\"ColumnDataSource\"}},\"id\":\"738035ad-4a7e-4ece-9593-0a88640ec47a\",\"type\":\"CDSView\"},{\"attributes\":{\"dimension\":1,\"plot\":{\"id\":\"cdcda911-a0f7-4919-bf0b-5492cd350d5c\",\"subtype\":\"Figure\",\"type\":\"Plot\"},\"ticker\":{\"id\":\"967bfda6-dead-40ef-b34a-83fc6c444156\",\"type\":\"BasicTicker\"}},\"id\":\"21385750-60fa-42de-a4ef-79d9c899eeb7\",\"type\":\"Grid\"},{\"attributes\":{},\"id\":\"c8ab73e5-b5c1-4d20-b3c7-16d30f4c613c\",\"type\":\"ResetTool\"},{\"attributes\":{\"overlay\":{\"id\":\"e0f12d1f-33aa-40a3-8347-517e6061ee49\",\"type\":\"BoxAnnotation\"}},\"id\":\"2bb75998-42ec-4ec7-96c3-d6868db10d60\",\"type\":\"BoxZoomTool\"},{\"attributes\":{\"callback\":null},\"id\":\"e77db302-a8c6-4cc7-9696-6e1db4a2cdc5\",\"type\":\"DataRange1d\"},{\"attributes\":{},\"id\":\"967bfda6-dead-40ef-b34a-83fc6c444156\",\"type\":\"BasicTicker\"},{\"attributes\":{\"callback\":null},\"id\":\"22099c2c-058a-4bd1-9846-f29f12a374ec\",\"type\":\"DataRange1d\"},{\"attributes\":{},\"id\":\"6f245223-c443-466c-8a44-f75985aceb6b\",\"type\":\"BasicTicker\"},{\"attributes\":{\"formatter\":{\"id\":\"e819321f-b1e8-4838-acfa-7d895079cb5a\",\"type\":\"BasicTickFormatter\"},\"plot\":{\"id\":\"cdcda911-a0f7-4919-bf0b-5492cd350d5c\",\"subtype\":\"Figure\",\"type\":\"Plot\"},\"ticker\":{\"id\":\"6f245223-c443-466c-8a44-f75985aceb6b\",\"type\":\"BasicTicker\"}},\"id\":\"abfac457-55a7-41a6-bf66-92619824c077\",\"type\":\"LinearAxis\"},{\"attributes\":{},\"id\":\"e819321f-b1e8-4838-acfa-7d895079cb5a\",\"type\":\"BasicTickFormatter\"},{\"attributes\":{},\"id\":\"530a5359-248e-44d8-b624-dec476bda6e4\",\"type\":\"SaveTool\"},{\"attributes\":{},\"id\":\"29e99100-1292-4983-bfa8-e898c0652394\",\"type\":\"BasicTickFormatter\"},{\"attributes\":{},\"id\":\"ae64dab6-db97-461f-85dc-925d753e6d8e\",\"type\":\"WheelZoomTool\"},{\"attributes\":{},\"id\":\"8c821dbb-f381-4347-992c-65a6a2e31c8e\",\"type\":\"HelpTool\"},{\"attributes\":{\"active_drag\":\"auto\",\"active_inspect\":\"auto\",\"active_scroll\":\"auto\",\"active_tap\":\"auto\",\"tools\":[{\"id\":\"4a6343af-27d0-4f08-a8ad-9ec1ec9980bd\",\"type\":\"PanTool\"},{\"id\":\"ae64dab6-db97-461f-85dc-925d753e6d8e\",\"type\":\"WheelZoomTool\"},{\"id\":\"2bb75998-42ec-4ec7-96c3-d6868db10d60\",\"type\":\"BoxZoomTool\"},{\"id\":\"530a5359-248e-44d8-b624-dec476bda6e4\",\"type\":\"SaveTool\"},{\"id\":\"c8ab73e5-b5c1-4d20-b3c7-16d30f4c613c\",\"type\":\"ResetTool\"},{\"id\":\"8c821dbb-f381-4347-992c-65a6a2e31c8e\",\"type\":\"HelpTool\"}]},\"id\":\"7f5608f3-e79e-4eb8-9e39-fd0df453202a\",\"type\":\"Toolbar\"},{\"attributes\":{\"plot\":null,\"text\":\"\"},\"id\":\"c4140955-c911-4e06-950a-0f1ed0d9cb6f\",\"type\":\"Title\"},{\"attributes\":{\"below\":[{\"id\":\"abfac457-55a7-41a6-bf66-92619824c077\",\"type\":\"LinearAxis\"}],\"left\":[{\"id\":\"fb46567f-f6b1-49b7-a89e-7a4f04181a31\",\"type\":\"LinearAxis\"}],\"renderers\":[{\"id\":\"abfac457-55a7-41a6-bf66-92619824c077\",\"type\":\"LinearAxis\"},{\"id\":\"96634b1e-3cc3-463e-80a5-22f6b3cb139d\",\"type\":\"Grid\"},{\"id\":\"fb46567f-f6b1-49b7-a89e-7a4f04181a31\",\"type\":\"LinearAxis\"},{\"id\":\"21385750-60fa-42de-a4ef-79d9c899eeb7\",\"type\":\"Grid\"},{\"id\":\"e0f12d1f-33aa-40a3-8347-517e6061ee49\",\"type\":\"BoxAnnotation\"},{\"id\":\"6f38f5d9-3066-49a1-9e25-42f58eaf12fe\",\"type\":\"GlyphRenderer\"}],\"title\":{\"id\":\"c4140955-c911-4e06-950a-0f1ed0d9cb6f\",\"type\":\"Title\"},\"toolbar\":{\"id\":\"7f5608f3-e79e-4eb8-9e39-fd0df453202a\",\"type\":\"Toolbar\"},\"x_range\":{\"id\":\"e77db302-a8c6-4cc7-9696-6e1db4a2cdc5\",\"type\":\"DataRange1d\"},\"x_scale\":{\"id\":\"c004fddf-0ab1-4330-9c71-240baeae62ac\",\"type\":\"LinearScale\"},\"y_range\":{\"id\":\"22099c2c-058a-4bd1-9846-f29f12a374ec\",\"type\":\"DataRange1d\"},\"y_scale\":{\"id\":\"17f9dff2-2181-4b84-82b9-269a095e2f35\",\"type\":\"LinearScale\"}},\"id\":\"cdcda911-a0f7-4919-bf0b-5492cd350d5c\",\"subtype\":\"Figure\",\"type\":\"Plot\"}],\"root_ids\":[\"cdcda911-a0f7-4919-bf0b-5492cd350d5c\"]},\"title\":\"Bokeh Application\",\"version\":\"0.12.13\"}};\n",
       "  var render_items = [{\"docid\":\"dca41db4-b00f-4c99-8360-904ed5c988cc\",\"elementid\":\"91cbed80-19c9-41d0-a90b-f4721e206e95\",\"modelid\":\"cdcda911-a0f7-4919-bf0b-5492cd350d5c\"}];\n",
       "  root.Bokeh.embed.embed_items_notebook(docs_json, render_items);\n",
       "\n",
       "  }\n",
       "  if (root.Bokeh !== undefined) {\n",
       "    embed_document(root);\n",
       "  } else {\n",
       "    var attempts = 0;\n",
       "    var timer = setInterval(function(root) {\n",
       "      if (root.Bokeh !== undefined) {\n",
       "        embed_document(root);\n",
       "        clearInterval(timer);\n",
       "      }\n",
       "      attempts++;\n",
       "      if (attempts > 100) {\n",
       "        console.log(\"Bokeh: ERROR: Unable to run BokehJS code because BokehJS library is missing\")\n",
       "        clearInterval(timer);\n",
       "      }\n",
       "    }, 10, root)\n",
       "  }\n",
       "})(window);"
      ],
      "application/vnd.bokehjs_exec.v0+json": ""
     },
     "metadata": {
      "application/vnd.bokehjs_exec.v0+json": {
       "id": "cdcda911-a0f7-4919-bf0b-5492cd350d5c"
      }
     },
     "output_type": "display_data"
    }
   ],
   "source": [
    "p = bp.figure()\n",
    "p.scatter(y.numpy()[:,0] , y_model.detach().numpy()[:,0]   )\n",
    "bp.show(p)"
   ]
  },
  {
   "cell_type": "code",
   "execution_count": 63,
   "metadata": {},
   "outputs": [],
   "source": [
    "p = bp.figure()"
   ]
  },
  {
   "cell_type": "code",
   "execution_count": 64,
   "metadata": {},
   "outputs": [
    {
     "data": {
      "text/html": [
       "<div style=\"display: table;\"><div style=\"display: table-row;\"><div style=\"display: table-cell;\"><b title=\"bokeh.models.renderers.GlyphRenderer\">GlyphRenderer</b>(</div><div style=\"display: table-cell;\">id&nbsp;=&nbsp;'c5f10304-f75c-48fb-9b62-6cef506fcd21', <span id=\"859b84de-d922-461b-b929-f12c07addd81\" style=\"cursor: pointer;\">&hellip;)</span></div></div><div class=\"394527cf-0f08-428e-9a2c-43ef566d3f15\" style=\"display: none;\"><div style=\"display: table-cell;\"></div><div style=\"display: table-cell;\">data_source&nbsp;=&nbsp;ColumnDataSource(id='1ab5b29b-543e-4b74-91a4-877bcd5db968', ...),</div></div><div class=\"394527cf-0f08-428e-9a2c-43ef566d3f15\" style=\"display: none;\"><div style=\"display: table-cell;\"></div><div style=\"display: table-cell;\">glyph&nbsp;=&nbsp;Circle(id='92ce5dc5-8005-40fd-9556-98b05c36747e', ...),</div></div><div class=\"394527cf-0f08-428e-9a2c-43ef566d3f15\" style=\"display: none;\"><div style=\"display: table-cell;\"></div><div style=\"display: table-cell;\">hover_glyph&nbsp;=&nbsp;None,</div></div><div class=\"394527cf-0f08-428e-9a2c-43ef566d3f15\" style=\"display: none;\"><div style=\"display: table-cell;\"></div><div style=\"display: table-cell;\">js_event_callbacks&nbsp;=&nbsp;{},</div></div><div class=\"394527cf-0f08-428e-9a2c-43ef566d3f15\" style=\"display: none;\"><div style=\"display: table-cell;\"></div><div style=\"display: table-cell;\">js_property_callbacks&nbsp;=&nbsp;{},</div></div><div class=\"394527cf-0f08-428e-9a2c-43ef566d3f15\" style=\"display: none;\"><div style=\"display: table-cell;\"></div><div style=\"display: table-cell;\">level&nbsp;=&nbsp;'glyph',</div></div><div class=\"394527cf-0f08-428e-9a2c-43ef566d3f15\" style=\"display: none;\"><div style=\"display: table-cell;\"></div><div style=\"display: table-cell;\">muted&nbsp;=&nbsp;False,</div></div><div class=\"394527cf-0f08-428e-9a2c-43ef566d3f15\" style=\"display: none;\"><div style=\"display: table-cell;\"></div><div style=\"display: table-cell;\">muted_glyph&nbsp;=&nbsp;None,</div></div><div class=\"394527cf-0f08-428e-9a2c-43ef566d3f15\" style=\"display: none;\"><div style=\"display: table-cell;\"></div><div style=\"display: table-cell;\">name&nbsp;=&nbsp;None,</div></div><div class=\"394527cf-0f08-428e-9a2c-43ef566d3f15\" style=\"display: none;\"><div style=\"display: table-cell;\"></div><div style=\"display: table-cell;\">nonselection_glyph&nbsp;=&nbsp;Circle(id='7d38d257-d700-442c-afc7-6754978be1dd', ...),</div></div><div class=\"394527cf-0f08-428e-9a2c-43ef566d3f15\" style=\"display: none;\"><div style=\"display: table-cell;\"></div><div style=\"display: table-cell;\">selection_glyph&nbsp;=&nbsp;None,</div></div><div class=\"394527cf-0f08-428e-9a2c-43ef566d3f15\" style=\"display: none;\"><div style=\"display: table-cell;\"></div><div style=\"display: table-cell;\">subscribed_events&nbsp;=&nbsp;[],</div></div><div class=\"394527cf-0f08-428e-9a2c-43ef566d3f15\" style=\"display: none;\"><div style=\"display: table-cell;\"></div><div style=\"display: table-cell;\">tags&nbsp;=&nbsp;[],</div></div><div class=\"394527cf-0f08-428e-9a2c-43ef566d3f15\" style=\"display: none;\"><div style=\"display: table-cell;\"></div><div style=\"display: table-cell;\">view&nbsp;=&nbsp;CDSView(id='9e83ac1a-33cc-4f99-a675-26211a023312', ...),</div></div><div class=\"394527cf-0f08-428e-9a2c-43ef566d3f15\" style=\"display: none;\"><div style=\"display: table-cell;\"></div><div style=\"display: table-cell;\">visible&nbsp;=&nbsp;True,</div></div><div class=\"394527cf-0f08-428e-9a2c-43ef566d3f15\" style=\"display: none;\"><div style=\"display: table-cell;\"></div><div style=\"display: table-cell;\">x_range_name&nbsp;=&nbsp;'default',</div></div><div class=\"394527cf-0f08-428e-9a2c-43ef566d3f15\" style=\"display: none;\"><div style=\"display: table-cell;\"></div><div style=\"display: table-cell;\">y_range_name&nbsp;=&nbsp;'default')</div></div></div>\n",
       "<script>\n",
       "(function() {\n",
       "  var expanded = false;\n",
       "  var ellipsis = document.getElementById(\"859b84de-d922-461b-b929-f12c07addd81\");\n",
       "  ellipsis.addEventListener(\"click\", function() {\n",
       "    var rows = document.getElementsByClassName(\"394527cf-0f08-428e-9a2c-43ef566d3f15\");\n",
       "    for (var i = 0; i < rows.length; i++) {\n",
       "      var el = rows[i];\n",
       "      el.style.display = expanded ? \"none\" : \"table-row\";\n",
       "    }\n",
       "    ellipsis.innerHTML = expanded ? \"&hellip;)\" : \"&lsaquo;&lsaquo;&lsaquo;\";\n",
       "    expanded = !expanded;\n",
       "  });\n",
       "})();\n",
       "</script>\n"
      ],
      "text/plain": [
       "GlyphRenderer(id='c5f10304-f75c-48fb-9b62-6cef506fcd21', ...)"
      ]
     },
     "execution_count": 64,
     "metadata": {},
     "output_type": "execute_result"
    }
   ],
   "source": [
    "p.scatter(share_prices.numpy()[:,0] , y.numpy()[:,0])"
   ]
  },
  {
   "cell_type": "code",
   "execution_count": 66,
   "metadata": {},
   "outputs": [
    {
     "data": {
      "text/plain": [
       "\u001b[0;31mSignature:\u001b[0m \u001b[0mp\u001b[0m\u001b[0;34m.\u001b[0m\u001b[0mscatter\u001b[0m\u001b[0;34m(\u001b[0m\u001b[0;34m*\u001b[0m\u001b[0margs\u001b[0m\u001b[0;34m,\u001b[0m \u001b[0;34m**\u001b[0m\u001b[0mkwargs\u001b[0m\u001b[0;34m)\u001b[0m\u001b[0;34m\u001b[0m\u001b[0m\n",
       "\u001b[0;31mDocstring:\u001b[0m\n",
       "Creates a scatter plot of the given x and y items.\n",
       "\n",
       "Args:\n",
       "    x (str or seq[float]) : values or field names of center x coordinates\n",
       "    y (str or seq[float]) : values or field names of center y coordinates\n",
       "    size (str or list[float]) : values or field names of sizes in screen units\n",
       "    marker (str, optional): a valid marker_type, defaults to \"circle\"\n",
       "    color (color value, optional): shorthand to set both fill and line color\n",
       "    source (:class:`~bokeh.models.sources.ColumnDataSource`) : a user-supplied data source.\n",
       "        An attempt will be made to convert the object to :class:`~bokeh.models.sources.ColumnDataSource`\n",
       "        if needed. If none is supplied, one is created for the user automatically.\n",
       "    **kwargs: :ref:`userguide_styling_line_properties` and :ref:`userguide_styling_fill_properties`\n",
       "\n",
       "Examples:\n",
       "\n",
       "    >>> p.scatter([1,2,3],[4,5,6], fill_color=\"red\")\n",
       "    >>> p.scatter(\"data1\", \"data2\", source=data_source, ...)\n",
       "\u001b[0;31mFile:\u001b[0m      ~/anaconda3/envs/base2/lib/python3.5/site-packages/bokeh/plotting/figure.py\n",
       "\u001b[0;31mType:\u001b[0m      method\n"
      ]
     },
     "metadata": {},
     "output_type": "display_data"
    }
   ],
   "source": [
    "?p.scatter"
   ]
  },
  {
   "cell_type": "code",
   "execution_count": 67,
   "metadata": {},
   "outputs": [
    {
     "data": {
      "text/html": [
       "<div style=\"display: table;\"><div style=\"display: table-row;\"><div style=\"display: table-cell;\"><b title=\"bokeh.models.renderers.GlyphRenderer\">GlyphRenderer</b>(</div><div style=\"display: table-cell;\">id&nbsp;=&nbsp;'f6b4f905-3731-47b0-85f7-eb79da523aeb', <span id=\"b851e99a-58e5-495f-b27e-86b82d5d7c3e\" style=\"cursor: pointer;\">&hellip;)</span></div></div><div class=\"34aa513d-06fd-45f0-8e58-9a691d13774c\" style=\"display: none;\"><div style=\"display: table-cell;\"></div><div style=\"display: table-cell;\">data_source&nbsp;=&nbsp;ColumnDataSource(id='78ee3f9f-7de6-441a-a598-f838d7581701', ...),</div></div><div class=\"34aa513d-06fd-45f0-8e58-9a691d13774c\" style=\"display: none;\"><div style=\"display: table-cell;\"></div><div style=\"display: table-cell;\">glyph&nbsp;=&nbsp;Circle(id='246ca423-5c63-4eda-8c6f-fd0e5086c554', ...),</div></div><div class=\"34aa513d-06fd-45f0-8e58-9a691d13774c\" style=\"display: none;\"><div style=\"display: table-cell;\"></div><div style=\"display: table-cell;\">hover_glyph&nbsp;=&nbsp;None,</div></div><div class=\"34aa513d-06fd-45f0-8e58-9a691d13774c\" style=\"display: none;\"><div style=\"display: table-cell;\"></div><div style=\"display: table-cell;\">js_event_callbacks&nbsp;=&nbsp;{},</div></div><div class=\"34aa513d-06fd-45f0-8e58-9a691d13774c\" style=\"display: none;\"><div style=\"display: table-cell;\"></div><div style=\"display: table-cell;\">js_property_callbacks&nbsp;=&nbsp;{},</div></div><div class=\"34aa513d-06fd-45f0-8e58-9a691d13774c\" style=\"display: none;\"><div style=\"display: table-cell;\"></div><div style=\"display: table-cell;\">level&nbsp;=&nbsp;'glyph',</div></div><div class=\"34aa513d-06fd-45f0-8e58-9a691d13774c\" style=\"display: none;\"><div style=\"display: table-cell;\"></div><div style=\"display: table-cell;\">muted&nbsp;=&nbsp;False,</div></div><div class=\"34aa513d-06fd-45f0-8e58-9a691d13774c\" style=\"display: none;\"><div style=\"display: table-cell;\"></div><div style=\"display: table-cell;\">muted_glyph&nbsp;=&nbsp;None,</div></div><div class=\"34aa513d-06fd-45f0-8e58-9a691d13774c\" style=\"display: none;\"><div style=\"display: table-cell;\"></div><div style=\"display: table-cell;\">name&nbsp;=&nbsp;None,</div></div><div class=\"34aa513d-06fd-45f0-8e58-9a691d13774c\" style=\"display: none;\"><div style=\"display: table-cell;\"></div><div style=\"display: table-cell;\">nonselection_glyph&nbsp;=&nbsp;Circle(id='eff1695a-9b96-4b2f-83f5-337246d68c91', ...),</div></div><div class=\"34aa513d-06fd-45f0-8e58-9a691d13774c\" style=\"display: none;\"><div style=\"display: table-cell;\"></div><div style=\"display: table-cell;\">selection_glyph&nbsp;=&nbsp;None,</div></div><div class=\"34aa513d-06fd-45f0-8e58-9a691d13774c\" style=\"display: none;\"><div style=\"display: table-cell;\"></div><div style=\"display: table-cell;\">subscribed_events&nbsp;=&nbsp;[],</div></div><div class=\"34aa513d-06fd-45f0-8e58-9a691d13774c\" style=\"display: none;\"><div style=\"display: table-cell;\"></div><div style=\"display: table-cell;\">tags&nbsp;=&nbsp;[],</div></div><div class=\"34aa513d-06fd-45f0-8e58-9a691d13774c\" style=\"display: none;\"><div style=\"display: table-cell;\"></div><div style=\"display: table-cell;\">view&nbsp;=&nbsp;CDSView(id='a1938b53-d427-43e9-8880-72ddd0fd22c7', ...),</div></div><div class=\"34aa513d-06fd-45f0-8e58-9a691d13774c\" style=\"display: none;\"><div style=\"display: table-cell;\"></div><div style=\"display: table-cell;\">visible&nbsp;=&nbsp;True,</div></div><div class=\"34aa513d-06fd-45f0-8e58-9a691d13774c\" style=\"display: none;\"><div style=\"display: table-cell;\"></div><div style=\"display: table-cell;\">x_range_name&nbsp;=&nbsp;'default',</div></div><div class=\"34aa513d-06fd-45f0-8e58-9a691d13774c\" style=\"display: none;\"><div style=\"display: table-cell;\"></div><div style=\"display: table-cell;\">y_range_name&nbsp;=&nbsp;'default')</div></div></div>\n",
       "<script>\n",
       "(function() {\n",
       "  var expanded = false;\n",
       "  var ellipsis = document.getElementById(\"b851e99a-58e5-495f-b27e-86b82d5d7c3e\");\n",
       "  ellipsis.addEventListener(\"click\", function() {\n",
       "    var rows = document.getElementsByClassName(\"34aa513d-06fd-45f0-8e58-9a691d13774c\");\n",
       "    for (var i = 0; i < rows.length; i++) {\n",
       "      var el = rows[i];\n",
       "      el.style.display = expanded ? \"none\" : \"table-row\";\n",
       "    }\n",
       "    ellipsis.innerHTML = expanded ? \"&hellip;)\" : \"&lsaquo;&lsaquo;&lsaquo;\";\n",
       "    expanded = !expanded;\n",
       "  });\n",
       "})();\n",
       "</script>\n"
      ],
      "text/plain": [
       "GlyphRenderer(id='f6b4f905-3731-47b0-85f7-eb79da523aeb', ...)"
      ]
     },
     "execution_count": 67,
     "metadata": {},
     "output_type": "execute_result"
    }
   ],
   "source": [
    "p.scatter(share_prices.numpy()[:,0] , y_model.detach().numpy()[:,0] , fill_color = \"red\")"
   ]
  },
  {
   "cell_type": "code",
   "execution_count": 68,
   "metadata": {},
   "outputs": [
    {
     "data": {
      "text/html": [
       "\n",
       "<div class=\"bk-root\">\n",
       "    <div class=\"bk-plotdiv\" id=\"685ea504-52f4-472c-b9ab-84b331da1166\"></div>\n",
       "</div>"
      ]
     },
     "metadata": {},
     "output_type": "display_data"
    },
    {
     "data": {
      "application/javascript": [
       "(function(root) {\n",
       "  function embed_document(root) {\n",
       "    \n",
       "  var docs_json = {\"d5625d0e-4752-4bab-a1a8-ad6994e75162\":{\"roots\":{\"references\":[{\"attributes\":{},\"id\":\"6d7017d3-c485-4d87-8297-c57a8834d029\",\"type\":\"SaveTool\"},{\"attributes\":{\"fill_alpha\":{\"value\":0.1},\"fill_color\":{\"value\":\"#1f77b4\"},\"line_alpha\":{\"value\":0.1},\"line_color\":{\"value\":\"#1f77b4\"},\"x\":{\"field\":\"x\"},\"y\":{\"field\":\"y\"}},\"id\":\"7d38d257-d700-442c-afc7-6754978be1dd\",\"type\":\"Circle\"},{\"attributes\":{\"overlay\":{\"id\":\"d84d5377-9a34-422a-8ee9-361dd1a67f5d\",\"type\":\"BoxAnnotation\"}},\"id\":\"bc2b0ce7-c951-4ad6-9347-31b72e22b213\",\"type\":\"BoxZoomTool\"},{\"attributes\":{},\"id\":\"7d404e02-89d5-432b-bb91-a761e21168d2\",\"type\":\"WheelZoomTool\"},{\"attributes\":{\"active_drag\":\"auto\",\"active_inspect\":\"auto\",\"active_scroll\":\"auto\",\"active_tap\":\"auto\",\"tools\":[{\"id\":\"140d8509-3f4a-4e4c-adf9-f26678716973\",\"type\":\"PanTool\"},{\"id\":\"7d404e02-89d5-432b-bb91-a761e21168d2\",\"type\":\"WheelZoomTool\"},{\"id\":\"bc2b0ce7-c951-4ad6-9347-31b72e22b213\",\"type\":\"BoxZoomTool\"},{\"id\":\"6d7017d3-c485-4d87-8297-c57a8834d029\",\"type\":\"SaveTool\"},{\"id\":\"39b997f6-ea11-44b4-b0e5-1ceb3b9301af\",\"type\":\"ResetTool\"},{\"id\":\"ce734eb3-e9ef-443b-926e-ca19a2b2905d\",\"type\":\"HelpTool\"}]},\"id\":\"6ff00f52-a92d-413e-9c79-1c3cc0c38c01\",\"type\":\"Toolbar\"},{\"attributes\":{},\"id\":\"eeb1533f-e241-473a-80a9-8e79990991f6\",\"type\":\"BasicTickFormatter\"},{\"attributes\":{\"bottom_units\":\"screen\",\"fill_alpha\":{\"value\":0.5},\"fill_color\":{\"value\":\"lightgrey\"},\"left_units\":\"screen\",\"level\":\"overlay\",\"line_alpha\":{\"value\":1.0},\"line_color\":{\"value\":\"black\"},\"line_dash\":[4,4],\"line_width\":{\"value\":2},\"plot\":null,\"render_mode\":\"css\",\"right_units\":\"screen\",\"top_units\":\"screen\"},\"id\":\"d84d5377-9a34-422a-8ee9-361dd1a67f5d\",\"type\":\"BoxAnnotation\"},{\"attributes\":{},\"id\":\"b9367290-fbf8-4538-af61-3d616610396d\",\"type\":\"BasicTicker\"},{\"attributes\":{},\"id\":\"2c192b8e-8827-4ebc-80ec-ab443e07a16d\",\"type\":\"BasicTickFormatter\"},{\"attributes\":{\"plot\":null,\"text\":\"\"},\"id\":\"ed030d20-8e9d-4392-bf05-ccd3ce02821f\",\"type\":\"Title\"},{\"attributes\":{\"callback\":null,\"column_names\":[\"x\",\"y\"],\"data\":{\"x\":{\"__ndarray__\":\"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\",\"dtype\":\"float32\",\"shape\":[1000]},\"y\":{\"__ndarray__\":\"o/+nQ+KwnENwKnNDagQ3RAxgtUBUtyREk50xRLPSGERcojlEUyFXRNbEDUQFGCdEosQdRAW1QEQk3DND9pfXQ2zhvUNfP4FC3woyRBB0V0SEdSVE5+5jQLYeO0T8HAJE3pt2Q7hl10MOB7xCFJq6Qn7POEMHtjY3EAjeQ0jY60Ne4xRDeTtERLYrLEOxu5tBRFo3QyoC/UMoEAlEAhM7Q32yoUHJnqpDbKQUQsf1KkSeOxhDstMpRD8L7T8P4hxEtS0MQvTjfUNO3K5BYtudQxaD+UKY7DFEEN1cQ7qbKUQCGQ5EzMAVRE8m3Tyfv0VEUOvNQ7S0skNwTOVDBxcLROBizUN5BClCPNW+Q6yWkEPsA3A8b+hERJc3j0Nuo8BCd0g/REpgLUOATPNDBVo1RLRuDkLn4P5A0Qy+Qz9UJURjXUlEd0sXRGqTNETEigREkGVRRIK9K0TkGEpExrM2RF5DD0MXkDdEdx0XRAAgqkIcTjRD/kNYRFcYNkRrdAZEL7KXQ7DS50OeJiI8jHf8Q25D5ENQTjlEBMBPRMypoULGrmdDFzxRROUQF0RJrZBD8BlDRFpD9kOauQNDdgSlQwBviEMFukFENFfAQ44OG0QGZxhEJighRO7BCi2ALaxBQwqZQvDhXULEJkpDBjE5Q/4/FEQvTglEDuHgQxikCkSUN+4/xUfKHTYK0TAAAAAAXyzBPJzhKC/a2tRBbl69QzvKCUSQUR1CgtL+QzhVqkJobU9DJywJQyNMNUSM3MFDUKhyQ6fEZ0IuEpMeBtJLRFDkJUT4HANEAAAAAGfeO0QSbqlDXD1/QvKm+ULfuIFBhkq9QjgaBUNXQTNEP3i5Qyd0T0Qr1iM6qmBjQ3uAL0QAAAAA9mJTQwAAAABvBipEuw0TRFiB6UKUlcFDICe5Q3nrUETX71VECDnBQ8lyG0Q8UjhEiNMVQsmxKEQkhYtDYAhnQ5iFADajuCFCcTGGPx3MzT9W9HFDm2BPRHJAmUNKtd1DWiHSQ7XkNESwN/VDFhAyRLeCNkSkRBg90XCSQ09RT0QSSwpErTPAP0A0ykMCUZxA7tx9NKK+kUDeZxNEe8EARAznHUMy8KtDJOiCQlghYkOcVCNEvnj0QjC+y0HaaOxDxA8HL7fpKDbasBFEP0afQ1W3FkRoZzVEoKsaRBSBVkQfVDJE1pMURJbm0UJvy6pDllPEQ4XiFkQKKNRDzuPUQ1ofD0QPb0FE9vjjQj0fQUQDSAJESIxKRFaayD8AAAAAQooxPxYuCEQeP9JDxIUcRBpc1kMeISJEE11xOzKYS0QVMEo//khuQ0FQUUT2rfNDasEuQxeyiz9W609EGvgWRLnfOkQsefRC+KPNQ6MUAUSGhAZDF7wGQrqPwkMdC1dEAAAAAHCSL0QYeg1Ecc0eRGmXw0IPgaJDXtEGRAAAAADgwt1DQWyrQ2Y49UI1siREOdt6Opjt0EL+pCVE6FIgQxmbKESOuM4d/w0hRKjF+EGbVQtEunfrQ55WIkEOJPlDLpfIQ985UkBg879D+tofPcKyCT3iKgw2rSRIQi+CQ0SVqjJEqqs7RIr81kPbWsY5DoSnQwnts0M+WrtBrrILRASF6EMNo09Ez7aBQ9UhIESeeQFCrvD8Q7BHbEMAAAAAStcFQF09Q0QHLyBEFjDgQ4QmJkRtEgw6+sD1Q/8QLUT+4TFEsTCYQywHq0L+ZTRDdhz8Q4UsLESq0fNC7ihSRHKut0PI8ZVD3kzUO4bgRURuSiBEgZILRNS7yEOINV9CAAAAAPNRa0IE0NxCirlSQV4iJ0QuDYxDIyhdQTHhB0T1eQFEHKoeRKrTcD1CDYtDfNMYQ4RsB0R5+pxCQCqLQxMIKETH1JhDTCKBQ2cd1DllGapDYzICRIxOVkRq6OhCWuXOQko240CJGAY9d4CWQ1TSyEMzpM8/HPAERGojJERCor1DOcUaQby3ykPYVzVEq6PSQRdPAURak1VDQBnRQJS1TEMwemZC8FQoQ8cVDkTclTBC4Z8KREt9BUTCpjJDl6IXRGwowEOOjMFCsqQ0RHwkxEORc8Y9UdopRMxfPUTg8cBD/bBJRHSn7kFzIRZEypsDQ4e2NUKwa588ag1YQ8NiP0QtNAdEDHsqQwy9KkSEG4lCM7EuRLKXH0R8JaRDlkFARAPFYEJYpO0vl/cnRAAAAACD/TJEQ4XwQaUk0Tw+Kqk+Em0cRMQU4UNmlTBDTsNqQwYTFEP5py9EiVY2RJJ4xEPf6qRDE7N4QRwV90KoeRlDmlmPQNTGTESGV1NEVOTcQ04W6kOuI91DdBQiRJcgI0QeQRw9Gr93HUVwG0QUFIxCKhZ8Q1xoyUNf4iNEbby0Q0WzTD8H409E+E8MQybiV0QWW3hD/GUmRETw4j4M8wZEE30bRHzVDEON0FZCA44jRPhS+kOstRhDuohURDy4LEQAwd5Du9YxRIIHGURANy8/5O4oQmSq6kP2l75DLAIqRG+OhkMAAAAARMw2Q+wNxjpWXzNESfxgQW9tN0Iwgcg/TIBMQzhMM0SKr/FDHAdQRKcUIkQDORJEak/7Q7e3MDBhWKlD2HFjQ1edmUOmg4U8yYEZRKa6C0SJp05EBCm8MIl1AkQuK1lDt9ZoNi0KTkSYSudDEYmeQ1i57UME9BBCx6gqRLUZPUSirc9DHNDVQ13iNESxvjVEJWeBQyxmIkQU+A5DePA2RJzLMkRmpUJEZ4aIQ3QeNkSVX5tD+AKnQhi1bzygDf5CgInxQ0Fxs0NwZE5DUN0lRLIWS0SFy1ZEokbrQ0lmCkQcQFhEDVJCPrAmT0N2g3xDfvY9REmsBkSEX8ZD+a6PQ8XiTUSk/fZCXNfMQ/elMETNXy5EfgXoQLVmaz5noIVDg04JRCZyRTRhyiREkXYmRDKH5kJCP2RDZTGHQiDioEPcXIg24YlHMvRYHUIrjBtEqzQmRKe1LkRxE71BJNTjQ2SKRUP9RpBDc8xUPuc1SkTbeLdDEuaQQ25QK0RoUMJChkhSRDoUm0JDgFNEZZAtQCy/uUKcGx89CvUlRELjKUP8tEdD/OwOQ/APxkNYjEhEtr0XRB25XEEydVlEiDEmQqCY+T6oBrhDMPICRDSzF0TWZVdEmunpQ8lmB0QgkqQ+O5RVRM2KIERUUlBE1eUoPUyGRUTsmuND/OgYRJnQPkQ87RJAmOTiQsSBxkN9Bqc7N41JRGt9xkFb4bND3HFNRBzXBkTysv80QW/lQrQa9kPsz8VCQvwHQyR6/ELW0qVDUUUWRGeDtEM4Zo1AqNi4Q35I9UMq80tEFOOMQYlKqkPOgHRDxhNZRMCZKUOlxBU+3O8GRKCOnDSRmz1ErCKTQ1fJNUQRTjREWgoWRBgjmzQQLx5EPsy8PWo4L0Sc6gY/OHIiRPdqhENxkCBEgJaYQ4h2x0JGsbFDzJLuQui3wELkp1Y0hHjzQrAtFETiwB5EitENREqVXkOdOk1EGrR6QwrMQ0SyR6JCiv0gOHrn0UIDZaVDGUBRRD7UF0P0ihZDX1FoOxCuGEQ4TVdEavD9Q7xOkkMGqbxCRFzJQ4ddL0QAAAAAI+DNPxAbukE4Q/pCPQ8yRNsIREQPkBM9bp9+QXakjUOqcNlDZjXEQ5u0nUO1kRVEtYYrRHpCqEP/EDlEW1YLROUc4TnFn55COaIMRD5mC0LstBxEm36DQzi380OAKOtDI2mALXfJ8jmJah5EtbQRRByrUkR8dwFEPpPgQgvKmENaj9dD2aknRMqJ7kMWZeZD1u8nQ5DYPUHAXhdE09QcRKCa90LA55tCgHEaROlJLjxS3VNCfkVXRCf3zUHGBvVDe+GhQirfMEQ48jBExmteQ3xIS0TWBc9DbHnzQ4jhoEMdExBEa9oERG+9NEQPBrY+TWNPREAapEKfIQ5EAQ9TRHqCR0RXE7RDxMzRQw6EC0Ro6DJEFxkcRGtnskMrxLlDdNH+Qtv+MkRgdzxExlPiQ8muKETBIChE2sEyRJ/ejkMQnSVEIvPHQ6+zJ0T+7PdDwTKzQ5iHiUP2IoVDDleRQ6hpQ0TMfT5EAAAAAJYJjUKmiBRENEvNQ55MQkO2kHVDTCpSQhJ5HURn8xlEKhJURGuBOTVHIZlDXUseRMxp5kPjRTBE0g0KRKFVkEOMwa9DolUDRKCtS0TeKjxE5n/5QwQI00I4YzhEvYRMRMdFGETe8UVEjfA2RCoV4kOohUFE9yueQwxYKURCENM87K/rQ2CR0ENKHidDKfgIRAIJIkRyN01DyMEbRBrMQj3JWUBEO5ECREImPUQECzFEuzR+GNNAv0HG2w5D/z8ERIpbw0Ms8khEyB9DRLCAQUIx8lJBtkbdQ8JE2UJ8HxRCOvSxQ9LSg0LPajJEIO02RFxC8EOiuYpDw4QCRDiyS0QWRahD3GLXQ9hOGUS4v7g/YJjpQwe7TUDsAlVE1t3DQ0T4PkQIuDpDAAAAAICVSkQuDnhDzlklQxjMl0FbZQhEOzQQRJr/Q0TEhHJCCQv0Qcd8/D7mssVDE0oQGWX9u0OPKiNERqmUQ6CHPEPTFRJETApGRPRmWUPfsiVEdi5TRMb1gUJ49dhDaqvGHVYseEMAAAAA5AhMRB5aTEOIZKxDZI3iP/DN6kMzd7pDzJcCRKKw+EPGt/lDw2UqREgCQkQLQg1EyHbgQy7yAUQCCERDMPA5Q/xMRERbjEREqqErRAXPMUTfKNJB4nZLRJdESURq+H9DkXEQRN/RP0QAAAAAoxQxRJ5WRkQiYx9EG00AEGY4qkKMhBlBAAAAAC6sBET7vDJEQHaZONjts0M5A0tE84cnRBoCl0MOjeJAIUKOQxBISUMemm9DhkzAQw7pW0Mqbu9DznA8RLhkDUPPuqZCD9amQ7LUOkTkHOFDahqiQje7OkQmO+VDJ1wkRDpnyEIE2M1Cskv2Q6uuSETgCf1DvLVURLJAWUO8rq1CE/sURKu2OUSESMJDAqbhP/eYDEQzCUFEqi3yQ9YrT0S691dEFQQPMy4sXUL2ytBDZgm8Q74B1kMgTiJDiMnlQuCYQEQ4/zdE//q/QtQ6O0QO4UdDkLLmQ3bywEO7nJRDJu4hQuiCJkMLh7pD+UQKRBcNPEQs+zFDt/5ARAjLbUNcXEFEVi5DRKEyt0NoeiFDWRRVRLnMhT1lWQBE5TSGQ/ZKKDntFTxE3ph9Q7DLl0OcY31CpPWZQ4KTTULqO89DoN6UQifRYju7Sf8O5ieaQpq/ukOfpL1DvmAZQ6o6pENYt7VCoqZFRDzL4kLWdB1DUNEpREv8H0Q33CtETqAkQ4yOCUHaYcZD66UbRJPeKEQAAAAAyBKSQxYAx0I0ovxDxi6OLg==\",\"dtype\":\"float32\",\"shape\":[1000]}}},\"id\":\"1ab5b29b-543e-4b74-91a4-877bcd5db968\",\"type\":\"ColumnDataSource\"},{\"attributes\":{},\"id\":\"ff00d46d-898d-40cf-aad5-8c33ab9bee99\",\"type\":\"BasicTicker\"},{\"attributes\":{\"data_source\":{\"id\":\"78ee3f9f-7de6-441a-a598-f838d7581701\",\"type\":\"ColumnDataSource\"},\"glyph\":{\"id\":\"246ca423-5c63-4eda-8c6f-fd0e5086c554\",\"type\":\"Circle\"},\"hover_glyph\":null,\"muted_glyph\":null,\"nonselection_glyph\":{\"id\":\"eff1695a-9b96-4b2f-83f5-337246d68c91\",\"type\":\"Circle\"},\"selection_glyph\":null,\"view\":{\"id\":\"a1938b53-d427-43e9-8880-72ddd0fd22c7\",\"type\":\"CDSView\"}},\"id\":\"f6b4f905-3731-47b0-85f7-eb79da523aeb\",\"type\":\"GlyphRenderer\"},{\"attributes\":{\"callback\":null},\"id\":\"1f120a78-5dc4-4457-b35c-36f559aae286\",\"type\":\"DataRange1d\"},{\"attributes\":{\"source\":{\"id\":\"78ee3f9f-7de6-441a-a598-f838d7581701\",\"type\":\"ColumnDataSource\"}},\"id\":\"a1938b53-d427-43e9-8880-72ddd0fd22c7\",\"type\":\"CDSView\"},{\"attributes\":{\"formatter\":{\"id\":\"2c192b8e-8827-4ebc-80ec-ab443e07a16d\",\"type\":\"BasicTickFormatter\"},\"plot\":{\"id\":\"84300231-8af2-43f8-a6cb-3179f74ea343\",\"subtype\":\"Figure\",\"type\":\"Plot\"},\"ticker\":{\"id\":\"ff00d46d-898d-40cf-aad5-8c33ab9bee99\",\"type\":\"BasicTicker\"}},\"id\":\"29d95f5f-9452-4037-9ba0-986eb568a584\",\"type\":\"LinearAxis\"},{\"attributes\":{\"fill_alpha\":{\"value\":0.1},\"fill_color\":{\"value\":\"#1f77b4\"},\"line_alpha\":{\"value\":0.1},\"line_color\":{\"value\":\"#1f77b4\"},\"x\":{\"field\":\"x\"},\"y\":{\"field\":\"y\"}},\"id\":\"eff1695a-9b96-4b2f-83f5-337246d68c91\",\"type\":\"Circle\"},{\"attributes\":{\"dimension\":1,\"plot\":{\"id\":\"84300231-8af2-43f8-a6cb-3179f74ea343\",\"subtype\":\"Figure\",\"type\":\"Plot\"},\"ticker\":{\"id\":\"ff00d46d-898d-40cf-aad5-8c33ab9bee99\",\"type\":\"BasicTicker\"}},\"id\":\"8c64d816-1be2-4e14-bf17-62357a74b159\",\"type\":\"Grid\"},{\"attributes\":{\"callback\":null,\"column_names\":[\"x\",\"y\"],\"data\":{\"x\":{\"__ndarray__\":\"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\",\"dtype\":\"float32\",\"shape\":[1000]},\"y\":{\"__ndarray__\":\"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\",\"dtype\":\"float32\",\"shape\":[1000]}}},\"id\":\"78ee3f9f-7de6-441a-a598-f838d7581701\",\"type\":\"ColumnDataSource\"},{\"attributes\":{},\"id\":\"ce734eb3-e9ef-443b-926e-ca19a2b2905d\",\"type\":\"HelpTool\"},{\"attributes\":{\"data_source\":{\"id\":\"1ab5b29b-543e-4b74-91a4-877bcd5db968\",\"type\":\"ColumnDataSource\"},\"glyph\":{\"id\":\"92ce5dc5-8005-40fd-9556-98b05c36747e\",\"type\":\"Circle\"},\"hover_glyph\":null,\"muted_glyph\":null,\"nonselection_glyph\":{\"id\":\"7d38d257-d700-442c-afc7-6754978be1dd\",\"type\":\"Circle\"},\"selection_glyph\":null,\"view\":{\"id\":\"9e83ac1a-33cc-4f99-a675-26211a023312\",\"type\":\"CDSView\"}},\"id\":\"c5f10304-f75c-48fb-9b62-6cef506fcd21\",\"type\":\"GlyphRenderer\"},{\"attributes\":{\"fill_color\":{\"value\":\"#1f77b4\"},\"line_color\":{\"value\":\"#1f77b4\"},\"x\":{\"field\":\"x\"},\"y\":{\"field\":\"y\"}},\"id\":\"92ce5dc5-8005-40fd-9556-98b05c36747e\",\"type\":\"Circle\"},{\"attributes\":{},\"id\":\"140d8509-3f4a-4e4c-adf9-f26678716973\",\"type\":\"PanTool\"},{\"attributes\":{},\"id\":\"39b997f6-ea11-44b4-b0e5-1ceb3b9301af\",\"type\":\"ResetTool\"},{\"attributes\":{\"formatter\":{\"id\":\"eeb1533f-e241-473a-80a9-8e79990991f6\",\"type\":\"BasicTickFormatter\"},\"plot\":{\"id\":\"84300231-8af2-43f8-a6cb-3179f74ea343\",\"subtype\":\"Figure\",\"type\":\"Plot\"},\"ticker\":{\"id\":\"b9367290-fbf8-4538-af61-3d616610396d\",\"type\":\"BasicTicker\"}},\"id\":\"50eea33a-e046-4a1b-8b27-a8a16e1b9864\",\"type\":\"LinearAxis\"},{\"attributes\":{},\"id\":\"84146c67-b2f3-4eb6-8c3f-5fdb218fd15c\",\"type\":\"LinearScale\"},{\"attributes\":{\"below\":[{\"id\":\"50eea33a-e046-4a1b-8b27-a8a16e1b9864\",\"type\":\"LinearAxis\"}],\"left\":[{\"id\":\"29d95f5f-9452-4037-9ba0-986eb568a584\",\"type\":\"LinearAxis\"}],\"renderers\":[{\"id\":\"50eea33a-e046-4a1b-8b27-a8a16e1b9864\",\"type\":\"LinearAxis\"},{\"id\":\"1303e310-c13d-4103-b325-0e62269dba66\",\"type\":\"Grid\"},{\"id\":\"29d95f5f-9452-4037-9ba0-986eb568a584\",\"type\":\"LinearAxis\"},{\"id\":\"8c64d816-1be2-4e14-bf17-62357a74b159\",\"type\":\"Grid\"},{\"id\":\"d84d5377-9a34-422a-8ee9-361dd1a67f5d\",\"type\":\"BoxAnnotation\"},{\"id\":\"c5f10304-f75c-48fb-9b62-6cef506fcd21\",\"type\":\"GlyphRenderer\"},{\"id\":\"f6b4f905-3731-47b0-85f7-eb79da523aeb\",\"type\":\"GlyphRenderer\"}],\"title\":{\"id\":\"ed030d20-8e9d-4392-bf05-ccd3ce02821f\",\"type\":\"Title\"},\"toolbar\":{\"id\":\"6ff00f52-a92d-413e-9c79-1c3cc0c38c01\",\"type\":\"Toolbar\"},\"x_range\":{\"id\":\"1f120a78-5dc4-4457-b35c-36f559aae286\",\"type\":\"DataRange1d\"},\"x_scale\":{\"id\":\"be5fb3ba-4ef2-402d-b4e5-deedb636f26e\",\"type\":\"LinearScale\"},\"y_range\":{\"id\":\"b46da4d8-c248-4a43-8a52-7e5264fa8124\",\"type\":\"DataRange1d\"},\"y_scale\":{\"id\":\"84146c67-b2f3-4eb6-8c3f-5fdb218fd15c\",\"type\":\"LinearScale\"}},\"id\":\"84300231-8af2-43f8-a6cb-3179f74ea343\",\"subtype\":\"Figure\",\"type\":\"Plot\"},{\"attributes\":{\"callback\":null},\"id\":\"b46da4d8-c248-4a43-8a52-7e5264fa8124\",\"type\":\"DataRange1d\"},{\"attributes\":{\"source\":{\"id\":\"1ab5b29b-543e-4b74-91a4-877bcd5db968\",\"type\":\"ColumnDataSource\"}},\"id\":\"9e83ac1a-33cc-4f99-a675-26211a023312\",\"type\":\"CDSView\"},{\"attributes\":{},\"id\":\"be5fb3ba-4ef2-402d-b4e5-deedb636f26e\",\"type\":\"LinearScale\"},{\"attributes\":{\"fill_color\":{\"value\":\"red\"},\"line_color\":{\"value\":\"#1f77b4\"},\"x\":{\"field\":\"x\"},\"y\":{\"field\":\"y\"}},\"id\":\"246ca423-5c63-4eda-8c6f-fd0e5086c554\",\"type\":\"Circle\"},{\"attributes\":{\"plot\":{\"id\":\"84300231-8af2-43f8-a6cb-3179f74ea343\",\"subtype\":\"Figure\",\"type\":\"Plot\"},\"ticker\":{\"id\":\"b9367290-fbf8-4538-af61-3d616610396d\",\"type\":\"BasicTicker\"}},\"id\":\"1303e310-c13d-4103-b325-0e62269dba66\",\"type\":\"Grid\"}],\"root_ids\":[\"84300231-8af2-43f8-a6cb-3179f74ea343\"]},\"title\":\"Bokeh Application\",\"version\":\"0.12.13\"}};\n",
       "  var render_items = [{\"docid\":\"d5625d0e-4752-4bab-a1a8-ad6994e75162\",\"elementid\":\"685ea504-52f4-472c-b9ab-84b331da1166\",\"modelid\":\"84300231-8af2-43f8-a6cb-3179f74ea343\"}];\n",
       "  root.Bokeh.embed.embed_items_notebook(docs_json, render_items);\n",
       "\n",
       "  }\n",
       "  if (root.Bokeh !== undefined) {\n",
       "    embed_document(root);\n",
       "  } else {\n",
       "    var attempts = 0;\n",
       "    var timer = setInterval(function(root) {\n",
       "      if (root.Bokeh !== undefined) {\n",
       "        embed_document(root);\n",
       "        clearInterval(timer);\n",
       "      }\n",
       "      attempts++;\n",
       "      if (attempts > 100) {\n",
       "        console.log(\"Bokeh: ERROR: Unable to run BokehJS code because BokehJS library is missing\")\n",
       "        clearInterval(timer);\n",
       "      }\n",
       "    }, 10, root)\n",
       "  }\n",
       "})(window);"
      ],
      "application/vnd.bokehjs_exec.v0+json": ""
     },
     "metadata": {
      "application/vnd.bokehjs_exec.v0+json": {
       "id": "84300231-8af2-43f8-a6cb-3179f74ea343"
      }
     },
     "output_type": "display_data"
    }
   ],
   "source": [
    "bp.show(p)"
   ]
  },
  {
   "cell_type": "markdown",
   "metadata": {},
   "source": [
    "## plot with plotnine\n",
    "\n",
    "https://www.kaggle.com/princeashburton/an-intro-to-plotnine"
   ]
  },
  {
   "cell_type": "code",
   "execution_count": 54,
   "metadata": {},
   "outputs": [],
   "source": [
    "import pandas as pd"
   ]
  },
  {
   "cell_type": "code",
   "execution_count": 55,
   "metadata": {},
   "outputs": [
    {
     "ename": "ImportError",
     "evalue": "No module named 'plotnine'",
     "output_type": "error",
     "traceback": [
      "\u001b[0;31m---------------------------------------------------------------------------\u001b[0m",
      "\u001b[0;31mImportError\u001b[0m                               Traceback (most recent call last)",
      "\u001b[0;32m<ipython-input-55-e36b44751b17>\u001b[0m in \u001b[0;36m<module>\u001b[0;34m()\u001b[0m\n\u001b[0;32m----> 1\u001b[0;31m \u001b[0;32mfrom\u001b[0m \u001b[0mplotnine\u001b[0m \u001b[0;32mimport\u001b[0m \u001b[0;34m*\u001b[0m\u001b[0;34m\u001b[0m\u001b[0m\n\u001b[0m",
      "\u001b[0;31mImportError\u001b[0m: No module named 'plotnine'"
     ]
    }
   ],
   "source": [
    "from plotnine import *"
   ]
  },
  {
   "cell_type": "code",
   "execution_count": null,
   "metadata": {},
   "outputs": [],
   "source": []
  }
 ],
 "metadata": {
  "kernelspec": {
   "display_name": "Python [conda env:base2]",
   "language": "python",
   "name": "conda-env-base2-py"
  },
  "language_info": {
   "codemirror_mode": {
    "name": "ipython",
    "version": 3
   },
   "file_extension": ".py",
   "mimetype": "text/x-python",
   "name": "python",
   "nbconvert_exporter": "python",
   "pygments_lexer": "ipython3",
   "version": "3.5.4"
  },
  "toc": {
   "colors": {
    "hover_highlight": "#DAA520",
    "navigate_num": "#000000",
    "navigate_text": "#333333",
    "running_highlight": "#FF0000",
    "selected_highlight": "#FFD700",
    "sidebar_border": "#EEEEEE",
    "wrapper_background": "#FFFFFF"
   },
   "moveMenuLeft": true,
   "nav_menu": {
    "height": "194px",
    "width": "252px"
   },
   "navigate_menu": true,
   "number_sections": true,
   "sideBar": true,
   "threshold": 4,
   "toc_cell": false,
   "toc_section_display": "block",
   "toc_window_display": true,
   "widenNotebook": false
  }
 },
 "nbformat": 4,
 "nbformat_minor": 2
}
