{
 "cells": [
  {
   "cell_type": "code",
   "execution_count": 1,
   "metadata": {},
   "outputs": [],
   "source": [
    "%%bash\n",
    "git add my_toy_nn2.ipynb"
   ]
  },
  {
   "cell_type": "code",
   "execution_count": 187,
   "metadata": {},
   "outputs": [
    {
     "name": "stdout",
     "output_type": "stream",
     "text": [
      "[master 59980d0] checkpoint\n",
      " 1 file changed, 496 insertions(+), 15 deletions(-)\n"
     ]
    }
   ],
   "source": [
    "%%bash\n",
    "git commit -a -m \"checkpoint\""
   ]
  },
  {
   "cell_type": "code",
   "execution_count": 55,
   "metadata": {},
   "outputs": [
    {
     "data": {
      "text/plain": [
       "2"
      ]
     },
     "execution_count": 55,
     "metadata": {},
     "output_type": "execute_result"
    }
   ],
   "source": [
    "1+1"
   ]
  },
  {
   "cell_type": "code",
   "execution_count": 1,
   "metadata": {},
   "outputs": [
    {
     "ename": "ModuleNotFoundError",
     "evalue": "No module named 'matplotlib'",
     "output_type": "error",
     "traceback": [
      "\u001b[0;31m---------------------------------------------------------------------------\u001b[0m",
      "\u001b[0;31mModuleNotFoundError\u001b[0m                       Traceback (most recent call last)",
      "\u001b[0;32m<ipython-input-1-9e3324102725>\u001b[0m in \u001b[0;36m<module>\u001b[0;34m\u001b[0m\n\u001b[0;32m----> 1\u001b[0;31m \u001b[0mget_ipython\u001b[0m\u001b[0;34m(\u001b[0m\u001b[0;34m)\u001b[0m\u001b[0;34m.\u001b[0m\u001b[0mrun_line_magic\u001b[0m\u001b[0;34m(\u001b[0m\u001b[0;34m'matplotlib'\u001b[0m\u001b[0;34m,\u001b[0m \u001b[0;34m'inline'\u001b[0m\u001b[0;34m)\u001b[0m\u001b[0;34m\u001b[0m\u001b[0;34m\u001b[0m\u001b[0m\n\u001b[0m",
      "\u001b[0;32m~/anaconda3/envs/base2/lib/python3.7/site-packages/IPython/core/interactiveshell.py\u001b[0m in \u001b[0;36mrun_line_magic\u001b[0;34m(self, magic_name, line, _stack_depth)\u001b[0m\n\u001b[1;32m   2311\u001b[0m                 \u001b[0mkwargs\u001b[0m\u001b[0;34m[\u001b[0m\u001b[0;34m'local_ns'\u001b[0m\u001b[0;34m]\u001b[0m \u001b[0;34m=\u001b[0m \u001b[0msys\u001b[0m\u001b[0;34m.\u001b[0m\u001b[0m_getframe\u001b[0m\u001b[0;34m(\u001b[0m\u001b[0mstack_depth\u001b[0m\u001b[0;34m)\u001b[0m\u001b[0;34m.\u001b[0m\u001b[0mf_locals\u001b[0m\u001b[0;34m\u001b[0m\u001b[0;34m\u001b[0m\u001b[0m\n\u001b[1;32m   2312\u001b[0m             \u001b[0;32mwith\u001b[0m \u001b[0mself\u001b[0m\u001b[0;34m.\u001b[0m\u001b[0mbuiltin_trap\u001b[0m\u001b[0;34m:\u001b[0m\u001b[0;34m\u001b[0m\u001b[0;34m\u001b[0m\u001b[0m\n\u001b[0;32m-> 2313\u001b[0;31m                 \u001b[0mresult\u001b[0m \u001b[0;34m=\u001b[0m \u001b[0mfn\u001b[0m\u001b[0;34m(\u001b[0m\u001b[0;34m*\u001b[0m\u001b[0margs\u001b[0m\u001b[0;34m,\u001b[0m \u001b[0;34m**\u001b[0m\u001b[0mkwargs\u001b[0m\u001b[0;34m)\u001b[0m\u001b[0;34m\u001b[0m\u001b[0;34m\u001b[0m\u001b[0m\n\u001b[0m\u001b[1;32m   2314\u001b[0m             \u001b[0;32mreturn\u001b[0m \u001b[0mresult\u001b[0m\u001b[0;34m\u001b[0m\u001b[0;34m\u001b[0m\u001b[0m\n\u001b[1;32m   2315\u001b[0m \u001b[0;34m\u001b[0m\u001b[0m\n",
      "\u001b[0;32m</home/toshinao/anaconda3/envs/base2/lib/python3.7/site-packages/decorator.py:decorator-gen-108>\u001b[0m in \u001b[0;36mmatplotlib\u001b[0;34m(self, line)\u001b[0m\n",
      "\u001b[0;32m~/anaconda3/envs/base2/lib/python3.7/site-packages/IPython/core/magic.py\u001b[0m in \u001b[0;36m<lambda>\u001b[0;34m(f, *a, **k)\u001b[0m\n\u001b[1;32m    185\u001b[0m     \u001b[0;31m# but it's overkill for just that one bit of state.\u001b[0m\u001b[0;34m\u001b[0m\u001b[0;34m\u001b[0m\u001b[0;34m\u001b[0m\u001b[0m\n\u001b[1;32m    186\u001b[0m     \u001b[0;32mdef\u001b[0m \u001b[0mmagic_deco\u001b[0m\u001b[0;34m(\u001b[0m\u001b[0marg\u001b[0m\u001b[0;34m)\u001b[0m\u001b[0;34m:\u001b[0m\u001b[0;34m\u001b[0m\u001b[0;34m\u001b[0m\u001b[0m\n\u001b[0;32m--> 187\u001b[0;31m         \u001b[0mcall\u001b[0m \u001b[0;34m=\u001b[0m \u001b[0;32mlambda\u001b[0m \u001b[0mf\u001b[0m\u001b[0;34m,\u001b[0m \u001b[0;34m*\u001b[0m\u001b[0ma\u001b[0m\u001b[0;34m,\u001b[0m \u001b[0;34m**\u001b[0m\u001b[0mk\u001b[0m\u001b[0;34m:\u001b[0m \u001b[0mf\u001b[0m\u001b[0;34m(\u001b[0m\u001b[0;34m*\u001b[0m\u001b[0ma\u001b[0m\u001b[0;34m,\u001b[0m \u001b[0;34m**\u001b[0m\u001b[0mk\u001b[0m\u001b[0;34m)\u001b[0m\u001b[0;34m\u001b[0m\u001b[0;34m\u001b[0m\u001b[0m\n\u001b[0m\u001b[1;32m    188\u001b[0m \u001b[0;34m\u001b[0m\u001b[0m\n\u001b[1;32m    189\u001b[0m         \u001b[0;32mif\u001b[0m \u001b[0mcallable\u001b[0m\u001b[0;34m(\u001b[0m\u001b[0marg\u001b[0m\u001b[0;34m)\u001b[0m\u001b[0;34m:\u001b[0m\u001b[0;34m\u001b[0m\u001b[0;34m\u001b[0m\u001b[0m\n",
      "\u001b[0;32m~/anaconda3/envs/base2/lib/python3.7/site-packages/IPython/core/magics/pylab.py\u001b[0m in \u001b[0;36mmatplotlib\u001b[0;34m(self, line)\u001b[0m\n\u001b[1;32m     97\u001b[0m             \u001b[0mprint\u001b[0m\u001b[0;34m(\u001b[0m\u001b[0;34m\"Available matplotlib backends: %s\"\u001b[0m \u001b[0;34m%\u001b[0m \u001b[0mbackends_list\u001b[0m\u001b[0;34m)\u001b[0m\u001b[0;34m\u001b[0m\u001b[0;34m\u001b[0m\u001b[0m\n\u001b[1;32m     98\u001b[0m         \u001b[0;32melse\u001b[0m\u001b[0;34m:\u001b[0m\u001b[0;34m\u001b[0m\u001b[0;34m\u001b[0m\u001b[0m\n\u001b[0;32m---> 99\u001b[0;31m             \u001b[0mgui\u001b[0m\u001b[0;34m,\u001b[0m \u001b[0mbackend\u001b[0m \u001b[0;34m=\u001b[0m \u001b[0mself\u001b[0m\u001b[0;34m.\u001b[0m\u001b[0mshell\u001b[0m\u001b[0;34m.\u001b[0m\u001b[0menable_matplotlib\u001b[0m\u001b[0;34m(\u001b[0m\u001b[0margs\u001b[0m\u001b[0;34m.\u001b[0m\u001b[0mgui\u001b[0m\u001b[0;34m.\u001b[0m\u001b[0mlower\u001b[0m\u001b[0;34m(\u001b[0m\u001b[0;34m)\u001b[0m\u001b[0;34m)\u001b[0m\u001b[0;34m\u001b[0m\u001b[0;34m\u001b[0m\u001b[0m\n\u001b[0m\u001b[1;32m    100\u001b[0m             \u001b[0mself\u001b[0m\u001b[0;34m.\u001b[0m\u001b[0m_show_matplotlib_backend\u001b[0m\u001b[0;34m(\u001b[0m\u001b[0margs\u001b[0m\u001b[0;34m.\u001b[0m\u001b[0mgui\u001b[0m\u001b[0;34m,\u001b[0m \u001b[0mbackend\u001b[0m\u001b[0;34m)\u001b[0m\u001b[0;34m\u001b[0m\u001b[0;34m\u001b[0m\u001b[0m\n\u001b[1;32m    101\u001b[0m \u001b[0;34m\u001b[0m\u001b[0m\n",
      "\u001b[0;32m~/anaconda3/envs/base2/lib/python3.7/site-packages/IPython/core/interactiveshell.py\u001b[0m in \u001b[0;36menable_matplotlib\u001b[0;34m(self, gui)\u001b[0m\n\u001b[1;32m   3399\u001b[0m         \"\"\"\n\u001b[1;32m   3400\u001b[0m         \u001b[0;32mfrom\u001b[0m \u001b[0mIPython\u001b[0m\u001b[0;34m.\u001b[0m\u001b[0mcore\u001b[0m \u001b[0;32mimport\u001b[0m \u001b[0mpylabtools\u001b[0m \u001b[0;32mas\u001b[0m \u001b[0mpt\u001b[0m\u001b[0;34m\u001b[0m\u001b[0;34m\u001b[0m\u001b[0m\n\u001b[0;32m-> 3401\u001b[0;31m         \u001b[0mgui\u001b[0m\u001b[0;34m,\u001b[0m \u001b[0mbackend\u001b[0m \u001b[0;34m=\u001b[0m \u001b[0mpt\u001b[0m\u001b[0;34m.\u001b[0m\u001b[0mfind_gui_and_backend\u001b[0m\u001b[0;34m(\u001b[0m\u001b[0mgui\u001b[0m\u001b[0;34m,\u001b[0m \u001b[0mself\u001b[0m\u001b[0;34m.\u001b[0m\u001b[0mpylab_gui_select\u001b[0m\u001b[0;34m)\u001b[0m\u001b[0;34m\u001b[0m\u001b[0;34m\u001b[0m\u001b[0m\n\u001b[0m\u001b[1;32m   3402\u001b[0m \u001b[0;34m\u001b[0m\u001b[0m\n\u001b[1;32m   3403\u001b[0m         \u001b[0;32mif\u001b[0m \u001b[0mgui\u001b[0m \u001b[0;34m!=\u001b[0m \u001b[0;34m'inline'\u001b[0m\u001b[0;34m:\u001b[0m\u001b[0;34m\u001b[0m\u001b[0;34m\u001b[0m\u001b[0m\n",
      "\u001b[0;32m~/anaconda3/envs/base2/lib/python3.7/site-packages/IPython/core/pylabtools.py\u001b[0m in \u001b[0;36mfind_gui_and_backend\u001b[0;34m(gui, gui_select)\u001b[0m\n\u001b[1;32m    274\u001b[0m     \"\"\"\n\u001b[1;32m    275\u001b[0m \u001b[0;34m\u001b[0m\u001b[0m\n\u001b[0;32m--> 276\u001b[0;31m     \u001b[0;32mimport\u001b[0m \u001b[0mmatplotlib\u001b[0m\u001b[0;34m\u001b[0m\u001b[0;34m\u001b[0m\u001b[0m\n\u001b[0m\u001b[1;32m    277\u001b[0m \u001b[0;34m\u001b[0m\u001b[0m\n\u001b[1;32m    278\u001b[0m     \u001b[0;32mif\u001b[0m \u001b[0mgui\u001b[0m \u001b[0;32mand\u001b[0m \u001b[0mgui\u001b[0m \u001b[0;34m!=\u001b[0m \u001b[0;34m'auto'\u001b[0m\u001b[0;34m:\u001b[0m\u001b[0;34m\u001b[0m\u001b[0;34m\u001b[0m\u001b[0m\n",
      "\u001b[0;31mModuleNotFoundError\u001b[0m: No module named 'matplotlib'"
     ]
    }
   ],
   "source": [
    "%matplotlib inline"
   ]
  },
  {
   "cell_type": "markdown",
   "metadata": {},
   "source": [
    "https://gist.github.com/santi-pdp/d0e9002afe74db04aa5bbff6d076e8fe"
   ]
  },
  {
   "cell_type": "markdown",
   "metadata": {},
   "source": [
    "#  準備"
   ]
  },
  {
   "cell_type": "markdown",
   "metadata": {},
   "source": [
    "* 正解がゼロとイチであるような100個のデータを作る\n",
    "* ゼロの方よりイチのほうがすべての座標の平均が1.5大きい"
   ]
  },
  {
   "cell_type": "code",
   "execution_count": 2,
   "metadata": {},
   "outputs": [],
   "source": [
    "import torch\n",
    "import torch.nn as nn\n",
    "from torch.autograd import Variable\n",
    "import torch.optim as optim"
   ]
  },
  {
   "cell_type": "code",
   "execution_count": 3,
   "metadata": {},
   "outputs": [],
   "source": [
    "import matplotlib.pyplot as plt\n",
    "%matplotlib inline\n"
   ]
  },
  {
   "cell_type": "code",
   "execution_count": 4,
   "metadata": {},
   "outputs": [],
   "source": [
    "X1 = torch.randn(1000, 50)\n",
    "X2 = torch.randn(1000, 50) + 1.5\n",
    "X3 = torch.randn(1000,50) + 3\n",
    "X = torch.cat([X1, X2 , X3], dim=0)\n",
    "Y1 = torch.zeros(1000, 1)\n",
    "Y2 = torch.ones(1000, 1)\n",
    "Y3 = torch.zeros(1000 , 1)\n",
    "Y = torch.cat([Y1, Y2, Y3], dim=0)"
   ]
  },
  {
   "cell_type": "code",
   "execution_count": 5,
   "metadata": {},
   "outputs": [
    {
     "name": "stdout",
     "output_type": "stream",
     "text": [
      "torch.Size([3000, 50])\n",
      "torch.Size([3000, 1])\n"
     ]
    }
   ],
   "source": [
    "print(X.size())\n",
    "print(Y.size())"
   ]
  },
  {
   "cell_type": "code",
   "execution_count": 6,
   "metadata": {},
   "outputs": [
    {
     "data": {
      "text/plain": [
       "<Figure size 432x288 with 0 Axes>"
      ]
     },
     "metadata": {},
     "output_type": "display_data"
    }
   ],
   "source": [
    "fig = plt.figure()"
   ]
  },
  {
   "cell_type": "code",
   "execution_count": 7,
   "metadata": {},
   "outputs": [],
   "source": [
    "ax1 = fig.add_subplot(111)"
   ]
  },
  {
   "cell_type": "code",
   "execution_count": 8,
   "metadata": {},
   "outputs": [
    {
     "data": {
      "text/plain": [
       "<matplotlib.collections.PathCollection at 0x7fd8c0d3c2e8>"
      ]
     },
     "execution_count": 8,
     "metadata": {},
     "output_type": "execute_result"
    }
   ],
   "source": [
    "ax1.scatter(X1[:,0] , X1[:,2] , color = \"yellow\")"
   ]
  },
  {
   "cell_type": "code",
   "execution_count": 9,
   "metadata": {},
   "outputs": [
    {
     "data": {
      "text/plain": [
       "<matplotlib.collections.PathCollection at 0x7fd8c0d3c710>"
      ]
     },
     "execution_count": 9,
     "metadata": {},
     "output_type": "execute_result"
    }
   ],
   "source": [
    "ax1.scatter(X2[:,0] , X2[:,2], color = \"red\")"
   ]
  },
  {
   "cell_type": "code",
   "execution_count": 10,
   "metadata": {},
   "outputs": [
    {
     "data": {
      "text/plain": [
       "<matplotlib.collections.PathCollection at 0x7fd8c0d3cc88>"
      ]
     },
     "execution_count": 10,
     "metadata": {},
     "output_type": "execute_result"
    }
   ],
   "source": [
    "ax1.scatter(X3[:,0] , X3[:,2] , color = \"yellow\")"
   ]
  },
  {
   "cell_type": "code",
   "execution_count": 11,
   "metadata": {},
   "outputs": [
    {
     "data": {
      "image/png": "[encoded data removed]",
      "text/plain": [
       "<Figure size 432x288 with 1 Axes>"
      ]
     },
     "execution_count": 11,
     "metadata": {},
     "output_type": "execute_result"
    }
   ],
   "source": [
    "fig"
   ]
  },
  {
   "cell_type": "code",
   "execution_count": 11,
   "metadata": {},
   "outputs": [
    {
     "data": {
      "text/plain": [
       "torch.Size([1000, 50])"
      ]
     },
     "execution_count": 11,
     "metadata": {},
     "output_type": "execute_result"
    }
   ],
   "source": [
    "X1.shape"
   ]
  },
  {
   "cell_type": "code",
   "execution_count": 12,
   "metadata": {},
   "outputs": [
    {
     "data": {
      "text/plain": [
       "torch.Size([1000, 1])"
      ]
     },
     "execution_count": 12,
     "metadata": {},
     "output_type": "execute_result"
    }
   ],
   "source": [
    "Y1.shape"
   ]
  },
  {
   "cell_type": "markdown",
   "metadata": {},
   "source": [
    "# ネットワークの定義"
   ]
  },
  {
   "cell_type": "markdown",
   "metadata": {},
   "source": [
    "## main model"
   ]
  },
  {
   "cell_type": "markdown",
   "metadata": {},
   "source": [
    "\n",
    "$    \\text{PReLU}(x) = \\max(0,x) + a * \\min(0,x)$\n"
   ]
  },
  {
   "cell_type": "code",
   "execution_count": 12,
   "metadata": {},
   "outputs": [],
   "source": [
    "class Net(nn.Module):\n",
    "    \n",
    "    def __init__(self):\n",
    "        super().__init__()\n",
    "        self.fc1 = nn.Linear(in_features=50, out_features=50)\n",
    "        self.relu1 = nn.ReLU()\n",
    "        #self.dout = nn.Dropout(0.2)\n",
    "        self.fc2 = nn.Linear(50, 100)\n",
    "        self.prelu = nn.PReLU(1)\n",
    "        self.out = nn.Linear(100, 1)\n",
    "        self.out_act = nn.Sigmoid()\n",
    "        \n",
    "    def forward(self, input_):\n",
    "        y = self.fc1(input_)\n",
    "        y = self.relu1(y)        \n",
    "        y = self.fc2(y)\n",
    "        y = self.prelu(y)\n",
    "        y = self.out(y)\n",
    "        y = self.out_act(y)\n",
    "        return y\n",
    "    \n",
    "    "
   ]
  },
  {
   "cell_type": "markdown",
   "metadata": {},
   "source": [
    "## 線形変換 (値が0,1間に入らないのでcriteriaを評価できずエラーになる)"
   ]
  },
  {
   "cell_type": "code",
   "execution_count": 13,
   "metadata": {},
   "outputs": [],
   "source": [
    "class Net(nn.Module):\n",
    "    \n",
    "    def __init__(self):\n",
    "        super().__init__()\n",
    "        self.fc1 = nn.Linear(50, 1)\n",
    "        \n",
    "    def forward(self, input_):\n",
    "        y = self.fc1(input_)\n",
    "        \n",
    "        return y\n",
    "    "
   ]
  },
  {
   "cell_type": "markdown",
   "metadata": {},
   "source": [
    "##  線形変換＋sigmoid"
   ]
  },
  {
   "cell_type": "code",
   "execution_count": 14,
   "metadata": {},
   "outputs": [],
   "source": [
    "class Net(nn.Module):\n",
    "    \n",
    "    def __init__(self):\n",
    "        super().__init__()\n",
    "        self.fc1 = nn.Linear(50, 1)\n",
    "        self.out_act = nn.Sigmoid()\n",
    "        \n",
    "    def forward(self, input_):\n",
    "        a1 = self.fc1(input_)\n",
    "        y = self.out_act(a1)\n",
    "        return y\n",
    "    "
   ]
  },
  {
   "cell_type": "markdown",
   "metadata": {},
   "source": [
    "## もともとのモデル"
   ]
  },
  {
   "cell_type": "code",
   "execution_count": 15,
   "metadata": {},
   "outputs": [],
   "source": [
    "class Net(nn.Module):\n",
    "    \n",
    "    def __init__(self):\n",
    "        super().__init__()\n",
    "        self.fc1 = nn.Linear(50, 50)\n",
    "        self.relu1 = nn.ReLU()\n",
    "        self.dout = nn.Dropout(0.2)\n",
    "        self.fc2 = nn.Linear(50, 100)\n",
    "        self.prelu = nn.PReLU(1)\n",
    "        self.out = nn.Linear(100, 1)\n",
    "        self.out_act = nn.Sigmoid()\n",
    "        \n",
    "    def forward(self, input_):\n",
    "        a1 = self.fc1(input_)\n",
    "        h1 = self.relu1(a1)\n",
    "        dout = self.dout(h1)\n",
    "        a2 = self.fc2(dout)\n",
    "        h2 = self.prelu(a2)\n",
    "        a3 = self.out(h2)\n",
    "        y = self.out_act(a3)\n",
    "        return y\n",
    "    "
   ]
  },
  {
   "cell_type": "code",
   "execution_count": 15,
   "metadata": {},
   "outputs": [],
   "source": [
    "model = Net()"
   ]
  },
  {
   "cell_type": "code",
   "execution_count": 16,
   "metadata": {},
   "outputs": [
    {
     "name": "stdout",
     "output_type": "stream",
     "text": [
      "Net(\n",
      "  (fc1): Linear(in_features=50, out_features=1, bias=True)\n",
      "  (out_act): Sigmoid()\n",
      ")\n"
     ]
    }
   ],
   "source": [
    "print(model)"
   ]
  },
  {
   "cell_type": "markdown",
   "metadata": {},
   "source": [
    "# optimizer"
   ]
  },
  {
   "cell_type": "markdown",
   "metadata": {},
   "source": [
    "## 学習測度はここで指定する"
   ]
  },
  {
   "cell_type": "markdown",
   "metadata": {},
   "source": [
    "learning rate次第で学習の成否が大きく異なってくる"
   ]
  },
  {
   "cell_type": "code",
   "execution_count": 17,
   "metadata": {},
   "outputs": [],
   "source": [
    "opt = optim.Adam(model.parameters(), lr=0.0001, betas=(0.9, 0.999))"
   ]
  },
  {
   "cell_type": "markdown",
   "metadata": {},
   "source": [
    "# Binary cross entropy"
   ]
  },
  {
   "cell_type": "markdown",
   "metadata": {},
   "source": [
    "ふたつの確率分布$p,q$があったときクロスエントロピーは\n",
    "\n",
    "$$\n",
    "H(p,q) =-{\\rm E}_p[\\log(q)]\n",
    "$$\n",
    "\n",
    "で定義される"
   ]
  },
  {
   "cell_type": "markdown",
   "metadata": {},
   "source": [
    "説明変数のsample \n",
    "$$\n",
    "x_0,x_1,\\cdots , x_{N-1}\n",
    "$$\n",
    "に対して、正解が１であり、NNが確率$z$で１であると出力したとき、\n",
    "正解の確率分布は\n",
    "\n",
    "\n",
    "$$\n",
    " p(x) =\n",
    " \\begin{cases}\n",
    "        1 & x = 1\\\\\n",
    "        0 & x = 0\n",
    " \\end{cases}\n",
    "$$\n",
    "NNの導いた確率分布は\n",
    "$$\n",
    " q(x) =\n",
    " \\begin{cases}\n",
    "        z & x = 1\\\\\n",
    "        1-z & x = 0\n",
    " \\end{cases}\n",
    "$$\n",
    "なのでクロスエントロピーは\n",
    "$$\n",
    "H(p,q) = -\\log(z)\n",
    "$$\n",
    "であるが、\n",
    "$$\n",
    "H(q,p) = -z \\log(1) - (1-z) \\log(0)\n",
    "$$\n",
    "は計算できない"
   ]
  },
  {
   "cell_type": "code",
   "execution_count": 18,
   "metadata": {},
   "outputs": [],
   "source": [
    "criterion = nn.BCELoss()"
   ]
  },
  {
   "cell_type": "markdown",
   "metadata": {},
   "source": [
    "# my training"
   ]
  },
  {
   "cell_type": "markdown",
   "metadata": {},
   "source": [
    "training modeに"
   ]
  },
  {
   "cell_type": "code",
   "execution_count": 19,
   "metadata": {},
   "outputs": [
    {
     "data": {
      "text/plain": [
       "Net(\n",
       "  (fc1): Linear(in_features=50, out_features=1, bias=True)\n",
       "  (out_act): Sigmoid()\n",
       ")"
      ]
     },
     "execution_count": 19,
     "metadata": {},
     "output_type": "execute_result"
    }
   ],
   "source": [
    "model.train()"
   ]
  },
  {
   "cell_type": "code",
   "execution_count": 20,
   "metadata": {},
   "outputs": [],
   "source": [
    "def yield_batch(X , Y , batch_size):\n",
    "    for beg_i in range(0, X.size(0), batch_size):\n",
    "        x_batch = X[beg_i:beg_i + batch_size, :]\n",
    "        y_batch = Y[beg_i:beg_i + batch_size, :]\n",
    "        x_batch = Variable(x_batch)\n",
    "        y_batch = Variable(y_batch)\n",
    "        yield x_batch  ,y_batch\n",
    "    "
   ]
  },
  {
   "cell_type": "code",
   "execution_count": 21,
   "metadata": {},
   "outputs": [],
   "source": [
    "batch_size = 50"
   ]
  },
  {
   "cell_type": "code",
   "execution_count": 22,
   "metadata": {},
   "outputs": [],
   "source": [
    "def my_one_epoch(model , opt, criterion, X , Y , batch_size):\n",
    "    batch_iterator = yield_batch(X , Y  , batch_size)\n",
    "    for x_batch , y_batch in batch_iterator:\n",
    "\n",
    "        ## loop decomposed\n",
    "\n",
    "        ### zero grad\n",
    "        #毎回gradをクリアしないといけない\n",
    "\n",
    "        opt.zero_grad()\n",
    "\n",
    "        ### Forward\n",
    "\n",
    "        y_hat = model(x_batch)\n",
    "\n",
    "        ### Compute diff\n",
    "\n",
    "        loss = criterion(y_hat, y_batch)\n",
    "        #print(\"loss : {}\".format(loss))\n",
    "\n",
    "        ### Compute gradients\n",
    "\n",
    "        loss.backward()\n",
    "\n",
    "        ### update weights\n",
    "\n",
    "        opt.step()        \n",
    "\n",
    "        ### loss \n",
    "\n",
    "        run_loss = float(loss.data.numpy())\n",
    "\n",
    "    print(run_loss)"
   ]
  },
  {
   "cell_type": "code",
   "execution_count": 23,
   "metadata": {},
   "outputs": [
    {
     "name": "stdout",
     "output_type": "stream",
     "text": [
      "0.4377298653125763\n",
      "0.41994595527648926\n",
      "0.4059169888496399\n",
      "0.39533719420433044\n",
      "0.387429803609848\n",
      "0.38152793049812317\n",
      "0.37711718678474426\n",
      "0.3738120198249817\n",
      "0.37132635712623596\n",
      "0.3694486916065216\n",
      "0.3680224120616913\n",
      "0.36693182587623596\n",
      "0.36609116196632385\n",
      "0.36543697118759155\n",
      "0.36492255330085754\n",
      "0.3645123243331909\n",
      "0.3641805946826935\n",
      "0.3639083802700043\n",
      "0.36368095874786377\n",
      "0.36348748207092285\n"
     ]
    }
   ],
   "source": [
    "n_epochs = 20\n",
    "for i in range(n_epochs):\n",
    "    my_one_epoch(model , opt, criterion, X , Y , batch_size)"
   ]
  },
  {
   "cell_type": "markdown",
   "metadata": {},
   "source": [
    "#  答え合わせ"
   ]
  },
  {
   "cell_type": "code",
   "execution_count": 25,
   "metadata": {},
   "outputs": [],
   "source": [
    "y_model = model(X)"
   ]
  },
  {
   "cell_type": "code",
   "execution_count": 26,
   "metadata": {},
   "outputs": [
    {
     "data": {
      "text/plain": [
       "<Figure size 432x288 with 0 Axes>"
      ]
     },
     "metadata": {},
     "output_type": "display_data"
    }
   ],
   "source": [
    "fig = plt.figure()"
   ]
  },
  {
   "cell_type": "code",
   "execution_count": 27,
   "metadata": {},
   "outputs": [],
   "source": [
    "ax1 = fig.add_subplot(111)"
   ]
  },
  {
   "cell_type": "code",
   "execution_count": 28,
   "metadata": {},
   "outputs": [
    {
     "data": {
      "text/plain": [
       "array([0., 0., 0., ..., 0., 0., 0.], dtype=float32)"
      ]
     },
     "execution_count": 28,
     "metadata": {},
     "output_type": "execute_result"
    }
   ],
   "source": [
    "Y.numpy()[:,0]"
   ]
  },
  {
   "cell_type": "code",
   "execution_count": 29,
   "metadata": {},
   "outputs": [
    {
     "data": {
      "text/plain": [
       "<matplotlib.collections.PathCollection at 0x7f03401c5780>"
      ]
     },
     "execution_count": 29,
     "metadata": {},
     "output_type": "execute_result"
    }
   ],
   "source": [
    "ax1.scatter(Y.numpy()[:,0] , y_model.detach().numpy()[:,0] , color = \"red\")"
   ]
  },
  {
   "cell_type": "code",
   "execution_count": 30,
   "metadata": {},
   "outputs": [
    {
     "data": {
      "image/png": "[encoded data removed]",
      "text/plain": [
       "<Figure size 432x288 with 1 Axes>"
      ]
     },
     "execution_count": 30,
     "metadata": {},
     "output_type": "execute_result"
    }
   ],
   "source": [
    "fig"
   ]
  },
  {
   "cell_type": "code",
   "execution_count": 99,
   "metadata": {},
   "outputs": [],
   "source": [
    "tmp = y_model.detach().numpy()"
   ]
  },
  {
   "cell_type": "markdown",
   "metadata": {},
   "source": [
    "# decomposed training"
   ]
  },
  {
   "cell_type": "code",
   "execution_count": 125,
   "metadata": {},
   "outputs": [],
   "source": [
    "batch_iterator = yield_batch(X , Y  , batch_size)"
   ]
  },
  {
   "cell_type": "code",
   "execution_count": 46,
   "metadata": {},
   "outputs": [],
   "source": [
    "x_batch , y_batch = next(batch_iterator)"
   ]
  },
  {
   "cell_type": "markdown",
   "metadata": {},
   "source": [
    "## loop decomposed"
   ]
  },
  {
   "cell_type": "markdown",
   "metadata": {},
   "source": [
    "### zero grad\n",
    "毎回gradをクリアしないといけない"
   ]
  },
  {
   "cell_type": "code",
   "execution_count": 47,
   "metadata": {},
   "outputs": [],
   "source": [
    "opt.zero_grad()"
   ]
  },
  {
   "cell_type": "markdown",
   "metadata": {},
   "source": [
    "### Forward"
   ]
  },
  {
   "cell_type": "code",
   "execution_count": 48,
   "metadata": {},
   "outputs": [],
   "source": [
    "y_hat = model(x_batch)"
   ]
  },
  {
   "cell_type": "markdown",
   "metadata": {},
   "source": [
    "### Compute diff"
   ]
  },
  {
   "cell_type": "code",
   "execution_count": 50,
   "metadata": {},
   "outputs": [
    {
     "name": "stdout",
     "output_type": "stream",
     "text": [
      "loss : 0.7317055463790894\n"
     ]
    }
   ],
   "source": [
    "loss = criterion(y_hat, y_batch)\n",
    "print(\"loss : {}\".format(loss))"
   ]
  },
  {
   "cell_type": "markdown",
   "metadata": {},
   "source": [
    "### Compute gradients"
   ]
  },
  {
   "cell_type": "code",
   "execution_count": null,
   "metadata": {},
   "outputs": [],
   "source": [
    "loss.backward()"
   ]
  },
  {
   "cell_type": "markdown",
   "metadata": {},
   "source": [
    "### update weights"
   ]
  },
  {
   "cell_type": "code",
   "execution_count": null,
   "metadata": {},
   "outputs": [],
   "source": [
    "opt.step()        "
   ]
  },
  {
   "cell_type": "markdown",
   "metadata": {},
   "source": [
    "### loss "
   ]
  },
  {
   "cell_type": "code",
   "execution_count": null,
   "metadata": {},
   "outputs": [],
   "source": [
    "run_loss = float(loss.data.numpy())\n",
    "\n",
    "print(run_loss)"
   ]
  },
  {
   "cell_type": "code",
   "execution_count": null,
   "metadata": {},
   "outputs": [],
   "source": []
  },
  {
   "cell_type": "markdown",
   "metadata": {},
   "source": [
    "# original"
   ]
  },
  {
   "cell_type": "markdown",
   "metadata": {},
   "source": [
    "def train_epoch(model, opt, criterion, batch_size=50):\n",
    "    model.train()\n",
    "    losses = []\n",
    "    for beg_i in range(0, X.size(0), batch_size):\n",
    "        x_batch = X[beg_i:beg_i + batch_size, :]\n",
    "        y_batch = Y[beg_i:beg_i + batch_size, :]\n",
    "        x_batch = Variable(x_batch)\n",
    "        y_batch = Variable(y_batch)\n",
    "\n",
    "\n",
    "        opt.zero_grad()\n",
    "        # (1) Forward\n",
    "        y_hat = net(x_batch)\n",
    "        # (2) Compute diff\n",
    "        loss = criterion(y_hat, y_batch)\n",
    "        # (3) Compute gradients\n",
    "        loss.backward()\n",
    "        # (4) update weights\n",
    "        opt.step()        \n",
    "        losses.append(loss.data.numpy())\n",
    "    return losses"
   ]
  },
  {
   "cell_type": "code",
   "execution_count": null,
   "metadata": {},
   "outputs": [],
   "source": [
    "e_losses = []\n",
    "num_epochs = 200\n",
    "for e in range(num_epochs):\n",
    "    e_losses += train_epoch(net, opt, criterion)\n",
    "plt.plot(e_losses)"
   ]
  },
  {
   "cell_type": "code",
   "execution_count": null,
   "metadata": {},
   "outputs": [],
   "source": [
    "?Variable"
   ]
  },
  {
   "cell_type": "code",
   "execution_count": null,
   "metadata": {},
   "outputs": [],
   "source": [
    "batch_size = 50"
   ]
  },
  {
   "cell_type": "code",
   "execution_count": null,
   "metadata": {},
   "outputs": [],
   "source": [
    "losses = []\n",
    "for beg_i in range(0, X.size(0), batch_size):\n",
    "    x_batch = X[beg_i:beg_i + batch_size, :]\n",
    "    y_batch = Y[beg_i:beg_i + batch_size, :]\n",
    "    x_batch = Variable(x_batch)\n",
    "    y_batch = Variable(y_batch)\n",
    "\n",
    "    opt.zero_grad()\n",
    "    # (1) Forward\n",
    "    y_hat = net(x_batch)\n",
    "    # (2) Compute diff\n",
    "    loss = criterion(y_hat, y_batch)\n",
    "    # (3) Compute gradients\n",
    "    loss.backward()\n",
    "    # (4) update weights\n",
    "    opt.step()        \n",
    "    losses.append(loss.data.numpy())"
   ]
  },
  {
   "cell_type": "code",
   "execution_count": null,
   "metadata": {
    "scrolled": true
   },
   "outputs": [],
   "source": [
    "loss.backward?"
   ]
  },
  {
   "cell_type": "code",
   "execution_count": null,
   "metadata": {},
   "outputs": [],
   "source": [
    "plt.plot(losses)"
   ]
  },
  {
   "cell_type": "code",
   "execution_count": null,
   "metadata": {},
   "outputs": [],
   "source": [
    "print(losses)"
   ]
  },
  {
   "cell_type": "code",
   "execution_count": null,
   "metadata": {},
   "outputs": [],
   "source": [
    "train_epoch(net, opt, criterion)"
   ]
  },
  {
   "cell_type": "markdown",
   "metadata": {},
   "source": [
    "# option pricing imitation\n"
   ]
  },
  {
   "cell_type": "code",
   "execution_count": 26,
   "metadata": {},
   "outputs": [],
   "source": [
    "import QuantLib as ql "
   ]
  },
  {
   "cell_type": "code",
   "execution_count": 27,
   "metadata": {},
   "outputs": [],
   "source": [
    "class cl_call:\n",
    "    def price(self , spot_price, strike_price, maturity , is_american = True):\n",
    "        if maturity <= 0:\n",
    "            exercise_value = np.max([0 , spot_price - strike_price])\n",
    "            return (exercise_value)\n",
    "        dummy_strike = strike_price / spot_price\n",
    "        \n",
    "\n",
    "        option_type = ql.Option.Call\n",
    "        payoff = ql.PlainVanillaPayoff(option_type, dummy_strike)\n",
    "        \n",
    "        maturity_date = self.calculation_date + int(365.0 * maturity)\n",
    "        settlement = self.calculation_date\n",
    "        if is_american:\n",
    "            run_exercise = ql.AmericanExercise(settlement, maturity_date)\n",
    "        else:\n",
    "            run_exercise = ql.EuropeanExercise(maturity_date)\n",
    "                \n",
    "        \n",
    "        american_option = ql.VanillaOption(payoff, run_exercise)\n",
    "        if is_american:\n",
    "            american_option.setPricingEngine(self.binomial_engine)\n",
    "        else:\n",
    "\n",
    "            american_option.setPricingEngine(ql.AnalyticEuropeanEngine(self.bsm_process))\n",
    "                \n",
    "        ql.Settings.instance().evaluationDate = self.calculation_date\n",
    "\n",
    "        return (american_option.NPV() * spot_price)\n",
    "        \n",
    "\n",
    "    def __init__(self , volatility , dividend_rate , risk_free_rate  ,steps):\n",
    "        day_count = ql.Actual365Fixed()\n",
    "        #calendar = ql.UnitedStates()\n",
    "        calendar = ql.Japan()\n",
    "        self.calculation_date = ql.Date(8, 5, 2015)\n",
    "        dummy_spot = 1\n",
    "        \n",
    "        self.spot_handle = ql.QuoteHandle(ql.SimpleQuote(1.0))\n",
    "\n",
    "        ql.Settings.instance().evaluationDate = self.calculation_date\n",
    "\n",
    "\n",
    "        self.flat_ts = ql.YieldTermStructureHandle(\n",
    "            ql.FlatForward(self.calculation_date, risk_free_rate, day_count)\n",
    "        )\n",
    "\n",
    "        self.dividend_yield = ql.YieldTermStructureHandle(\n",
    "            ql.FlatForward(self.calculation_date, dividend_rate, day_count)\n",
    "        )\n",
    "\n",
    "        #### volatility\n",
    "\n",
    "        self.flat_vol_ts = ql.BlackVolTermStructureHandle(\n",
    "            ql.BlackConstantVol(self.calculation_date, calendar, volatility, day_count)\n",
    "        )\n",
    "\n",
    "        #### BS framework\n",
    "\n",
    "        self.bsm_process = ql.BlackScholesMertonProcess(self.spot_handle, \n",
    "                                                   self.dividend_yield, \n",
    "                                                   self.flat_ts, \n",
    "                                                   self.flat_vol_ts)\n",
    "\n",
    "\n",
    "        self.binomial_engine = ql.BinomialVanillaEngine(self.bsm_process, \"crr\", steps)\n",
    "        \n",
    "\n"
   ]
  },
  {
   "cell_type": "code",
   "execution_count": 28,
   "metadata": {},
   "outputs": [],
   "source": [
    "spot_price = 127.62\n",
    "volatility = 0.20 # the historical vols or implied vols\n",
    "dividend_rate =  0.063\n",
    "risk_free_rate = 0.001\n",
    "maturity = 1\n",
    "dt = 0.1\n",
    "\n",
    "strike_price = 130\n",
    "\n",
    "#steps = 200\n",
    "pricer_steps = 100\n",
    "\n",
    "#dt = maturity / steps"
   ]
  },
  {
   "cell_type": "markdown",
   "metadata": {},
   "source": [
    "## sandbox"
   ]
  },
  {
   "cell_type": "code",
   "execution_count": 29,
   "metadata": {},
   "outputs": [],
   "source": [
    "am_call = cl_call(volatility ,  dividend_rate ,  risk_free_rate , pricer_steps)"
   ]
  },
  {
   "cell_type": "code",
   "execution_count": 30,
   "metadata": {},
   "outputs": [
    {
     "data": {
      "text/plain": [
       "6.431300819558227"
      ]
     },
     "execution_count": 30,
     "metadata": {},
     "output_type": "execute_result"
    }
   ],
   "source": [
    "am_call.price(spot_price, strike_price, maturity)"
   ]
  },
  {
   "cell_type": "code",
   "execution_count": 31,
   "metadata": {},
   "outputs": [
    {
     "data": {
      "text/plain": [
       "29.999999999999993"
      ]
     },
     "execution_count": 31,
     "metadata": {},
     "output_type": "execute_result"
    }
   ],
   "source": [
    "am_call.price(130 , 100, 0.1 , True)"
   ]
  },
  {
   "cell_type": "code",
   "execution_count": 32,
   "metadata": {},
   "outputs": [
    {
     "data": {
      "text/plain": [
       "29.2046218778254"
      ]
     },
     "execution_count": 32,
     "metadata": {},
     "output_type": "execute_result"
    }
   ],
   "source": [
    "am_call.price(130 , 100 , 0.1,  False)"
   ]
  },
  {
   "cell_type": "code",
   "execution_count": 33,
   "metadata": {},
   "outputs": [
    {
     "data": {
      "text/plain": [
       "29.999999999999993"
      ]
     },
     "execution_count": 33,
     "metadata": {},
     "output_type": "execute_result"
    }
   ],
   "source": [
    "am_call.price(130 , 100 , 0.1 , True)"
   ]
  },
  {
   "cell_type": "markdown",
   "metadata": {},
   "source": [
    "## creating training data"
   ]
  },
  {
   "cell_type": "code",
   "execution_count": 34,
   "metadata": {},
   "outputs": [],
   "source": [
    "N = 1000\n"
   ]
  },
  {
   "cell_type": "code",
   "execution_count": 35,
   "metadata": {},
   "outputs": [],
   "source": [
    "share_prices  = torch.rand(N, 1) * 300"
   ]
  },
  {
   "cell_type": "code",
   "execution_count": 36,
   "metadata": {},
   "outputs": [],
   "source": [
    "volatilities = torch.rand(N , 1) * 0.6 + 0.01"
   ]
  },
  {
   "cell_type": "code",
   "execution_count": 37,
   "metadata": {},
   "outputs": [],
   "source": [
    "dividend_rates= torch.rand(N , 1) * 0.1"
   ]
  },
  {
   "cell_type": "code",
   "execution_count": 38,
   "metadata": {},
   "outputs": [
    {
     "data": {
      "text/plain": [
       "20.763229370117188"
      ]
     },
     "execution_count": 38,
     "metadata": {},
     "output_type": "execute_result"
    }
   ],
   "source": [
    "share_prices[0,0].item()"
   ]
  },
  {
   "cell_type": "code",
   "execution_count": 39,
   "metadata": {},
   "outputs": [],
   "source": [
    "option_prices = [cl_call(volatilities[i , 0].item() ,  \n",
    "                         dividend_rates[i , 0].item() ,  \n",
    "                         risk_free_rate , \n",
    "                         pricer_steps).price(share_prices[i,0].item(), \n",
    "                                              strike_price, \n",
    "                                              maturity) for i in range(N)]"
   ]
  },
  {
   "cell_type": "code",
   "execution_count": 40,
   "metadata": {},
   "outputs": [],
   "source": [
    "X = torch.cat([share_prices , volatilities , dividend_rates] , dim = 1)"
   ]
  },
  {
   "cell_type": "code",
   "execution_count": 41,
   "metadata": {},
   "outputs": [
    {
     "data": {
      "text/plain": [
       "torch.Size([1000, 3])"
      ]
     },
     "execution_count": 41,
     "metadata": {},
     "output_type": "execute_result"
    }
   ],
   "source": [
    "X.size()"
   ]
  },
  {
   "cell_type": "code",
   "execution_count": 42,
   "metadata": {},
   "outputs": [],
   "source": [
    "y = torch.tensor(option_prices)"
   ]
  },
  {
   "cell_type": "code",
   "execution_count": 43,
   "metadata": {},
   "outputs": [],
   "source": [
    "y = y.view(-1, 1)"
   ]
  },
  {
   "cell_type": "code",
   "execution_count": 44,
   "metadata": {},
   "outputs": [
    {
     "data": {
      "text/plain": [
       "torch.Size([1000, 1])"
      ]
     },
     "execution_count": 44,
     "metadata": {},
     "output_type": "execute_result"
    }
   ],
   "source": [
    "y.size()"
   ]
  },
  {
   "cell_type": "markdown",
   "metadata": {},
   "source": [
    "## define net"
   ]
  },
  {
   "cell_type": "markdown",
   "metadata": {},
   "source": [
    "https://pytorch.org/docs/stable/nn.html"
   ]
  },
  {
   "cell_type": "markdown",
   "metadata": {},
   "source": [
    "### 線形モデルはきつい"
   ]
  },
  {
   "cell_type": "code",
   "execution_count": 18,
   "metadata": {},
   "outputs": [],
   "source": [
    "class Net(nn.Module):\n",
    "    \n",
    "    def __init__(self):\n",
    "        super().__init__()\n",
    "        self.fc1 = nn.Linear(2, 1)\n",
    "        \n",
    "    def forward(self, input_):\n",
    "        y = self.fc1(input_)\n",
    "        \n",
    "        return y\n",
    "    "
   ]
  },
  {
   "cell_type": "markdown",
   "metadata": {},
   "source": [
    "### reluをつかいつつ中間層をそれなりに大きくするとわりと性能が良い"
   ]
  },
  {
   "cell_type": "code",
   "execution_count": 87,
   "metadata": {},
   "outputs": [],
   "source": [
    "class Net(nn.Module):\n",
    "    \n",
    "    def __init__(self):\n",
    "        super().__init__()\n",
    "        \n",
    "        self.fc1 = nn.Linear(3, 50)\n",
    "        self.a1 = nn.ReLU()\n",
    "        self.fc2 = nn.Linear(50 , 1)\n",
    "    def forward(self, input_, **kwargs):\n",
    "        y = self.fc1(input_)\n",
    "        y = self.a1(y)\n",
    "        y = self.fc2(y)\n",
    "        \n",
    "        return y\n",
    "    "
   ]
  },
  {
   "cell_type": "markdown",
   "metadata": {},
   "source": [
    "### softplusモデルも同様に良い"
   ]
  },
  {
   "cell_type": "code",
   "execution_count": 305,
   "metadata": {},
   "outputs": [],
   "source": [
    "class Net(nn.Module):\n",
    "    \n",
    "    def __init__(self):\n",
    "        super().__init__()\n",
    "        \n",
    "        self.fc1 = nn.Linear(3, 30 , True)\n",
    "        self.a1 = nn.Softplus()\n",
    "        self.fc2 = nn.Linear(30 , 1)\n",
    "    def forward(self, input_):\n",
    "        y = self.fc1(input_)\n",
    "        y = self.a1(y)\n",
    "        y = self.fc2(y)\n",
    "        \n",
    "        return y\n",
    "    "
   ]
  },
  {
   "cell_type": "code",
   "execution_count": 94,
   "metadata": {},
   "outputs": [],
   "source": [
    "model = Net()"
   ]
  },
  {
   "cell_type": "code",
   "execution_count": 47,
   "metadata": {},
   "outputs": [
    {
     "name": "stdout",
     "output_type": "stream",
     "text": [
      "Net(\n",
      "  (fc1): Linear(in_features=3, out_features=50, bias=True)\n",
      "  (a1): ReLU()\n",
      "  (fc2): Linear(in_features=50, out_features=1, bias=True)\n",
      ")\n"
     ]
    }
   ],
   "source": [
    "print(model)"
   ]
  },
  {
   "cell_type": "markdown",
   "metadata": {},
   "source": [
    "## optimizer"
   ]
  },
  {
   "cell_type": "markdown",
   "metadata": {},
   "source": [
    "[An overview of gradient descent optimization algorithms](http://ruder.io/optimizing-gradient-descent/)"
   ]
  },
  {
   "cell_type": "code",
   "execution_count": 95,
   "metadata": {},
   "outputs": [],
   "source": [
    "opt = optim.Adam(model.parameters(), lr=0.0001, betas=(0.9, 0.999))"
   ]
  },
  {
   "cell_type": "markdown",
   "metadata": {},
   "source": [
    "## define loss function\n",
    "https://medium.com/udacity-pytorch-challengers/a-brief-overview-of-loss-functions-in-pytorch-c0ddb78068f7\n",
    "\n",
    "[official doc](https://pytorch.org/docs/stable/optim.html)"
   ]
  },
  {
   "cell_type": "code",
   "execution_count": 96,
   "metadata": {},
   "outputs": [],
   "source": [
    "criterion = nn.MSELoss()"
   ]
  },
  {
   "cell_type": "markdown",
   "metadata": {},
   "source": [
    "## training"
   ]
  },
  {
   "cell_type": "code",
   "execution_count": 50,
   "metadata": {},
   "outputs": [
    {
     "data": {
      "text/plain": [
       "Net(\n",
       "  (fc1): Linear(in_features=3, out_features=50, bias=True)\n",
       "  (a1): ReLU()\n",
       "  (fc2): Linear(in_features=50, out_features=1, bias=True)\n",
       ")"
      ]
     },
     "execution_count": 50,
     "metadata": {},
     "output_type": "execute_result"
    }
   ],
   "source": [
    "model.train()"
   ]
  },
  {
   "cell_type": "code",
   "execution_count": 51,
   "metadata": {},
   "outputs": [],
   "source": [
    "def train_epoch(model, opt, criterion, X, Y , batch_size=50):\n",
    "    model.train()\n",
    "    losses = []\n",
    "    for beg_i in range(0, X.size(0), batch_size):\n",
    "        x_batch = X[beg_i:beg_i + batch_size, :]\n",
    "        y_batch = Y[beg_i:beg_i + batch_size, :]\n",
    "        x_batch = Variable(x_batch)\n",
    "        y_batch = Variable(y_batch)\n",
    "\n",
    "        opt.zero_grad()\n",
    "        # (1) Forward\n",
    "        y_hat = model(x_batch)\n",
    "        # (2) Compute diff\n",
    "        loss = criterion(y_hat, y_batch)\n",
    "        # (3) Compute gradients\n",
    "        loss.backward()\n",
    "        # (4) update weights\n",
    "        opt.step()        \n",
    "        losses.append(loss.data.numpy())\n",
    "    return losses"
   ]
  },
  {
   "cell_type": "code",
   "execution_count": 52,
   "metadata": {},
   "outputs": [],
   "source": [
    "e_losses = []\n",
    "num_epochs = 3000\n",
    "for e in range(num_epochs):\n",
    "    e_losses += train_epoch(model, opt, criterion , X , y)"
   ]
  },
  {
   "cell_type": "code",
   "execution_count": 53,
   "metadata": {},
   "outputs": [
    {
     "data": {
      "text/plain": [
       "[<matplotlib.lines.Line2D at 0x7fd8abe20358>]"
      ]
     },
     "execution_count": 53,
     "metadata": {},
     "output_type": "execute_result"
    },
    {
     "data": {
      "image/png": "[encoded data removed]",
      "text/plain": [
       "<Figure size 432x288 with 1 Axes>"
      ]
     },
     "metadata": {
      "needs_background": "light"
     },
     "output_type": "display_data"
    }
   ],
   "source": [
    "plt.plot(e_losses)"
   ]
  },
  {
   "cell_type": "code",
   "execution_count": 54,
   "metadata": {},
   "outputs": [],
   "source": [
    "y_model = model(X)"
   ]
  },
  {
   "cell_type": "markdown",
   "metadata": {},
   "source": [
    "## plot with bokeh"
   ]
  },
  {
   "cell_type": "code",
   "execution_count": 56,
   "metadata": {},
   "outputs": [
    {
     "data": {
      "text/html": [
       "\n",
       "    <div class=\"bk-root\">\n",
       "        <a href=\"https://bokeh.pydata.org\" target=\"_blank\" class=\"bk-logo bk-logo-small bk-logo-notebook\"></a>\n",
       "        <span id=\"1001\">Loading BokehJS ...</span>\n",
       "    </div>"
      ]
     },
     "metadata": {},
     "output_type": "display_data"
    },
    {
     "data": {
      "application/javascript": [
       "\n",
       "(function(root) {\n",
       "  function now() {\n",
       "    return new Date();\n",
       "  }\n",
       "\n",
       "  var force = true;\n",
       "\n",
       "  if (typeof root._bokeh_onload_callbacks === \"undefined\" || force === true) {\n",
       "    root._bokeh_onload_callbacks = [];\n",
       "    root._bokeh_is_loading = undefined;\n",
       "  }\n",
       "\n",
       "  var JS_MIME_TYPE = 'application/javascript';\n",
       "  var HTML_MIME_TYPE = 'text/html';\n",
       "  var EXEC_MIME_TYPE = 'application/vnd.bokehjs_exec.v0+json';\n",
       "  var CLASS_NAME = 'output_bokeh rendered_html';\n",
       "\n",
       "  /**\n",
       "   * Render data to the DOM node\n",
       "   */\n",
       "  function render(props, node) {\n",
       "    var script = document.createElement(\"script\");\n",
       "    node.appendChild(script);\n",
       "  }\n",
       "\n",
       "  /**\n",
       "   * Handle when an output is cleared or removed\n",
       "   */\n",
       "  function handleClearOutput(event, handle) {\n",
       "    var cell = handle.cell;\n",
       "\n",
       "    var id = cell.output_area._bokeh_element_id;\n",
       "    var server_id = cell.output_area._bokeh_server_id;\n",
       "    // Clean up Bokeh references\n",
       "    if (id != null && id in Bokeh.index) {\n",
       "      Bokeh.index[id].model.document.clear();\n",
       "      delete Bokeh.index[id];\n",
       "    }\n",
       "\n",
       "    if (server_id !== undefined) {\n",
       "      // Clean up Bokeh references\n",
       "      var cmd = \"from bokeh.io.state import curstate; print(curstate().uuid_to_server['\" + server_id + \"'].get_sessions()[0].document.roots[0]._id)\";\n",
       "      cell.notebook.kernel.execute(cmd, {\n",
       "        iopub: {\n",
       "          output: function(msg) {\n",
       "            var id = msg.content.text.trim();\n",
       "            if (id in Bokeh.index) {\n",
       "              Bokeh.index[id].model.document.clear();\n",
       "              delete Bokeh.index[id];\n",
       "            }\n",
       "          }\n",
       "        }\n",
       "      });\n",
       "      // Destroy server and session\n",
       "      var cmd = \"import bokeh.io.notebook as ion; ion.destroy_server('\" + server_id + \"')\";\n",
       "      cell.notebook.kernel.execute(cmd);\n",
       "    }\n",
       "  }\n",
       "\n",
       "  /**\n",
       "   * Handle when a new output is added\n",
       "   */\n",
       "  function handleAddOutput(event, handle) {\n",
       "    var output_area = handle.output_area;\n",
       "    var output = handle.output;\n",
       "\n",
       "    // limit handleAddOutput to display_data with EXEC_MIME_TYPE content only\n",
       "    if ((output.output_type != \"display_data\") || (!output.data.hasOwnProperty(EXEC_MIME_TYPE))) {\n",
       "      return\n",
       "    }\n",
       "\n",
       "    var toinsert = output_area.element.find(\".\" + CLASS_NAME.split(' ')[0]);\n",
       "\n",
       "    if (output.metadata[EXEC_MIME_TYPE][\"id\"] !== undefined) {\n",
       "      toinsert[toinsert.length - 1].firstChild.textContent = output.data[JS_MIME_TYPE];\n",
       "      // store reference to embed id on output_area\n",
       "      output_area._bokeh_element_id = output.metadata[EXEC_MIME_TYPE][\"id\"];\n",
       "    }\n",
       "    if (output.metadata[EXEC_MIME_TYPE][\"server_id\"] !== undefined) {\n",
       "      var bk_div = document.createElement(\"div\");\n",
       "      bk_div.innerHTML = output.data[HTML_MIME_TYPE];\n",
       "      var script_attrs = bk_div.children[0].attributes;\n",
       "      for (var i = 0; i < script_attrs.length; i++) {\n",
       "        toinsert[toinsert.length - 1].firstChild.setAttribute(script_attrs[i].name, script_attrs[i].value);\n",
       "      }\n",
       "      // store reference to server id on output_area\n",
       "      output_area._bokeh_server_id = output.metadata[EXEC_MIME_TYPE][\"server_id\"];\n",
       "    }\n",
       "  }\n",
       "\n",
       "  function register_renderer(events, OutputArea) {\n",
       "\n",
       "    function append_mime(data, metadata, element) {\n",
       "      // create a DOM node to render to\n",
       "      var toinsert = this.create_output_subarea(\n",
       "        metadata,\n",
       "        CLASS_NAME,\n",
       "        EXEC_MIME_TYPE\n",
       "      );\n",
       "      this.keyboard_manager.register_events(toinsert);\n",
       "      // Render to node\n",
       "      var props = {data: data, metadata: metadata[EXEC_MIME_TYPE]};\n",
       "      render(props, toinsert[toinsert.length - 1]);\n",
       "      element.append(toinsert);\n",
       "      return toinsert\n",
       "    }\n",
       "\n",
       "    /* Handle when an output is cleared or removed */\n",
       "    events.on('clear_output.CodeCell', handleClearOutput);\n",
       "    events.on('delete.Cell', handleClearOutput);\n",
       "\n",
       "    /* Handle when a new output is added */\n",
       "    events.on('output_added.OutputArea', handleAddOutput);\n",
       "\n",
       "    /**\n",
       "     * Register the mime type and append_mime function with output_area\n",
       "     */\n",
       "    OutputArea.prototype.register_mime_type(EXEC_MIME_TYPE, append_mime, {\n",
       "      /* Is output safe? */\n",
       "      safe: true,\n",
       "      /* Index of renderer in `output_area.display_order` */\n",
       "      index: 0\n",
       "    });\n",
       "  }\n",
       "\n",
       "  // register the mime type if in Jupyter Notebook environment and previously unregistered\n",
       "  if (root.Jupyter !== undefined) {\n",
       "    var events = require('base/js/events');\n",
       "    var OutputArea = require('notebook/js/outputarea').OutputArea;\n",
       "\n",
       "    if (OutputArea.prototype.mime_types().indexOf(EXEC_MIME_TYPE) == -1) {\n",
       "      register_renderer(events, OutputArea);\n",
       "    }\n",
       "  }\n",
       "\n",
       "  \n",
       "  if (typeof (root._bokeh_timeout) === \"undefined\" || force === true) {\n",
       "    root._bokeh_timeout = Date.now() + 5000;\n",
       "    root._bokeh_failed_load = false;\n",
       "  }\n",
       "\n",
       "  var NB_LOAD_WARNING = {'data': {'text/html':\n",
       "     \"<div style='background-color: #fdd'>\\n\"+\n",
       "     \"<p>\\n\"+\n",
       "     \"BokehJS does not appear to have successfully loaded. If loading BokehJS from CDN, this \\n\"+\n",
       "     \"may be due to a slow or bad network connection. Possible fixes:\\n\"+\n",
       "     \"</p>\\n\"+\n",
       "     \"<ul>\\n\"+\n",
       "     \"<li>re-rerun `output_notebook()` to attempt to load from CDN again, or</li>\\n\"+\n",
       "     \"<li>use INLINE resources instead, as so:</li>\\n\"+\n",
       "     \"</ul>\\n\"+\n",
       "     \"<code>\\n\"+\n",
       "     \"from bokeh.resources import INLINE\\n\"+\n",
       "     \"output_notebook(resources=INLINE)\\n\"+\n",
       "     \"</code>\\n\"+\n",
       "     \"</div>\"}};\n",
       "\n",
       "  function display_loaded() {\n",
       "    var el = document.getElementById(\"1001\");\n",
       "    if (el != null) {\n",
       "      el.textContent = \"BokehJS is loading...\";\n",
       "    }\n",
       "    if (root.Bokeh !== undefined) {\n",
       "      if (el != null) {\n",
       "        el.textContent = \"BokehJS \" + root.Bokeh.version + \" successfully loaded.\";\n",
       "      }\n",
       "    } else if (Date.now() < root._bokeh_timeout) {\n",
       "      setTimeout(display_loaded, 100)\n",
       "    }\n",
       "  }\n",
       "\n",
       "\n",
       "  function run_callbacks() {\n",
       "    try {\n",
       "      root._bokeh_onload_callbacks.forEach(function(callback) {\n",
       "        if (callback != null)\n",
       "          callback();\n",
       "      });\n",
       "    } finally {\n",
       "      delete root._bokeh_onload_callbacks\n",
       "    }\n",
       "    console.debug(\"Bokeh: all callbacks have finished\");\n",
       "  }\n",
       "\n",
       "  function load_libs(css_urls, js_urls, callback) {\n",
       "    if (css_urls == null) css_urls = [];\n",
       "    if (js_urls == null) js_urls = [];\n",
       "\n",
       "    root._bokeh_onload_callbacks.push(callback);\n",
       "    if (root._bokeh_is_loading > 0) {\n",
       "      console.debug(\"Bokeh: BokehJS is being loaded, scheduling callback at\", now());\n",
       "      return null;\n",
       "    }\n",
       "    if (js_urls == null || js_urls.length === 0) {\n",
       "      run_callbacks();\n",
       "      return null;\n",
       "    }\n",
       "    console.debug(\"Bokeh: BokehJS not loaded, scheduling load and callback at\", now());\n",
       "    root._bokeh_is_loading = css_urls.length + js_urls.length;\n",
       "\n",
       "    function on_load() {\n",
       "      root._bokeh_is_loading--;\n",
       "      if (root._bokeh_is_loading === 0) {\n",
       "        console.debug(\"Bokeh: all BokehJS libraries/stylesheets loaded\");\n",
       "        run_callbacks()\n",
       "      }\n",
       "    }\n",
       "\n",
       "    function on_error() {\n",
       "      console.error(\"failed to load \" + url);\n",
       "    }\n",
       "\n",
       "    for (var i = 0; i < css_urls.length; i++) {\n",
       "      var url = css_urls[i];\n",
       "      const element = document.createElement(\"link\");\n",
       "      element.onload = on_load;\n",
       "      element.onerror = on_error;\n",
       "      element.rel = \"stylesheet\";\n",
       "      element.type = \"text/css\";\n",
       "      element.href = url;\n",
       "      console.debug(\"Bokeh: injecting link tag for BokehJS stylesheet: \", url);\n",
       "      document.body.appendChild(element);\n",
       "    }\n",
       "\n",
       "    for (var i = 0; i < js_urls.length; i++) {\n",
       "      var url = js_urls[i];\n",
       "      var element = document.createElement('script');\n",
       "      element.onload = on_load;\n",
       "      element.onerror = on_error;\n",
       "      element.async = false;\n",
       "      element.src = url;\n",
       "      console.debug(\"Bokeh: injecting script tag for BokehJS library: \", url);\n",
       "      document.head.appendChild(element);\n",
       "    }\n",
       "  };var element = document.getElementById(\"1001\");\n",
       "  if (element == null) {\n",
       "    console.error(\"Bokeh: ERROR: autoload.js configured with elementid '1001' but no matching script tag was found. \")\n",
       "    return false;\n",
       "  }\n",
       "\n",
       "  function inject_raw_css(css) {\n",
       "    const element = document.createElement(\"style\");\n",
       "    element.appendChild(document.createTextNode(css));\n",
       "    document.body.appendChild(element);\n",
       "  }\n",
       "\n",
       "  var js_urls = [\"https://cdn.pydata.org/bokeh/release/bokeh-1.2.0.min.js\", \"https://cdn.pydata.org/bokeh/release/bokeh-widgets-1.2.0.min.js\", \"https://cdn.pydata.org/bokeh/release/bokeh-tables-1.2.0.min.js\", \"https://cdn.pydata.org/bokeh/release/bokeh-gl-1.2.0.min.js\"];\n",
       "  var css_urls = [\"https://cdn.pydata.org/bokeh/release/bokeh-1.2.0.min.css\", \"https://cdn.pydata.org/bokeh/release/bokeh-widgets-1.2.0.min.css\", \"https://cdn.pydata.org/bokeh/release/bokeh-tables-1.2.0.min.css\"];\n",
       "\n",
       "  var inline_js = [\n",
       "    function(Bokeh) {\n",
       "      Bokeh.set_log_level(\"info\");\n",
       "    },\n",
       "    \n",
       "    function(Bokeh) {\n",
       "      \n",
       "    },\n",
       "    function(Bokeh) {} // ensure no trailing comma for IE\n",
       "  ];\n",
       "\n",
       "  function run_inline_js() {\n",
       "    \n",
       "    if ((root.Bokeh !== undefined) || (force === true)) {\n",
       "      for (var i = 0; i < inline_js.length; i++) {\n",
       "        inline_js[i].call(root, root.Bokeh);\n",
       "      }if (force === true) {\n",
       "        display_loaded();\n",
       "      }} else if (Date.now() < root._bokeh_timeout) {\n",
       "      setTimeout(run_inline_js, 100);\n",
       "    } else if (!root._bokeh_failed_load) {\n",
       "      console.log(\"Bokeh: BokehJS failed to load within specified timeout.\");\n",
       "      root._bokeh_failed_load = true;\n",
       "    } else if (force !== true) {\n",
       "      var cell = $(document.getElementById(\"1001\")).parents('.cell').data().cell;\n",
       "      cell.output_area.append_execute_result(NB_LOAD_WARNING)\n",
       "    }\n",
       "\n",
       "  }\n",
       "\n",
       "  if (root._bokeh_is_loading === 0) {\n",
       "    console.debug(\"Bokeh: BokehJS loaded, going straight to plotting\");\n",
       "    run_inline_js();\n",
       "  } else {\n",
       "    load_libs(css_urls, js_urls, function() {\n",
       "      console.debug(\"Bokeh: BokehJS plotting callback run at\", now());\n",
       "      run_inline_js();\n",
       "    });\n",
       "  }\n",
       "}(window));"
      ],
      "application/vnd.bokehjs_load.v0+json": "\n(function(root) {\n  function now() {\n    return new Date();\n  }\n\n  var force = true;\n\n  if (typeof root._bokeh_onload_callbacks === \"undefined\" || force === true) {\n    root._bokeh_onload_callbacks = [];\n    root._bokeh_is_loading = undefined;\n  }\n\n  \n\n  \n  if (typeof (root._bokeh_timeout) === \"undefined\" || force === true) {\n    root._bokeh_timeout = Date.now() + 5000;\n    root._bokeh_failed_load = false;\n  }\n\n  var NB_LOAD_WARNING = {'data': {'text/html':\n     \"<div style='background-color: #fdd'>\\n\"+\n     \"<p>\\n\"+\n     \"BokehJS does not appear to have successfully loaded. If loading BokehJS from CDN, this \\n\"+\n     \"may be due to a slow or bad network connection. Possible fixes:\\n\"+\n     \"</p>\\n\"+\n     \"<ul>\\n\"+\n     \"<li>re-rerun `output_notebook()` to attempt to load from CDN again, or</li>\\n\"+\n     \"<li>use INLINE resources instead, as so:</li>\\n\"+\n     \"</ul>\\n\"+\n     \"<code>\\n\"+\n     \"from bokeh.resources import INLINE\\n\"+\n     \"output_notebook(resources=INLINE)\\n\"+\n     \"</code>\\n\"+\n     \"</div>\"}};\n\n  function display_loaded() {\n    var el = document.getElementById(\"1001\");\n    if (el != null) {\n      el.textContent = \"BokehJS is loading...\";\n    }\n    if (root.Bokeh !== undefined) {\n      if (el != null) {\n        el.textContent = \"BokehJS \" + root.Bokeh.version + \" successfully loaded.\";\n      }\n    } else if (Date.now() < root._bokeh_timeout) {\n      setTimeout(display_loaded, 100)\n    }\n  }\n\n\n  function run_callbacks() {\n    try {\n      root._bokeh_onload_callbacks.forEach(function(callback) {\n        if (callback != null)\n          callback();\n      });\n    } finally {\n      delete root._bokeh_onload_callbacks\n    }\n    console.debug(\"Bokeh: all callbacks have finished\");\n  }\n\n  function load_libs(css_urls, js_urls, callback) {\n    if (css_urls == null) css_urls = [];\n    if (js_urls == null) js_urls = [];\n\n    root._bokeh_onload_callbacks.push(callback);\n    if (root._bokeh_is_loading > 0) {\n      console.debug(\"Bokeh: BokehJS is being loaded, scheduling callback at\", now());\n      return null;\n    }\n    if (js_urls == null || js_urls.length === 0) {\n      run_callbacks();\n      return null;\n    }\n    console.debug(\"Bokeh: BokehJS not loaded, scheduling load and callback at\", now());\n    root._bokeh_is_loading = css_urls.length + js_urls.length;\n\n    function on_load() {\n      root._bokeh_is_loading--;\n      if (root._bokeh_is_loading === 0) {\n        console.debug(\"Bokeh: all BokehJS libraries/stylesheets loaded\");\n        run_callbacks()\n      }\n    }\n\n    function on_error() {\n      console.error(\"failed to load \" + url);\n    }\n\n    for (var i = 0; i < css_urls.length; i++) {\n      var url = css_urls[i];\n      const element = document.createElement(\"link\");\n      element.onload = on_load;\n      element.onerror = on_error;\n      element.rel = \"stylesheet\";\n      element.type = \"text/css\";\n      element.href = url;\n      console.debug(\"Bokeh: injecting link tag for BokehJS stylesheet: \", url);\n      document.body.appendChild(element);\n    }\n\n    for (var i = 0; i < js_urls.length; i++) {\n      var url = js_urls[i];\n      var element = document.createElement('script');\n      element.onload = on_load;\n      element.onerror = on_error;\n      element.async = false;\n      element.src = url;\n      console.debug(\"Bokeh: injecting script tag for BokehJS library: \", url);\n      document.head.appendChild(element);\n    }\n  };var element = document.getElementById(\"1001\");\n  if (element == null) {\n    console.error(\"Bokeh: ERROR: autoload.js configured with elementid '1001' but no matching script tag was found. \")\n    return false;\n  }\n\n  function inject_raw_css(css) {\n    const element = document.createElement(\"style\");\n    element.appendChild(document.createTextNode(css));\n    document.body.appendChild(element);\n  }\n\n  var js_urls = [\"https://cdn.pydata.org/bokeh/release/bokeh-1.2.0.min.js\", \"https://cdn.pydata.org/bokeh/release/bokeh-widgets-1.2.0.min.js\", \"https://cdn.pydata.org/bokeh/release/bokeh-tables-1.2.0.min.js\", \"https://cdn.pydata.org/bokeh/release/bokeh-gl-1.2.0.min.js\"];\n  var css_urls = [\"https://cdn.pydata.org/bokeh/release/bokeh-1.2.0.min.css\", \"https://cdn.pydata.org/bokeh/release/bokeh-widgets-1.2.0.min.css\", \"https://cdn.pydata.org/bokeh/release/bokeh-tables-1.2.0.min.css\"];\n\n  var inline_js = [\n    function(Bokeh) {\n      Bokeh.set_log_level(\"info\");\n    },\n    \n    function(Bokeh) {\n      \n    },\n    function(Bokeh) {} // ensure no trailing comma for IE\n  ];\n\n  function run_inline_js() {\n    \n    if ((root.Bokeh !== undefined) || (force === true)) {\n      for (var i = 0; i < inline_js.length; i++) {\n        inline_js[i].call(root, root.Bokeh);\n      }if (force === true) {\n        display_loaded();\n      }} else if (Date.now() < root._bokeh_timeout) {\n      setTimeout(run_inline_js, 100);\n    } else if (!root._bokeh_failed_load) {\n      console.log(\"Bokeh: BokehJS failed to load within specified timeout.\");\n      root._bokeh_failed_load = true;\n    } else if (force !== true) {\n      var cell = $(document.getElementById(\"1001\")).parents('.cell').data().cell;\n      cell.output_area.append_execute_result(NB_LOAD_WARNING)\n    }\n\n  }\n\n  if (root._bokeh_is_loading === 0) {\n    console.debug(\"Bokeh: BokehJS loaded, going straight to plotting\");\n    run_inline_js();\n  } else {\n    load_libs(css_urls, js_urls, function() {\n      console.debug(\"Bokeh: BokehJS plotting callback run at\", now());\n      run_inline_js();\n    });\n  }\n}(window));"
     },
     "metadata": {},
     "output_type": "display_data"
    }
   ],
   "source": [
    "import bokeh.plotting as bp\n",
    "from bokeh import palettes\n",
    "bp.output_notebook()\n"
   ]
  },
  {
   "cell_type": "code",
   "execution_count": 57,
   "metadata": {},
   "outputs": [],
   "source": [
    "p = bp.figure()"
   ]
  },
  {
   "cell_type": "code",
   "execution_count": 58,
   "metadata": {},
   "outputs": [
    {
     "data": {
      "text/html": [
       "<div style=\"display: table;\"><div style=\"display: table-row;\"><div style=\"display: table-cell;\"><b title=\"bokeh.models.renderers.GlyphRenderer\">GlyphRenderer</b>(</div><div style=\"display: table-cell;\">id&nbsp;=&nbsp;'1037', <span id=\"1040\" style=\"cursor: pointer;\">&hellip;)</span></div></div><div class=\"1039\" style=\"display: none;\"><div style=\"display: table-cell;\"></div><div style=\"display: table-cell;\">data_source&nbsp;=&nbsp;ColumnDataSource(id='1034', ...),</div></div><div class=\"1039\" style=\"display: none;\"><div style=\"display: table-cell;\"></div><div style=\"display: table-cell;\">glyph&nbsp;=&nbsp;Scatter(id='1035', ...),</div></div><div class=\"1039\" style=\"display: none;\"><div style=\"display: table-cell;\"></div><div style=\"display: table-cell;\">hover_glyph&nbsp;=&nbsp;None,</div></div><div class=\"1039\" style=\"display: none;\"><div style=\"display: table-cell;\"></div><div style=\"display: table-cell;\">js_event_callbacks&nbsp;=&nbsp;{},</div></div><div class=\"1039\" style=\"display: none;\"><div style=\"display: table-cell;\"></div><div style=\"display: table-cell;\">js_property_callbacks&nbsp;=&nbsp;{},</div></div><div class=\"1039\" style=\"display: none;\"><div style=\"display: table-cell;\"></div><div style=\"display: table-cell;\">level&nbsp;=&nbsp;'glyph',</div></div><div class=\"1039\" style=\"display: none;\"><div style=\"display: table-cell;\"></div><div style=\"display: table-cell;\">muted&nbsp;=&nbsp;False,</div></div><div class=\"1039\" style=\"display: none;\"><div style=\"display: table-cell;\"></div><div style=\"display: table-cell;\">muted_glyph&nbsp;=&nbsp;None,</div></div><div class=\"1039\" style=\"display: none;\"><div style=\"display: table-cell;\"></div><div style=\"display: table-cell;\">name&nbsp;=&nbsp;None,</div></div><div class=\"1039\" style=\"display: none;\"><div style=\"display: table-cell;\"></div><div style=\"display: table-cell;\">nonselection_glyph&nbsp;=&nbsp;Scatter(id='1036', ...),</div></div><div class=\"1039\" style=\"display: none;\"><div style=\"display: table-cell;\"></div><div style=\"display: table-cell;\">selection_glyph&nbsp;=&nbsp;None,</div></div><div class=\"1039\" style=\"display: none;\"><div style=\"display: table-cell;\"></div><div style=\"display: table-cell;\">subscribed_events&nbsp;=&nbsp;[],</div></div><div class=\"1039\" style=\"display: none;\"><div style=\"display: table-cell;\"></div><div style=\"display: table-cell;\">tags&nbsp;=&nbsp;[],</div></div><div class=\"1039\" style=\"display: none;\"><div style=\"display: table-cell;\"></div><div style=\"display: table-cell;\">view&nbsp;=&nbsp;CDSView(id='1038', ...),</div></div><div class=\"1039\" style=\"display: none;\"><div style=\"display: table-cell;\"></div><div style=\"display: table-cell;\">visible&nbsp;=&nbsp;True,</div></div><div class=\"1039\" style=\"display: none;\"><div style=\"display: table-cell;\"></div><div style=\"display: table-cell;\">x_range_name&nbsp;=&nbsp;'default',</div></div><div class=\"1039\" style=\"display: none;\"><div style=\"display: table-cell;\"></div><div style=\"display: table-cell;\">y_range_name&nbsp;=&nbsp;'default')</div></div></div>\n",
       "<script>\n",
       "(function() {\n",
       "  var expanded = false;\n",
       "  var ellipsis = document.getElementById(\"1040\");\n",
       "  ellipsis.addEventListener(\"click\", function() {\n",
       "    var rows = document.getElementsByClassName(\"1039\");\n",
       "    for (var i = 0; i < rows.length; i++) {\n",
       "      var el = rows[i];\n",
       "      el.style.display = expanded ? \"none\" : \"table-row\";\n",
       "    }\n",
       "    ellipsis.innerHTML = expanded ? \"&hellip;)\" : \"&lsaquo;&lsaquo;&lsaquo;\";\n",
       "    expanded = !expanded;\n",
       "  });\n",
       "})();\n",
       "</script>\n"
      ],
      "text/plain": [
       "GlyphRenderer(id='1037', ...)"
      ]
     },
     "execution_count": 58,
     "metadata": {},
     "output_type": "execute_result"
    }
   ],
   "source": [
    "p.scatter(share_prices.numpy()[:,0] , y.numpy()[:,0])"
   ]
  },
  {
   "cell_type": "code",
   "execution_count": 59,
   "metadata": {},
   "outputs": [
    {
     "data": {
      "text/html": [
       "<div style=\"display: table;\"><div style=\"display: table-row;\"><div style=\"display: table-cell;\"><b title=\"bokeh.models.renderers.GlyphRenderer\">GlyphRenderer</b>(</div><div style=\"display: table-cell;\">id&nbsp;=&nbsp;'1044', <span id=\"1047\" style=\"cursor: pointer;\">&hellip;)</span></div></div><div class=\"1046\" style=\"display: none;\"><div style=\"display: table-cell;\"></div><div style=\"display: table-cell;\">data_source&nbsp;=&nbsp;ColumnDataSource(id='1041', ...),</div></div><div class=\"1046\" style=\"display: none;\"><div style=\"display: table-cell;\"></div><div style=\"display: table-cell;\">glyph&nbsp;=&nbsp;Scatter(id='1042', ...),</div></div><div class=\"1046\" style=\"display: none;\"><div style=\"display: table-cell;\"></div><div style=\"display: table-cell;\">hover_glyph&nbsp;=&nbsp;None,</div></div><div class=\"1046\" style=\"display: none;\"><div style=\"display: table-cell;\"></div><div style=\"display: table-cell;\">js_event_callbacks&nbsp;=&nbsp;{},</div></div><div class=\"1046\" style=\"display: none;\"><div style=\"display: table-cell;\"></div><div style=\"display: table-cell;\">js_property_callbacks&nbsp;=&nbsp;{},</div></div><div class=\"1046\" style=\"display: none;\"><div style=\"display: table-cell;\"></div><div style=\"display: table-cell;\">level&nbsp;=&nbsp;'glyph',</div></div><div class=\"1046\" style=\"display: none;\"><div style=\"display: table-cell;\"></div><div style=\"display: table-cell;\">muted&nbsp;=&nbsp;False,</div></div><div class=\"1046\" style=\"display: none;\"><div style=\"display: table-cell;\"></div><div style=\"display: table-cell;\">muted_glyph&nbsp;=&nbsp;None,</div></div><div class=\"1046\" style=\"display: none;\"><div style=\"display: table-cell;\"></div><div style=\"display: table-cell;\">name&nbsp;=&nbsp;None,</div></div><div class=\"1046\" style=\"display: none;\"><div style=\"display: table-cell;\"></div><div style=\"display: table-cell;\">nonselection_glyph&nbsp;=&nbsp;Scatter(id='1043', ...),</div></div><div class=\"1046\" style=\"display: none;\"><div style=\"display: table-cell;\"></div><div style=\"display: table-cell;\">selection_glyph&nbsp;=&nbsp;None,</div></div><div class=\"1046\" style=\"display: none;\"><div style=\"display: table-cell;\"></div><div style=\"display: table-cell;\">subscribed_events&nbsp;=&nbsp;[],</div></div><div class=\"1046\" style=\"display: none;\"><div style=\"display: table-cell;\"></div><div style=\"display: table-cell;\">tags&nbsp;=&nbsp;[],</div></div><div class=\"1046\" style=\"display: none;\"><div style=\"display: table-cell;\"></div><div style=\"display: table-cell;\">view&nbsp;=&nbsp;CDSView(id='1045', ...),</div></div><div class=\"1046\" style=\"display: none;\"><div style=\"display: table-cell;\"></div><div style=\"display: table-cell;\">visible&nbsp;=&nbsp;True,</div></div><div class=\"1046\" style=\"display: none;\"><div style=\"display: table-cell;\"></div><div style=\"display: table-cell;\">x_range_name&nbsp;=&nbsp;'default',</div></div><div class=\"1046\" style=\"display: none;\"><div style=\"display: table-cell;\"></div><div style=\"display: table-cell;\">y_range_name&nbsp;=&nbsp;'default')</div></div></div>\n",
       "<script>\n",
       "(function() {\n",
       "  var expanded = false;\n",
       "  var ellipsis = document.getElementById(\"1047\");\n",
       "  ellipsis.addEventListener(\"click\", function() {\n",
       "    var rows = document.getElementsByClassName(\"1046\");\n",
       "    for (var i = 0; i < rows.length; i++) {\n",
       "      var el = rows[i];\n",
       "      el.style.display = expanded ? \"none\" : \"table-row\";\n",
       "    }\n",
       "    ellipsis.innerHTML = expanded ? \"&hellip;)\" : \"&lsaquo;&lsaquo;&lsaquo;\";\n",
       "    expanded = !expanded;\n",
       "  });\n",
       "})();\n",
       "</script>\n"
      ],
      "text/plain": [
       "GlyphRenderer(id='1044', ...)"
      ]
     },
     "execution_count": 59,
     "metadata": {},
     "output_type": "execute_result"
    }
   ],
   "source": [
    "p.scatter(share_prices.numpy()[:,0] , y_model.detach().numpy()[:,0] , fill_color = \"red\")"
   ]
  },
  {
   "cell_type": "code",
   "execution_count": 60,
   "metadata": {},
   "outputs": [
    {
     "data": {
      "text/html": [
       "\n",
       "\n",
       "\n",
       "\n",
       "\n",
       "\n",
       "  <div class=\"bk-root\" id=\"92567170-c42d-4c19-8a47-60746d0d8518\" data-root-id=\"1002\"></div>\n"
      ]
     },
     "metadata": {},
     "output_type": "display_data"
    },
    {
     "data": {
      "application/javascript": [
       "(function(root) {\n",
       "  function embed_document(root) {\n",
       "    \n",
       "  var docs_json = {\"a8dffee8-b291-4548-8351-43d1dae25330\":{\"roots\":{\"references\":[{\"attributes\":{\"below\":[{\"id\":\"1011\",\"type\":\"LinearAxis\"}],\"center\":[{\"id\":\"1015\",\"type\":\"Grid\"},{\"id\":\"1020\",\"type\":\"Grid\"}],\"left\":[{\"id\":\"1016\",\"type\":\"LinearAxis\"}],\"renderers\":[{\"id\":\"1037\",\"type\":\"GlyphRenderer\"},{\"id\":\"1044\",\"type\":\"GlyphRenderer\"}],\"title\":{\"id\":\"1048\",\"type\":\"Title\"},\"toolbar\":{\"id\":\"1027\",\"type\":\"Toolbar\"},\"x_range\":{\"id\":\"1003\",\"type\":\"DataRange1d\"},\"x_scale\":{\"id\":\"1007\",\"type\":\"LinearScale\"},\"y_range\":{\"id\":\"1005\",\"type\":\"DataRange1d\"},\"y_scale\":{\"id\":\"1009\",\"type\":\"LinearScale\"}},\"id\":\"1002\",\"subtype\":\"Figure\",\"type\":\"Plot\"},{\"attributes\":{\"fill_color\":{\"value\":\"#1f77b4\"},\"line_color\":{\"value\":\"#1f77b4\"},\"x\":{\"field\":\"x\"},\"y\":{\"field\":\"y\"}},\"id\":\"1035\",\"type\":\"Scatter\"},{\"attributes\":{\"dimension\":1,\"ticker\":{\"id\":\"1017\",\"type\":\"BasicTicker\"}},\"id\":\"1020\",\"type\":\"Grid\"},{\"attributes\":{\"fill_alpha\":{\"value\":0.1},\"fill_color\":{\"value\":\"#1f77b4\"},\"line_alpha\":{\"value\":0.1},\"line_color\":{\"value\":\"#1f77b4\"},\"x\":{\"field\":\"x\"},\"y\":{\"field\":\"y\"}},\"id\":\"1036\",\"type\":\"Scatter\"},{\"attributes\":{\"data_source\":{\"id\":\"1034\",\"type\":\"ColumnDataSource\"},\"glyph\":{\"id\":\"1035\",\"type\":\"Scatter\"},\"hover_glyph\":null,\"muted_glyph\":null,\"nonselection_glyph\":{\"id\":\"1036\",\"type\":\"Scatter\"},\"selection_glyph\":null,\"view\":{\"id\":\"1038\",\"type\":\"CDSView\"}},\"id\":\"1037\",\"type\":\"GlyphRenderer\"},{\"attributes\":{},\"id\":\"1054\",\"type\":\"UnionRenderers\"},{\"attributes\":{\"source\":{\"id\":\"1034\",\"type\":\"ColumnDataSource\"}},\"id\":\"1038\",\"type\":\"CDSView\"},{\"attributes\":{},\"id\":\"1021\",\"type\":\"PanTool\"},{\"attributes\":{},\"id\":\"1022\",\"type\":\"WheelZoomTool\"},{\"attributes\":{},\"id\":\"1052\",\"type\":\"BasicTickFormatter\"},{\"attributes\":{\"overlay\":{\"id\":\"1058\",\"type\":\"BoxAnnotation\"}},\"id\":\"1023\",\"type\":\"BoxZoomTool\"},{\"attributes\":{\"bottom_units\":\"screen\",\"fill_alpha\":{\"value\":0.5},\"fill_color\":{\"value\":\"lightgrey\"},\"left_units\":\"screen\",\"level\":\"overlay\",\"line_alpha\":{\"value\":1.0},\"line_color\":{\"value\":\"black\"},\"line_dash\":[4,4],\"line_width\":{\"value\":2},\"render_mode\":\"css\",\"right_units\":\"screen\",\"top_units\":\"screen\"},\"id\":\"1058\",\"type\":\"BoxAnnotation\"},{\"attributes\":{},\"id\":\"1024\",\"type\":\"SaveTool\"},{\"attributes\":{},\"id\":\"1055\",\"type\":\"Selection\"},{\"attributes\":{},\"id\":\"1025\",\"type\":\"ResetTool\"},{\"attributes\":{},\"id\":\"1050\",\"type\":\"BasicTickFormatter\"},{\"attributes\":{},\"id\":\"1026\",\"type\":\"HelpTool\"},{\"attributes\":{\"callback\":null},\"id\":\"1003\",\"type\":\"DataRange1d\"},{\"attributes\":{\"callback\":null},\"id\":\"1005\",\"type\":\"DataRange1d\"},{\"attributes\":{\"active_drag\":\"auto\",\"active_inspect\":\"auto\",\"active_multi\":null,\"active_scroll\":\"auto\",\"active_tap\":\"auto\",\"tools\":[{\"id\":\"1021\",\"type\":\"PanTool\"},{\"id\":\"1022\",\"type\":\"WheelZoomTool\"},{\"id\":\"1023\",\"type\":\"BoxZoomTool\"},{\"id\":\"1024\",\"type\":\"SaveTool\"},{\"id\":\"1025\",\"type\":\"ResetTool\"},{\"id\":\"1026\",\"type\":\"HelpTool\"}]},\"id\":\"1027\",\"type\":\"Toolbar\"},{\"attributes\":{},\"id\":\"1056\",\"type\":\"UnionRenderers\"},{\"attributes\":{},\"id\":\"1007\",\"type\":\"LinearScale\"},{\"attributes\":{\"callback\":null,\"data\":{\"x\":{\"__ndarray__\":\"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\",\"dtype\":\"float32\",\"shape\":[1000]},\"y\":{\"__ndarray__\":\"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\",\"dtype\":\"float32\",\"shape\":[1000]}},\"selected\":{\"id\":\"1057\",\"type\":\"Selection\"},\"selection_policy\":{\"id\":\"1056\",\"type\":\"UnionRenderers\"}},\"id\":\"1041\",\"type\":\"ColumnDataSource\"},{\"attributes\":{\"text\":\"\"},\"id\":\"1048\",\"type\":\"Title\"},{\"attributes\":{},\"id\":\"1009\",\"type\":\"LinearScale\"},{\"attributes\":{\"fill_color\":{\"value\":\"red\"},\"line_color\":{\"value\":\"#1f77b4\"},\"x\":{\"field\":\"x\"},\"y\":{\"field\":\"y\"}},\"id\":\"1042\",\"type\":\"Scatter\"},{\"attributes\":{\"formatter\":{\"id\":\"1052\",\"type\":\"BasicTickFormatter\"},\"ticker\":{\"id\":\"1012\",\"type\":\"BasicTicker\"}},\"id\":\"1011\",\"type\":\"LinearAxis\"},{\"attributes\":{\"fill_alpha\":{\"value\":0.1},\"fill_color\":{\"value\":\"#1f77b4\"},\"line_alpha\":{\"value\":0.1},\"line_color\":{\"value\":\"#1f77b4\"},\"x\":{\"field\":\"x\"},\"y\":{\"field\":\"y\"}},\"id\":\"1043\",\"type\":\"Scatter\"},{\"attributes\":{\"data_source\":{\"id\":\"1041\",\"type\":\"ColumnDataSource\"},\"glyph\":{\"id\":\"1042\",\"type\":\"Scatter\"},\"hover_glyph\":null,\"muted_glyph\":null,\"nonselection_glyph\":{\"id\":\"1043\",\"type\":\"Scatter\"},\"selection_glyph\":null,\"view\":{\"id\":\"1045\",\"type\":\"CDSView\"}},\"id\":\"1044\",\"type\":\"GlyphRenderer\"},{\"attributes\":{},\"id\":\"1012\",\"type\":\"BasicTicker\"},{\"attributes\":{\"ticker\":{\"id\":\"1012\",\"type\":\"BasicTicker\"}},\"id\":\"1015\",\"type\":\"Grid\"},{\"attributes\":{\"source\":{\"id\":\"1041\",\"type\":\"ColumnDataSource\"}},\"id\":\"1045\",\"type\":\"CDSView\"},{\"attributes\":{\"formatter\":{\"id\":\"1050\",\"type\":\"BasicTickFormatter\"},\"ticker\":{\"id\":\"1017\",\"type\":\"BasicTicker\"}},\"id\":\"1016\",\"type\":\"LinearAxis\"},{\"attributes\":{\"callback\":null,\"data\":{\"x\":{\"__ndarray__\":\"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\",\"dtype\":\"float32\",\"shape\":[1000]},\"y\":{\"__ndarray__\":\"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\",\"dtype\":\"float32\",\"shape\":[1000]}},\"selected\":{\"id\":\"1055\",\"type\":\"Selection\"},\"selection_policy\":{\"id\":\"1054\",\"type\":\"UnionRenderers\"}},\"id\":\"1034\",\"type\":\"ColumnDataSource\"},{\"attributes\":{},\"id\":\"1057\",\"type\":\"Selection\"},{\"attributes\":{},\"id\":\"1017\",\"type\":\"BasicTicker\"}],\"root_ids\":[\"1002\"]},\"title\":\"Bokeh Application\",\"version\":\"1.2.0\"}};\n",
       "  var render_items = [{\"docid\":\"a8dffee8-b291-4548-8351-43d1dae25330\",\"roots\":{\"1002\":\"92567170-c42d-4c19-8a47-60746d0d8518\"}}];\n",
       "  root.Bokeh.embed.embed_items_notebook(docs_json, render_items);\n",
       "\n",
       "  }\n",
       "  if (root.Bokeh !== undefined) {\n",
       "    embed_document(root);\n",
       "  } else {\n",
       "    var attempts = 0;\n",
       "    var timer = setInterval(function(root) {\n",
       "      if (root.Bokeh !== undefined) {\n",
       "        embed_document(root);\n",
       "        clearInterval(timer);\n",
       "      }\n",
       "      attempts++;\n",
       "      if (attempts > 100) {\n",
       "        console.log(\"Bokeh: ERROR: Unable to run BokehJS code because BokehJS library is missing\");\n",
       "        clearInterval(timer);\n",
       "      }\n",
       "    }, 10, root)\n",
       "  }\n",
       "})(window);"
      ],
      "application/vnd.bokehjs_exec.v0+json": ""
     },
     "metadata": {
      "application/vnd.bokehjs_exec.v0+json": {
       "id": "1002"
      }
     },
     "output_type": "display_data"
    }
   ],
   "source": [
    "bp.show(p)"
   ]
  },
  {
   "cell_type": "code",
   "execution_count": null,
   "metadata": {},
   "outputs": [],
   "source": [
    "1+1"
   ]
  },
  {
   "cell_type": "code",
   "execution_count": 53,
   "metadata": {},
   "outputs": [
    {
     "data": {
      "text/html": [
       "\n",
       "\n",
       "\n",
       "\n",
       "\n",
       "\n",
       "  <div class=\"bk-root\" id=\"ad798609-5507-485d-bd1c-61d2c8f97bd0\"></div>\n"
      ]
     },
     "metadata": {},
     "output_type": "display_data"
    },
    {
     "data": {
      "application/javascript": [
       "(function(root) {\n",
       "  function embed_document(root) {\n",
       "    \n",
       "  var docs_json = {\"9cb13b3b-745e-4c4a-af16-7d18ae768aa0\":{\"roots\":{\"references\":[{\"attributes\":{\"dimension\":1,\"plot\":{\"id\":\"bf2b5b53-6e66-436b-a4c6-a4260850b5fb\",\"subtype\":\"Figure\",\"type\":\"Plot\"},\"ticker\":{\"id\":\"7e3c78f7-9e30-4560-bea2-b26e49cb1976\",\"type\":\"BasicTicker\"}},\"id\":\"466f235b-a86f-401b-b3b3-6dba586d44f7\",\"type\":\"Grid\"},{\"attributes\":{},\"id\":\"7e3c78f7-9e30-4560-bea2-b26e49cb1976\",\"type\":\"BasicTicker\"},{\"attributes\":{\"bottom_units\":\"screen\",\"fill_alpha\":{\"value\":0.5},\"fill_color\":{\"value\":\"lightgrey\"},\"left_units\":\"screen\",\"level\":\"overlay\",\"line_alpha\":{\"value\":1.0},\"line_color\":{\"value\":\"black\"},\"line_dash\":[4,4],\"line_width\":{\"value\":2},\"plot\":null,\"render_mode\":\"css\",\"right_units\":\"screen\",\"top_units\":\"screen\"},\"id\":\"b7083bb1-94f4-4628-9779-82d0fc1ba6eb\",\"type\":\"BoxAnnotation\"},{\"attributes\":{},\"id\":\"141d1373-771f-4a2a-8303-7102f4dcebd4\",\"type\":\"BasicTicker\"},{\"attributes\":{},\"id\":\"6f018e4d-b13c-4c6d-9980-a6f21c184fc3\",\"type\":\"WheelZoomTool\"},{\"attributes\":{},\"id\":\"c05d032d-c8c8-419b-af0d-6d962fb7692f\",\"type\":\"BasicTickFormatter\"},{\"attributes\":{},\"id\":\"051d821a-1e59-4f44-969d-a962400aaced\",\"type\":\"HelpTool\"},{\"attributes\":{\"fill_alpha\":{\"value\":0.1},\"fill_color\":{\"value\":\"#1f77b4\"},\"line_alpha\":{\"value\":0.1},\"line_color\":{\"value\":\"#1f77b4\"},\"x\":{\"field\":\"x\"},\"y\":{\"field\":\"y\"}},\"id\":\"4ef9cce0-0a58-4c47-886a-dc515aab7855\",\"type\":\"Circle\"},{\"attributes\":{\"source\":{\"id\":\"8d346f99-392c-46da-afa5-31252c7baf7c\",\"type\":\"ColumnDataSource\"}},\"id\":\"f69df621-fc3f-4230-8335-a15bbaa6a002\",\"type\":\"CDSView\"},{\"attributes\":{\"below\":[{\"id\":\"142b0d42-0aaf-4277-ab55-a8fac08f7bac\",\"type\":\"LinearAxis\"}],\"left\":[{\"id\":\"7c172140-126e-4aad-91d0-096a310a2f81\",\"type\":\"LinearAxis\"}],\"renderers\":[{\"id\":\"142b0d42-0aaf-4277-ab55-a8fac08f7bac\",\"type\":\"LinearAxis\"},{\"id\":\"a64271d2-d12e-48fd-9ddc-fb0201d152be\",\"type\":\"Grid\"},{\"id\":\"7c172140-126e-4aad-91d0-096a310a2f81\",\"type\":\"LinearAxis\"},{\"id\":\"466f235b-a86f-401b-b3b3-6dba586d44f7\",\"type\":\"Grid\"},{\"id\":\"b7083bb1-94f4-4628-9779-82d0fc1ba6eb\",\"type\":\"BoxAnnotation\"},{\"id\":\"10b2c389-840f-46d9-9b35-f1e988747a74\",\"type\":\"GlyphRenderer\"}],\"title\":{\"id\":\"ab9c60de-9776-4dd0-b789-4bc2bdec6eaf\",\"type\":\"Title\"},\"toolbar\":{\"id\":\"ceb625fd-b4f6-497e-bc8d-5402580cacad\",\"type\":\"Toolbar\"},\"x_range\":{\"id\":\"69268c2a-93b0-4546-aa5b-fbd8fe2441b5\",\"type\":\"DataRange1d\"},\"x_scale\":{\"id\":\"4c2a4ae3-6fa0-4d2b-b9cc-b1db0f98ccbd\",\"type\":\"LinearScale\"},\"y_range\":{\"id\":\"1349de85-73f6-411f-b02c-5291aabc8749\",\"type\":\"DataRange1d\"},\"y_scale\":{\"id\":\"aa18567c-c01e-4645-99d1-71b819335bcb\",\"type\":\"LinearScale\"}},\"id\":\"bf2b5b53-6e66-436b-a4c6-a4260850b5fb\",\"subtype\":\"Figure\",\"type\":\"Plot\"},{\"attributes\":{\"formatter\":{\"id\":\"76b8bd7d-a504-4373-9cb4-6d5ea3fba5ec\",\"type\":\"BasicTickFormatter\"},\"plot\":{\"id\":\"bf2b5b53-6e66-436b-a4c6-a4260850b5fb\",\"subtype\":\"Figure\",\"type\":\"Plot\"},\"ticker\":{\"id\":\"7e3c78f7-9e30-4560-bea2-b26e49cb1976\",\"type\":\"BasicTicker\"}},\"id\":\"7c172140-126e-4aad-91d0-096a310a2f81\",\"type\":\"LinearAxis\"},{\"attributes\":{},\"id\":\"5353f50f-3a08-411e-be31-695ba7675ecb\",\"type\":\"UnionRenderers\"},{\"attributes\":{\"active_drag\":\"auto\",\"active_inspect\":\"auto\",\"active_multi\":null,\"active_scroll\":\"auto\",\"active_tap\":\"auto\",\"tools\":[{\"id\":\"3cab6922-3dfe-422a-bb1a-28b32f3644c0\",\"type\":\"PanTool\"},{\"id\":\"6f018e4d-b13c-4c6d-9980-a6f21c184fc3\",\"type\":\"WheelZoomTool\"},{\"id\":\"453520c6-f94e-4f17-9c19-94da7c1fde58\",\"type\":\"BoxZoomTool\"},{\"id\":\"7918451f-03dc-497d-8a82-4845b53d132d\",\"type\":\"SaveTool\"},{\"id\":\"48b4947e-0303-414f-bfdd-2d951508d290\",\"type\":\"ResetTool\"},{\"id\":\"051d821a-1e59-4f44-969d-a962400aaced\",\"type\":\"HelpTool\"}]},\"id\":\"ceb625fd-b4f6-497e-bc8d-5402580cacad\",\"type\":\"Toolbar\"},{\"attributes\":{\"callback\":null,\"data\":{\"x\":{\"__ndarray__\":\"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\",\"dtype\":\"float32\",\"shape\":[1000]},\"y\":{\"__ndarray__\":\"dFuCv0u2iECA7EQ9Gv4cQ5X2NEIIxbRCs2fjQpumKUJOXybA/elmQu2pr0FASfK/TK2sP4ZoC0DRrHJCnMi7v1XBmUA0KBtDzGrWQoK9SkH/FSRDhsGrQtzWB0N6iKFCUHbxPlQ27L/Kfx5DiQXWQbaQdkGgcSdDqTYZQkKHDkMNOBtCBOb1P7yumj+KKRdDgwWWQjRjuD94yQpArR/SQSlGkkKK57BB9KKRQDL7+kKc7ApB92gCQsVQhECT/CJDQwmzQipyBkJGUybAOK9gv90vL0LWzTHAsfMfQjEkAkKipphBXLWjQnxmuL/uzOtCP+LOQv3ULUL8IX9AtLfbv8BIEUNWRjDA9Eerv8DTEENm6i9AGv6pQb6GHEI7nZhAZnEBQ/zkrUJe0x9DAnqVQutCIEIezdNCwss7wBzj6b+35yNDvG8RQ3pbDUNg01E+un9cQmoYlEEUYRpD7nOxQR7GZ0D31yRC8O+wPj5yFkA76+ZBHD+5Py90GEMRQqJC/MGNP3vHN0KNSlRC0bPRQQWMs0HlfLZBbgntQq0hh8CQD4O+TPLoP5F6U0IOWybAYRW4QUAcIkOyT1FBcH+YvuqMJUMSDhpAuUgWQwiiDr/CXGJBXrkFQ4hgmkIXOQ9DHcccQi2y8UIwJ9k+iP0Yv16oV0Cp1YBAubALQ/or10J879RCNqm9Qsr9IEHe+21AmKpDQDBczT70d/9C/TkGQxUwCEPLGsdCQrWsQrQOIUN8fCNDws09wCpwekALuJlAmg8BQ1yNB0FOetBCIG8GQ6KUkUAltrxB8mvPQuTmuD/Y6Co/0AIuvyGtXkKMrzhBqSkNQvKvA0B6Y6tCtwDUQKzJKkN0dpS/8O2+P3Kx0kLGk59ComQGQVb6jEJEKY4/FpMtwCoZXkDAiTC+Pt4OQ3M/rEA06Lu/09LLQgHRpULMxY4/BBSeQqJJ50KssBVDAFB2v1Kia8BCahRAV9kxQkV8okA4iXY/WG1YPxguBT/W2tBCmB8NP337K0JEi+0/6qQwwEK7KcBbGtpC8n2yQoCiJL3miYBCVHL5v/iGcD/S7yJDgnUiQ+Zv3UIpWJ1CCngJwK46D0B8jKpCBsKbQrWRxkCcg1xCtOEyQaR18z9t/Y1Af0F7QlpZC8D5MQVC8+XrQSadAEMWSyhDTtPbQvQnckEMfjFBY8q9QLpnqkHQRrFC8slFwMNbf0IcBYQ/YJaiQikLJkPlVJxChEGovxQHH0I8wSVDYqNgQCSsd0GoPTK/eLaWQoaEfkCiRPlChsgTQEadWkCN1OdCdkkbwAfwFkNwjlhBiBQpP2i5ZUI+ygjAoD2/v86lPEBewiZCPjjgQh/RpkAO8AlDWBcJP+mZckKQzZ1CQI7vQuBPNb6oJBdDhP4GQgzZuEJ38jRCajAOQ7zsEEHnl8JBvFK2PxdCMkIVMH5CTNW7Pw//rUBeTIhCLL08QlJLDUGKx+dCYGLDQmQwxL9yHhbAbDT9P4diNELDlNpCwJDQvRBFyz5z2zpCmLe3PyPgHkMieX9AwSDCQonsc0Ln+/hBxq1eQALdMUHmvi9BeImmQst5q0B89QRC7FgEQx0kmUCAkk9BTK37QtQUyr/RxZNB0HM6v1vXvUH+1hnAeMgLwJEfpkBTMYFCXND1PwSvib82jntAcUUiQ+BWK0OKsnLALhT5QoalZcBuCvVCQyY9QkCd9b1qqB1DQKSHQpEMg8BnxTFCc3bKQssouUDybvhCJpUSQ3PFwkDewCRAy/cZQ7GYyUF3nT9Cb34dQ4sFIUOch/+/br0XQ1j3IEOogdJBoMQ5wFSsiD9rvgVDFm4SQAfTpEIZPBhDSc38QWSihEH/yNtCflZxQImMyUDC7GtBNcWGQtBIoEIe2A/A8Dt2P0Pan0DFJR1DJNyKQLL4JUPMOpy/dG7Ovz660EIm2kfAut8sQCDaXr4RwYpAyGV1vzRcqkH0hpW/QTJEQmg1kEKDXoFBxqRBQfYE0EKqssNCivLJQssB40EHJ6ZALM+GP7DCT0EiOCdAJfvAQpBnHUPPmANDiIEAQMgUab/A57M9n/OGQe0BgUGmzP1CCGDNQryI/j9mj91C2LAJP+/HhEDyXFJA5cxlQrjUVL8hnGdCp4KbQFpzD0Ii8zpAGCtSQnCj+UI4Mbe/mFooPxw/xkJ0a9hBMetYQsgKLb+b+GBConJwQJO5y0J5w09C3EgbQCqgU0CXs45AeySpQBb6OUCa+2JAjAq5PxRw7T8WglxCtIn5QpdBB0OgO8W/Lw4WQojxE7/fDbBB3OGbP6o42kKTdLFCGX+TQSIsJsAH0BdD//55QhhBwkLcfoY/eNhQP7IjbkDONxtAmrkSwEvf8UJX8LxAs3O5Qi4FnEKCjhVDKAK/QkhBH0LQRYu+s1kKQvsyNEIk4NpCDWrnQZ8dokC4YAFBt/bxQfRRBEPKWhtDtrkTQBLo3kLKPIFA11kVQ1r5+ULd8AFDXpdIQevyj0LUxIM/dL8FQ/1qlcCSbgVAvNSkP1yJ/UJXz4RCMnEaQhqvgEJBgdBCZTaUQr1bfEIAcyZD04/9QVJUBENHGs1AZeMCQ7uQqUKLbYJAkHkhwLyU5T/gLBVB7tsIQLQU3kIsA5o/Gx0zQiQiFUOH3vdBTArQv093JkPMEABCJKgPQ0gHqEJ3sSNClp81QS5r5UK7jhVCMJwPQ4VaB0MmHz1AiooCQbZuFkOOdA5DbIaiQv9Fk0BfEAtDFXgDQtqFnkKwLu0+yHJlPxg89kLC4JJCPCKkvwD0/bxcT+w/cEnpPqBnM77XN/NCENjrPn7bJ0ClVyhCspgIQzHwRkIQhhtCeDVDQQpDY0DsOdc/+IinQvSxB0GGoCpBrp3oQlidmkIfteVCUrdQQCYSrUJoI29AgCrrPWCYg0LtUlRCdp8qQ+KiIUMG41NC2sFqQhz7xj9S2gZDSBgEPyuDYkJOQjnAax6lQM4RIUGhl65C1CVvQZnNmkJQn7y+crsjQnCl5L7p4wBCvw4fQi5G/EJsTQxCBikJQcKv+UJ0z8o/CI3/P+C9Lb78ggBDqUaGQPgi3z+w8Nu/vYEsQuEbvUK2hohCsvesQWRovz+T3gdDC8nfQQg5DUMqvf1CaOTuQjV90kKMpBNDlpg/QKnsPEKEZqVCXCG+P7/2UUL4M0+/0zqGQPLsfMC3G/tB5LbBP/wb/UKQQJO+AzUIQ57RDEAe22dB4xshQ7Cn2D6yc2PAerlqQb+Z2kGIaYi/Q9IWQwrIKEKLA/RBQ+8MQxKQKMA/8xVDBrREQePixkC8VyRBKNUGQ2lYzkKOJl5AcBzoPnaMwkLo0tlCjAipQvYky0IryitDLrwTQoC/37/nJsVC8FyIQn4+FEEtPOxCjAvTv9eQ2ECoBQdDxr8cQBmNHUMxEIrA+2+PQIX5g8DcSCZCdtVsQUjkUcCcsSlCwNX3PbAAjr64fR1DiCAKv4qTTEAtHYlAdregQgquEkMTaZFBWWmXQgkAnEJgcii/MCu3PkmEmkAT5OpBrhXQQjCbSL/OxgnAXwYLQq4daEFGuHrAibUJQkernEItqSVCnlAPQCq9l0KKJZ1Bdq3GQoe+vkBUoV7AHhtGQEJTr0KomlY/HUe/QXOMkcDluq1BgEFwP+k/oEESNBNAGRclQ0pBj0GxZPNByl6WQr7OAkMsub9CP3WAQngdpL+Gg1jAsEuNPtLdS0DahQtDtB47QQ+m90IdrKVAGsCcQkfcyECPbs9CRtY4QO3bmUHreCdDNsa2QnBtEUN0GRZDcj0ZQ5j4gT8wNL8+MrwkQoisGENazAVCNu4rQCnN4kGoeUe/IOwBQZuw9EG3AZxA1C6AvzEAH0MGGjRBCCoTv1TstL9pKZhCIHQDvoxPgkKY2GrAppGOQlxZB0M+k7xC6zXjQp5oEUL0jr1CBgGdQvJ8IUP4RyJBqMR3v0jWFz9rrK5C6hTGQlIltkFuCVBA+jzlQjJf/UKY+z8/bCX3P+C/V76HMINAlMKOv4ZBl0Icb6a/BeiQwO8gAELVMNpBceqWQhqwgkLmR0JA8uqBQgbIQUGxyzJCcy/pQQTYjj/rAyhC3EKzP3jKi0Ihqa1ACEZWP155PkAEGa6/yNBLPyIWT0DHXAtCv9byQp8y/EB7fbRChJkUQ7VObEKx0tlBDYemQLAu/T4T3X1CdVoKQ5+d2EHxJ0FCFMeWP3MCb0LwdwRDbGv4QvubIEMQ7iJDJH/LP54VDkOgQulCJESrQpzEBUNWO8VBeOAvP3fLaEJgzpBCILSEvz6Tc0CGd1ZAqMKpv+hOBUGHoLRAukZlwCicSL8uPk7APB+SQnqVU8Cs5wdBsAr7QvfJ2kBjQT5CvisnQ9difUIFkSJDPCg5QbTeKEPUtNK/pUG4QYfEHUM4H75CsMr+PrvkkEAWLC1A3MYUQ/dZCkL6CQhDKMldv6QlbkJ6KjLA6SWsQiLGIENIJXc/tMC+QobjtkKYPyhBLAUWQ2Y/TUHUWvVCxJnIQuLBIcDE+w5BqslUwKTQ4z9OqsJCUOnKPtxGxj+ukVpAcCLIQokpMkLQKZNCVdfmQtVwKUN0ng1DKOz9QmAO4r8MAqQ/eDJJP4DJDEN9tahBQkh5QX57XkA2XtdC02rVQqaABMCssExBSgdaQk0QHkOY/ghAvL1ZQv8vbEJbRadAmxrJQLpiIkPba9NCtyx9Qo4SGENZsoBA2xyqQLTmHkMgiwpBFHbQQlfrjUEimwhCrFr/v+AtFT4Q9ydA/X0CQ9gaKEMCpiND8iM2QD+LBkO/JRVCFxbUQA3I+kEGUnVAgpUsQYsNEkMGI1VANLDbP+RTXEIyJiPA4vMMwJafHUBQw7K/9cdyQlZnG8Cobiu/MDrmQW7eJUO/+wtD2FfQQixEUUJEXrlBbeciQxgSuUL0L+M/NslCQFC13z80cJu/b4r5QF6PA0NBM5VBqjAOQ+7WbkDoHX6/5OWxQWN52kJQpgzAMiB3QYhVGkDaf8FCxnJbQa98A0KWQChAiP9Fv2DVaUITzTpCJGrXv5z3vD86PRNDVunKQszm8L9bRHtCc67fQvTm8b/APea/hzaaQrWbg0AmudVCw3KTQBgegEJ4dsNBEYNjQjsBWkIk6cy/7x5xQv4SK0KihHxAf2cTQnmC6UHY424/wD7MQsDHGUE0trhCkD26vrNwEkIYQihAhGWfQaSutUERLDRCkPhnv7X8JEO4LmC/xuoVQAB0gUIfWGlCCn/UQjhj0kJb8y1C/k8AQxFK7EL9zRRDCikMQGRt3L+cHpE/eJIcQ4kvSEL1eJtClHqIP82jn0LAmA2/CVaoQW7pAUMAs2o9Kk+AQQ==\",\"dtype\":\"float32\",\"shape\":[1000]}},\"selected\":{\"id\":\"77e6cdbb-d651-4838-aed6-3c3104a67ef4\",\"type\":\"Selection\"},\"selection_policy\":{\"id\":\"5353f50f-3a08-411e-be31-695ba7675ecb\",\"type\":\"UnionRenderers\"}},\"id\":\"8d346f99-392c-46da-afa5-31252c7baf7c\",\"type\":\"ColumnDataSource\"},{\"attributes\":{},\"id\":\"4c2a4ae3-6fa0-4d2b-b9cc-b1db0f98ccbd\",\"type\":\"LinearScale\"},{\"attributes\":{},\"id\":\"77e6cdbb-d651-4838-aed6-3c3104a67ef4\",\"type\":\"Selection\"},{\"attributes\":{\"data_source\":{\"id\":\"8d346f99-392c-46da-afa5-31252c7baf7c\",\"type\":\"ColumnDataSource\"},\"glyph\":{\"id\":\"7c7fa17c-7632-44dd-8bfe-80aa31c52d9a\",\"type\":\"Circle\"},\"hover_glyph\":null,\"muted_glyph\":null,\"nonselection_glyph\":{\"id\":\"4ef9cce0-0a58-4c47-886a-dc515aab7855\",\"type\":\"Circle\"},\"selection_glyph\":null,\"view\":{\"id\":\"f69df621-fc3f-4230-8335-a15bbaa6a002\",\"type\":\"CDSView\"}},\"id\":\"10b2c389-840f-46d9-9b35-f1e988747a74\",\"type\":\"GlyphRenderer\"},{\"attributes\":{\"plot\":{\"id\":\"bf2b5b53-6e66-436b-a4c6-a4260850b5fb\",\"subtype\":\"Figure\",\"type\":\"Plot\"},\"ticker\":{\"id\":\"141d1373-771f-4a2a-8303-7102f4dcebd4\",\"type\":\"BasicTicker\"}},\"id\":\"a64271d2-d12e-48fd-9ddc-fb0201d152be\",\"type\":\"Grid\"},{\"attributes\":{\"callback\":null},\"id\":\"69268c2a-93b0-4546-aa5b-fbd8fe2441b5\",\"type\":\"DataRange1d\"},{\"attributes\":{},\"id\":\"48b4947e-0303-414f-bfdd-2d951508d290\",\"type\":\"ResetTool\"},{\"attributes\":{\"formatter\":{\"id\":\"c05d032d-c8c8-419b-af0d-6d962fb7692f\",\"type\":\"BasicTickFormatter\"},\"plot\":{\"id\":\"bf2b5b53-6e66-436b-a4c6-a4260850b5fb\",\"subtype\":\"Figure\",\"type\":\"Plot\"},\"ticker\":{\"id\":\"141d1373-771f-4a2a-8303-7102f4dcebd4\",\"type\":\"BasicTicker\"}},\"id\":\"142b0d42-0aaf-4277-ab55-a8fac08f7bac\",\"type\":\"LinearAxis\"},{\"attributes\":{},\"id\":\"3cab6922-3dfe-422a-bb1a-28b32f3644c0\",\"type\":\"PanTool\"},{\"attributes\":{\"plot\":null,\"text\":\"\"},\"id\":\"ab9c60de-9776-4dd0-b789-4bc2bdec6eaf\",\"type\":\"Title\"},{\"attributes\":{\"overlay\":{\"id\":\"b7083bb1-94f4-4628-9779-82d0fc1ba6eb\",\"type\":\"BoxAnnotation\"}},\"id\":\"453520c6-f94e-4f17-9c19-94da7c1fde58\",\"type\":\"BoxZoomTool\"},{\"attributes\":{},\"id\":\"aa18567c-c01e-4645-99d1-71b819335bcb\",\"type\":\"LinearScale\"},{\"attributes\":{\"fill_color\":{\"value\":\"#1f77b4\"},\"line_color\":{\"value\":\"#1f77b4\"},\"x\":{\"field\":\"x\"},\"y\":{\"field\":\"y\"}},\"id\":\"7c7fa17c-7632-44dd-8bfe-80aa31c52d9a\",\"type\":\"Circle\"},{\"attributes\":{},\"id\":\"76b8bd7d-a504-4373-9cb4-6d5ea3fba5ec\",\"type\":\"BasicTickFormatter\"},{\"attributes\":{\"callback\":null},\"id\":\"1349de85-73f6-411f-b02c-5291aabc8749\",\"type\":\"DataRange1d\"},{\"attributes\":{},\"id\":\"7918451f-03dc-497d-8a82-4845b53d132d\",\"type\":\"SaveTool\"}],\"root_ids\":[\"bf2b5b53-6e66-436b-a4c6-a4260850b5fb\"]},\"title\":\"Bokeh Application\",\"version\":\"0.13.0\"}};\n",
       "  var render_items = [{\"docid\":\"9cb13b3b-745e-4c4a-af16-7d18ae768aa0\",\"roots\":{\"bf2b5b53-6e66-436b-a4c6-a4260850b5fb\":\"ad798609-5507-485d-bd1c-61d2c8f97bd0\"}}];\n",
       "  root.Bokeh.embed.embed_items_notebook(docs_json, render_items);\n",
       "\n",
       "  }\n",
       "  if (root.Bokeh !== undefined) {\n",
       "    embed_document(root);\n",
       "  } else {\n",
       "    var attempts = 0;\n",
       "    var timer = setInterval(function(root) {\n",
       "      if (root.Bokeh !== undefined) {\n",
       "        embed_document(root);\n",
       "        clearInterval(timer);\n",
       "      }\n",
       "      attempts++;\n",
       "      if (attempts > 100) {\n",
       "        console.log(\"Bokeh: ERROR: Unable to run BokehJS code because BokehJS library is missing\")\n",
       "        clearInterval(timer);\n",
       "      }\n",
       "    }, 10, root)\n",
       "  }\n",
       "})(window);"
      ],
      "application/vnd.bokehjs_exec.v0+json": ""
     },
     "metadata": {
      "application/vnd.bokehjs_exec.v0+json": {
       "id": "bf2b5b53-6e66-436b-a4c6-a4260850b5fb"
      }
     },
     "output_type": "display_data"
    }
   ],
   "source": [
    "p = bp.figure()\n",
    "p.scatter(y.numpy()[:,0] , y_model.detach().numpy()[:,0])\n",
    "bp.show(p)"
   ]
  },
  {
   "cell_type": "code",
   "execution_count": 335,
   "metadata": {},
   "outputs": [
    {
     "data": {
      "text/html": [
       "\n",
       "<div class=\"bk-root\">\n",
       "    <div class=\"bk-plotdiv\" id=\"8f93f71a-9422-4551-8c92-1217f8f2f824\"></div>\n",
       "</div>"
      ]
     },
     "metadata": {},
     "output_type": "display_data"
    },
    {
     "data": {
      "application/javascript": [
       "(function(root) {\n",
       "  function embed_document(root) {\n",
       "    \n",
       "  var docs_json = {\"bb3bc0fe-8ebf-45ec-9665-3e2de001fe72\":{\"roots\":{\"references\":[{\"attributes\":{\"fill_alpha\":{\"value\":0.1},\"fill_color\":{\"value\":\"#1f77b4\"},\"line_alpha\":{\"value\":0.1},\"line_color\":{\"value\":\"#1f77b4\"},\"x\":{\"field\":\"x\"},\"y\":{\"field\":\"y\"}},\"id\":\"f3826a2a-68b0-4322-b2a3-6e8ca4241f3e\",\"type\":\"Circle\"},{\"attributes\":{\"callback\":null},\"id\":\"e359999f-a274-4e94-b3e4-6ac132898415\",\"type\":\"DataRange1d\"},{\"attributes\":{\"fill_color\":{\"value\":\"yellow\"},\"line_color\":{\"value\":\"yellow\"},\"x\":{\"field\":\"x\"},\"y\":{\"field\":\"y\"}},\"id\":\"2e7495e5-3866-4e31-8838-6bd5294434c4\",\"type\":\"Circle\"},{\"attributes\":{\"active_drag\":\"auto\",\"active_inspect\":\"auto\",\"active_scroll\":\"auto\",\"active_tap\":\"auto\",\"tools\":[{\"id\":\"696bf431-048a-42ba-b210-a35d7bf08e19\",\"type\":\"PanTool\"},{\"id\":\"4a3cab8f-684a-4ab6-b054-e1cc19a900c0\",\"type\":\"WheelZoomTool\"},{\"id\":\"42a187e0-0541-4dea-8b46-5ac864849179\",\"type\":\"BoxZoomTool\"},{\"id\":\"d2d67cd5-1dc7-4d46-9074-9747116be15b\",\"type\":\"SaveTool\"},{\"id\":\"1b5b65c9-bc73-4b0a-81cd-8e077e0aa1f3\",\"type\":\"ResetTool\"},{\"id\":\"d67634ea-8d2a-487d-a703-84134b56c659\",\"type\":\"HelpTool\"}]},\"id\":\"82f9283b-9df2-4728-81b0-d6b9ff40dc35\",\"type\":\"Toolbar\"},{\"attributes\":{\"below\":[{\"id\":\"d9c3d7f3-c710-48ed-a57c-82cdc7a18320\",\"type\":\"LinearAxis\"}],\"left\":[{\"id\":\"19632a56-1ccc-49ce-943e-9f416d8804ff\",\"type\":\"LinearAxis\"}],\"renderers\":[{\"id\":\"d9c3d7f3-c710-48ed-a57c-82cdc7a18320\",\"type\":\"LinearAxis\"},{\"id\":\"b48fa7f7-c200-4da7-94ee-fbb132379165\",\"type\":\"Grid\"},{\"id\":\"19632a56-1ccc-49ce-943e-9f416d8804ff\",\"type\":\"LinearAxis\"},{\"id\":\"b86905b1-880a-45dc-b3dc-4df78aa582ba\",\"type\":\"Grid\"},{\"id\":\"216e6dcf-cbc8-4b65-8895-bd10d4897c8c\",\"type\":\"BoxAnnotation\"},{\"id\":\"4abb1be5-bc00-4b43-b24f-23f891e4d439\",\"type\":\"GlyphRenderer\"},{\"id\":\"db109622-2b78-4257-bdbc-a573de0fdc9b\",\"type\":\"GlyphRenderer\"}],\"title\":{\"id\":\"7f6e3af9-061e-4f23-afb1-ad69e58d267d\",\"type\":\"Title\"},\"toolbar\":{\"id\":\"82f9283b-9df2-4728-81b0-d6b9ff40dc35\",\"type\":\"Toolbar\"},\"x_range\":{\"id\":\"e359999f-a274-4e94-b3e4-6ac132898415\",\"type\":\"DataRange1d\"},\"x_scale\":{\"id\":\"a96a909e-f9ce-47a8-9830-8f221991c265\",\"type\":\"LinearScale\"},\"y_range\":{\"id\":\"ecfedc9b-6a93-43c9-88a1-5e91673b3c7b\",\"type\":\"DataRange1d\"},\"y_scale\":{\"id\":\"b79e99d0-5793-40a3-9e01-ee69e7e09951\",\"type\":\"LinearScale\"}},\"id\":\"a9838638-fd3a-4f6c-acbb-07678a563d6a\",\"subtype\":\"Figure\",\"type\":\"Plot\"},{\"attributes\":{\"source\":{\"id\":\"c4489c94-74a9-45bb-a184-279861ea833b\",\"type\":\"ColumnDataSource\"}},\"id\":\"120326c0-ba83-4838-adba-2f1c7e5169ed\",\"type\":\"CDSView\"},{\"attributes\":{\"plot\":{\"id\":\"a9838638-fd3a-4f6c-acbb-07678a563d6a\",\"subtype\":\"Figure\",\"type\":\"Plot\"},\"ticker\":{\"id\":\"546e8510-9d2a-485e-9096-8e08e32dc17a\",\"type\":\"BasicTicker\"}},\"id\":\"b48fa7f7-c200-4da7-94ee-fbb132379165\",\"type\":\"Grid\"},{\"attributes\":{},\"id\":\"546e8510-9d2a-485e-9096-8e08e32dc17a\",\"type\":\"BasicTicker\"},{\"attributes\":{},\"id\":\"ff2c87eb-1a27-4c84-b2f3-a84716f61c3d\",\"type\":\"BasicTicker\"},{\"attributes\":{\"callback\":null,\"column_names\":[\"x\",\"y\"],\"data\":{\"x\":{\"__ndarray__\":\"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\",\"dtype\":\"float32\",\"shape\":[1000]},\"y\":{\"__ndarray__\":\"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\",\"dtype\":\"float32\",\"shape\":[1000]}}},\"id\":\"0c2f3527-4f51-4502-b23c-72f830e2d6c9\",\"type\":\"ColumnDataSource\"},{\"attributes\":{\"source\":{\"id\":\"0c2f3527-4f51-4502-b23c-72f830e2d6c9\",\"type\":\"ColumnDataSource\"}},\"id\":\"bfc22e13-ef2e-4565-a972-06bb839abc57\",\"type\":\"CDSView\"},{\"attributes\":{\"callback\":null},\"id\":\"ecfedc9b-6a93-43c9-88a1-5e91673b3c7b\",\"type\":\"DataRange1d\"},{\"attributes\":{\"callback\":null,\"column_names\":[\"x\",\"y\"],\"data\":{\"x\":{\"__ndarray__\":\"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\",\"dtype\":\"float32\",\"shape\":[1000]},\"y\":{\"__ndarray__\":\"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\",\"dtype\":\"float32\",\"shape\":[1000]}}},\"id\":\"c4489c94-74a9-45bb-a184-279861ea833b\",\"type\":\"ColumnDataSource\"},{\"attributes\":{\"formatter\":{\"id\":\"e48b20e9-6446-4aa4-bd50-8ea27fdf87c6\",\"type\":\"BasicTickFormatter\"},\"plot\":{\"id\":\"a9838638-fd3a-4f6c-acbb-07678a563d6a\",\"subtype\":\"Figure\",\"type\":\"Plot\"},\"ticker\":{\"id\":\"ff2c87eb-1a27-4c84-b2f3-a84716f61c3d\",\"type\":\"BasicTicker\"}},\"id\":\"19632a56-1ccc-49ce-943e-9f416d8804ff\",\"type\":\"LinearAxis\"},{\"attributes\":{\"dimension\":1,\"plot\":{\"id\":\"a9838638-fd3a-4f6c-acbb-07678a563d6a\",\"subtype\":\"Figure\",\"type\":\"Plot\"},\"ticker\":{\"id\":\"ff2c87eb-1a27-4c84-b2f3-a84716f61c3d\",\"type\":\"BasicTicker\"}},\"id\":\"b86905b1-880a-45dc-b3dc-4df78aa582ba\",\"type\":\"Grid\"},{\"attributes\":{\"data_source\":{\"id\":\"c4489c94-74a9-45bb-a184-279861ea833b\",\"type\":\"ColumnDataSource\"},\"glyph\":{\"id\":\"2e7495e5-3866-4e31-8838-6bd5294434c4\",\"type\":\"Circle\"},\"hover_glyph\":null,\"muted_glyph\":null,\"nonselection_glyph\":{\"id\":\"cfd5a08e-ca41-40a1-a0ee-1962569421ab\",\"type\":\"Circle\"},\"selection_glyph\":null,\"view\":{\"id\":\"120326c0-ba83-4838-adba-2f1c7e5169ed\",\"type\":\"CDSView\"}},\"id\":\"4abb1be5-bc00-4b43-b24f-23f891e4d439\",\"type\":\"GlyphRenderer\"},{\"attributes\":{\"fill_color\":{\"value\":\"#1f77b4\"},\"line_color\":{\"value\":\"#1f77b4\"},\"x\":{\"field\":\"x\"},\"y\":{\"field\":\"y\"}},\"id\":\"21a46a5a-1f61-4ff4-853d-b335a1467db8\",\"type\":\"Circle\"},{\"attributes\":{\"fill_alpha\":{\"value\":0.1},\"fill_color\":{\"value\":\"#1f77b4\"},\"line_alpha\":{\"value\":0.1},\"line_color\":{\"value\":\"#1f77b4\"},\"x\":{\"field\":\"x\"},\"y\":{\"field\":\"y\"}},\"id\":\"cfd5a08e-ca41-40a1-a0ee-1962569421ab\",\"type\":\"Circle\"},{\"attributes\":{},\"id\":\"a96a909e-f9ce-47a8-9830-8f221991c265\",\"type\":\"LinearScale\"},{\"attributes\":{\"overlay\":{\"id\":\"216e6dcf-cbc8-4b65-8895-bd10d4897c8c\",\"type\":\"BoxAnnotation\"}},\"id\":\"42a187e0-0541-4dea-8b46-5ac864849179\",\"type\":\"BoxZoomTool\"},{\"attributes\":{\"plot\":null,\"text\":\"\"},\"id\":\"7f6e3af9-061e-4f23-afb1-ad69e58d267d\",\"type\":\"Title\"},{\"attributes\":{\"formatter\":{\"id\":\"441e28ca-9f31-4e77-9e05-b14cd60a9d86\",\"type\":\"BasicTickFormatter\"},\"plot\":{\"id\":\"a9838638-fd3a-4f6c-acbb-07678a563d6a\",\"subtype\":\"Figure\",\"type\":\"Plot\"},\"ticker\":{\"id\":\"546e8510-9d2a-485e-9096-8e08e32dc17a\",\"type\":\"BasicTicker\"}},\"id\":\"d9c3d7f3-c710-48ed-a57c-82cdc7a18320\",\"type\":\"LinearAxis\"},{\"attributes\":{},\"id\":\"1b5b65c9-bc73-4b0a-81cd-8e077e0aa1f3\",\"type\":\"ResetTool\"},{\"attributes\":{\"bottom_units\":\"screen\",\"fill_alpha\":{\"value\":0.5},\"fill_color\":{\"value\":\"lightgrey\"},\"left_units\":\"screen\",\"level\":\"overlay\",\"line_alpha\":{\"value\":1.0},\"line_color\":{\"value\":\"black\"},\"line_dash\":[4,4],\"line_width\":{\"value\":2},\"plot\":null,\"render_mode\":\"css\",\"right_units\":\"screen\",\"top_units\":\"screen\"},\"id\":\"216e6dcf-cbc8-4b65-8895-bd10d4897c8c\",\"type\":\"BoxAnnotation\"},{\"attributes\":{},\"id\":\"d2d67cd5-1dc7-4d46-9074-9747116be15b\",\"type\":\"SaveTool\"},{\"attributes\":{},\"id\":\"d67634ea-8d2a-487d-a703-84134b56c659\",\"type\":\"HelpTool\"},{\"attributes\":{},\"id\":\"441e28ca-9f31-4e77-9e05-b14cd60a9d86\",\"type\":\"BasicTickFormatter\"},{\"attributes\":{},\"id\":\"b79e99d0-5793-40a3-9e01-ee69e7e09951\",\"type\":\"LinearScale\"},{\"attributes\":{},\"id\":\"e48b20e9-6446-4aa4-bd50-8ea27fdf87c6\",\"type\":\"BasicTickFormatter\"},{\"attributes\":{},\"id\":\"696bf431-048a-42ba-b210-a35d7bf08e19\",\"type\":\"PanTool\"},{\"attributes\":{},\"id\":\"4a3cab8f-684a-4ab6-b054-e1cc19a900c0\",\"type\":\"WheelZoomTool\"},{\"attributes\":{\"data_source\":{\"id\":\"0c2f3527-4f51-4502-b23c-72f830e2d6c9\",\"type\":\"ColumnDataSource\"},\"glyph\":{\"id\":\"21a46a5a-1f61-4ff4-853d-b335a1467db8\",\"type\":\"Circle\"},\"hover_glyph\":null,\"muted_glyph\":null,\"nonselection_glyph\":{\"id\":\"f3826a2a-68b0-4322-b2a3-6e8ca4241f3e\",\"type\":\"Circle\"},\"selection_glyph\":null,\"view\":{\"id\":\"bfc22e13-ef2e-4565-a972-06bb839abc57\",\"type\":\"CDSView\"}},\"id\":\"db109622-2b78-4257-bdbc-a573de0fdc9b\",\"type\":\"GlyphRenderer\"}],\"root_ids\":[\"a9838638-fd3a-4f6c-acbb-07678a563d6a\"]},\"title\":\"Bokeh Application\",\"version\":\"0.12.13\"}};\n",
       "  var render_items = [{\"docid\":\"bb3bc0fe-8ebf-45ec-9665-3e2de001fe72\",\"elementid\":\"8f93f71a-9422-4551-8c92-1217f8f2f824\",\"modelid\":\"a9838638-fd3a-4f6c-acbb-07678a563d6a\"}];\n",
       "  root.Bokeh.embed.embed_items_notebook(docs_json, render_items);\n",
       "\n",
       "  }\n",
       "  if (root.Bokeh !== undefined) {\n",
       "    embed_document(root);\n",
       "  } else {\n",
       "    var attempts = 0;\n",
       "    var timer = setInterval(function(root) {\n",
       "      if (root.Bokeh !== undefined) {\n",
       "        embed_document(root);\n",
       "        clearInterval(timer);\n",
       "      }\n",
       "      attempts++;\n",
       "      if (attempts > 100) {\n",
       "        console.log(\"Bokeh: ERROR: Unable to run BokehJS code because BokehJS library is missing\")\n",
       "        clearInterval(timer);\n",
       "      }\n",
       "    }, 10, root)\n",
       "  }\n",
       "})(window);"
      ],
      "application/vnd.bokehjs_exec.v0+json": ""
     },
     "metadata": {
      "application/vnd.bokehjs_exec.v0+json": {
       "id": "a9838638-fd3a-4f6c-acbb-07678a563d6a"
      }
     },
     "output_type": "display_data"
    }
   ],
   "source": [
    "p = bp.figure()\n",
    "previous_y = run_y\n",
    "run_y = y_model.detach().numpy()[:,0] - y.numpy()[:,0]\n",
    "\n",
    "p.scatter(y.numpy()[:,0] , previous_y , color = 'yellow')\n",
    "p.scatter(y.numpy()[:,0] , run_y)\n",
    "bp.show(p)"
   ]
  },
  {
   "cell_type": "code",
   "execution_count": 336,
   "metadata": {},
   "outputs": [
    {
     "data": {
      "text/html": [
       "\n",
       "<div class=\"bk-root\">\n",
       "    <div class=\"bk-plotdiv\" id=\"33be5ad0-a51f-4895-89bc-97e490008142\"></div>\n",
       "</div>"
      ]
     },
     "metadata": {},
     "output_type": "display_data"
    },
    {
     "data": {
      "application/javascript": [
       "(function(root) {\n",
       "  function embed_document(root) {\n",
       "    \n",
       "  var docs_json = {\"5414fbd5-cc09-4f20-be80-da172ad336ad\":{\"roots\":{\"references\":[{\"attributes\":{},\"id\":\"f51ba2d4-2ff0-4afe-afa2-7a7d2f695463\",\"type\":\"LinearScale\"},{\"attributes\":{\"dimension\":1,\"plot\":{\"id\":\"8efab886-75b9-454b-9e58-0c4465c96f91\",\"subtype\":\"Figure\",\"type\":\"Plot\"},\"ticker\":{\"id\":\"aff8c0ec-8af4-4f80-8944-6a1ab15a7c75\",\"type\":\"BasicTicker\"}},\"id\":\"c889a3d0-3b59-436e-aeca-8a34226e39f1\",\"type\":\"Grid\"},{\"attributes\":{},\"id\":\"7070b2be-90b9-4180-9aa2-ffc31b68615b\",\"type\":\"ResetTool\"},{\"attributes\":{\"active_drag\":\"auto\",\"active_inspect\":\"auto\",\"active_scroll\":\"auto\",\"active_tap\":\"auto\",\"tools\":[{\"id\":\"69f7d408-b266-43ec-b431-aa9483706b0b\",\"type\":\"PanTool\"},{\"id\":\"9594eb2e-408b-4a70-ab71-e535794c046c\",\"type\":\"WheelZoomTool\"},{\"id\":\"5862e381-06c1-4cc3-9a19-f1f7c8316845\",\"type\":\"BoxZoomTool\"},{\"id\":\"80967854-7356-478a-be46-73a369726e00\",\"type\":\"SaveTool\"},{\"id\":\"7070b2be-90b9-4180-9aa2-ffc31b68615b\",\"type\":\"ResetTool\"},{\"id\":\"0d713b6f-6e52-4840-bed0-9cbc8db1509b\",\"type\":\"HelpTool\"}]},\"id\":\"6106b4c6-f48c-4ae3-bb8e-aca0e1d2f819\",\"type\":\"Toolbar\"},{\"attributes\":{\"source\":{\"id\":\"fcdbbb6e-3baa-4687-b86c-dfe5be5e2331\",\"type\":\"ColumnDataSource\"}},\"id\":\"43daa7c1-c1a3-43ed-8d41-eaf9bd6c80ed\",\"type\":\"CDSView\"},{\"attributes\":{},\"id\":\"30532458-2bce-4520-9c20-62f8b00a914f\",\"type\":\"LinearScale\"},{\"attributes\":{\"overlay\":{\"id\":\"2d9cac75-22b4-4b33-84a3-717d70d8b018\",\"type\":\"BoxAnnotation\"}},\"id\":\"5862e381-06c1-4cc3-9a19-f1f7c8316845\",\"type\":\"BoxZoomTool\"},{\"attributes\":{},\"id\":\"69f7d408-b266-43ec-b431-aa9483706b0b\",\"type\":\"PanTool\"},{\"attributes\":{},\"id\":\"96673c01-cdcc-436a-aa35-3e3e8a32cca9\",\"type\":\"BasicTicker\"},{\"attributes\":{\"callback\":null},\"id\":\"a051d0a6-01a6-4fb8-87de-668a947e9767\",\"type\":\"DataRange1d\"},{\"attributes\":{\"plot\":null,\"text\":\"\"},\"id\":\"8510f2b1-ddb8-48f7-b8c0-f1690e55ef84\",\"type\":\"Title\"},{\"attributes\":{\"plot\":{\"id\":\"8efab886-75b9-454b-9e58-0c4465c96f91\",\"subtype\":\"Figure\",\"type\":\"Plot\"},\"ticker\":{\"id\":\"96673c01-cdcc-436a-aa35-3e3e8a32cca9\",\"type\":\"BasicTicker\"}},\"id\":\"fdceebd1-9c1d-4c99-b17e-815aa0a581fa\",\"type\":\"Grid\"},{\"attributes\":{},\"id\":\"9594eb2e-408b-4a70-ab71-e535794c046c\",\"type\":\"WheelZoomTool\"},{\"attributes\":{\"callback\":null},\"id\":\"aacc05bd-2a38-4fea-a029-633cc3c74971\",\"type\":\"DataRange1d\"},{\"attributes\":{\"bottom_units\":\"screen\",\"fill_alpha\":{\"value\":0.5},\"fill_color\":{\"value\":\"lightgrey\"},\"left_units\":\"screen\",\"level\":\"overlay\",\"line_alpha\":{\"value\":1.0},\"line_color\":{\"value\":\"black\"},\"line_dash\":[4,4],\"line_width\":{\"value\":2},\"plot\":null,\"render_mode\":\"css\",\"right_units\":\"screen\",\"top_units\":\"screen\"},\"id\":\"2d9cac75-22b4-4b33-84a3-717d70d8b018\",\"type\":\"BoxAnnotation\"},{\"attributes\":{\"formatter\":{\"id\":\"0c5782e7-2588-4069-82e7-fd42c2ccc6d4\",\"type\":\"BasicTickFormatter\"},\"plot\":{\"id\":\"8efab886-75b9-454b-9e58-0c4465c96f91\",\"subtype\":\"Figure\",\"type\":\"Plot\"},\"ticker\":{\"id\":\"aff8c0ec-8af4-4f80-8944-6a1ab15a7c75\",\"type\":\"BasicTicker\"}},\"id\":\"6b636b6a-b476-49a9-b570-78994171449a\",\"type\":\"LinearAxis\"},{\"attributes\":{},\"id\":\"aff8c0ec-8af4-4f80-8944-6a1ab15a7c75\",\"type\":\"BasicTicker\"},{\"attributes\":{\"fill_color\":{\"value\":\"#1f77b4\"},\"line_color\":{\"value\":\"#1f77b4\"},\"x\":{\"field\":\"x\"},\"y\":{\"field\":\"y\"}},\"id\":\"a69ac7a1-b7d9-48dd-9aee-b576b423bcf6\",\"type\":\"Circle\"},{\"attributes\":{\"formatter\":{\"id\":\"3732d747-8dbc-448f-bf68-1b909d0a4580\",\"type\":\"BasicTickFormatter\"},\"plot\":{\"id\":\"8efab886-75b9-454b-9e58-0c4465c96f91\",\"subtype\":\"Figure\",\"type\":\"Plot\"},\"ticker\":{\"id\":\"96673c01-cdcc-436a-aa35-3e3e8a32cca9\",\"type\":\"BasicTicker\"}},\"id\":\"81456f9a-e662-48c1-b7d5-0f26b3b02968\",\"type\":\"LinearAxis\"},{\"attributes\":{\"fill_alpha\":{\"value\":0.1},\"fill_color\":{\"value\":\"#1f77b4\"},\"line_alpha\":{\"value\":0.1},\"line_color\":{\"value\":\"#1f77b4\"},\"x\":{\"field\":\"x\"},\"y\":{\"field\":\"y\"}},\"id\":\"54608926-7213-4178-bf59-d7ca06651d69\",\"type\":\"Circle\"},{\"attributes\":{},\"id\":\"0c5782e7-2588-4069-82e7-fd42c2ccc6d4\",\"type\":\"BasicTickFormatter\"},{\"attributes\":{},\"id\":\"3732d747-8dbc-448f-bf68-1b909d0a4580\",\"type\":\"BasicTickFormatter\"},{\"attributes\":{\"callback\":null,\"column_names\":[\"x\",\"y\"],\"data\":{\"x\":{\"__ndarray__\":\"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\",\"dtype\":\"float32\",\"shape\":[1000]},\"y\":{\"__ndarray__\":\"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\",\"dtype\":\"float32\",\"shape\":[1000]}}},\"id\":\"fcdbbb6e-3baa-4687-b86c-dfe5be5e2331\",\"type\":\"ColumnDataSource\"},{\"attributes\":{},\"id\":\"80967854-7356-478a-be46-73a369726e00\",\"type\":\"SaveTool\"},{\"attributes\":{},\"id\":\"0d713b6f-6e52-4840-bed0-9cbc8db1509b\",\"type\":\"HelpTool\"},{\"attributes\":{\"below\":[{\"id\":\"81456f9a-e662-48c1-b7d5-0f26b3b02968\",\"type\":\"LinearAxis\"}],\"left\":[{\"id\":\"6b636b6a-b476-49a9-b570-78994171449a\",\"type\":\"LinearAxis\"}],\"renderers\":[{\"id\":\"81456f9a-e662-48c1-b7d5-0f26b3b02968\",\"type\":\"LinearAxis\"},{\"id\":\"fdceebd1-9c1d-4c99-b17e-815aa0a581fa\",\"type\":\"Grid\"},{\"id\":\"6b636b6a-b476-49a9-b570-78994171449a\",\"type\":\"LinearAxis\"},{\"id\":\"c889a3d0-3b59-436e-aeca-8a34226e39f1\",\"type\":\"Grid\"},{\"id\":\"2d9cac75-22b4-4b33-84a3-717d70d8b018\",\"type\":\"BoxAnnotation\"},{\"id\":\"e7f62db8-b3f3-4686-a593-2a5d56578f48\",\"type\":\"GlyphRenderer\"}],\"title\":{\"id\":\"8510f2b1-ddb8-48f7-b8c0-f1690e55ef84\",\"type\":\"Title\"},\"toolbar\":{\"id\":\"6106b4c6-f48c-4ae3-bb8e-aca0e1d2f819\",\"type\":\"Toolbar\"},\"x_range\":{\"id\":\"a051d0a6-01a6-4fb8-87de-668a947e9767\",\"type\":\"DataRange1d\"},\"x_scale\":{\"id\":\"30532458-2bce-4520-9c20-62f8b00a914f\",\"type\":\"LinearScale\"},\"y_range\":{\"id\":\"aacc05bd-2a38-4fea-a029-633cc3c74971\",\"type\":\"DataRange1d\"},\"y_scale\":{\"id\":\"f51ba2d4-2ff0-4afe-afa2-7a7d2f695463\",\"type\":\"LinearScale\"}},\"id\":\"8efab886-75b9-454b-9e58-0c4465c96f91\",\"subtype\":\"Figure\",\"type\":\"Plot\"},{\"attributes\":{\"data_source\":{\"id\":\"fcdbbb6e-3baa-4687-b86c-dfe5be5e2331\",\"type\":\"ColumnDataSource\"},\"glyph\":{\"id\":\"a69ac7a1-b7d9-48dd-9aee-b576b423bcf6\",\"type\":\"Circle\"},\"hover_glyph\":null,\"muted_glyph\":null,\"nonselection_glyph\":{\"id\":\"54608926-7213-4178-bf59-d7ca06651d69\",\"type\":\"Circle\"},\"selection_glyph\":null,\"view\":{\"id\":\"43daa7c1-c1a3-43ed-8d41-eaf9bd6c80ed\",\"type\":\"CDSView\"}},\"id\":\"e7f62db8-b3f3-4686-a593-2a5d56578f48\",\"type\":\"GlyphRenderer\"}],\"root_ids\":[\"8efab886-75b9-454b-9e58-0c4465c96f91\"]},\"title\":\"Bokeh Application\",\"version\":\"0.12.13\"}};\n",
       "  var render_items = [{\"docid\":\"5414fbd5-cc09-4f20-be80-da172ad336ad\",\"elementid\":\"33be5ad0-a51f-4895-89bc-97e490008142\",\"modelid\":\"8efab886-75b9-454b-9e58-0c4465c96f91\"}];\n",
       "  root.Bokeh.embed.embed_items_notebook(docs_json, render_items);\n",
       "\n",
       "  }\n",
       "  if (root.Bokeh !== undefined) {\n",
       "    embed_document(root);\n",
       "  } else {\n",
       "    var attempts = 0;\n",
       "    var timer = setInterval(function(root) {\n",
       "      if (root.Bokeh !== undefined) {\n",
       "        embed_document(root);\n",
       "        clearInterval(timer);\n",
       "      }\n",
       "      attempts++;\n",
       "      if (attempts > 100) {\n",
       "        console.log(\"Bokeh: ERROR: Unable to run BokehJS code because BokehJS library is missing\")\n",
       "        clearInterval(timer);\n",
       "      }\n",
       "    }, 10, root)\n",
       "  }\n",
       "})(window);"
      ],
      "application/vnd.bokehjs_exec.v0+json": ""
     },
     "metadata": {
      "application/vnd.bokehjs_exec.v0+json": {
       "id": "8efab886-75b9-454b-9e58-0c4465c96f91"
      }
     },
     "output_type": "display_data"
    }
   ],
   "source": [
    "p = bp.figure()\n",
    "#previous_y = run_y\n",
    "#run_y = y_model.detach().numpy()[:,0] - y.numpy()[:,0]\n",
    "\n",
    "p.scatter(run_y , previous_y )\n",
    "#p.scatter(y.numpy()[:,0] , run_y)\n",
    "bp.show(p)"
   ]
  },
  {
   "cell_type": "markdown",
   "metadata": {},
   "source": [
    "## check results with matplotlib"
   ]
  },
  {
   "cell_type": "code",
   "execution_count": null,
   "metadata": {},
   "outputs": [],
   "source": [
    "fig = plt.figure()"
   ]
  },
  {
   "cell_type": "code",
   "execution_count": 46,
   "metadata": {},
   "outputs": [],
   "source": [
    "ax1 = fig.add_subplot(111)"
   ]
  },
  {
   "cell_type": "code",
   "execution_count": 47,
   "metadata": {},
   "outputs": [
    {
     "data": {
      "text/plain": [
       "<matplotlib.collections.PathCollection at 0x7f57483bb4a8>"
      ]
     },
     "execution_count": 47,
     "metadata": {},
     "output_type": "execute_result"
    }
   ],
   "source": [
    "ax1.scatter(y.numpy()[:,0] , y_model.detach().numpy()[:,0] , color = \"red\")"
   ]
  },
  {
   "cell_type": "code",
   "execution_count": 48,
   "metadata": {},
   "outputs": [
    {
     "data": {
      "image/png": "[encoded data removed]",
      "text/plain": [
       "<Figure size 432x288 with 1 Axes>"
      ]
     },
     "execution_count": 48,
     "metadata": {},
     "output_type": "execute_result"
    }
   ],
   "source": [
    "fig"
   ]
  },
  {
   "cell_type": "markdown",
   "metadata": {},
   "source": [
    "# cross validation"
   ]
  },
  {
   "cell_type": "markdown",
   "metadata": {},
   "source": [
    "## skorch-based (forwardの引数をinputとtargetにするのがポイント）"
   ]
  },
  {
   "cell_type": "code",
   "execution_count": 115,
   "metadata": {},
   "outputs": [],
   "source": [
    "class Net(nn.Module):\n",
    "    \n",
    "    def __init__(self):\n",
    "        super().__init__()\n",
    "        \n",
    "        self.fc1 = nn.Linear(3, 50)\n",
    "        self.a1 = nn.ReLU()\n",
    "        self.fc2 = nn.Linear(50 , 1)\n",
    "    def forward(self, input, target = None):\n",
    "        y = self.fc1(input)\n",
    "        y = self.a1(y)\n",
    "        y = self.fc2(y)\n",
    "        \n",
    "        return y\n",
    "    \n",
    "model = Net()"
   ]
  },
  {
   "cell_type": "code",
   "execution_count": 117,
   "metadata": {},
   "outputs": [],
   "source": [
    "from skorch import NeuralNetRegressor\n",
    "\n",
    "device = 'cuda' if torch.cuda.is_available() else 'cpu'\n",
    "\n",
    "wrapped_model = NeuralNetRegressor(\n",
    "  model,            # ここで、先程定義したNetクラスを引数として与える\n",
    "  max_epochs=10,\n",
    "  optimizer=optim.Adam,\n",
    "  lr=0.001,\n",
    "  device='cpu',\n",
    "  batch_size=128,\n",
    "  # デフォルトだと入力データの2割が検証に使われる。入力データすべてを学習に使うためには、以下の通りにする\n",
    "  # train_split=None,\n",
    "  criterion= nn.MSELoss    # CNNの最後のactivationがlog_softmaxなので、lossはNLLoss。\n",
    ")"
   ]
  },
  {
   "cell_type": "markdown",
   "metadata": {},
   "source": [
    "### L1 regularization"
   ]
  },
  {
   "cell_type": "markdown",
   "metadata": {},
   "source": [
    "## skorchに頼らないやり方"
   ]
  },
  {
   "cell_type": "markdown",
   "metadata": {},
   "source": [
    "scikit-learn 準拠の予測モデルのつくりかた\n",
    "https://nykergoto.hatenablog.jp/entry/2017/05/14/003503"
   ]
  },
  {
   "cell_type": "code",
   "execution_count": null,
   "metadata": {},
   "outputs": [],
   "source": []
  },
  {
   "cell_type": "code",
   "execution_count": 61,
   "metadata": {},
   "outputs": [],
   "source": [
    "from sklearn.model_selection import train_test_split\n"
   ]
  },
  {
   "cell_type": "code",
   "execution_count": 62,
   "metadata": {},
   "outputs": [],
   "source": [
    "from sklearn.base import BaseEstimator, ClassifierMixin\n",
    "from sklearn.model_selection import RandomizedSearchCV"
   ]
  },
  {
   "cell_type": "code",
   "execution_count": 102,
   "metadata": {},
   "outputs": [],
   "source": [
    "class wrap_model(BaseEstimator, ClassifierMixin):\n",
    "    \"\"\"\n",
    "    分類器のサンプル\n",
    "    \"\"\"\n",
    "    \n",
    "    def __init__(self, model , opt , criterion , batch_size):\n",
    "        \"\"\"\n",
    "        分類器のコンストラクタ\n",
    "        全部の引数に初期値を与えること !!\n",
    "        \n",
    "        :param int int_val:\n",
    "        :param float sigma:\n",
    "        :param str hogevalue:\n",
    "        \"\"\"\n",
    "        self.model = model\n",
    "        self.opt = opt\n",
    "        self.criterion = criterion\n",
    "        self.batch_size = batch_size\n",
    "        \n",
    "         \n",
    "    def fit(self, X, y=None):\n",
    "        \"\"\"\n",
    "        データへのフィッティングを行うメソッド。\n",
    "        すべての加工, パラメータの確認はここで定義する。\n",
    "        Note: `assert`よりも`try/exception`を用いるほうが本当は良い. けどめんどうなのでassert使ってます\n",
    "        \n",
    "        :param numpy.ndarray X: 2-D array. 訓練特徴\n",
    "        :param numpy.ndarray y: 1-D array. ターゲット変数\n",
    "        :return: self\n",
    "        :rtype: SampleClassifer\n",
    "        \"\"\"\n",
    "        #assert(isinstance(self.int_val, int) or isinstance(self.int_val, np.int64)), \"int_valは整数値でないと駄目です. \"\n",
    "        #self.treshold_ = (sum(X)/len(X)) + self.int_val\n",
    "        #return self  # return selfするのが慣習\n",
    "    \n",
    "        train_epoch(self.model, self.opt, self.criterion, torch.Tensor(X), torch.Tensor(y) , batch_size= self.batch_size)\n",
    "        return self \n",
    "    \n",
    "\n",
    "        \n",
    "    def predict(self, X, y=None):\n",
    "        \"\"\"\n",
    "        予測を行う\n",
    "        :param numpy.ndarray X: 特徴量. 2-D array\n",
    "        :param numpy.ndarray y: ターゲット変数. 分類問題なので使わないけど`y=None`でおいておく\n",
    "        :return: 1-D array\n",
    "        :rtype: np.ndarray\n",
    "        \"\"\"\n",
    "        #try:\n",
    "        #    getattr(self, \"treshold_\")\n",
    "        #except AttributeError:\n",
    "        #    raise RuntimeError(\"モデルは訓練されていません\")\n",
    "        ty = self.model(torch.Tensor(X))\n",
    "        y = ty.detach().numpy()\n",
    "        return y\n",
    "        #return ([self._meaning(x) for x in X])\n",
    "    \n",
    "    def score(self, X, y=None):\n",
    "        \"\"\"\n",
    "        モデルの良さを数値化する\n",
    "        なんでもいいけれど、大きい方が良くて、小さいほうがだめ。\n",
    "        今回は平均以上の値がいくつあるかをスコアとして定義する。\n",
    "        \n",
    "        :return: 平均値の値よりも大きい数\n",
    "        :rtype: int\n",
    "        \"\"\"\n",
    "        return (sum(self.predict(X)))"
   ]
  },
  {
   "cell_type": "code",
   "execution_count": null,
   "metadata": {},
   "outputs": [],
   "source": []
  },
  {
   "cell_type": "code",
   "execution_count": 106,
   "metadata": {},
   "outputs": [],
   "source": [
    "wrapped_model = wrap_model(model , opt , criterion , batch_size  = 50)"
   ]
  },
  {
   "cell_type": "code",
   "execution_count": 84,
   "metadata": {},
   "outputs": [],
   "source": [
    "from sklearn.model_selection import cross_val_score"
   ]
  },
  {
   "cell_type": "code",
   "execution_count": 118,
   "metadata": {},
   "outputs": [
    {
     "name": "stdout",
     "output_type": "stream",
     "text": [
      "  epoch    train_loss    valid_loss     dur\n",
      "-------  ------------  ------------  ------\n",
      "      1     \u001b[36m8392.9107\u001b[0m     \u001b[32m7869.7788\u001b[0m  0.0120\n",
      "      2     \u001b[36m6918.3522\u001b[0m     \u001b[32m6472.8583\u001b[0m  0.0109\n",
      "      3     \u001b[36m5620.7088\u001b[0m     \u001b[32m5253.6583\u001b[0m  0.0105\n",
      "      4     \u001b[36m4503.5391\u001b[0m     \u001b[32m4212.3892\u001b[0m  0.0104\n",
      "      5     \u001b[36m3564.1600\u001b[0m     \u001b[32m3344.1453\u001b[0m  0.0103\n",
      "      6     \u001b[36m2794.9787\u001b[0m     \u001b[32m2637.8333\u001b[0m  0.0102\n",
      "      7     \u001b[36m2181.8976\u001b[0m     \u001b[32m2078.4201\u001b[0m  0.0096\n",
      "      8     \u001b[36m1708.6296\u001b[0m     \u001b[32m1649.1167\u001b[0m  0.0095\n",
      "      9     \u001b[36m1356.8035\u001b[0m     \u001b[32m1331.2639\u001b[0m  0.0095\n",
      "     10     \u001b[36m1106.5979\u001b[0m     \u001b[32m1105.3232\u001b[0m  0.0095\n",
      "  epoch    train_loss    valid_loss     dur\n",
      "-------  ------------  ------------  ------\n",
      "      1     \u001b[36m8579.3541\u001b[0m     \u001b[32m6324.3973\u001b[0m  0.0094\n",
      "      2     \u001b[36m7081.5304\u001b[0m     \u001b[32m5148.6731\u001b[0m  0.0095\n",
      "      3     \u001b[36m5761.4721\u001b[0m     \u001b[32m4131.9409\u001b[0m  0.0095\n",
      "      4     \u001b[36m4623.2758\u001b[0m     \u001b[32m3273.5824\u001b[0m  0.0094\n",
      "      5     \u001b[36m3664.4670\u001b[0m     \u001b[32m2568.2845\u001b[0m  0.0095\n",
      "      6     \u001b[36m2877.6271\u001b[0m     \u001b[32m2005.3574\u001b[0m  0.0094\n",
      "      7     \u001b[36m2248.7634\u001b[0m     \u001b[32m1570.5726\u001b[0m  0.0094\n",
      "      8     \u001b[36m1761.6404\u001b[0m     \u001b[32m1248.1138\u001b[0m  0.0094\n",
      "      9     \u001b[36m1397.9416\u001b[0m     \u001b[32m1020.5314\u001b[0m  0.0095\n",
      "     10     \u001b[36m1137.8615\u001b[0m      \u001b[32m869.6663\u001b[0m  0.0095\n",
      "  epoch    train_loss    valid_loss     dur\n",
      "-------  ------------  ------------  ------\n",
      "      1     \u001b[36m8722.8976\u001b[0m     \u001b[32m6328.1002\u001b[0m  0.0094\n",
      "      2     \u001b[36m7206.0575\u001b[0m     \u001b[32m5154.9186\u001b[0m  0.0094\n",
      "      3     \u001b[36m5867.8618\u001b[0m     \u001b[32m4139.6907\u001b[0m  0.0095\n",
      "      4     \u001b[36m4712.8367\u001b[0m     \u001b[32m3281.9671\u001b[0m  0.0099\n",
      "      5     \u001b[36m3738.6949\u001b[0m     \u001b[32m2576.5569\u001b[0m  0.0095\n",
      "      6     \u001b[36m2938.1397\u001b[0m     \u001b[32m2012.9698\u001b[0m  0.0094\n",
      "      7     \u001b[36m2297.2432\u001b[0m     \u001b[32m1577.1103\u001b[0m  0.0095\n",
      "      8     \u001b[36m1799.7426\u001b[0m     \u001b[32m1253.3335\u001b[0m  0.0095\n",
      "      9     \u001b[36m1427.3025\u001b[0m     \u001b[32m1024.3625\u001b[0m  0.0095\n",
      "     10     \u001b[36m1160.0687\u001b[0m      \u001b[32m872.1961\u001b[0m  0.0095\n",
      "  epoch    train_loss    valid_loss     dur\n",
      "-------  ------------  ------------  ------\n",
      "      1     \u001b[36m8998.5025\u001b[0m     \u001b[32m6324.4396\u001b[0m  0.0094\n",
      "      2     \u001b[36m7451.0244\u001b[0m     \u001b[32m5148.1131\u001b[0m  0.0094\n",
      "      3     \u001b[36m6082.9763\u001b[0m     \u001b[32m4130.2327\u001b[0m  0.0095\n",
      "      4     \u001b[36m4898.8158\u001b[0m     \u001b[32m3270.2080\u001b[0m  0.0095\n",
      "      5     \u001b[36m3896.4156\u001b[0m     \u001b[32m2562.8555\u001b[0m  0.0094\n",
      "      6     \u001b[36m3068.7856\u001b[0m     \u001b[32m1997.6970\u001b[0m  0.0095\n",
      "      7     \u001b[36m2402.2865\u001b[0m     \u001b[32m1560.8226\u001b[0m  0.0095\n",
      "      8     \u001b[36m1881.1287\u001b[0m     \u001b[32m1236.7772\u001b[0m  0.0095\n",
      "      9     \u001b[36m1487.4425\u001b[0m     \u001b[32m1008.4636\u001b[0m  0.0095\n",
      "     10     \u001b[36m1201.7930\u001b[0m      \u001b[32m857.9984\u001b[0m  0.0095\n",
      "  epoch    train_loss    valid_loss     dur\n",
      "-------  ------------  ------------  ------\n",
      "      1     \u001b[36m8609.5565\u001b[0m     \u001b[32m6327.9321\u001b[0m  0.0095\n",
      "      2     \u001b[36m7124.6569\u001b[0m     \u001b[32m5155.5164\u001b[0m  0.0096\n",
      "      3     \u001b[36m5813.6561\u001b[0m     \u001b[32m4140.6109\u001b[0m  0.0095\n",
      "      4     \u001b[36m4680.4365\u001b[0m     \u001b[32m3282.7337\u001b[0m  0.0095\n",
      "      5     \u001b[36m3722.9055\u001b[0m     \u001b[32m2576.7799\u001b[0m  0.0095\n",
      "      6     \u001b[36m2934.2171\u001b[0m     \u001b[32m2012.4102\u001b[0m  0.0095\n",
      "      7     \u001b[36m2301.0746\u001b[0m     \u001b[32m1575.6847\u001b[0m  0.0095\n",
      "      8     \u001b[36m1807.9146\u001b[0m     \u001b[32m1251.1286\u001b[0m  0.0095\n",
      "      9     \u001b[36m1437.1623\u001b[0m     \u001b[32m1021.6173\u001b[0m  0.0095\n",
      "     10     \u001b[36m1169.7306\u001b[0m      \u001b[32m869.2650\u001b[0m  0.0095\n"
     ]
    }
   ],
   "source": [
    "scores = cross_val_score(wrapped_model, X.numpy(), y.numpy(), cv=5) "
   ]
  },
  {
   "cell_type": "code",
   "execution_count": 107,
   "metadata": {},
   "outputs": [
    {
     "data": {
      "text/plain": [
       "array([-5287.80712891, -5265.83300781, -5115.90576172, -5379.71044922,\n",
       "       -5547.7734375 ])"
      ]
     },
     "execution_count": 107,
     "metadata": {},
     "output_type": "execute_result"
    }
   ],
   "source": [
    "scores"
   ]
  },
  {
   "cell_type": "code",
   "execution_count": 111,
   "metadata": {},
   "outputs": [
    {
     "data": {
      "text/plain": [
       "array([-5287.80712891, -5265.83300781, -5115.90576172, -5379.71044922,\n",
       "       -5547.7734375 ])"
      ]
     },
     "execution_count": 111,
     "metadata": {},
     "output_type": "execute_result"
    }
   ],
   "source": [
    "scores"
   ]
  },
  {
   "cell_type": "code",
   "execution_count": null,
   "metadata": {},
   "outputs": [],
   "source": [
    "class SampleClassifer(BaseEstimator, ClassifierMixin):\n",
    "    \"\"\"\n",
    "    分類器のサンプル\n",
    "    \"\"\"\n",
    "    \n",
    "    def __init__(self, int_val=0, sigma=.5, hogevalue=None):\n",
    "        \"\"\"\n",
    "        分類器のコンストラクタ\n",
    "        全部の引数に初期値を与えること !!\n",
    "        \n",
    "        :param int int_val:\n",
    "        :param float sigma:\n",
    "        :param str hogevalue:\n",
    "        \"\"\"\n",
    "        self.int_val = int_val\n",
    "        self.sigma = sigma\n",
    "        self.hogevalue = hogevalue\n",
    "        self.huga = hogevalue  # 引数とインスタンス変数の名前が違っている. 非推奨. \n",
    "         \n",
    "    def fit(self, X, y=None):\n",
    "        \"\"\"\n",
    "        データへのフィッティングを行うメソッド。\n",
    "        すべての加工, パラメータの確認はここで定義する。\n",
    "        Note: `assert`よりも`try/exception`を用いるほうが本当は良い. けどめんどうなのでassert使ってます\n",
    "        \n",
    "        :param numpy.ndarray X: 2-D array. 訓練特徴\n",
    "        :param numpy.ndarray y: 1-D array. ターゲット変数\n",
    "        :return: self\n",
    "        :rtype: SampleClassifer\n",
    "        \"\"\"\n",
    "        assert(isinstance(self.int_val, int) or isinstance(self.int_val, np.int64)), \"int_valは整数値でないと駄目です. \"\n",
    "        self.treshold_ = (sum(X)/len(X)) + self.int_val\n",
    "        return self  # return selfするのが慣習\n",
    "    \n",
    "    def _meaning(self, x):\n",
    "        \"\"\"\n",
    "        平均値よりも大きければTrueを返す分類\n",
    "        :rtype: bool\n",
    "        \"\"\"\n",
    "        if x > self.treshold_:\n",
    "            return True\n",
    "        else:\n",
    "            return False\n",
    "        \n",
    "    def predict(self, X, y=None):\n",
    "        \"\"\"\n",
    "        予測を行う\n",
    "        :param numpy.ndarray X: 特徴量. 2-D array\n",
    "        :param numpy.ndarray y: ターゲット変数. 分類問題なので使わないけど`y=None`でおいておく\n",
    "        :return: 1-D array\n",
    "        :rtype: np.ndarray\n",
    "        \"\"\"\n",
    "        try:\n",
    "            getattr(self, \"treshold_\")\n",
    "        except AttributeError:\n",
    "            raise RuntimeError(\"モデルは訓練されていません\")\n",
    "            \n",
    "        return ([self._meaning(x) for x in X])\n",
    "    \n",
    "    def score(self, X, y=None):\n",
    "        \"\"\"\n",
    "        モデルの良さを数値化する\n",
    "        なんでもいいけれど、大きい方が良くて、小さいほうがだめ。\n",
    "        今回は平均以上の値がいくつあるかをスコアとして定義する。\n",
    "        \n",
    "        :return: 平均値の値よりも大きい数\n",
    "        :rtype: int\n",
    "        \"\"\"\n",
    "        return (sum(self.predict(X)))"
   ]
  },
  {
   "cell_type": "markdown",
   "metadata": {},
   "source": [
    "## plot with plotnine\n",
    "\n",
    "https://www.kaggle.com/princeashburton/an-intro-to-plotnine"
   ]
  },
  {
   "cell_type": "code",
   "execution_count": 54,
   "metadata": {},
   "outputs": [],
   "source": [
    "import pandas as pd"
   ]
  },
  {
   "cell_type": "code",
   "execution_count": 60,
   "metadata": {},
   "outputs": [
    {
     "ename": "ImportError",
     "evalue": "No module named 'plotnine'",
     "output_type": "error",
     "traceback": [
      "\u001b[0;31m---------------------------------------------------------------------------\u001b[0m",
      "\u001b[0;31mImportError\u001b[0m                               Traceback (most recent call last)",
      "\u001b[0;32m<ipython-input-60-e36b44751b17>\u001b[0m in \u001b[0;36m<module>\u001b[0;34m()\u001b[0m\n\u001b[0;32m----> 1\u001b[0;31m \u001b[0;32mfrom\u001b[0m \u001b[0mplotnine\u001b[0m \u001b[0;32mimport\u001b[0m \u001b[0;34m*\u001b[0m\u001b[0;34m\u001b[0m\u001b[0m\n\u001b[0m",
      "\u001b[0;31mImportError\u001b[0m: No module named 'plotnine'"
     ]
    }
   ],
   "source": [
    "from plotnine import *"
   ]
  },
  {
   "cell_type": "markdown",
   "metadata": {},
   "source": [
    "# sandbox"
   ]
  },
  {
   "cell_type": "code",
   "execution_count": null,
   "metadata": {},
   "outputs": [],
   "source": []
  }
 ],
 "metadata": {
  "kernelspec": {
   "display_name": "Python 3",
   "language": "python",
   "name": "python3"
  },
  "language_info": {
   "codemirror_mode": {
    "name": "ipython",
    "version": 3
   },
   "file_extension": ".py",
   "mimetype": "text/x-python",
   "name": "python",
   "nbconvert_exporter": "python",
   "pygments_lexer": "ipython3",
   "version": "3.7.3"
  },
  "toc": {
   "colors": {
    "hover_highlight": "#DAA520",
    "navigate_num": "#000000",
    "navigate_text": "#333333",
    "running_highlight": "#FF0000",
    "selected_highlight": "#FFD700",
    "sidebar_border": "#EEEEEE",
    "wrapper_background": "#FFFFFF"
   },
   "moveMenuLeft": true,
   "nav_menu": {
    "height": "194px",
    "width": "252px"
   },
   "navigate_menu": true,
   "number_sections": true,
   "sideBar": true,
   "threshold": 4,
   "toc_cell": false,
   "toc_section_display": "block",
   "toc_window_display": true,
   "widenNotebook": false
  },
  "toc-autonumbering": true
 },
 "nbformat": 4,
 "nbformat_minor": 4
}
