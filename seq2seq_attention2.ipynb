{
 "cells": [
  {
   "cell_type": "markdown",
   "metadata": {},
   "source": [
    "https://qiita.com/m__k/items/646044788c5f94eadc8d"
   ]
  },
  {
   "cell_type": "code",
   "execution_count": 1,
   "metadata": {},
   "outputs": [],
   "source": [
    "from IPython.core.debugger import Pdb"
   ]
  },
  {
   "cell_type": "code",
   "execution_count": 2,
   "metadata": {},
   "outputs": [],
   "source": [
    "from sklearn.model_selection import train_test_split\n",
    "import random\n",
    "from sklearn.utils import shuffle\n",
    "\n",
    "# 事前にGoogle Driveをマウントして以下の場所にdate.txtを格納しておく\n",
    "file_path = \"data/date.txt\"\n",
    "\n",
    "input_date = [] # 変換前の日付データ\n",
    "\n",
    "\n",
    "output_date = [] # 変換後の日付データ"
   ]
  },
  {
   "cell_type": "code",
   "execution_count": 3,
   "metadata": {},
   "outputs": [],
   "source": [
    "# date.txtを1行ずつ読み込んで変換前と変換後に分割して、inputとoutputで分ける\n",
    "with open(file_path, \"r\") as f:\n",
    "  date_list = f.readlines()\n",
    "  for date in date_list:\n",
    "    date = date[:-1]\n",
    "    input_date.append(date.split(\"_\")[0])\n",
    "    output_date.append(\"_\" + date.split(\"_\")[1])"
   ]
  },
  {
   "cell_type": "code",
   "execution_count": 4,
   "metadata": {},
   "outputs": [],
   "source": [
    "# inputとoutputの系列の長さを取得\n",
    "# すべて長さが同じなので、0番目の要素でlenを取ってます\n",
    "input_len = len(input_date[0]) # 29\n",
    "output_len = len(output_date[0]) # 10"
   ]
  },
  {
   "cell_type": "code",
   "execution_count": 5,
   "metadata": {},
   "outputs": [],
   "source": [
    "# date.txtで登場するすべての文字にIDを割り当てる\n",
    "char2id = {}\n",
    "for input_chars, output_chars in zip(input_date, output_date):\n",
    "  for c in input_chars:\n",
    "    if not c in char2id:\n",
    "      char2id[c] = len(char2id)\n",
    "  for c in output_chars:\n",
    "    if not c in char2id:\n",
    "      char2id[c] = len(char2id)\n",
    "\n",
    "input_data = [] # ID化された変換前日付データ\n",
    "output_data = [] # ID化された変換後日付データ\n",
    "for input_chars, output_chars in zip(input_date, output_date):\n",
    "  input_data.append([char2id[c] for c in input_chars])\n",
    "  output_data.append([char2id[c] for c in output_chars])"
   ]
  },
  {
   "cell_type": "code",
   "execution_count": 6,
   "metadata": {},
   "outputs": [
    {
     "data": {
      "text/plain": [
       "'2/10/93                      '"
      ]
     },
     "execution_count": 6,
     "metadata": {},
     "output_type": "execute_result"
    }
   ],
   "source": [
    "input_date[2]"
   ]
  },
  {
   "cell_type": "markdown",
   "metadata": {},
   "source": [
    "後ろに空白がたくさんある"
   ]
  },
  {
   "cell_type": "code",
   "execution_count": 7,
   "metadata": {},
   "outputs": [
    {
     "data": {
      "text/plain": [
       "29"
      ]
     },
     "execution_count": 7,
     "metadata": {},
     "output_type": "execute_result"
    }
   ],
   "source": [
    "len(input_date[2])"
   ]
  },
  {
   "cell_type": "code",
   "execution_count": 8,
   "metadata": {},
   "outputs": [
    {
     "data": {
      "text/plain": [
       "29"
      ]
     },
     "execution_count": 8,
     "metadata": {},
     "output_type": "execute_result"
    }
   ],
   "source": [
    "len(input_data[2])"
   ]
  },
  {
   "cell_type": "code",
   "execution_count": 9,
   "metadata": {},
   "outputs": [],
   "source": [
    "# 7:3でtrainとtestに分ける\n",
    "train_x, test_x, train_y, test_y = train_test_split(input_data, output_data, train_size= 0.7)\n",
    "\n",
    "# データをバッチ化するための関数を定義\n",
    "def train2batch(input_data, output_data, batch_size=100):\n",
    "    input_batch = []\n",
    "    output_batch = []\n",
    "    input_shuffle, output_shuffle = shuffle(input_data, output_data)\n",
    "    for i in range(0, len(input_data), batch_size):\n",
    "      input_batch.append(input_shuffle[i:i+batch_size])\n",
    "      output_batch.append(output_shuffle[i:i+batch_size])\n",
    "    return input_batch, output_batch"
   ]
  },
  {
   "cell_type": "markdown",
   "metadata": {},
   "source": [
    "# encoder"
   ]
  },
  {
   "cell_type": "markdown",
   "metadata": {},
   "source": [
    "```\n",
    "Inputs: input, (h_0, c_0)\n",
    "input of shape (seq_len, batch, input_size): tensor containing the features of the input sequence. The input can also be a packed variable length sequence. See torch.nn.utils.rnn.pack_padded_sequence() or torch.nn.utils.rnn.pack_sequence() for details.\n",
    "\n",
    "h_0 of shape (num_layers * num_directions, batch, hidden_size): tensor containing the initial hidden state for each element in the batch. If the LSTM is bidirectional, num_directions should be 2, else it should be 1.\n",
    "\n",
    "c_0 of shape (num_layers * num_directions, batch, hidden_size): tensor containing the initial cell state for each element in the batch.\n",
    "\n",
    "If (h_0, c_0) is not provided, both h_0 and c_0 default to zero.\n",
    "```"
   ]
  },
  {
   "cell_type": "code",
   "execution_count": 11,
   "metadata": {},
   "outputs": [],
   "source": [
    "import torch\n",
    "import torch.nn as nn\n",
    "import torch.optim as optim\n",
    "\n",
    "# 諸々のパラメータなど\n",
    "embedding_dim = 200\n",
    "hidden_dim = 128\n",
    "BATCH_NUM = 100\n",
    "vocab_size = len(char2id)\n",
    "device = torch.device(\"cuda\" if torch.cuda.is_available() else \"cpu\")\n",
    "\n",
    "# Encoderクラス\n",
    "class Encoder(nn.Module):\n",
    "    def __init__(self, vocab_size, embedding_dim, hidden_dim):\n",
    "        super(Encoder, self).__init__()\n",
    "        self.hidden_dim = hidden_dim\n",
    "        self.word_embeddings = nn.Embedding(vocab_size, embedding_dim, padding_idx=char2id[\" \"])\n",
    "        self.gru = nn.GRU(embedding_dim, hidden_dim, batch_first=True)\n",
    "\n",
    "    def forward(self, sequence):\n",
    "        embedding = self.word_embeddings(sequence)\n",
    "        # hsが各系列のGRUの隠れ層のベクトル\n",
    "        # Attentionされる要素\n",
    "        hs, h = self.gru(embedding)\n",
    "        return hs, h"
   ]
  },
  {
   "cell_type": "markdown",
   "metadata": {},
   "source": [
    "# attention decoder class \n",
    "* batch_first = Trueに注意。すなわち、batch_size x sequence length x embedding dim のテンソルをfeedする) *"
   ]
  },
  {
   "cell_type": "markdown",
   "metadata": {},
   "source": [
    "## original (to be skipped)"
   ]
  },
  {
   "cell_type": "code",
   "execution_count": 12,
   "metadata": {},
   "outputs": [],
   "source": [
    "class AttentionDecoder(nn.Module):\n",
    "    def __init__(self, vocab_size, embedding_dim, hidden_dim, batch_size):\n",
    "        super(AttentionDecoder, self).__init__()\n",
    "        self.hidden_dim = hidden_dim\n",
    "        self.batch_size = batch_size\n",
    "        self.word_embeddings = nn.Embedding(vocab_size, embedding_dim, padding_idx=char2id[\" \"])\n",
    "        self.gru = nn.GRU(embedding_dim, hidden_dim, batch_first=True)\n",
    "        # hidden_dim*2としているのは、各系列のGRUの隠れ層とAttention層で計算したコンテキストベクトルをtorch.catでつなぎ合わせることで長さが２倍になるため\n",
    "        self.hidden2linear = nn.Linear(hidden_dim * 2, vocab_size)\n",
    "        # 列方向を確率変換したいのでdim=1\n",
    "        self.softmax = nn.Softmax(dim=1)\n",
    "\n",
    "    def forward(self, sequence, hs, h):\n",
    "        embedding = self.word_embeddings(sequence)\n",
    "        output, state = self.gru(embedding, h)\n",
    "\n",
    "       # Attention層\n",
    "       # hs.size() = ([100, 29, 128])\n",
    "       # output.size() = ([100, 10, 128])\n",
    "\n",
    "       # bmmを使ってEncoder側の出力(hs)とDecoder側の出力(output)をbatchごとまとめて行列計算するために、Decoder側のoutputをbatchを固定して転置行列を取る\n",
    "        t_output = torch.transpose(output, 1, 2) # t_output.size() = ([100, 128, 10])\n",
    "\n",
    "        # bmmでバッチも考慮してまとめて行列計算\n",
    "        s = torch.bmm(hs, t_output) # s.size() = ([100, 29, 10])\n",
    "\n",
    "        # 列方向(dim=1)でsoftmaxをとって確率表現に変換\n",
    "        # この値を後のAttentionの可視化などにも使うため、returnで返しておく\n",
    "        attention_weight = self.softmax(s) # attention_weight.size() = ([100, 29, 10])\n",
    "\n",
    "        # コンテキストベクトルをまとめるために入れ物を用意\n",
    "        c = torch.zeros(self.batch_size, 1, self.hidden_dim, device=device) # c.size() = ([100, 1, 128])\n",
    "\n",
    "        # 各DecoderのGRU層に対するコンテキストベクトルをまとめて計算する方法がわからなかったので、\n",
    "        # 各層（Decoder側のGRU層は生成文字列が10文字なので10個ある）におけるattention weightを取り出してforループ内でコンテキストベクトルを１つずつ作成する\n",
    "        # バッチ方向はまとめて計算できたのでバッチはそのまま\n",
    "        for i in range(attention_weight.size()[2]): # 10回ループ\n",
    "\n",
    "          # attention_weight[:,:,i].size() = ([100, 29])\n",
    "          # i番目のGRU層に対するattention weightを取り出すが、テンソルのサイズをhsと揃えるためにunsqueezeする\n",
    "          unsq_weight = attention_weight[:,:,i].unsqueeze(2) # unsq_weight.size() = ([100, 29, 1])\n",
    "\n",
    "          # hsの各ベクトルをattention weightで重み付けする\n",
    "          weighted_hs = hs * unsq_weight # weighted_hs.size() = ([100, 29, 128])\n",
    "          #Pdb().set_trace()\n",
    "          # attention weightで重み付けされた各hsのベクトルをすべて足し合わせてコンテキストベクトルを作成\n",
    "          weight_sum = torch.sum(weighted_hs, dim=1).unsqueeze(1) # weight_sum.size() = ([100, 1, 128])\n",
    "\n",
    "          c = torch.cat([c, weight_sum], dim=1) # c.size() = ([100, i, 128])\n",
    "\n",
    "        # 箱として用意したzero要素が残っているのでスライスして削除\n",
    "        c = c[:,1:,:]\n",
    "\n",
    "        output = torch.cat([output, c], dim=2) # output.size() = ([100, 10, 256])\n",
    "        output = self.hidden2linear(output)\n",
    "        return output, state, attention_weight     "
   ]
  },
  {
   "cell_type": "markdown",
   "metadata": {},
   "source": [
    "## after removing comments (to be skipped)"
   ]
  },
  {
   "cell_type": "code",
   "execution_count": 78,
   "metadata": {},
   "outputs": [],
   "source": [
    "class AttentionDecoder(nn.Module):\n",
    "    def __init__(self, vocab_size, embedding_dim, hidden_dim, batch_size):\n",
    "        super(AttentionDecoder, self).__init__()\n",
    "        self.hidden_dim = hidden_dim\n",
    "        self.batch_size = batch_size\n",
    "        self.word_embeddings = nn.Embedding(vocab_size, embedding_dim, padding_idx=char2id[\" \"])\n",
    "        self.gru = nn.GRU(embedding_dim, hidden_dim, batch_first=True)\n",
    "        self.hidden2linear = nn.Linear(hidden_dim * 2, vocab_size)\n",
    "        self.softmax = nn.Softmax(dim=1)\n",
    "\n",
    "    def forward(self, sequence, hs, h):\n",
    "        embedding = self.word_embeddings(sequence)\n",
    "        output, state = self.gru(embedding, h)\n",
    "\n",
    "        t_output = torch.transpose(output, 1, 2) \n",
    "        s = torch.bmm(hs, t_output) \n",
    "        \n",
    "        attention_weight = self.softmax(s) \n",
    "        \n",
    "        c = torch.zeros(self.batch_size, 1, self.hidden_dim, device=device) # c.size() = ([100, 1, 128])\n",
    "\n",
    "        for i in range(attention_weight.size()[2]): # 10回ループ\n",
    "            unsq_weight = attention_weight[:,:,i].unsqueeze(2) # unsq_weight.size() = ([100, 29, 1])\n",
    "            \n",
    "            weighted_hs = hs * unsq_weight # weighted_hs.size() = ([100, 29, 128])\n",
    "            weight_sum = torch.sum(weighted_hs, dim=1).unsqueeze(1) # weight_sum.size() = ([100, 1, 128])\n",
    "\n",
    "            Pdb().set_trace()\n",
    "            c = torch.cat([c, weight_sum], dim=1) # c.size() = ([100, i, 128])\n",
    "\n",
    "        \n",
    "        c = c[:,1:,:]\n",
    "\n",
    "        output = torch.cat([output, c], dim=2) # output.size() = ([100, 10, 256])\n",
    "        output = self.hidden2linear(output)\n",
    "        return output, state, attention_weight     "
   ]
  },
  {
   "cell_type": "markdown",
   "metadata": {},
   "source": [
    "## my refactored version"
   ]
  },
  {
   "cell_type": "code",
   "execution_count": 14,
   "metadata": {},
   "outputs": [],
   "source": [
    "class AttentionDecoder(nn.Module):\n",
    "    def __init__(self, vocab_size, embedding_dim, hidden_dim, batch_size):\n",
    "        super(AttentionDecoder, self).__init__()\n",
    "        self.hidden_dim = hidden_dim\n",
    "        self.batch_size = batch_size\n",
    "        self.word_embeddings = nn.Embedding(vocab_size, embedding_dim, padding_idx=char2id[\" \"])\n",
    "        self.gru = nn.GRU(embedding_dim, hidden_dim, batch_first=True)\n",
    "        self.hidden2linear = nn.Linear(hidden_dim * 2, vocab_size)\n",
    "        self.softmax = nn.Softmax(dim=1)\n",
    "\n",
    "    def forward(self, sequence, hs, h):\n",
    "        embedding = self.word_embeddings(sequence)\n",
    "        output, state = self.gru(embedding, h)\n",
    "\n",
    "        t_output = torch.transpose(output, 1, 2) \n",
    "        s = torch.bmm(hs, t_output) \n",
    "        \n",
    "        attention_weight = self.softmax(s) \n",
    "        \n",
    "        c = torch.matmul(torch.transpose(attention_weight, 1,2) ,hs)\n",
    "    \n",
    "        #Pdb().set_trace()\n",
    "\n",
    "        output = torch.cat([output, c], dim=2) # output.size() = ([100, 10, 256])\n",
    "        output = self.hidden2linear(output)\n",
    "        return output, state, attention_weight     "
   ]
  },
  {
   "cell_type": "code",
   "execution_count": 15,
   "metadata": {},
   "outputs": [],
   "source": [
    "encoder = Encoder(vocab_size, embedding_dim, hidden_dim).to(device)\n",
    "attn_decoder = AttentionDecoder(vocab_size, embedding_dim, hidden_dim, BATCH_NUM).to(device)\n",
    "\n",
    "# 損失関数\n",
    "criterion = nn.CrossEntropyLoss()\n",
    "\n",
    "# 最適化\n",
    "encoder_optimizer = optim.Adam(encoder.parameters(), lr=0.001)\n",
    "attn_decoder_optimizer = optim.Adam(attn_decoder.parameters(), lr=0.001)"
   ]
  },
  {
   "cell_type": "code",
   "execution_count": 16,
   "metadata": {},
   "outputs": [
    {
     "name": "stdout",
     "output_type": "stream",
     "text": [
      "training ...\n",
      "Epoch 1: 1705.75\n",
      "Epoch 2: 180.68\n",
      "Epoch 3: 111.68\n",
      "Epoch 4: 46.15\n",
      "Epoch 5: 15.39\n",
      "Epoch 6: 10.55\n",
      "Epoch 7: 23.48\n",
      "Epoch 8: 4.67\n",
      "Epoch 9: 1.61\n",
      "Epoch 10: 0.97\n",
      "Epoch 11: 0.68\n",
      "Epoch 12: 0.49\n",
      "Epoch 13: 0.38\n",
      "Epoch 14: 0.29\n",
      "Epoch 15: 0.23\n",
      "Epoch 16: 0.19\n",
      "Epoch 17: 0.15\n",
      "Epoch 18: 0.13\n",
      "Epoch 19: 0.10\n",
      "Epoch 20: 0.08\n",
      "Done\n"
     ]
    }
   ],
   "source": [
    "BATCH_NUM=100\n",
    "EPOCH_NUM = 100\n",
    "\n",
    "all_losses = []\n",
    "print(\"training ...\")\n",
    "for epoch in range(1, EPOCH_NUM+1):\n",
    "    epoch_loss = 0\n",
    "    # データをミニバッチに分ける\n",
    "    input_batch, output_batch = train2batch(train_x, train_y, batch_size=BATCH_NUM)\n",
    "    for i in range(len(input_batch)):\n",
    "\n",
    "        # 勾配の初期化\n",
    "        encoder_optimizer.zero_grad()\n",
    "        attn_decoder_optimizer.zero_grad()\n",
    "\n",
    "        # データをテンソルに変換\n",
    "        input_tensor = torch.tensor(input_batch[i], device=device)\n",
    "        output_tensor = torch.tensor(output_batch[i], device=device)\n",
    "\n",
    "        # Encoderの順伝搬\n",
    "        hs, h = encoder(input_tensor)\n",
    "\n",
    "        # Attention Decoderのインプット\n",
    "        source = output_tensor[:, :-1]\n",
    "\n",
    "        # Attention Decoderの正解データ\n",
    "        target = output_tensor[:, 1:]\n",
    "\n",
    "        loss = 0\n",
    "        decoder_output, _, attention_weight= attn_decoder(source, hs, h)\n",
    "        for j in range(decoder_output.size()[1]):\n",
    "            loss += criterion(decoder_output[:, j, :], target[:, j])\n",
    "\n",
    "        epoch_loss += loss.item()\n",
    "\n",
    "        # 誤差逆伝播\n",
    "        loss.backward()\n",
    "\n",
    "        # パラメータ更新\n",
    "        encoder_optimizer.step()\n",
    "        attn_decoder_optimizer.step()\n",
    "\n",
    "    # 損失を表示\n",
    "    print(\"Epoch %d: %.2f\" % (epoch, epoch_loss))\n",
    "    all_losses.append(epoch_loss)\n",
    "    if epoch_loss < 0.1: break\n",
    "print(\"Done\")"
   ]
  },
  {
   "cell_type": "markdown",
   "metadata": {},
   "source": [
    "encoderの各足（batch size x 29 (sequence length) x 128 (hidden dim))\n",
    "\n",
    "と\n",
    "\n",
    "翻訳先の文章（正解）をGRUにかけた各足（batch_size x 10 (output sequence length) x 128 (hidden dim))\n",
    "\n",
    "のdim = 2を縮約する\n",
    "\n",
    "これで各batch毎に29x10行列となる。これがおそらく、２９個のinput足のうちどの足を重点的にみるべきかをoutputの各位置（10通り）ごとに指定することになる。\n",
    "\n",
    "- これをsoftmaxでweight化したあと、encoderの各足のweighted averageを取る\n",
    "- その後、"
   ]
  },
  {
   "cell_type": "markdown",
   "metadata": {},
   "source": [
    "attention weightの次元は\n",
    "\n",
    "batch_size * input_sequence_length * output_sequence_length"
   ]
  },
  {
   "cell_type": "markdown",
   "metadata": {},
   "source": [
    "これと縮約すべきはhsであって、これの次元は\n",
    "\n",
    "batch_size * input_sequence_length * hidden_dim\n",
    "\n",
    "broadcast可能な行列積はmatmul"
   ]
  },
  {
   "cell_type": "code",
   "execution_count": 16,
   "metadata": {},
   "outputs": [],
   "source": [
    "\n",
    "import pandas as pd\n",
    "from plotnine import *"
   ]
  },
  {
   "cell_type": "code",
   "execution_count": null,
   "metadata": {},
   "outputs": [],
   "source": [
    "df_loss = pd.DataFrame({\"loss\":all_losses})"
   ]
  },
  {
   "cell_type": "code",
   "execution_count": null,
   "metadata": {},
   "outputs": [],
   "source": [
    "df_loss = df_loss.reset_index()"
   ]
  },
  {
   "cell_type": "code",
   "execution_count": null,
   "metadata": {},
   "outputs": [],
   "source": [
    "ggplot(df_loss , aes(x = \"index\", y = \"loss\")) + geom_line() + theme_minimal()\n"
   ]
  },
  {
   "cell_type": "markdown",
   "metadata": {},
   "source": [
    "# prediction (refactored)"
   ]
  },
  {
   "cell_type": "code",
   "execution_count": 45,
   "metadata": {
    "scrolled": true
   },
   "outputs": [],
   "source": [
    "input_tensor = torch.tensor(test_x).to(device)"
   ]
  },
  {
   "cell_type": "code",
   "execution_count": 46,
   "metadata": {},
   "outputs": [],
   "source": [
    "hs, encoder_state =encoder(input_tensor)"
   ]
  },
  {
   "cell_type": "code",
   "execution_count": 47,
   "metadata": {
    "collapsed": true,
    "jupyter": {
     "outputs_hidden": true
    }
   },
   "outputs": [
    {
     "data": {
      "text/plain": [
       "15000"
      ]
     },
     "execution_count": 47,
     "metadata": {},
     "output_type": "execute_result"
    }
   ],
   "source": [
    "len(test_x)"
   ]
  },
  {
   "cell_type": "code",
   "execution_count": 48,
   "metadata": {},
   "outputs": [],
   "source": [
    "# Decoderにはまず文字列生成開始を表す\"_\"をインプットにするので、\"_\"のtensorをバッチサイズ分作成\n",
    "start_char_batch = [[char2id[\"_\"]] for _ in range(len(test_x))]\n",
    "decoder_head_tensor = torch.tensor(start_char_batch, device=device)\n",
    "decoder_input_tensor = decoder_head_tensor"
   ]
  },
  {
   "cell_type": "code",
   "execution_count": 52,
   "metadata": {},
   "outputs": [],
   "source": [
    "for i in range(output_len - 1):\n",
    "    output , _ , _ = attn_decoder(decoder_input_tensor, hs, encoder_state)\n",
    "    #decoder_input_tensor = torch.argmax(output ,dim = 2)\n",
    "    decoder_input_tensor = torch.cat([decoder_head_tensor,torch.argmax(output ,dim = 2)] , dim = 1) "
   ]
  },
  {
   "cell_type": "code",
   "execution_count": 54,
   "metadata": {
    "jupyter": {
     "source_hidden": true
    }
   },
   "outputs": [],
   "source": [
    "# 予測結果を見る際にIDのままだと可読性が悪いので、もとの文字列に復元するためのID→文字列に変換する辞書を定義\n",
    "id2char = {}\n",
    "for k, v in char2id.items():\n",
    "  id2char[v] = k"
   ]
  },
  {
   "cell_type": "code",
   "execution_count": 68,
   "metadata": {
    "jupyter": {
     "source_hidden": true
    }
   },
   "outputs": [],
   "source": [
    "predicted_idx =  decoder_input_tensor.detach().cpu().numpy()"
   ]
  },
  {
   "cell_type": "code",
   "execution_count": 72,
   "metadata": {},
   "outputs": [
    {
     "data": {
      "text/html": [
       "<div>\n",
       "<style scoped>\n",
       "    .dataframe tbody tr th:only-of-type {\n",
       "        vertical-align: middle;\n",
       "    }\n",
       "\n",
       "    .dataframe tbody tr th {\n",
       "        vertical-align: top;\n",
       "    }\n",
       "\n",
       "    .dataframe thead th {\n",
       "        text-align: right;\n",
       "    }\n",
       "</style>\n",
       "<table border=\"1\" class=\"dataframe\">\n",
       "  <thead>\n",
       "    <tr style=\"text-align: right;\">\n",
       "      <th></th>\n",
       "      <th>input</th>\n",
       "      <th>answer</th>\n",
       "      <th>predict</th>\n",
       "      <th>judge</th>\n",
       "    </tr>\n",
       "  </thead>\n",
       "  <tbody>\n",
       "    <tr>\n",
       "      <th>0</th>\n",
       "      <td>Friday, August 20, 2004</td>\n",
       "      <td>_2004-08-20</td>\n",
       "      <td>_2004-08-20</td>\n",
       "      <td>1</td>\n",
       "    </tr>\n",
       "    <tr>\n",
       "      <th>1</th>\n",
       "      <td>Sunday, December 27, 1987</td>\n",
       "      <td>_1987-12-27</td>\n",
       "      <td>_1987-12-27</td>\n",
       "      <td>1</td>\n",
       "    </tr>\n",
       "    <tr>\n",
       "      <th>2</th>\n",
       "      <td>jul 12, 2006</td>\n",
       "      <td>_2006-07-12</td>\n",
       "      <td>_2006-07-12</td>\n",
       "      <td>1</td>\n",
       "    </tr>\n",
       "    <tr>\n",
       "      <th>3</th>\n",
       "      <td>nov 26, 2008</td>\n",
       "      <td>_2008-11-26</td>\n",
       "      <td>_2008-11-26</td>\n",
       "      <td>1</td>\n",
       "    </tr>\n",
       "    <tr>\n",
       "      <th>4</th>\n",
       "      <td>may 27, 2014</td>\n",
       "      <td>_2014-05-27</td>\n",
       "      <td>_2014-05-27</td>\n",
       "      <td>1</td>\n",
       "    </tr>\n",
       "  </tbody>\n",
       "</table>\n",
       "</div>"
      ],
      "text/plain": [
       "                           input       answer      predict  judge\n",
       "0  Friday, August 20, 2004        _2004-08-20  _2004-08-20      1\n",
       "1  Sunday, December 27, 1987      _1987-12-27  _1987-12-27      1\n",
       "2  jul 12, 2006                   _2006-07-12  _2006-07-12      1\n",
       "3  nov 26, 2008                   _2008-11-26  _2008-11-26      1\n",
       "4  may 27, 2014                   _2014-05-27  _2014-05-27      1"
      ]
     },
     "execution_count": 72,
     "metadata": {},
     "output_type": "execute_result"
    }
   ],
   "source": [
    "row = []\n",
    "for i in range(len(test_x)):\n",
    "    #i = 0\n",
    "    run_test_x_str = \"\".join([id2char[v] for v in test_x[i]])\n",
    "    run_pred_x_str = \"\".join([id2char[v] for v in predicted_idx[i,:]])\n",
    "    run_test_y_str = \"\".join([id2char[v] for v in test_y[i]])\n",
    "    judge = 1 if run_test_y_str == run_pred_x_str else 0\n",
    "\n",
    "\n",
    "    row.append([run_test_x_str, run_test_y_str, run_pred_x_str, judge])\n",
    "predict_df = pd.DataFrame(row, columns=[\"input\", \"answer\", \"predict\", \"judge\"])\n",
    "predict_df.head()"
   ]
  },
  {
   "cell_type": "code",
   "execution_count": 76,
   "metadata": {},
   "outputs": [],
   "source": [
    "import numpy as np"
   ]
  },
  {
   "cell_type": "code",
   "execution_count": 77,
   "metadata": {},
   "outputs": [
    {
     "data": {
      "text/plain": [
       "15000"
      ]
     },
     "execution_count": 77,
     "metadata": {},
     "output_type": "execute_result"
    }
   ],
   "source": [
    "np.sum(predict_df.judge)"
   ]
  },
  {
   "cell_type": "markdown",
   "metadata": {},
   "source": [
    "# prediction (original. to be skipped)"
   ]
  },
  {
   "cell_type": "code",
   "execution_count": null,
   "metadata": {},
   "outputs": [],
   "source": [
    "# Decoderのアウトプットのテンソルから要素が最大のインデックスを返す。つまり生成文字を意味する\n",
    "def get_max_index(decoder_output):\n",
    "  results = []\n",
    "  for h in decoder_output:\n",
    "    results.append(torch.argmax(h))\n",
    "  return torch.tensor(results, device=device).view(BATCH_NUM, 1)\n",
    "\n",
    "# 評価用データ\n",
    "test_input_batch, test_output_batch = train2batch(test_x, test_y)\n",
    "input_tensor = torch.tensor(test_input_batch, device=device)\n",
    "\n",
    "predicts = []\n",
    "for i in range(len(test_input_batch)):\n",
    "  with torch.no_grad():\n",
    "    hs, encoder_state = encoder(input_tensor[i])\n",
    "\n",
    "    # Decoderにはまず文字列生成開始を表す\"_\"をインプットにするので、\"_\"のtensorをバッチサイズ分作成\n",
    "    start_char_batch = [[char2id[\"_\"]] for _ in range(BATCH_NUM)]\n",
    "    decoder_input_tensor = torch.tensor(start_char_batch, device=device)\n",
    "\n",
    "    decoder_hidden = encoder_state\n",
    "    batch_tmp = torch.zeros(100,1, dtype=torch.long, device=device)\n",
    "    for _ in range(output_len - 1):\n",
    "      decoder_output, decoder_hidden, _ = attn_decoder(decoder_input_tensor, hs, decoder_hidden)\n",
    "      # 予測文字を取得しつつ、そのまま次のdecoderのインプットとなる\n",
    "      decoder_input_tensor = get_max_index(decoder_output.squeeze())\n",
    "      batch_tmp = torch.cat([batch_tmp, decoder_input_tensor], dim=1)\n",
    "    predicts.append(batch_tmp[:,1:])\n",
    "\n",
    "\n",
    "# 予測結果を見る際にIDのままだと可読性が悪いので、もとの文字列に復元するためのID→文字列に変換する辞書を定義\n",
    "id2char = {}\n",
    "for k, v in char2id.items():\n",
    "  id2char[v] = k\n",
    "\n",
    "row = []\n",
    "for i in range(len(test_input_batch)):\n",
    "  batch_input = test_input_batch[i]\n",
    "  batch_output = test_output_batch[i]\n",
    "  batch_predict = predicts[i]\n",
    "  for inp, output, predict in zip(batch_input, batch_output, batch_predict):\n",
    "    x = [id2char[idx] for idx in inp]\n",
    "    y = [id2char[idx] for idx in output[1:]]\n",
    "    p = [id2char[idx.item()] for idx in predict]\n",
    "\n",
    "    x_str = \"\".join(x)\n",
    "    y_str = \"\".join(y)\n",
    "    p_str = \"\".join(p)\n",
    "\n",
    "    judge = \"O\" if y_str == p_str else \"X\"\n",
    "    row.append([x_str, y_str, p_str, judge])\n",
    "predict_df = pd.DataFrame(row, columns=[\"input\", \"answer\", \"predict\", \"judge\"])\n",
    "predict_df.head()"
   ]
  },
  {
   "cell_type": "markdown",
   "metadata": {},
   "source": [
    "# 考察"
   ]
  },
  {
   "cell_type": "markdown",
   "metadata": {},
   "source": [
    "- アウトプット文字列の先頭は常に「文頭記号」\n",
    "- attentionは文頭記号と関連が深そうな入力文字列の位置を学習する\n",
    "- といってもattention自体は特に自由度を持っていないので、decoderのGRUの学習がほぼほぼattentionの学習を意味する。\n",
    "  - 加法注意なるものは自由度を持つattentionであるようだ、http://deeplearning.hatenablog.com/entry/transformer\n",
    "ただし、Transformerでは本ノートブックと同様の「内積注意」を用いる。  "
   ]
  },
  {
   "cell_type": "markdown",
   "metadata": {},
   "source": [
    "# to be removed"
   ]
  },
  {
   "cell_type": "code",
   "execution_count": 24,
   "metadata": {},
   "outputs": [
    {
     "data": {
      "text/html": [
       "<div>\n",
       "<style scoped>\n",
       "    .dataframe tbody tr th:only-of-type {\n",
       "        vertical-align: middle;\n",
       "    }\n",
       "\n",
       "    .dataframe tbody tr th {\n",
       "        vertical-align: top;\n",
       "    }\n",
       "\n",
       "    .dataframe thead th {\n",
       "        text-align: right;\n",
       "    }\n",
       "</style>\n",
       "<table border=\"1\" class=\"dataframe\">\n",
       "  <thead>\n",
       "    <tr style=\"text-align: right;\">\n",
       "      <th></th>\n",
       "      <th>input</th>\n",
       "      <th>answer</th>\n",
       "      <th>predict</th>\n",
       "      <th>judge</th>\n",
       "    </tr>\n",
       "  </thead>\n",
       "  <tbody>\n",
       "    <tr>\n",
       "      <th>0</th>\n",
       "      <td>nov 30, 2007</td>\n",
       "      <td>2007-11-30</td>\n",
       "      <td>2007-11-30</td>\n",
       "      <td>O</td>\n",
       "    </tr>\n",
       "    <tr>\n",
       "      <th>1</th>\n",
       "      <td>jun 17, 1982</td>\n",
       "      <td>1982-06-17</td>\n",
       "      <td>1982-06-17</td>\n",
       "      <td>O</td>\n",
       "    </tr>\n",
       "    <tr>\n",
       "      <th>2</th>\n",
       "      <td>4/22/01</td>\n",
       "      <td>2001-04-22</td>\n",
       "      <td>2001-04-22</td>\n",
       "      <td>O</td>\n",
       "    </tr>\n",
       "    <tr>\n",
       "      <th>3</th>\n",
       "      <td>Jun 13, 1986</td>\n",
       "      <td>1986-06-13</td>\n",
       "      <td>1986-06-13</td>\n",
       "      <td>O</td>\n",
       "    </tr>\n",
       "    <tr>\n",
       "      <th>4</th>\n",
       "      <td>11/26/00</td>\n",
       "      <td>2000-11-26</td>\n",
       "      <td>2000-11-26</td>\n",
       "      <td>O</td>\n",
       "    </tr>\n",
       "  </tbody>\n",
       "</table>\n",
       "</div>"
      ],
      "text/plain": [
       "                           input      answer     predict judge\n",
       "0  nov 30, 2007                   2007-11-30  2007-11-30     O\n",
       "1  jun 17, 1982                   1982-06-17  1982-06-17     O\n",
       "2  4/22/01                        2001-04-22  2001-04-22     O\n",
       "3  Jun 13, 1986                   1986-06-13  1986-06-13     O\n",
       "4  11/26/00                       2000-11-26  2000-11-26     O"
      ]
     },
     "execution_count": 24,
     "metadata": {},
     "output_type": "execute_result"
    }
   ],
   "source": [
    "predict_df = pd.DataFrame(row, columns=[\"input\", \"answer\", \"predict\", \"judge\"])\n",
    "predict_df.head()"
   ]
  },
  {
   "cell_type": "code",
   "execution_count": 24,
   "metadata": {},
   "outputs": [],
   "source": [
    "row = []\n",
    "for i in range(len(test_input_batch)):\n",
    "  batch_input = test_input_batch[i]\n",
    "  batch_output = test_output_batch[i]\n",
    "  batch_predict = predicts[i]\n",
    "  for inp, output, predict in zip(batch_input, batch_output, batch_predict):\n",
    "    x = [id2char[idx] for idx in inp]\n",
    "    y = [id2char[idx] for idx in output[1:]]\n",
    "    p = [id2char[idx.item()] for idx in predict]\n",
    "\n",
    "    x_str = \"\".join(x)\n",
    "    y_str = \"\".join(y)\n",
    "    p_str = \"\".join(p)\n",
    "\n",
    "    judge = \"O\" if y_str == p_str else \"X\"\n",
    "    row.append([x_str, y_str, p_str, judge])\n",
    "    "
   ]
  },
  {
   "cell_type": "code",
   "execution_count": null,
   "metadata": {},
   "outputs": [],
   "source": [
    "?get_max_index\n"
   ]
  },
  {
   "cell_type": "code",
   "execution_count": 21,
   "metadata": {},
   "outputs": [],
   "source": [
    "# Decoderのアウトプットのテンソルから要素が最大のインデックスを返す。つまり生成文字を意味する\n",
    "def get_max_index(decoder_output):\n",
    "  results = []\n",
    "  for h in decoder_output:\n",
    "    results.append(torch.argmax(h))\n",
    "  return torch.tensor(results, device=device).view(BATCH_NUM, 1)"
   ]
  },
  {
   "cell_type": "code",
   "execution_count": 31,
   "metadata": {},
   "outputs": [],
   "source": [
    "# 評価用データ\n",
    "test_input_batch, test_output_batch = train2batch(test_x, test_y)\n",
    "input_tensor = torch.tensor(test_input_batch, device=device)\n",
    "\n",
    "predicts = []\n",
    "for i in range(len(test_input_batch)):\n",
    "  with torch.no_grad():\n",
    "    hs, encoder_state = encoder(input_tensor[i])\n",
    "\n",
    "    # Decoderにはまず文字列生成開始を表す\"_\"をインプットにするので、\"_\"のtensorをバッチサイズ分作成\n",
    "    start_char_batch = [[char2id[\"_\"]] for _ in range(BATCH_NUM)]\n",
    "    decoder_input_tensor = torch.tensor(start_char_batch, device=device)\n",
    "\n",
    "    decoder_hidden = encoder_state\n",
    "    batch_tmp = torch.zeros(100,1, dtype=torch.long, device=device)\n",
    "    for _ in range(output_len - 1):\n",
    "      decoder_output, decoder_hidden, _ = attn_decoder(decoder_input_tensor, hs, decoder_hidden)\n",
    "      # 予測文字を取得しつつ、そのまま次のdecoderのインプットとなる\n",
    "      decoder_input_tensor = get_max_index(decoder_output.squeeze())\n",
    "      batch_tmp = torch.cat([batch_tmp, decoder_input_tensor], dim=1)\n",
    "    predicts.append(batch_tmp[:,1:])"
   ]
  },
  {
   "cell_type": "code",
   "execution_count": 23,
   "metadata": {},
   "outputs": [],
   "source": [
    "import pandas as pd"
   ]
  },
  {
   "cell_type": "code",
   "execution_count": null,
   "metadata": {},
   "outputs": [],
   "source": []
  }
 ],
 "metadata": {
  "kernelspec": {
   "display_name": "Python 3",
   "language": "python",
   "name": "python3"
  },
  "language_info": {
   "codemirror_mode": {
    "name": "ipython",
    "version": 3
   },
   "file_extension": ".py",
   "mimetype": "text/x-python",
   "name": "python",
   "nbconvert_exporter": "python",
   "pygments_lexer": "ipython3",
   "version": "3.7.3"
  },
  "toc-autonumbering": true
 },
 "nbformat": 4,
 "nbformat_minor": 4
}
